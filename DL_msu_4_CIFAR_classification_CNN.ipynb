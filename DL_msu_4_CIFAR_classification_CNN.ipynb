{
  "cells": [
    {
      "cell_type": "markdown",
      "metadata": {
        "id": "FgzQ5bscUnsm"
      },
      "source": [
        "# Домашнее задание №4"
      ]
    },
    {
      "cell_type": "code",
      "execution_count": 1,
      "metadata": {
        "id": "dlo1UHiNUnsp"
      },
      "outputs": [],
      "source": [
        "import numpy as np\n",
        "\n",
        "import torch\n",
        "from torch import nn\n",
        "from torch.nn import functional as F\n",
        "\n",
        "import torchvision\n",
        "from torchvision import datasets, transforms\n",
        "\n",
        "from matplotlib import pyplot as plt\n",
        "from IPython.display import clear_output"
      ]
    },
    {
      "cell_type": "markdown",
      "source": [
        "Это домашнее задание состоит из двух частей. В первой части вам нужно реализовать правильную архитектуру сверточной нейросети. Во второй части — подобрать хорошую архитектуру и обучить ее на датасете CIFAR так, чтобы результаты метрики accuracy на тестовой части CIFAR были больше 55%"
      ],
      "metadata": {
        "id": "vdRDK1t0Wgxy"
      }
    },
    {
      "cell_type": "markdown",
      "source": [
        "## Задача №1: \n",
        "В этом задании вам нужно реализовать сверточную нейросеть с заданной архитектурой."
      ],
      "metadata": {
        "id": "GmVeuJosbxFD"
      }
    },
    {
      "cell_type": "markdown",
      "source": [
        "Архитектура сети: \n",
        "**conv1 -> maxpool1 -> conv2 -> maxpool2 -> flatten -> fc1 -> fc2**\n",
        "\n",
        "После сверточных слоев и первого полносвязного слоя нужно применить функцию активации ReLU с помощью F.ReLU\n",
        "\n",
        "**Нейросеть должна работать с изображениями размера 32х32**."
      ],
      "metadata": {
        "id": "QwGlvTT-b5tW"
      }
    },
    {
      "cell_type": "code",
      "source": [
        "class ConvNet(nn.Module):\n",
        "    def __init__(self):\n",
        "        super().__init__()\n",
        "        self.conv1 = nn.Conv2d(in_channels=3, out_channels=3, kernel_size=(5,5)) #28x28\n",
        "        self.pool1 = nn.MaxPool2d(kernel_size=(2,2)) # 14x14\n",
        "        self.conv2 = nn.Conv2d(in_channels=3, out_channels=5, kernel_size=(3,3)) #12x12\n",
        "        self.pool2 = nn.MaxPool2d(kernel_size=(2,2)) # 6x6\n",
        "        \n",
        "        self.flatten = nn.Flatten()\n",
        "\n",
        "        self.fc1 = nn.Linear(6*6*5, 100)\n",
        "        self.fc2 = nn.Linear(100, 10)\n",
        "\n",
        "    \n",
        "    def forward(self, x):\n",
        "        # размерность х ~ [64, 3, 32, 32]\n",
        "\n",
        "        x = F.relu(self.conv1(x))\n",
        "        x = self.pool1(x)\n",
        "        x = F.relu(self.conv2(x))\n",
        "        x = self.pool2(x)\n",
        "\n",
        "        x = self.flatten(x)\n",
        "\n",
        "        x = F.relu(self.fc1(x))\n",
        "        x = self.fc2(x)\n",
        "\n",
        "        return x"
      ],
      "metadata": {
        "id": "zEQy7-AEb9--"
      },
      "execution_count": 2,
      "outputs": []
    },
    {
      "cell_type": "markdown",
      "source": [
        "### Проверка"
      ],
      "metadata": {
        "id": "0nouGfm_gDFD"
      }
    },
    {
      "cell_type": "markdown",
      "source": [
        "Ячейки ниже помогут проверить, что модель написана и работает правильно. "
      ],
      "metadata": {
        "id": "TMWATEWKgFgp"
      }
    },
    {
      "cell_type": "code",
      "source": [
        "img = torch.Tensor(np.random.random((32, 3, 32, 32)))\n",
        "model = ConvNet()\n",
        "out = model(img)"
      ],
      "metadata": {
        "id": "xVbCt6AffvNp"
      },
      "execution_count": 3,
      "outputs": []
    },
    {
      "cell_type": "markdown",
      "metadata": {
        "id": "obC9bnWsUnsr"
      },
      "source": [
        "## Задача №2: \n",
        "Вернемся к задаче классификации картинок [CIFAR](https://www.cs.toronto.edu/~kriz/cifar.html).\n",
        "\n",
        "__Ваша основная задача: реализовать весь пайплан обучения модели и добиться хорошего значения метрики accuracy на тестовой выборке.__\n",
        "Баллы за задание:\n",
        "- **0**, если accuracy на тестовой выборке <0.5;\n",
        "- **0.5**, если accuracy на тестовой выборке >0.5 и <0.56;\n",
        "- **1**, если accuracy на тестовой выборке >0.56;\n",
        "\n",
        "В качестве основы архитектуры сети можно взять сеть из задачи №1. "
      ]
    },
    {
      "cell_type": "code",
      "source": [
        "import numpy as np\n",
        "\n",
        "import torch\n",
        "from torch import nn\n",
        "from torch.nn import functional as F\n",
        "\n",
        "import torchvision\n",
        "from torchvision import datasets, transforms\n",
        "\n",
        "from matplotlib import pyplot as plt\n",
        "from IPython.display import clear_output"
      ],
      "metadata": {
        "id": "ZUgd4OiDh4EP"
      },
      "execution_count": 4,
      "outputs": []
    },
    {
      "cell_type": "markdown",
      "source": [
        "### Загрузка данных"
      ],
      "metadata": {
        "id": "i5VkRn8eYCL3"
      }
    },
    {
      "cell_type": "markdown",
      "source": [
        "Код загрузки данных тот же, что был на занятии. Менять ничего не нужно."
      ],
      "metadata": {
        "id": "w5-HED1XYV96"
      }
    },
    {
      "cell_type": "code",
      "execution_count": 5,
      "metadata": {
        "id": "-31e0aCCUnss",
        "colab": {
          "base_uri": "https://localhost:8080/",
          "height": 101,
          "referenced_widgets": [
            "d4ed750dd473452da502ef74ad0ce592",
            "5ad180edc8ce48a79512c7614e6086c5",
            "b646fd159a054145ad7aea7280c7d8de",
            "0caaa640e1bd4a5cb10218866a8bfadb",
            "e7213b517e1a47a5b381a6569a7d2689",
            "905d706ed0dd40a897fa507e6db4052f",
            "707510812574470290d94c4f769a45fc",
            "aa746d324e4d444db9cbfda506427c91",
            "d311e92f41d6496a852b0d432a8c4ddf",
            "6fe31994ab4040549c454ba9c5df52f8",
            "a5e9fce82eb143b895fbe07cd5801c8b"
          ]
        },
        "outputId": "b2c7a878-e1f2-4408-92ee-7f3fdd865163"
      },
      "outputs": [
        {
          "output_type": "stream",
          "name": "stdout",
          "text": [
            "Downloading https://www.cs.toronto.edu/~kriz/cifar-10-python.tar.gz to ./cifar10_data/cifar-10-python.tar.gz\n"
          ]
        },
        {
          "output_type": "display_data",
          "data": {
            "text/plain": [
              "  0%|          | 0/170498071 [00:00<?, ?it/s]"
            ],
            "application/vnd.jupyter.widget-view+json": {
              "version_major": 2,
              "version_minor": 0,
              "model_id": "d4ed750dd473452da502ef74ad0ce592"
            }
          },
          "metadata": {}
        },
        {
          "output_type": "stream",
          "name": "stdout",
          "text": [
            "Extracting ./cifar10_data/cifar-10-python.tar.gz to ./cifar10_data\n",
            "Files already downloaded and verified\n"
          ]
        }
      ],
      "source": [
        "# загружаем датасет из torchvision\n",
        "train_data = datasets.CIFAR10(root=\"./cifar10_data\", train=True, download=True, transform=transforms.ToTensor())\n",
        "test_data = datasets.CIFAR10(root=\"./cifar10_data\", train=False, download=True, transform=transforms.ToTensor())\n",
        "\n",
        "# делим тренировочную часть на train и val\n",
        "\n",
        "# в тренировочную выборку отнесем 80% всех картинок\n",
        "train_size = int(len(train_data) * 0.8)\n",
        "# в валидационную — остальные 20%\n",
        "val_size = len(train_data) - train_size\n",
        "\n",
        "train_data, val_data = torch.utils.data.random_split(train_data, [train_size, val_size])\n",
        "\n",
        "# заводим даталоадеры, которые будут генерировать батчи\n",
        "train_loader = torch.utils.data.DataLoader(train_data, batch_size=64, shuffle=True)\n",
        "val_loader = torch.utils.data.DataLoader(val_data, batch_size=64, shuffle=False)\n",
        "test_loader = torch.utils.data.DataLoader(test_data, batch_size=64, shuffle=False)"
      ]
    },
    {
      "cell_type": "markdown",
      "source": [
        "Посмотрим на несколько картинок из датасета:"
      ],
      "metadata": {
        "id": "3xJCM2lZYjtR"
      }
    },
    {
      "cell_type": "code",
      "source": [
        "# функция отрисовки картинок\n",
        "def show_images(images, labels):\n",
        "    f, axes= plt.subplots(1, 10, figsize=(30,5))\n",
        "    \n",
        "    for i, axis in enumerate(axes):\n",
        "        # переводим картинку из тензора в numpy\n",
        "        img = images[i].numpy()\n",
        "        # переводим картинку в размерность (длина, ширина, цветовые каналы) \n",
        "        img = np.transpose(img, (1, 2, 0))\n",
        "\n",
        "        axes[i].imshow(img)\n",
        "        axes[i].set_title(labels[i].numpy())\n",
        "\n",
        "    plt.show()\n",
        "\n",
        "# получаем батч картинок\n",
        "for batch in train_loader:\n",
        "    images, labels = batch\n",
        "    break\n",
        "\n",
        "show_images(images, labels)"
      ],
      "metadata": {
        "id": "R7ZBNxsLYvMP",
        "colab": {
          "base_uri": "https://localhost:8080/",
          "height": 145
        },
        "outputId": "29e0ad48-04cd-4a33-ddce-d8d5c8c1cb1b"
      },
      "execution_count": 6,
      "outputs": [
        {
          "output_type": "display_data",
          "data": {
            "text/plain": [
              "<Figure size 2160x360 with 10 Axes>"
            ],
            "image/png": "[encoded data removed]"
          },
          "metadata": {
            "needs_background": "light"
          }
        }
      ]
    },
    {
      "cell_type": "markdown",
      "source": [
        "### Построение модели"
      ],
      "metadata": {
        "id": "EAbF9VCHifUg"
      }
    },
    {
      "cell_type": "markdown",
      "metadata": {
        "id": "ZN-AYLsyUnsu"
      },
      "source": [
        "Ниже — ячейка для построения модели. Не стоит сразу делать большую и сложную модель с большим количеством слоев: такая сеть будет обучаться очень долго и, скорее всего, переобучится. \n",
        "\n",
        "Ваша основная задача – обучить модель и получить качество на отложенной (тестовой выборке) не менее 56% accuracy."
      ]
    },
    {
      "cell_type": "markdown",
      "source": [
        "Идеи, что можно попробовать, чтобы улучшить результат сети:\n",
        "\n",
        "- попробовать разное количество сверточных и полносвязных слоев;\n",
        "- попробовать разное количество фильтров в сверточных слоях;\n",
        "- попробовать разное количество нейронов в скрытых полносвязных слоях;\n",
        "- попробовать добавить/убрать max_pooling;\n",
        "- поменять learning_rate;\n",
        "- обучать сеть большее количество эпох.\n",
        "\n",
        "Если ваша модель переобучается (метрика на валидации нацинает становиться хуже), попробуйте уменьшить количество параметров модели. Если модель не переобучается, но показывает плохой результат, попробуйте увеличить количество параметров модели."
      ],
      "metadata": {
        "id": "QFaM1UeWaE4K"
      }
    },
    {
      "cell_type": "code",
      "source": [
        "model = ConvNet()\n",
        "# потом разберись с https://medium.com/mlearning-ai/7-best-techniques-to-improve-the-accuracy-of-cnn-w-o-overfitting-6db06467182f#dbda,\n",
        "# тут у чела вообще архитектура замечательная, хотя из простых элементов"
      ],
      "metadata": {
        "id": "MFpILkiXhEz-"
      },
      "execution_count": 7,
      "outputs": []
    },
    {
      "cell_type": "markdown",
      "source": [
        "Ячейка ниже проверяет, доступен ли GPU и если да, то переносит нейросеть на GPU."
      ],
      "metadata": {
        "id": "1reimxeCh9BA"
      }
    },
    {
      "cell_type": "code",
      "source": [
        "device = torch.device(\"cuda\" if torch.cuda.is_available() else \"cpu\")\n",
        "model = model.to(device)"
      ],
      "metadata": {
        "id": "keaqEK3ug9rd"
      },
      "execution_count": 8,
      "outputs": []
    },
    {
      "cell_type": "markdown",
      "source": [
        "### Обучение модели"
      ],
      "metadata": {
        "id": "iKghv45uiEqo"
      }
    },
    {
      "cell_type": "markdown",
      "metadata": {
        "id": "b2onmgyzUntQ"
      },
      "source": [
        "Так, буду выводить текущие значения лосса и accuracy на train выборке каждые 50 итераций обучения. Также после каждой эпохи считаю и вывожу лосс и accuracy на val выборке. Помогает понять, как хорошо обучается модель."
      ]
    },
    {
      "cell_type": "code",
      "execution_count": 9,
      "metadata": {
        "id": "jYsRSxVjUntR"
      },
      "outputs": [],
      "source": [
        "def evaluate(model, dataloader, loss_fn):\n",
        "    \n",
        "    losses = []\n",
        "\n",
        "    num_correct = 0\n",
        "    num_elements = 0\n",
        "\n",
        "    for i, batch in enumerate(dataloader):\n",
        "        \n",
        "        # так получаем текущий батч\n",
        "        X_batch, y_batch = batch\n",
        "        num_elements += len(y_batch)\n",
        "        \n",
        "        with torch.no_grad():\n",
        "            logits = model(X_batch.to(device))\n",
        "            \n",
        "            loss = loss_fn(logits, y_batch.to(device))\n",
        "            losses.append(loss.item())\n",
        "            \n",
        "            y_pred = torch.argmax(logits, dim=1)\n",
        "            \n",
        "            num_correct += torch.sum(y_pred.cpu() == y_batch)\n",
        "    \n",
        "    accuracy = num_correct / num_elements\n",
        "            \n",
        "    return accuracy.numpy(), np.mean(losses)\n",
        "\n",
        "def train(model, loss_fn, optimizer, n_epoch=3):\n",
        "    \n",
        "    # цикл обучения сети\n",
        "    for epoch in range(n_epoch):\n",
        "\n",
        "        print(\"Epoch:\", epoch+1)\n",
        "\n",
        "        model.train(True)\n",
        "        \n",
        "        running_losses = []\n",
        "        running_accuracies = []\n",
        "        for i, batch in enumerate(train_loader):\n",
        "            # так получаем текущий батч\n",
        "            X_batch, y_batch = batch \n",
        "            \n",
        "            # forward pass (получение ответов на батч картинок)\n",
        "            logits = model(X_batch.to(device)) \n",
        "            \n",
        "            # вычисление лосса от выданных сетью ответов и правильных ответов на батч\n",
        "            loss = loss_fn(logits, y_batch.to(device)) \n",
        "            running_losses.append(loss.item())\n",
        "            \n",
        "            loss.backward() # backpropagation (вычисление градиентов)\n",
        "            optimizer.step() # обновление весов сети\n",
        "            optimizer.zero_grad() # обнуляем веса\n",
        "            \n",
        "            # вычислим accuracy на текущем train батче\n",
        "            model_answers = torch.argmax(logits, dim=1)\n",
        "            train_accuracy = torch.sum(y_batch == model_answers.cpu()) / len(y_batch)\n",
        "            running_accuracies.append(train_accuracy)\n",
        "\n",
        "            # Логирование результатов\n",
        "            if (i+1) % 100 == 0:\n",
        "                print(\"Средние train лосс и accuracy на последних 50 итерациях:\", \n",
        "                      np.mean(running_losses), np.mean(running_accuracies), end='\\n')\n",
        "\n",
        "        # после каждой эпохи получаем метрику качества на валидационной выборке\n",
        "        model.train(False)\n",
        "\n",
        "        val_accuracy, val_loss = evaluate(model, val_loader, loss_fn=loss_fn)\n",
        "        print(\"Эпоха {}/{}: val лосс и accuracy:\".format(epoch+1, n_epoch,), \n",
        "                      val_loss, val_accuracy, end='\\n')\n",
        "        \n",
        "    return model"
      ]
    },
    {
      "cell_type": "markdown",
      "source": [
        "Запускаем обучение. "
      ],
      "metadata": {
        "id": "qEBr1qTOjfo3"
      }
    },
    {
      "cell_type": "code",
      "source": [
        "# снова объявим модель\n",
        "model = ConvNet()\n",
        "device = torch.device(\"cuda\" if torch.cuda.is_available() else \"cpu\")\n",
        "model = model.to(device)\n",
        "\n",
        "# выбираем функцию потерь\n",
        "loss_fn = torch.nn.CrossEntropyLoss()\n",
        "\n",
        "# выбираем алгоритм оптимизации и learning_rate. \n",
        "# вы можете экспериментировать с разными значениями learning_rate\n",
        "learning_rate = 0.001\n",
        "optimizer = torch.optim.Adam(model.parameters(), lr=learning_rate)"
      ],
      "metadata": {
        "id": "KYqzqj02jZly"
      },
      "execution_count": 10,
      "outputs": []
    },
    {
      "cell_type": "code",
      "source": [
        "# запустим обучение модели\n",
        "# параметр n_epoch можно варьировать\n",
        "model = train(model, loss_fn, optimizer, n_epoch=50)"
      ],
      "metadata": {
        "id": "QMgy5EGsnEZt",
        "colab": {
          "base_uri": "https://localhost:8080/"
        },
        "outputId": "b4bc87e5-2c7d-466b-b9e3-bd283009f82d"
      },
      "execution_count": 11,
      "outputs": [
        {
          "output_type": "stream",
          "name": "stdout",
          "text": [
            "Epoch: 1\n",
            "Средние train лосс и accuracy на последних 50 итерациях: 2.2446395230293272 0.15625\n",
            "Средние train лосс и accuracy на последних 50 итерациях: 2.145914836525917 0.19875\n",
            "Средние train лосс и accuracy на последних 50 итерациях: 2.0784543410936993 0.22380209\n",
            "Средние train лосс и accuracy на последних 50 итерациях: 2.035815750658512 0.24347657\n",
            "Средние train лосс и accuracy на последних 50 итерациях: 1.9970722544193267 0.26015624\n",
            "Средние train лосс и accuracy на последних 50 итерациях: 1.9666908103227616 0.271875\n",
            "Эпоха 1/50: val лосс и accuracy: 1.7881755024004893 0.344\n",
            "Epoch: 2\n",
            "Средние train лосс и accuracy на последних 50 итерациях: 1.7711223363876343 0.350625\n",
            "Средние train лосс и accuracy на последних 50 итерациях: 1.7534672832489013 0.35296875\n",
            "Средние train лосс и accuracy на последних 50 итерациях: 1.7304276823997498 0.3633854\n",
            "Средние train лосс и accuracy на последних 50 итерациях: 1.716435317993164 0.36972657\n",
            "Средние train лосс и accuracy на последних 50 итерациях: 1.6985474190711976 0.37715626\n",
            "Средние train лосс и accuracy на последних 50 итерациях: 1.6809584337472916 0.38304687\n",
            "Эпоха 2/50: val лосс и accuracy: 1.6276908748468775 0.4068\n",
            "Epoch: 3\n",
            "Средние train лосс и accuracy на последних 50 итерациях: 1.5651076364517211 0.42859375\n",
            "Средние train лосс и accuracy на последних 50 итерациях: 1.557432426214218 0.4278125\n",
            "Средние train лосс и accuracy на последних 50 итерациях: 1.5563654291629792 0.42880207\n",
            "Средние train лосс и accuracy на последних 50 итерациях: 1.5510484799742699 0.4315625\n",
            "Средние train лосс и accuracy на последних 50 итерациях: 1.544326528787613 0.4345625\n",
            "Средние train лосс и accuracy на последних 50 итерациях: 1.5380640172958373 0.43791667\n",
            "Эпоха 3/50: val лосс и accuracy: 1.509984695228042 0.4502\n",
            "Epoch: 4\n",
            "Средние train лосс и accuracy на последних 50 итерациях: 1.5081710469722749 0.444375\n",
            "Средние train лосс и accuracy на последних 50 итерациях: 1.505826398730278 0.44804686\n",
            "Средние train лосс и accuracy на последних 50 итерациях: 1.493294242620468 0.45385417\n",
            "Средние train лосс и accuracy на последних 50 итерациях: 1.4861028435826302 0.4575\n",
            "Средние train лосс и accuracy на последних 50 итерациях: 1.4792368836402894 0.4606875\n",
            "Средние train лосс и accuracy на последних 50 итерациях: 1.474626580675443 0.46270832\n",
            "Эпоха 4/50: val лосс и accuracy: 1.4858434018056104 0.4652\n",
            "Epoch: 5\n",
            "Средние train лосс и accuracy на последних 50 итерациях: 1.435923455953598 0.48171875\n",
            "Средние train лосс и accuracy на последних 50 итерациях: 1.4338706094026565 0.48101562\n",
            "Средние train лосс и accuracy на последних 50 итерациях: 1.4327301820119223 0.48130208\n",
            "Средние train лосс и accuracy на последних 50 итерациях: 1.430245146751404 0.48183593\n",
            "Средние train лосс и accuracy на последних 50 итерациях: 1.4277122042179107 0.484\n",
            "Средние train лосс и accuracy на последних 50 итерациях: 1.4266847985982896 0.48351562\n",
            "Эпоха 5/50: val лосс и accuracy: 1.4402126005500744 0.4825\n",
            "Epoch: 6\n",
            "Средние train лосс и accuracy на последних 50 итерациях: 1.4082645332813264 0.49015626\n",
            "Средние train лосс и accuracy на последних 50 итерациях: 1.408466779589653 0.4878125\n",
            "Средние train лосс и accuracy на последних 50 итерациях: 1.4069040970007578 0.48953125\n",
            "Средние train лосс и accuracy на последних 50 итерациях: 1.405462645292282 0.49207032\n",
            "Средние train лосс и accuracy на последних 50 итерациях: 1.3985049993991852 0.49490625\n",
            "Средние train лосс и accuracy на последних 50 итерациях: 1.3927624734242756 0.49666667\n",
            "Эпоха 6/50: val лосс и accuracy: 1.4195968656782891 0.4927\n",
            "Epoch: 7\n",
            "Средние train лосс и accuracy на последних 50 итерациях: 1.37462632894516 0.49859375\n",
            "Средние train лосс и accuracy на последних 50 итерациях: 1.3769919323921203 0.49796876\n",
            "Средние train лосс и accuracy на последних 50 итерациях: 1.3760424828529358 0.49911457\n",
            "Средние train лосс и accuracy на последних 50 итерациях: 1.3747268694639205 0.5013281\n",
            "Средние train лосс и accuracy на последних 50 итерациях: 1.3748075098991395 0.50325\n",
            "Средние train лосс и accuracy на последних 50 итерациях: 1.3735614415009816 0.5048958\n",
            "Эпоха 7/50: val лосс и accuracy: 1.3956891624790848 0.5001\n",
            "Epoch: 8\n",
            "Средние train лосс и accuracy на последних 50 итерациях: 1.3734155690670014 0.50640625\n",
            "Средние train лосс и accuracy на последних 50 итерациях: 1.348309087753296 0.51273435\n",
            "Средние train лосс и accuracy на последних 50 итерациях: 1.3387733081976572 0.5177604\n",
            "Средние train лосс и accuracy на последних 50 итерациях: 1.3371381056308747 0.5176953\n",
            "Средние train лосс и accuracy на последних 50 итерациях: 1.3346560790538788 0.51875\n",
            "Средние train лосс и accuracy на последних 50 итерациях: 1.3367228507995605 0.51932293\n",
            "Эпоха 8/50: val лосс и accuracy: 1.4057246446609497 0.5026\n",
            "Epoch: 9\n",
            "Средние train лосс и accuracy на последних 50 итерациях: 1.3383393931388854 0.51421875\n",
            "Средние train лосс и accuracy на последних 50 итерациях: 1.3249036422371865 0.52382815\n",
            "Средние train лосс и accuracy на последних 50 итерациях: 1.325029756228129 0.52458334\n",
            "Средние train лосс и accuracy на последних 50 итерациях: 1.3220343190431594 0.52601564\n",
            "Средние train лосс и accuracy на последних 50 итерациях: 1.3164768862724303 0.5293437\n",
            "Средние train лосс и accuracy на последних 50 итерациях: 1.314273202220599 0.5288802\n",
            "Эпоха 9/50: val лосс и accuracy: 1.4155185070766765 0.4959\n",
            "Epoch: 10\n",
            "Средние train лосс и accuracy на последних 50 итерациях: 1.2868056464195252 0.5342187\n",
            "Средние train лосс и accuracy на последних 50 итерациях: 1.3021879053115846 0.5305469\n",
            "Средние train лосс и accuracy на последних 50 итерациях: 1.2945489033063253 0.53546876\n",
            "Средние train лосс и accuracy на последних 50 итерациях: 1.2935126093029976 0.5366797\n",
            "Средние train лосс и accuracy на последних 50 итерациях: 1.2945809199810028 0.5350625\n",
            "Средние train лосс и accuracy на последних 50 итерациях: 1.2929040838281314 0.53557295\n",
            "Эпоха 10/50: val лосс и accuracy: 1.3654405934036158 0.518\n",
            "Epoch: 11\n",
            "Средние train лосс и accuracy на последних 50 итерациях: 1.2781334602832795 0.5484375\n",
            "Средние train лосс и accuracy на последних 50 итерациях: 1.281664269566536 0.5465625\n",
            "Средние train лосс и accuracy на последних 50 итерациях: 1.279491223891576 0.54578125\n",
            "Средние train лосс и accuracy на последних 50 итерациях: 1.277540934383869 0.5446484\n",
            "Средние train лосс и accuracy на последних 50 итерациях: 1.2766825153827668 0.54521877\n",
            "Средние train лосс и accuracy на последних 50 итерациях: 1.2757058012485505 0.5455469\n",
            "Эпоха 11/50: val лосс и accuracy: 1.3521087617631171 0.5238\n",
            "Epoch: 12\n",
            "Средние train лосс и accuracy на последних 50 итерациях: 1.2787168329954148 0.5515625\n",
            "Средние train лосс и accuracy на последних 50 итерациях: 1.279119453728199 0.5503906\n",
            "Средние train лосс и accuracy на последних 50 итерациях: 1.264777685403824 0.5520313\n",
            "Средние train лосс и accuracy на последних 50 итерациях: 1.2631480099260808 0.5509766\n",
            "Средние train лосс и accuracy на последних 50 итерациях: 1.2609412620067597 0.551\n",
            "Средние train лосс и accuracy на последних 50 итерациях: 1.258089619576931 0.5510156\n",
            "Эпоха 12/50: val лосс и accuracy: 1.325311112935376 0.5316\n",
            "Epoch: 13\n",
            "Средние train лосс и accuracy на последних 50 итерациях: 1.224814847111702 0.56296873\n",
            "Средние train лосс и accuracy на последних 50 итерациях: 1.252641472518444 0.55296874\n",
            "Средние train лосс и accuracy на последних 50 итерациях: 1.2493026115496952 0.55302083\n",
            "Средние train лосс и accuracy на последних 50 итерациях: 1.248326968997717 0.5548047\n",
            "Средние train лосс и accuracy на последних 50 итерациях: 1.2465682684183121 0.5545\n",
            "Средние train лосс и accuracy на последних 50 итерациях: 1.2451571741700171 0.55502605\n",
            "Эпоха 13/50: val лосс и accuracy: 1.3356085408265423 0.5329\n",
            "Epoch: 14\n",
            "Средние train лосс и accuracy на последних 50 итерациях: 1.2239252406358718 0.5648438\n",
            "Средние train лосс и accuracy на последних 50 итерациях: 1.2190134435892106 0.563125\n",
            "Средние train лосс и accuracy на последних 50 итерациях: 1.216271454890569 0.56458336\n",
            "Средние train лосс и accuracy на последних 50 итерациях: 1.224086695164442 0.5613281\n",
            "Средние train лосс и accuracy на последних 50 итерациях: 1.2253877866268157 0.56209373\n",
            "Средние train лосс и accuracy на последних 50 итерациях: 1.2268084346254666 0.5629167\n",
            "Эпоха 14/50: val лосс и accuracy: 1.3250651693647835 0.5328\n",
            "Epoch: 15\n",
            "Средние train лосс и accuracy на последних 50 итерациях: 1.2225346922874452 0.56453127\n",
            "Средние train лосс и accuracy на последних 50 итерациях: 1.2172269377112388 0.5669531\n",
            "Средние train лосс и accuracy на последних 50 итерациях: 1.2143050247430802 0.5672917\n",
            "Средние train лосс и accuracy на последних 50 итерациях: 1.2168820221722125 0.5682422\n",
            "Средние train лосс и accuracy на последних 50 итерациях: 1.2174931945800782 0.56759375\n",
            "Средние train лосс и accuracy на последних 50 итерациях: 1.219175859193007 0.5661719\n",
            "Эпоха 15/50: val лосс и accuracy: 1.344382577640995 0.527\n",
            "Epoch: 16\n",
            "Средние train лосс и accuracy на последних 50 итерациях: 1.2126610583066941 0.5578125\n",
            "Средние train лосс и accuracy на последних 50 итерациях: 1.208794268667698 0.56875\n",
            "Средние train лосс и accuracy на последних 50 итерациях: 1.207497067252795 0.56822914\n",
            "Средние train лосс и accuracy на последних 50 итерациях: 1.2129001347720623 0.56878906\n",
            "Средние train лосс и accuracy на последних 50 итерациях: 1.2084011600017548 0.5700625\n",
            "Средние train лосс и accuracy на последних 50 итерациях: 1.2068704895178477 0.5714844\n",
            "Эпоха 16/50: val лосс и accuracy: 1.3183522330727546 0.5339\n",
            "Epoch: 17\n",
            "Средние train лосс и accuracy на последних 50 итерациях: 1.1924942618608474 0.58390623\n",
            "Средние train лосс и accuracy на последних 50 итерациях: 1.1961369362473488 0.57859373\n",
            "Средние train лосс и accuracy на последних 50 итерациях: 1.1922626574834188 0.5799479\n",
            "Средние train лосс и accuracy на последних 50 итерациях: 1.1925317175686359 0.57851565\n",
            "Средние train лосс и accuracy на последних 50 итерациях: 1.196738861322403 0.577625\n",
            "Средние train лосс и accuracy на последних 50 итерациях: 1.1952173199256262 0.57666665\n",
            "Эпоха 17/50: val лосс и accuracy: 1.3363154936747945 0.5328\n",
            "Epoch: 18\n",
            "Средние train лосс и accuracy на последних 50 итерациях: 1.1810922169685363 0.581875\n",
            "Средние train лосс и accuracy на последних 50 итерациях: 1.1896243411302567 0.57773435\n",
            "Средние train лосс и accuracy на последних 50 итерациях: 1.1846339946985245 0.57953125\n",
            "Средние train лосс и accuracy на последних 50 итерациях: 1.1854709987342358 0.5769531\n",
            "Средние train лосс и accuracy на последних 50 итерациях: 1.1812477985620498 0.5786875\n",
            "Средние train лосс и accuracy на последних 50 итерациях: 1.1806775936484337 0.5797656\n",
            "Эпоха 18/50: val лосс и accuracy: 1.317794679836103 0.5412\n",
            "Epoch: 19\n",
            "Средние train лосс и accuracy на последних 50 итерациях: 1.1530498975515366 0.6009375\n",
            "Средние train лосс и accuracy на последних 50 итерациях: 1.1651113292574882 0.59054685\n",
            "Средние train лосс и accuracy на последних 50 итерациях: 1.1689074259996415 0.59015626\n",
            "Средние train лосс и accuracy на последних 50 итерациях: 1.1696587477624416 0.58867186\n",
            "Средние train лосс и accuracy на последних 50 итерациях: 1.1712524737119674 0.5873125\n",
            "Средние train лосс и accuracy на последних 50 итерациях: 1.1719904018441836 0.5865104\n",
            "Эпоха 19/50: val лосс и accuracy: 1.2951252084628793 0.547\n",
            "Epoch: 20\n",
            "Средние train лосс и accuracy на последних 50 итерациях: 1.1472935146093368 0.5946875\n",
            "Средние train лосс и accuracy на последних 50 итерациях: 1.1350843027234077 0.59875\n",
            "Средние train лосс и accuracy на последних 50 итерациях: 1.1424906120697658 0.59625\n",
            "Средние train лосс и accuracy на последних 50 итерациях: 1.1513031592965126 0.5907031\n",
            "Средние train лосс и accuracy на последних 50 итерациях: 1.1602103997468949 0.588625\n",
            "Средние train лосс и accuracy на последних 50 итерациях: 1.162398224969705 0.58671874\n",
            "Эпоха 20/50: val лосс и accuracy: 1.3075822952446665 0.5402\n",
            "Epoch: 21\n",
            "Средние train лосс и accuracy на последних 50 итерациях: 1.1547836750745772 0.5964062\n",
            "Средние train лосс и accuracy на последних 50 итерациях: 1.1543926584720612 0.59585935\n",
            "Средние train лосс и accuracy на последних 50 итерациях: 1.1563555459181467 0.59229165\n",
            "Средние train лосс и accuracy на последних 50 итерациях: 1.1564642570912838 0.59175783\n",
            "Средние train лосс и accuracy на последних 50 итерациях: 1.1537629623413086 0.59215623\n",
            "Средние train лосс и accuracy на последних 50 итерациях: 1.1552584693829218 0.5897656\n",
            "Эпоха 21/50: val лосс и accuracy: 1.2857323998858214 0.5518\n",
            "Epoch: 22\n",
            "Средние train лосс и accuracy на последних 50 итерациях: 1.11634814620018 0.5959375\n",
            "Средние train лосс и accuracy на последних 50 итерациях: 1.1428029447793961 0.5930469\n",
            "Средние train лосс и accuracy на последних 50 итерациях: 1.1478287076950073 0.59239584\n",
            "Средние train лосс и accuracy на последних 50 итерациях: 1.1474328343570233 0.59367186\n",
            "Средние train лосс и accuracy на последних 50 итерациях: 1.1401260554790498 0.59634376\n",
            "Средние train лосс и accuracy на последних 50 итерациях: 1.1433765431245169 0.5964062\n",
            "Эпоха 22/50: val лосс и accuracy: 1.3155709531656496 0.5419\n",
            "Epoch: 23\n",
            "Средние train лосс и accuracy на последних 50 итерациях: 1.1133425772190093 0.608125\n",
            "Средние train лосс и accuracy на последних 50 итерациях: 1.1138493919372559 0.608125\n",
            "Средние train лосс и accuracy на последних 50 итерациях: 1.1225285571813584 0.60484374\n",
            "Средние train лосс и accuracy на последних 50 итерациях: 1.1295985253155232 0.60296875\n",
            "Средние train лосс и accuracy на последних 50 итерациях: 1.126402980327606 0.604375\n",
            "Средние train лосс и accuracy на последних 50 итерациях: 1.1327213209867477 0.6017187\n",
            "Эпоха 23/50: val лосс и accuracy: 1.317382285169735 0.5431\n",
            "Epoch: 24\n",
            "Средние train лосс и accuracy на последних 50 итерациях: 1.1262212538719176 0.60234374\n",
            "Средние train лосс и accuracy на последних 50 итерациях: 1.1217119470238686 0.6003125\n",
            "Средние train лосс и accuracy на последних 50 итерациях: 1.1256383190552393 0.5988542\n",
            "Средние train лосс и accuracy на последних 50 итерациях: 1.1245910902321339 0.60117185\n",
            "Средние train лосс и accuracy на последних 50 итерациях: 1.1232332266569138 0.60209376\n",
            "Средние train лосс и accuracy на последних 50 итерациях: 1.1252920904755592 0.60117185\n",
            "Эпоха 24/50: val лосс и accuracy: 1.3020658143766366 0.5481\n",
            "Epoch: 25\n",
            "Средние train лосс и accuracy на последних 50 итерациях: 1.1190128046274186 0.6046875\n",
            "Средние train лосс и accuracy на последних 50 итерациях: 1.1106883880496026 0.6082031\n",
            "Средние train лосс и accuracy на последних 50 итерациях: 1.1118184453248978 0.60807294\n",
            "Средние train лосс и accuracy на последних 50 итерациях: 1.1186984822154045 0.6063281\n",
            "Средние train лосс и accuracy на последних 50 итерациях: 1.1156886675357818 0.60615623\n",
            "Средние train лосс и accuracy на последних 50 итерациях: 1.1171489405632018 0.6061198\n",
            "Эпоха 25/50: val лосс и accuracy: 1.2844422095140833 0.5552\n",
            "Epoch: 26\n",
            "Средние train лосс и accuracy на последних 50 итерациях: 1.1124299836158753 0.61515623\n",
            "Средние train лосс и accuracy на последних 50 итерациях: 1.1157026037573814 0.60890627\n",
            "Средние train лосс и accuracy на последних 50 итерациях: 1.110722979704539 0.6102604\n",
            "Средние train лосс и accuracy на последних 50 итерациях: 1.1087926882505417 0.6081641\n",
            "Средние train лосс и accuracy на последних 50 итерациях: 1.1104149806499481 0.60840625\n",
            "Средние train лосс и accuracy на последних 50 итерациях: 1.1092769331733385 0.60864586\n",
            "Эпоха 26/50: val лосс и accuracy: 1.293081691310664 0.5478\n",
            "Epoch: 27\n",
            "Средние train лосс и accuracy на последних 50 итерациях: 1.077700064778328 0.621875\n",
            "Средние train лосс и accuracy на последних 50 итерациях: 1.0890479752421378 0.6163281\n",
            "Средние train лосс и accuracy на последних 50 итерациях: 1.091564309000969 0.61625\n",
            "Средние train лосс и accuracy на последних 50 итерациях: 1.098543539494276 0.61328125\n",
            "Средние train лосс и accuracy на последних 50 итерациях: 1.1027442014217377 0.61228126\n",
            "Средние train лосс и accuracy на последних 50 итерациях: 1.1024079949657122 0.61226565\n",
            "Эпоха 27/50: val лосс и accuracy: 1.3065198458683718 0.543\n",
            "Epoch: 28\n",
            "Средние train лосс и accuracy на последних 50 итерациях: 1.0905757296085357 0.61296874\n",
            "Средние train лосс и accuracy на последних 50 итерациях: 1.093282392323017 0.61265624\n",
            "Средние train лосс и accuracy на последних 50 итерациях: 1.0940877952178318 0.611875\n",
            "Средние train лосс и accuracy на последних 50 итерациях: 1.0992208638787269 0.61191404\n",
            "Средние train лосс и accuracy на последних 50 итерациях: 1.0958521338701248 0.61275\n",
            "Средние train лосс и accuracy на последних 50 итерациях: 1.0973009585340818 0.6129427\n",
            "Эпоха 28/50: val лосс и accuracy: 1.2843335373386455 0.5532\n",
            "Epoch: 29\n",
            "Средние train лосс и accuracy на последних 50 итерациях: 1.083647528886795 0.62\n",
            "Средние train лосс и accuracy на последних 50 итерациях: 1.08119881182909 0.6178906\n",
            "Средние train лосс и accuracy на последних 50 итерациях: 1.0834227921565374 0.6173958\n",
            "Средние train лосс и accuracy на последних 50 итерациях: 1.0851539480686188 0.6186719\n",
            "Средние train лосс и accuracy на последних 50 итерациях: 1.0848341938257218 0.6191875\n",
            "Средние train лосс и accuracy на последних 50 итерациях: 1.0853916217883428 0.61908853\n",
            "Эпоха 29/50: val лосс и accuracy: 1.3069989616703834 0.5446\n",
            "Epoch: 30\n",
            "Средние train лосс и accuracy на последних 50 итерациях: 1.0689968484640122 0.62671876\n",
            "Средние train лосс и accuracy на последних 50 итерациях: 1.0713032618165017 0.623125\n",
            "Средние train лосс и accuracy на последних 50 итерациях: 1.06642149746418 0.62380207\n",
            "Средние train лосс и accuracy на последних 50 итерациях: 1.0757535633444786 0.6219141\n",
            "Средние train лосс и accuracy на последних 50 итерациях: 1.0832185398340226 0.6191875\n",
            "Средние train лосс и accuracy на последних 50 итерациях: 1.080465852121512 0.6201302\n",
            "Эпоха 30/50: val лосс и accuracy: 1.2978374346805985 0.5511\n",
            "Epoch: 31\n",
            "Средние train лосс и accuracy на последних 50 итерациях: 1.0685232692956925 0.62109375\n",
            "Средние train лосс и accuracy на последних 50 итерациях: 1.0732822477817536 0.61976564\n",
            "Средние train лосс и accuracy на последних 50 итерациях: 1.0723900898297627 0.62067705\n",
            "Средние train лосс и accuracy на последних 50 итерациях: 1.06528214097023 0.62371093\n",
            "Средние train лосс и accuracy на последних 50 итерациях: 1.0719963512420654 0.6225\n",
            "Средние train лосс и accuracy на последних 50 итерациях: 1.0742721330126126 0.621276\n",
            "Эпоха 31/50: val лосс и accuracy: 1.295268447156165 0.5491\n",
            "Epoch: 32\n",
            "Средние train лосс и accuracy на последних 50 итерациях: 1.0749464565515519 0.624375\n",
            "Средние train лосс и accuracy на последних 50 итерациях: 1.054557575583458 0.6313281\n",
            "Средние train лосс и accuracy на последних 50 итерациях: 1.0611736873785655 0.6275521\n",
            "Средние train лосс и accuracy на последних 50 итерациях: 1.0625032670795918 0.6264844\n",
            "Средние train лосс и accuracy на последних 50 итерациях: 1.06069460105896 0.6264375\n",
            "Средние train лосс и accuracy на последних 50 итерациях: 1.0651755755146344 0.6251562\n",
            "Эпоха 32/50: val лосс и accuracy: 1.2811901603534723 0.5555\n",
            "Epoch: 33\n",
            "Средние train лосс и accuracy на последних 50 итерациях: 1.0206901240348816 0.6396875\n",
            "Средние train лосс и accuracy на последних 50 итерациях: 1.0315746724605561 0.63507813\n",
            "Средние train лосс и accuracy на последних 50 итерациях: 1.0340519398450851 0.63458335\n",
            "Средние train лосс и accuracy на последних 50 итерациях: 1.0414646530151368 0.6330078\n",
            "Средние train лосс и accuracy на последних 50 итерациях: 1.0485951173305512 0.63121873\n",
            "Средние train лосс и accuracy на последних 50 итерациях: 1.055008682012558 0.62859374\n",
            "Эпоха 33/50: val лосс и accuracy: 1.3038872992916473 0.5488\n",
            "Epoch: 34\n",
            "Средние train лосс и accuracy на последних 50 итерациях: 1.0489954406023025 0.6384375\n",
            "Средние train лосс и accuracy на последних 50 итерациях: 1.0451552087068559 0.6361719\n",
            "Средние train лосс и accuracy на последних 50 итерациях: 1.047162981828054 0.63203126\n",
            "Средние train лосс и accuracy на последних 50 итерациях: 1.051423237323761 0.630625\n",
            "Средние train лосс и accuracy на последних 50 итерациях: 1.0540480483770371 0.62775\n",
            "Средние train лосс и accuracy на последних 50 итерациях: 1.057400924563408 0.62630206\n",
            "Эпоха 34/50: val лосс и accuracy: 1.3125890998324012 0.5463\n",
            "Epoch: 35\n",
            "Средние train лосс и accuracy на последних 50 итерациях: 1.0270510429143906 0.6351563\n",
            "Средние train лосс и accuracy на последних 50 итерациях: 1.0232446709275245 0.6399219\n",
            "Средние train лосс и accuracy на последних 50 итерациях: 1.0343626314401626 0.63609374\n",
            "Средние train лосс и accuracy на последних 50 итерациях: 1.0404979321360588 0.63539064\n",
            "Средние train лосс и accuracy на последних 50 итерациях: 1.0464386752843857 0.632\n",
            "Средние train лосс и accuracy на последних 50 итерациях: 1.0492416528860729 0.63109374\n",
            "Эпоха 35/50: val лосс и accuracy: 1.2953129957435996 0.5584\n",
            "Epoch: 36\n",
            "Средние train лосс и accuracy на последних 50 итерациях: 1.0215300083160401 0.6382812\n",
            "Средние train лосс и accuracy на последних 50 итерациях: 1.027420349419117 0.6366406\n",
            "Средние train лосс и accuracy на последних 50 итерациях: 1.0269369914134343 0.6383854\n",
            "Средние train лосс и accuracy на последних 50 итерациях: 1.0289626400172711 0.63785154\n",
            "Средние train лосс и accuracy на последних 50 итерациях: 1.0339091476202011 0.63759375\n",
            "Средние train лосс и accuracy на последних 50 итерациях: 1.0369565291206042 0.6365885\n",
            "Эпоха 36/50: val лосс и accuracy: 1.304780308608037 0.5512\n",
            "Epoch: 37\n",
            "Средние train лосс и accuracy на последних 50 итерациях: 1.003462769985199 0.64984375\n",
            "Средние train лосс и accuracy на последних 50 итерациях: 1.01470043361187 0.64523435\n",
            "Средние train лосс и accuracy на последних 50 итерациях: 1.0282370324929555 0.6399479\n",
            "Средние train лосс и accuracy на последних 50 итерациях: 1.0355852301418782 0.6376172\n",
            "Средние train лосс и accuracy на последних 50 итерациях: 1.0322960398197174 0.63809377\n",
            "Средние train лосс и accuracy на последних 50 итерациях: 1.0362823124726612 0.6364323\n",
            "Эпоха 37/50: val лосс и accuracy: 1.3042623480414128 0.5539\n",
            "Epoch: 38\n",
            "Средние train лосс и accuracy на последних 50 итерациях: 1.0361650085449219 0.6378125\n",
            "Средние train лосс и accuracy на последних 50 итерациях: 1.032319927215576 0.635625\n",
            "Средние train лосс и accuracy на последних 50 итерациях: 1.026296505331993 0.6386979\n",
            "Средние train лосс и accuracy на последних 50 итерациях: 1.0197146488726139 0.64113283\n",
            "Средние train лосс и accuracy на последних 50 итерациях: 1.0231852780580522 0.63965625\n",
            "Средние train лосс и accuracy на последних 50 итерациях: 1.029492717583974 0.63875\n",
            "Эпоха 38/50: val лосс и accuracy: 1.3160368560985396 0.5509\n",
            "Epoch: 39\n",
            "Средние train лосс и accuracy на последних 50 итерациях: 0.9981274354457855 0.64921874\n",
            "Средние train лосс и accuracy на последних 50 итерациях: 0.992255047261715 0.6496875\n",
            "Средние train лосс и accuracy на последних 50 итерациях: 1.0049197032054265 0.6471875\n",
            "Средние train лосс и accuracy на последних 50 итерациях: 1.0155812564492226 0.64304686\n",
            "Средние train лосс и accuracy на последних 50 итерациях: 1.0245445981025696 0.63975\n",
            "Средние train лосс и accuracy на последних 50 итерациях: 1.0282115836938222 0.63783854\n",
            "Эпоха 39/50: val лосс и accuracy: 1.297497172644184 0.5532\n",
            "Epoch: 40\n",
            "Средние train лосс и accuracy на последних 50 итерациях: 0.9775452500581742 0.65171874\n",
            "Средние train лосс и accuracy на последних 50 итерациях: 1.0111957308650017 0.64054686\n",
            "Средние train лосс и accuracy на последних 50 итерациях: 1.0155716848373413 0.6401042\n",
            "Средние train лосс и accuracy на последних 50 итерациях: 1.0130340838432312 0.64234376\n",
            "Средние train лосс и accuracy на последних 50 итерациях: 1.0170691331624986 0.64109373\n",
            "Средние train лосс и accuracy на последних 50 итерациях: 1.0232235434651376 0.63953125\n",
            "Эпоха 40/50: val лосс и accuracy: 1.2913441525143423 0.5569\n",
            "Epoch: 41\n",
            "Средние train лосс и accuracy на последних 50 итерациях: 0.9799523866176605 0.66015625\n",
            "Средние train лосс и accuracy на последних 50 итерациях: 0.9913916325569153 0.65828127\n",
            "Средние train лосс и accuracy на последних 50 итерациях: 1.0077071744203567 0.65197915\n",
            "Средние train лосс и accuracy на последних 50 итерациях: 1.0096996909379958 0.650625\n",
            "Средние train лосс и accuracy на последних 50 итерациях: 1.0156878402233125 0.6465312\n",
            "Средние train лосс и accuracy на последних 50 итерациях: 1.018620101114114 0.644375\n",
            "Эпоха 41/50: val лосс и accuracy: 1.29913673241427 0.5536\n",
            "Epoch: 42\n",
            "Средние train лосс и accuracy на последних 50 итерациях: 0.9957735419273377 0.6475\n",
            "Средние train лосс и accuracy на последних 50 итерациях: 1.0040057870745658 0.64835936\n",
            "Средние train лосс и accuracy на последних 50 итерациях: 1.0020375635226568 0.648125\n",
            "Средние train лосс и accuracy на последних 50 итерациях: 1.0043621322512626 0.6465234\n",
            "Средние train лосс и accuracy на последних 50 итерациях: 1.003329592704773 0.6456562\n",
            "Средние train лосс и accuracy на последних 50 итерациях: 1.010674736102422 0.6444531\n",
            "Эпоха 42/50: val лосс и accuracy: 1.298375537441035 0.5535\n",
            "Epoch: 43\n",
            "Средние train лосс и accuracy на последних 50 итерациях: 0.9950683516263962 0.646875\n",
            "Средние train лосс и accuracy на последних 50 итерациях: 0.9975315037369729 0.6494531\n",
            "Средние train лосс и accuracy на последних 50 итерациях: 0.9999719866116842 0.6486979\n",
            "Средние train лосс и accuracy на последних 50 итерациях: 1.0020849852263927 0.6472266\n",
            "Средние train лосс и accuracy на последних 50 итерациях: 1.0084112750291825 0.6449375\n",
            "Средние train лосс и accuracy на последних 50 итерациях: 1.0103027155001958 0.64510417\n",
            "Эпоха 43/50: val лосс и accuracy: 1.3276439688767596 0.5561\n",
            "Epoch: 44\n",
            "Средние train лосс и accuracy на последних 50 итерациях: 0.9872404152154922 0.65296876\n",
            "Средние train лосс и accuracy на последних 50 итерациях: 0.9889021754264832 0.6514844\n",
            "Средние train лосс и accuracy на последних 50 итерациях: 0.9898416310548782 0.6509896\n",
            "Средние train лосс и accuracy на последних 50 итерациях: 0.9885667604207993 0.6505078\n",
            "Средние train лосс и accuracy на последних 50 итерациях: 0.9948777972459794 0.6496875\n",
            "Средние train лосс и accuracy на последних 50 итерациях: 1.0013198419411977 0.6464844\n",
            "Эпоха 44/50: val лосс и accuracy: 1.2980689292500733 0.5559\n",
            "Epoch: 45\n",
            "Средние train лосс и accuracy на последних 50 итерациях: 0.9740158879756927 0.65875\n",
            "Средние train лосс и accuracy на последних 50 итерациях: 0.9884865415096283 0.6519531\n",
            "Средние train лосс и accuracy на последних 50 итерациях: 0.9912961757183075 0.6502604\n",
            "Средние train лосс и accuracy на последних 50 итерациях: 0.9880201150476933 0.6513672\n",
            "Средние train лосс и accuracy на последних 50 итерациях: 0.995399205327034 0.648625\n",
            "Средние train лосс и accuracy на последних 50 итерациях: 0.998399491806825 0.6489323\n",
            "Эпоха 45/50: val лосс и accuracy: 1.3217198806963149 0.5568\n",
            "Epoch: 46\n",
            "Средние train лосс и accuracy на последних 50 итерациях: 0.9916484153270722 0.6528125\n",
            "Средние train лосс и accuracy на последних 50 итерациях: 0.999552535712719 0.6453125\n",
            "Средние train лосс и accuracy на последних 50 итерациях: 0.9970317792892456 0.6483854\n",
            "Средние train лосс и accuracy на последних 50 итерациях: 0.9935531212389469 0.6500781\n",
            "Средние train лосс и accuracy на последних 50 итерациях: 0.9955660994052887 0.6495938\n",
            "Средние train лосс и accuracy на последних 50 итерациях: 0.995329459309578 0.64940107\n",
            "Эпоха 46/50: val лосс и accuracy: 1.3437939567171084 0.553\n",
            "Epoch: 47\n",
            "Средние train лосс и accuracy на последних 50 итерациях: 0.9752746677398682 0.66046876\n",
            "Средние train лосс и accuracy на последних 50 итерациях: 0.9764095059037209 0.6592969\n",
            "Средние train лосс и accuracy на последних 50 итерациях: 0.9843890674908956 0.6561458\n",
            "Средние train лосс и accuracy на последних 50 итерациях: 0.9852641224861145 0.65589845\n",
            "Средние train лосс и accuracy на последних 50 итерациях: 0.9905089591741562 0.65421873\n",
            "Средние train лосс и accuracy на последних 50 итерациях: 0.9927118041117986 0.65276045\n",
            "Эпоха 47/50: val лосс и accuracy: 1.3133135555656092 0.5583\n",
            "Epoch: 48\n",
            "Средние train лосс и accuracy на последних 50 итерациях: 0.9922046083211898 0.6475\n",
            "Средние train лосс и accuracy на последних 50 итерациях: 0.9802730637788772 0.6559375\n",
            "Средние train лосс и accuracy на последних 50 итерациях: 0.9794460409879684 0.6578125\n",
            "Средние train лосс и accuracy на последних 50 итерациях: 0.9808870758116245 0.6560938\n",
            "Средние train лосс и accuracy на последних 50 итерациях: 0.9838409190177917 0.6547812\n",
            "Средние train лосс и accuracy на последних 50 итерациях: 0.98575380752484 0.65421873\n",
            "Эпоха 48/50: val лосс и accuracy: 1.3161928133600076 0.5572\n",
            "Epoch: 49\n",
            "Средние train лосс и accuracy на последних 50 итерациях: 0.9752994102239608 0.65296876\n",
            "Средние train лосс и accuracy на последних 50 итерациях: 0.9636731564998626 0.65664065\n",
            "Средние train лосс и accuracy на последних 50 итерациях: 0.9727797263860702 0.656875\n",
            "Средние train лосс и accuracy на последних 50 итерациях: 0.9867159743607045 0.6510547\n",
            "Средние train лосс и accuracy на последних 50 итерациях: 0.9839138867855072 0.6529375\n",
            "Средние train лосс и accuracy на последних 50 итерациях: 0.9842257970571517 0.6534896\n",
            "Эпоха 49/50: val лосс и accuracy: 1.3151197224665598 0.5605\n",
            "Epoch: 50\n",
            "Средние train лосс и accuracy на последних 50 итерациях: 0.9416548532247543 0.66859376\n",
            "Средние train лосс и accuracy на последних 50 итерациях: 0.9659909382462502 0.6628125\n",
            "Средние train лосс и accuracy на последних 50 итерациях: 0.9768327532211939 0.6575\n",
            "Средние train лосс и accuracy на последних 50 итерациях: 0.9840394017100335 0.6540234\n",
            "Средние train лосс и accuracy на последних 50 итерациях: 0.981850626707077 0.6540625\n",
            "Средние train лосс и accuracy на последних 50 итерациях: 0.9866948375105857 0.652474\n",
            "Эпоха 50/50: val лосс и accuracy: 1.3026686215856274 0.562\n"
          ]
        }
      ]
    },
    {
      "cell_type": "markdown",
      "source": [
        "### Получение метрики качества на тестовой выборке"
      ],
      "metadata": {
        "id": "J-0bg_d9mQJc"
      }
    },
    {
      "cell_type": "code",
      "execution_count": 12,
      "metadata": {
        "id": "5fdsfmmGUntS",
        "colab": {
          "base_uri": "https://localhost:8080/"
        },
        "outputId": "3af85b0d-c2e7-4ba3-a2d5-7053540c05c9"
      },
      "outputs": [
        {
          "output_type": "stream",
          "name": "stdout",
          "text": [
            "Accuracy на тесте 0.5629\n"
          ]
        }
      ],
      "source": [
        "test_accuracy, _ = evaluate(model, test_loader, loss_fn)\n",
        "print('Accuracy на тесте', test_accuracy)"
      ]
    },
    {
      "cell_type": "markdown",
      "metadata": {
        "id": "s1lUTTanUntT"
      },
      "source": [
        "Проверка, что необходимые пороги пройдены:"
      ]
    },
    {
      "cell_type": "code",
      "execution_count": 13,
      "metadata": {
        "id": "h0D82xfkUntT",
        "colab": {
          "base_uri": "https://localhost:8080/"
        },
        "outputId": "84fb0199-84b3-4aa5-cfc7-d355cdcc65ea"
      },
      "outputs": [
        {
          "output_type": "stream",
          "name": "stdout",
          "text": [
            "Качество на тесте выше 0.56, 1 балл\n"
          ]
        }
      ],
      "source": [
        "if test_accuracy <= 0.5:\n",
        "    print(\"Качество на тесте ниже 0.5, 0 баллов\")\n",
        "elif test_accuracy < 0.56:\n",
        "    print(\"Качество на тесте между 0.5 и 0.56, 0.5 баллов\")\n",
        "elif test_accuracy >= 0.56:\n",
        "    print(\"Качество на тесте выше 0.56, 1 балл\")"
      ]
    }
  ],
  "metadata": {
    "kernelspec": {
      "display_name": "Py3 Research",
      "language": "python",
      "name": "py3_research"
    },
    "language_info": {
      "codemirror_mode": {
        "name": "ipython",
        "version": 3
      },
      "file_extension": ".py",
      "mimetype": "text/x-python",
      "name": "python",
      "nbconvert_exporter": "python",
      "pygments_lexer": "ipython3",
      "version": "3.7.10"
    },
    "colab": {
      "provenance": []
    },
    "accelerator": "GPU",
    "gpuClass": "standard",
    "widgets": {
      "application/vnd.jupyter.widget-state+json": {
        "d4ed750dd473452da502ef74ad0ce592": {
          "model_module": "@jupyter-widgets/controls",
          "model_name": "HBoxModel",
          "model_module_version": "1.5.0",
          "state": {
            "_dom_classes": [],
            "_model_module": "@jupyter-widgets/controls",
            "_model_module_version": "1.5.0",
            "_model_name": "HBoxModel",
            "_view_count": null,
            "_view_module": "@jupyter-widgets/controls",
            "_view_module_version": "1.5.0",
            "_view_name": "HBoxView",
            "box_style": "",
            "children": [
              "IPY_MODEL_5ad180edc8ce48a79512c7614e6086c5",
              "IPY_MODEL_b646fd159a054145ad7aea7280c7d8de",
              "IPY_MODEL_0caaa640e1bd4a5cb10218866a8bfadb"
            ],
            "layout": "IPY_MODEL_e7213b517e1a47a5b381a6569a7d2689"
          }
        },
        "5ad180edc8ce48a79512c7614e6086c5": {
          "model_module": "@jupyter-widgets/controls",
          "model_name": "HTMLModel",
          "model_module_version": "1.5.0",
          "state": {
            "_dom_classes": [],
            "_model_module": "@jupyter-widgets/controls",
            "_model_module_version": "1.5.0",
            "_model_name": "HTMLModel",
            "_view_count": null,
            "_view_module": "@jupyter-widgets/controls",
            "_view_module_version": "1.5.0",
            "_view_name": "HTMLView",
            "description": "",
            "description_tooltip": null,
            "layout": "IPY_MODEL_905d706ed0dd40a897fa507e6db4052f",
            "placeholder": "​",
            "style": "IPY_MODEL_707510812574470290d94c4f769a45fc",
            "value": "100%"
          }
        },
        "b646fd159a054145ad7aea7280c7d8de": {
          "model_module": "@jupyter-widgets/controls",
          "model_name": "FloatProgressModel",
          "model_module_version": "1.5.0",
          "state": {
            "_dom_classes": [],
            "_model_module": "@jupyter-widgets/controls",
            "_model_module_version": "1.5.0",
            "_model_name": "FloatProgressModel",
            "_view_count": null,
            "_view_module": "@jupyter-widgets/controls",
            "_view_module_version": "1.5.0",
            "_view_name": "ProgressView",
            "bar_style": "success",
            "description": "",
            "description_tooltip": null,
            "layout": "IPY_MODEL_aa746d324e4d444db9cbfda506427c91",
            "max": 170498071,
            "min": 0,
            "orientation": "horizontal",
            "style": "IPY_MODEL_d311e92f41d6496a852b0d432a8c4ddf",
            "value": 170498071
          }
        },
        "0caaa640e1bd4a5cb10218866a8bfadb": {
          "model_module": "@jupyter-widgets/controls",
          "model_name": "HTMLModel",
          "model_module_version": "1.5.0",
          "state": {
            "_dom_classes": [],
            "_model_module": "@jupyter-widgets/controls",
            "_model_module_version": "1.5.0",
            "_model_name": "HTMLModel",
            "_view_count": null,
            "_view_module": "@jupyter-widgets/controls",
            "_view_module_version": "1.5.0",
            "_view_name": "HTMLView",
            "description": "",
            "description_tooltip": null,
            "layout": "IPY_MODEL_6fe31994ab4040549c454ba9c5df52f8",
            "placeholder": "​",
            "style": "IPY_MODEL_a5e9fce82eb143b895fbe07cd5801c8b",
            "value": " 170498071/170498071 [00:14&lt;00:00, 15483128.97it/s]"
          }
        },
        "e7213b517e1a47a5b381a6569a7d2689": {
          "model_module": "@jupyter-widgets/base",
          "model_name": "LayoutModel",
          "model_module_version": "1.2.0",
          "state": {
            "_model_module": "@jupyter-widgets/base",
            "_model_module_version": "1.2.0",
            "_model_name": "LayoutModel",
            "_view_count": null,
            "_view_module": "@jupyter-widgets/base",
            "_view_module_version": "1.2.0",
            "_view_name": "LayoutView",
            "align_content": null,
            "align_items": null,
            "align_self": null,
            "border": null,
            "bottom": null,
            "display": null,
            "flex": null,
            "flex_flow": null,
            "grid_area": null,
            "grid_auto_columns": null,
            "grid_auto_flow": null,
            "grid_auto_rows": null,
            "grid_column": null,
            "grid_gap": null,
            "grid_row": null,
            "grid_template_areas": null,
            "grid_template_columns": null,
            "grid_template_rows": null,
            "height": null,
            "justify_content": null,
            "justify_items": null,
            "left": null,
            "margin": null,
            "max_height": null,
            "max_width": null,
            "min_height": null,
            "min_width": null,
            "object_fit": null,
            "object_position": null,
            "order": null,
            "overflow": null,
            "overflow_x": null,
            "overflow_y": null,
            "padding": null,
            "right": null,
            "top": null,
            "visibility": null,
            "width": null
          }
        },
        "905d706ed0dd40a897fa507e6db4052f": {
          "model_module": "@jupyter-widgets/base",
          "model_name": "LayoutModel",
          "model_module_version": "1.2.0",
          "state": {
            "_model_module": "@jupyter-widgets/base",
            "_model_module_version": "1.2.0",
            "_model_name": "LayoutModel",
            "_view_count": null,
            "_view_module": "@jupyter-widgets/base",
            "_view_module_version": "1.2.0",
            "_view_name": "LayoutView",
            "align_content": null,
            "align_items": null,
            "align_self": null,
            "border": null,
            "bottom": null,
            "display": null,
            "flex": null,
            "flex_flow": null,
            "grid_area": null,
            "grid_auto_columns": null,
            "grid_auto_flow": null,
            "grid_auto_rows": null,
            "grid_column": null,
            "grid_gap": null,
            "grid_row": null,
            "grid_template_areas": null,
            "grid_template_columns": null,
            "grid_template_rows": null,
            "height": null,
            "justify_content": null,
            "justify_items": null,
            "left": null,
            "margin": null,
            "max_height": null,
            "max_width": null,
            "min_height": null,
            "min_width": null,
            "object_fit": null,
            "object_position": null,
            "order": null,
            "overflow": null,
            "overflow_x": null,
            "overflow_y": null,
            "padding": null,
            "right": null,
            "top": null,
            "visibility": null,
            "width": null
          }
        },
        "707510812574470290d94c4f769a45fc": {
          "model_module": "@jupyter-widgets/controls",
          "model_name": "DescriptionStyleModel",
          "model_module_version": "1.5.0",
          "state": {
            "_model_module": "@jupyter-widgets/controls",
            "_model_module_version": "1.5.0",
            "_model_name": "DescriptionStyleModel",
            "_view_count": null,
            "_view_module": "@jupyter-widgets/base",
            "_view_module_version": "1.2.0",
            "_view_name": "StyleView",
            "description_width": ""
          }
        },
        "aa746d324e4d444db9cbfda506427c91": {
          "model_module": "@jupyter-widgets/base",
          "model_name": "LayoutModel",
          "model_module_version": "1.2.0",
          "state": {
            "_model_module": "@jupyter-widgets/base",
            "_model_module_version": "1.2.0",
            "_model_name": "LayoutModel",
            "_view_count": null,
            "_view_module": "@jupyter-widgets/base",
            "_view_module_version": "1.2.0",
            "_view_name": "LayoutView",
            "align_content": null,
            "align_items": null,
            "align_self": null,
            "border": null,
            "bottom": null,
            "display": null,
            "flex": null,
            "flex_flow": null,
            "grid_area": null,
            "grid_auto_columns": null,
            "grid_auto_flow": null,
            "grid_auto_rows": null,
            "grid_column": null,
            "grid_gap": null,
            "grid_row": null,
            "grid_template_areas": null,
            "grid_template_columns": null,
            "grid_template_rows": null,
            "height": null,
            "justify_content": null,
            "justify_items": null,
            "left": null,
            "margin": null,
            "max_height": null,
            "max_width": null,
            "min_height": null,
            "min_width": null,
            "object_fit": null,
            "object_position": null,
            "order": null,
            "overflow": null,
            "overflow_x": null,
            "overflow_y": null,
            "padding": null,
            "right": null,
            "top": null,
            "visibility": null,
            "width": null
          }
        },
        "d311e92f41d6496a852b0d432a8c4ddf": {
          "model_module": "@jupyter-widgets/controls",
          "model_name": "ProgressStyleModel",
          "model_module_version": "1.5.0",
          "state": {
            "_model_module": "@jupyter-widgets/controls",
            "_model_module_version": "1.5.0",
            "_model_name": "ProgressStyleModel",
            "_view_count": null,
            "_view_module": "@jupyter-widgets/base",
            "_view_module_version": "1.2.0",
            "_view_name": "StyleView",
            "bar_color": null,
            "description_width": ""
          }
        },
        "6fe31994ab4040549c454ba9c5df52f8": {
          "model_module": "@jupyter-widgets/base",
          "model_name": "LayoutModel",
          "model_module_version": "1.2.0",
          "state": {
            "_model_module": "@jupyter-widgets/base",
            "_model_module_version": "1.2.0",
            "_model_name": "LayoutModel",
            "_view_count": null,
            "_view_module": "@jupyter-widgets/base",
            "_view_module_version": "1.2.0",
            "_view_name": "LayoutView",
            "align_content": null,
            "align_items": null,
            "align_self": null,
            "border": null,
            "bottom": null,
            "display": null,
            "flex": null,
            "flex_flow": null,
            "grid_area": null,
            "grid_auto_columns": null,
            "grid_auto_flow": null,
            "grid_auto_rows": null,
            "grid_column": null,
            "grid_gap": null,
            "grid_row": null,
            "grid_template_areas": null,
            "grid_template_columns": null,
            "grid_template_rows": null,
            "height": null,
            "justify_content": null,
            "justify_items": null,
            "left": null,
            "margin": null,
            "max_height": null,
            "max_width": null,
            "min_height": null,
            "min_width": null,
            "object_fit": null,
            "object_position": null,
            "order": null,
            "overflow": null,
            "overflow_x": null,
            "overflow_y": null,
            "padding": null,
            "right": null,
            "top": null,
            "visibility": null,
            "width": null
          }
        },
        "a5e9fce82eb143b895fbe07cd5801c8b": {
          "model_module": "@jupyter-widgets/controls",
          "model_name": "DescriptionStyleModel",
          "model_module_version": "1.5.0",
          "state": {
            "_model_module": "@jupyter-widgets/controls",
            "_model_module_version": "1.5.0",
            "_model_name": "DescriptionStyleModel",
            "_view_count": null,
            "_view_module": "@jupyter-widgets/base",
            "_view_module_version": "1.2.0",
            "_view_name": "StyleView",
            "description_width": ""
          }
        }
      }
    }
  },
  "nbformat": 4,
  "nbformat_minor": 0
}