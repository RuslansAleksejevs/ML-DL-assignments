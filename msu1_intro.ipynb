{
  "cells": [
    {
      "cell_type": "markdown",
      "metadata": {
        "id": "4PZB89PiGbtf"
      },
      "source": [
        "# Задание 1. Разберемся в векторах"
      ]
    },
    {
      "cell_type": "markdown",
      "metadata": {
        "id": "3YD2P26FGbtj"
      },
      "source": [
        "Вспоминаю самые важные команды для работы с массивами и тензорами."
      ]
    },
    {
      "cell_type": "code",
      "execution_count": 66,
      "metadata": {
        "id": "uUVWxNjlGbtj"
      },
      "outputs": [],
      "source": [
        "import numpy as np"
      ]
    },
    {
      "cell_type": "markdown",
      "metadata": {
        "id": "Lc5fEex_Gbtk"
      },
      "source": [
        "С пощью numpy мы можем превратить любой список в массив. Для этого используется функция `np.array(list)`. \n",
        "\n",
        "Например:"
      ]
    },
    {
      "cell_type": "code",
      "execution_count": 67,
      "metadata": {
        "id": "_p34ChxVGbtl"
      },
      "outputs": [],
      "source": [
        "a = [1, 2, 3, 4]\n",
        "example_array = np.array(a)"
      ]
    },
    {
      "cell_type": "markdown",
      "metadata": {
        "id": "LEpY_hEWGbtl"
      },
      "source": [
        "Проверка результата:"
      ]
    },
    {
      "cell_type": "code",
      "execution_count": 68,
      "metadata": {
        "id": "B3ABteC4Gbtm"
      },
      "outputs": [],
      "source": [
        "assert type(example_array) == np.ndarray, 'Something is wrong. Try again'"
      ]
    },
    {
      "cell_type": "markdown",
      "metadata": {
        "id": "uPt34tFQGbtm"
      },
      "source": [
        "У массивов есть размеры. Для этого юзаем поле `.shape`:"
      ]
    },
    {
      "cell_type": "code",
      "execution_count": 69,
      "metadata": {
        "id": "CX6GZXQVGbtm",
        "colab": {
          "base_uri": "https://localhost:8080/"
        },
        "outputId": "1aada84a-2681-4354-8139-ebe7813f54f9"
      },
      "outputs": [
        {
          "output_type": "execute_result",
          "data": {
            "text/plain": [
              "(4,)"
            ]
          },
          "metadata": {},
          "execution_count": 69
        }
      ],
      "source": [
        "example_array.shape"
      ]
    },
    {
      "cell_type": "markdown",
      "metadata": {
        "id": "o70tBbMhGbtn"
      },
      "source": [
        "Теперь попробуем создать двумерный массив. Для этого создадим `list_of_lists` и поместим его в `np.array()`"
      ]
    },
    {
      "cell_type": "code",
      "execution_count": 70,
      "metadata": {
        "id": "JOTFHfD-Gbtn",
        "colab": {
          "base_uri": "https://localhost:8080/"
        },
        "outputId": "b7f55932-6d80-4b86-b0f7-de3ef7e9ced6"
      },
      "outputs": [
        {
          "output_type": "execute_result",
          "data": {
            "text/plain": [
              "array([[0, 1, 2, 3],\n",
              "       [1, 2, 3, 4],\n",
              "       [2, 3, 4, 5]])"
            ]
          },
          "metadata": {},
          "execution_count": 70
        }
      ],
      "source": [
        "list_1 = [0, 1, 2, 3]\n",
        "list_2 = [1, 2, 3, 4]\n",
        "list_3 = [2, 3, 4, 5]\n",
        "\n",
        "list_of_lists = [list_1, list_2, list_3]\n",
        "array_2d = np.array(list_of_lists)\n",
        "array_2d"
      ]
    },
    {
      "cell_type": "markdown",
      "metadata": {
        "id": "Cmje3UiSGbtn"
      },
      "source": [
        "Посмотрим на размеры переменной `array_2d`"
      ]
    },
    {
      "cell_type": "code",
      "execution_count": 71,
      "metadata": {
        "id": "Wb6F656oGbtn",
        "colab": {
          "base_uri": "https://localhost:8080/"
        },
        "outputId": "d1cca534-a0cb-42c9-e960-9865ba7c3bfd"
      },
      "outputs": [
        {
          "output_type": "execute_result",
          "data": {
            "text/plain": [
              "(3, 4)"
            ]
          },
          "metadata": {},
          "execution_count": 71
        }
      ],
      "source": [
        "array_2d.shape"
      ]
    },
    {
      "cell_type": "markdown",
      "metadata": {
        "id": "Phv-6nu5Gbtn"
      },
      "source": [
        "Проверка результата:"
      ]
    },
    {
      "cell_type": "code",
      "execution_count": 72,
      "metadata": {
        "id": "bzuMhCE7Gbto"
      },
      "outputs": [],
      "source": [
        "assert array_2d.shape == (3, 4), 'Something is wrong. Try again'"
      ]
    },
    {
      "cell_type": "markdown",
      "metadata": {
        "id": "wkTkW5OFGbto"
      },
      "source": [
        "Как видим, у нас получился двумерный массив состоящий из 3х списков, в каждом из которых по 4 элемента."
      ]
    },
    {
      "cell_type": "markdown",
      "metadata": {
        "id": "tb_56--lGbto"
      },
      "source": [
        "Создадим трехмерный массив по аналогии с двумерным. Размеры (2, 3, 4)"
      ]
    },
    {
      "cell_type": "code",
      "execution_count": 73,
      "metadata": {
        "id": "j-KOCP9ZGbto",
        "colab": {
          "base_uri": "https://localhost:8080/"
        },
        "outputId": "ccf56885-fb0c-4183-9261-d6a86363fb5b"
      },
      "outputs": [
        {
          "output_type": "execute_result",
          "data": {
            "text/plain": [
              "array([[[0, 1, 2, 3],\n",
              "        [1, 2, 3, 4],\n",
              "        [2, 3, 4, 5]],\n",
              "\n",
              "       [[9, 8, 7, 6],\n",
              "        [8, 7, 6, 5],\n",
              "        [7, 6, 5, 4]]])"
            ]
          },
          "metadata": {},
          "execution_count": 73
        }
      ],
      "source": [
        "list_1_1 = [0, 1, 2, 3]\n",
        "list_2_1 = [1, 2, 3, 4]\n",
        "list_3_1 = [2, 3, 4, 5]\n",
        "\n",
        "list_1_2 = [9, 8, 7, 6]\n",
        "list_2_2 = [8, 7, 6, 5]\n",
        "list_3_2 = [7, 6, 5, 4]\n",
        "\n",
        "list_of_lists_1 = [list_1_1, list_2_1, list_3_1]\n",
        "list_of_lists_2 = [list_1_2, list_2_2, list_3_2]\n",
        "\n",
        "list_of_lists_of_lists = [list_of_lists_1, list_of_lists_2]\n",
        "array_3d = np.array(list_of_lists_of_lists)\n",
        "array_3d"
      ]
    },
    {
      "cell_type": "markdown",
      "metadata": {
        "id": "gsokmpdHGbtp"
      },
      "source": [
        "Проверка результата:"
      ]
    },
    {
      "cell_type": "code",
      "execution_count": 74,
      "metadata": {
        "id": "s87BKU9oGbtp"
      },
      "outputs": [],
      "source": [
        "assert array_3d.shape == (2, 3, 4), 'Something is wrong. Try again'"
      ]
    },
    {
      "cell_type": "markdown",
      "metadata": {
        "id": "bUgQ7tWuGbtp"
      },
      "source": [
        "Многомерный массив часто называют тензором, что, конечно, смешно, но да лан."
      ]
    },
    {
      "cell_type": "markdown",
      "metadata": {
        "id": "driG855LGbtq"
      },
      "source": [
        "Как и с обычными числами, с векторами можно производить арифметические операции.\n",
        "Выведем по очереди результат сложения матрицы `a` с объектами `b_1`, `b_2`, `b_3`."
      ]
    },
    {
      "cell_type": "code",
      "execution_count": 75,
      "metadata": {
        "id": "Re0MZwoPGbtq",
        "colab": {
          "base_uri": "https://localhost:8080/"
        },
        "outputId": "e086eebd-e20d-414d-cf7a-0b55aedcd767"
      },
      "outputs": [
        {
          "output_type": "stream",
          "name": "stdout",
          "text": [
            "[[2 4]\n",
            " [6 8]]\n",
            "\n",
            "[[2 4]\n",
            " [4 6]]\n",
            "\n",
            "[[2 3]\n",
            " [4 5]]\n"
          ]
        }
      ],
      "source": [
        "a = np.array([[1, 2],\n",
        "              [3, 4]])\n",
        "b_1 = np.array([[1, 2],\n",
        "                [3, 4]])\n",
        "b_2 = np.array([1, 2])\n",
        "b_3 = 1\n",
        "\n",
        "print(a+b_1,a+b_2,a+b_3, sep='\\n\\n')"
      ]
    },
    {
      "cell_type": "markdown",
      "metadata": {
        "id": "03DEi1QLGbtq"
      },
      "source": [
        "Применим операцию `np.sum` к матрице `a` так, чтобы получить сумму всех элементов - `10`, сумму в столбцах - `[4, 6]` и сумму в строках - `[3, 7]`."
      ]
    },
    {
      "cell_type": "code",
      "execution_count": 76,
      "metadata": {
        "id": "BuFFqaBLGbtr",
        "colab": {
          "base_uri": "https://localhost:8080/"
        },
        "outputId": "3a0906be-486c-449c-c452-86017d98fbe2"
      },
      "outputs": [
        {
          "output_type": "stream",
          "name": "stdout",
          "text": [
            "10\n",
            "По строкам:  [3 7]\n",
            "По столбцам:  [4 6]\n"
          ]
        }
      ],
      "source": [
        "print(np.sum(a))\n",
        "#print(\"По строкам: \",np.sum(a[0]), np.sum(a[1]))\n",
        "print(\"По строкам: \",np.sum(a,axis=1))\n",
        "print(\"По столбцам: \",np.sum(a,axis=0))"
      ]
    },
    {
      "cell_type": "markdown",
      "metadata": {
        "id": "becqlCBwGbtr"
      },
      "source": [
        "А теперь приведем матрицу `а` к размерности (2, 2, 1)"
      ]
    },
    {
      "cell_type": "code",
      "source": [
        "print(a.shape)\n",
        "#a.resize(2,2,1)\n",
        "a=a.reshape(2,2,1)\n",
        "print(a.shape)\n",
        "a"
      ],
      "metadata": {
        "id": "-AzdNkVGEfpn",
        "colab": {
          "base_uri": "https://localhost:8080/"
        },
        "outputId": "4590437c-6bd3-4c02-c0b9-da6f529d419a"
      },
      "execution_count": 77,
      "outputs": [
        {
          "output_type": "stream",
          "name": "stdout",
          "text": [
            "(2, 2)\n",
            "(2, 2, 1)\n"
          ]
        },
        {
          "output_type": "execute_result",
          "data": {
            "text/plain": [
              "array([[[1],\n",
              "        [2]],\n",
              "\n",
              "       [[3],\n",
              "        [4]]])"
            ]
          },
          "metadata": {},
          "execution_count": 77
        }
      ]
    },
    {
      "cell_type": "markdown",
      "metadata": {
        "id": "XSo_aT-QGbtr"
      },
      "source": [
        "Проверка результата:"
      ]
    },
    {
      "cell_type": "code",
      "execution_count": 78,
      "metadata": {
        "id": "CmPvwsg0Gbts"
      },
      "outputs": [],
      "source": [
        "assert a.shape == (2, 2, 1), 'Something is wrong. Try again'"
      ]
    },
    {
      "cell_type": "markdown",
      "metadata": {
        "id": "GO9FAAm3Gbts"
      },
      "source": [
        "Теперь приведем матрицу `a` обратно к размерности (2, 2)"
      ]
    },
    {
      "cell_type": "code",
      "execution_count": 79,
      "metadata": {
        "id": "iiG76yqUGbts",
        "colab": {
          "base_uri": "https://localhost:8080/"
        },
        "outputId": "dc4520c6-838a-4d6d-bc4e-d4b72fe865dd"
      },
      "outputs": [
        {
          "output_type": "stream",
          "name": "stdout",
          "text": [
            "(2, 2, 1)\n",
            "(2, 2)\n"
          ]
        },
        {
          "output_type": "execute_result",
          "data": {
            "text/plain": [
              "array([[1, 2],\n",
              "       [3, 4]])"
            ]
          },
          "metadata": {},
          "execution_count": 79
        }
      ],
      "source": [
        "print(a.shape)\n",
        "a=a.reshape(2,2)\n",
        "print(a.shape) \n",
        "a\n"
      ]
    },
    {
      "cell_type": "markdown",
      "metadata": {
        "id": "1ZbCLfyEGbts"
      },
      "source": [
        "Проверка результата:"
      ]
    },
    {
      "cell_type": "code",
      "execution_count": 80,
      "metadata": {
        "id": "ktMlC8U0Gbts"
      },
      "outputs": [],
      "source": [
        "assert a.shape == (2, 2), 'Something is wrong. Try again'"
      ]
    },
    {
      "cell_type": "markdown",
      "metadata": {
        "id": "i9tfJxr7Gbts"
      },
      "source": [
        "Приведем матрицу `а` к размерности (4)"
      ]
    },
    {
      "cell_type": "code",
      "execution_count": 81,
      "metadata": {
        "id": "xR4oTnqPGbtt",
        "colab": {
          "base_uri": "https://localhost:8080/"
        },
        "outputId": "13ded1c6-8d7e-4999-bdd6-c761d35534c2"
      },
      "outputs": [
        {
          "output_type": "stream",
          "name": "stdout",
          "text": [
            "(2, 2)\n",
            "(4,)\n"
          ]
        },
        {
          "output_type": "execute_result",
          "data": {
            "text/plain": [
              "array([1, 2, 3, 4])"
            ]
          },
          "metadata": {},
          "execution_count": 81
        }
      ],
      "source": [
        "print(a.shape)\n",
        "a=a.reshape(4)\n",
        "print(a.shape) \n",
        "a"
      ]
    },
    {
      "cell_type": "markdown",
      "metadata": {
        "id": "Q6sjTHx6Gbtt"
      },
      "source": [
        "Проверка результата:"
      ]
    },
    {
      "cell_type": "code",
      "execution_count": 82,
      "metadata": {
        "id": "4vNbeI8CGbtt"
      },
      "outputs": [],
      "source": [
        "assert a.shape == (4,), 'Something is wrong. Try again'"
      ]
    },
    {
      "cell_type": "markdown",
      "metadata": {
        "id": "ccwOlQrkGbtt"
      },
      "source": [
        "# Задание 2. Загрузка данных и работа с ними\n",
        "\n",
        "Разобрались со списками, массивами и тензорами, теперь попробуем поработать с уже созданными данными."
      ]
    },
    {
      "cell_type": "markdown",
      "metadata": {
        "id": "dDJzfKHrGbtu"
      },
      "source": [
        "Загрузим классический [Iris Data Set](https://archive.ics.uci.edu/ml/datasets/iris)\n",
        "\n",
        "Удобный способ сделать это использовать модуль [sklearn.datasets](https://scikit-learn.org/stable/modules/generated/sklearn.datasets.load_iris.html#sklearn.datasets.load_iris)"
      ]
    },
    {
      "cell_type": "code",
      "execution_count": 83,
      "metadata": {
        "id": "vnudK8DZGbtu"
      },
      "outputs": [],
      "source": [
        "from sklearn.datasets import load_iris\n",
        "\n",
        "# Download dataset\n",
        "data, labels = load_iris(return_X_y=True)"
      ]
    },
    {
      "cell_type": "markdown",
      "metadata": {
        "id": "Y0Ed8_73Gbtu"
      },
      "source": [
        "И `data`, и `labels` - это N-мерные массивы. Посмотрим, какие у них размеры:"
      ]
    },
    {
      "cell_type": "code",
      "execution_count": 84,
      "metadata": {
        "id": "-N5yRtqKGbtu",
        "colab": {
          "base_uri": "https://localhost:8080/"
        },
        "outputId": "1c9e4eca-7116-4d61-bee0-053f4f1fa35c"
      },
      "outputs": [
        {
          "output_type": "stream",
          "name": "stdout",
          "text": [
            "<class 'numpy.ndarray'> <class 'numpy.ndarray'>\n",
            "(150, 4) (150,)\n"
          ]
        }
      ],
      "source": [
        "print(type(data),type(labels))\n",
        "print(data.shape, labels.shape)"
      ]
    },
    {
      "cell_type": "markdown",
      "metadata": {
        "id": "-vzhK9vUGbtu"
      },
      "source": [
        "Видим, что массив `data` состоит из нескольких колонок -- это и есть наши фичи. Набор данных по ирисам содержит четыре характеристики (длина чашелистиков, ширина чашелистиков, длина лепестков, ширина лепестков) и 50 образцов трех видов ирисов (setosa, virginica и  versicolor). Вид ирисов отражен в массиве `labels`. \n",
        "\n",
        "Отфильтруем массив `data` таким образом, чтобы он содержал в себе только ирисы из класса `0`. Для этого будем юзать конструкцию `labels == class` в качестве индекса для `data`"
      ]
    },
    {
      "cell_type": "code",
      "execution_count": 85,
      "metadata": {
        "id": "ZjdimQ-gGbtv",
        "colab": {
          "base_uri": "https://localhost:8080/"
        },
        "outputId": "f1e670f3-25ca-4870-b973-3477b2f86f07"
      },
      "outputs": [
        {
          "output_type": "execute_result",
          "data": {
            "text/plain": [
              "array([[5.1, 3.5, 1.4, 0.2],\n",
              "       [4.9, 3. , 1.4, 0.2],\n",
              "       [4.7, 3.2, 1.3, 0.2],\n",
              "       [4.6, 3.1, 1.5, 0.2],\n",
              "       [5. , 3.6, 1.4, 0.2],\n",
              "       [5.4, 3.9, 1.7, 0.4],\n",
              "       [4.6, 3.4, 1.4, 0.3],\n",
              "       [5. , 3.4, 1.5, 0.2],\n",
              "       [4.4, 2.9, 1.4, 0.2],\n",
              "       [4.9, 3.1, 1.5, 0.1],\n",
              "       [5.4, 3.7, 1.5, 0.2],\n",
              "       [4.8, 3.4, 1.6, 0.2],\n",
              "       [4.8, 3. , 1.4, 0.1],\n",
              "       [4.3, 3. , 1.1, 0.1],\n",
              "       [5.8, 4. , 1.2, 0.2],\n",
              "       [5.7, 4.4, 1.5, 0.4],\n",
              "       [5.4, 3.9, 1.3, 0.4],\n",
              "       [5.1, 3.5, 1.4, 0.3],\n",
              "       [5.7, 3.8, 1.7, 0.3],\n",
              "       [5.1, 3.8, 1.5, 0.3],\n",
              "       [5.4, 3.4, 1.7, 0.2],\n",
              "       [5.1, 3.7, 1.5, 0.4],\n",
              "       [4.6, 3.6, 1. , 0.2],\n",
              "       [5.1, 3.3, 1.7, 0.5],\n",
              "       [4.8, 3.4, 1.9, 0.2],\n",
              "       [5. , 3. , 1.6, 0.2],\n",
              "       [5. , 3.4, 1.6, 0.4],\n",
              "       [5.2, 3.5, 1.5, 0.2],\n",
              "       [5.2, 3.4, 1.4, 0.2],\n",
              "       [4.7, 3.2, 1.6, 0.2],\n",
              "       [4.8, 3.1, 1.6, 0.2],\n",
              "       [5.4, 3.4, 1.5, 0.4],\n",
              "       [5.2, 4.1, 1.5, 0.1],\n",
              "       [5.5, 4.2, 1.4, 0.2],\n",
              "       [4.9, 3.1, 1.5, 0.2],\n",
              "       [5. , 3.2, 1.2, 0.2],\n",
              "       [5.5, 3.5, 1.3, 0.2],\n",
              "       [4.9, 3.6, 1.4, 0.1],\n",
              "       [4.4, 3. , 1.3, 0.2],\n",
              "       [5.1, 3.4, 1.5, 0.2],\n",
              "       [5. , 3.5, 1.3, 0.3],\n",
              "       [4.5, 2.3, 1.3, 0.3],\n",
              "       [4.4, 3.2, 1.3, 0.2],\n",
              "       [5. , 3.5, 1.6, 0.6],\n",
              "       [5.1, 3.8, 1.9, 0.4],\n",
              "       [4.8, 3. , 1.4, 0.3],\n",
              "       [5.1, 3.8, 1.6, 0.2],\n",
              "       [4.6, 3.2, 1.4, 0.2],\n",
              "       [5.3, 3.7, 1.5, 0.2],\n",
              "       [5. , 3.3, 1.4, 0.2]])"
            ]
          },
          "metadata": {},
          "execution_count": 85
        }
      ],
      "source": [
        "data[labels==0]"
      ]
    },
    {
      "cell_type": "markdown",
      "metadata": {
        "id": "BELGPXqnGbtv"
      },
      "source": [
        "К сожалению, когда данных много, просто смотреть на цифры крайне не информативно. \n",
        "\n",
        "Для визуализации данных будем использовать библиотеку `matplotlib`."
      ]
    },
    {
      "cell_type": "code",
      "execution_count": 86,
      "metadata": {
        "id": "tF7LlVBWGbtv"
      },
      "outputs": [],
      "source": [
        "import matplotlib.pyplot as plt"
      ]
    },
    {
      "cell_type": "markdown",
      "metadata": {
        "id": "LR7OZzKnGbtv"
      },
      "source": [
        "Теперь хочу построить на одном рисунке график признака с индексом 0 (sepal length in cm) для каждого из 3 классов (3 графика на одном рисунке). Для построения графика буду использовать функцию `plt.plot()`. Для того, чтобы получить доступ ко всем объектам в позиции 0 буду использовать index notation `[:, 0]`."
      ]
    },
    {
      "cell_type": "code",
      "execution_count": 87,
      "metadata": {
        "id": "4K8gA0g3Gbtv",
        "colab": {
          "base_uri": "https://localhost:8080/",
          "height": 265
        },
        "outputId": "1a9ce723-6a07-4800-fa51-4c80573f76b5"
      },
      "outputs": [
        {
          "output_type": "display_data",
          "data": {
            "text/plain": [
              "<Figure size 432x288 with 1 Axes>"
            ],
            "image/png": "[encoded data removed]"
          },
          "metadata": {
            "needs_background": "light"
          }
        }
      ],
      "source": [
        "for i in range(3): \n",
        "    plt.plot(range(50), data[labels==i][:,0])\n"
      ]
    },
    {
      "cell_type": "markdown",
      "metadata": {
        "id": "waqv7E0RGbtw"
      },
      "source": [
        "В `matplotlib` есть понятие `subplots`. Давайте создадим 3 `subplots` для наших классов"
      ]
    },
    {
      "cell_type": "markdown",
      "metadata": {
        "id": "hPSUn-tvGbtw"
      },
      "source": [
        " Если мы посмотрим на `ax.shape`, мы обнаружим что это просто массив, который содержит в себе графические объекты. Соответственно, к каждому из этих `subplots` мы можем обращаться по индексу"
      ]
    },
    {
      "cell_type": "markdown",
      "metadata": {
        "id": "-aQLTPF_Gbtw"
      },
      "source": [
        "Для каждого класса построим зависимость ширины от длины чашелистиков. \n",
        "\n",
        "Буду использовать `ax.scatter()`"
      ]
    },
    {
      "cell_type": "code",
      "execution_count": 88,
      "metadata": {
        "id": "1PmEZqYEGbtx",
        "colab": {
          "base_uri": "https://localhost:8080/",
          "height": 322
        },
        "outputId": "d72011d4-8dc2-4b69-a36a-28cc83939e7a"
      },
      "outputs": [
        {
          "output_type": "display_data",
          "data": {
            "text/plain": [
              "<Figure size 1080x360 with 3 Axes>"
            ],
            "image/png": "[encoded data removed]"
          },
          "metadata": {
            "needs_background": "light"
          }
        }
      ],
      "source": [
        "fig, ax = plt.subplots(ncols=3, figsize=(15, 5), sharex=True, sharey=True)\n",
        "ax[0].scatter(data[labels==0][:,0], data[labels==0][:,1])\n",
        "ax[1].scatter(data[labels==1][:,0], data[labels==1][:,1])\n",
        "ax[2].scatter(data[labels==2][:,0], data[labels==2][:,1]) \n",
        "plt.show()"
      ]
    },
    {
      "cell_type": "markdown",
      "metadata": {
        "id": "oKWxqhgqGbtx"
      },
      "source": [
        "Визуализируем данные из iris dataset при помощи UMAP."
      ]
    },
    {
      "cell_type": "markdown",
      "metadata": {
        "id": "Qi31woTTGbtx"
      },
      "source": [
        "Каждый объект в датасете Iris содержит 4 признака и  него можно было посмотреть как на точку в 4-мерном пространстве. Про различные методы понижения размерности пространства признаков еще будут отдельные задания, а пока посмотрим, как один таких методов — [UMAP](https://umap-learn.readthedocs.io/en/latest/index.html) — можно использовать для получения двумерной аппроксимации пространства признаков датасета Iris:"
      ]
    },
    {
      "cell_type": "code",
      "execution_count": 89,
      "metadata": {
        "id": "6A1HDD7wGbty"
      },
      "outputs": [],
      "source": [
        "! pip install umap-learn[plot]\n",
        "from IPython.display import clear_output\n",
        "clear_output()"
      ]
    },
    {
      "cell_type": "code",
      "execution_count": 90,
      "metadata": {
        "id": "QE4vz9AaGbty"
      },
      "outputs": [],
      "source": [
        "import umap\n",
        "import umap.plot\n",
        "import pandas as pd"
      ]
    },
    {
      "cell_type": "markdown",
      "metadata": {
        "id": "P7oSkdh3Gbty"
      },
      "source": [
        "Рассмотрим двумерную проекцию данных при помощи UMAP:"
      ]
    },
    {
      "cell_type": "code",
      "execution_count": 91,
      "metadata": {
        "id": "7ODQZGZPGbty",
        "colab": {
          "base_uri": "https://localhost:8080/",
          "height": 817
        },
        "outputId": "43b20649-dd89-4aad-d7f2-76c5602fe91e"
      },
      "outputs": [
        {
          "output_type": "display_data",
          "data": {
            "application/javascript": [
              "\n",
              "(function(root) {\n",
              "  function now() {\n",
              "    return new Date();\n",
              "  }\n",
              "\n",
              "  var force = true;\n",
              "\n",
              "  if (typeof root._bokeh_onload_callbacks === \"undefined\" || force === true) {\n",
              "    root._bokeh_onload_callbacks = [];\n",
              "    root._bokeh_is_loading = undefined;\n",
              "  }\n",
              "\n",
              "  var JS_MIME_TYPE = 'application/javascript';\n",
              "  var HTML_MIME_TYPE = 'text/html';\n",
              "  var EXEC_MIME_TYPE = 'application/vnd.bokehjs_exec.v0+json';\n",
              "  var CLASS_NAME = 'output_bokeh rendered_html';\n",
              "\n",
              "  /**\n",
              "   * Render data to the DOM node\n",
              "   */\n",
              "  function render(props, node) {\n",
              "    var script = document.createElement(\"script\");\n",
              "    node.appendChild(script);\n",
              "  }\n",
              "\n",
              "  /**\n",
              "   * Handle when an output is cleared or removed\n",
              "   */\n",
              "  function handleClearOutput(event, handle) {\n",
              "    var cell = handle.cell;\n",
              "\n",
              "    var id = cell.output_area._bokeh_element_id;\n",
              "    var server_id = cell.output_area._bokeh_server_id;\n",
              "    // Clean up Bokeh references\n",
              "    if (id != null && id in Bokeh.index) {\n",
              "      Bokeh.index[id].model.document.clear();\n",
              "      delete Bokeh.index[id];\n",
              "    }\n",
              "\n",
              "    if (server_id !== undefined) {\n",
              "      // Clean up Bokeh references\n",
              "      var cmd = \"from bokeh.io.state import curstate; print(curstate().uuid_to_server['\" + server_id + \"'].get_sessions()[0].document.roots[0]._id)\";\n",
              "      cell.notebook.kernel.execute(cmd, {\n",
              "        iopub: {\n",
              "          output: function(msg) {\n",
              "            var id = msg.content.text.trim();\n",
              "            if (id in Bokeh.index) {\n",
              "              Bokeh.index[id].model.document.clear();\n",
              "              delete Bokeh.index[id];\n",
              "            }\n",
              "          }\n",
              "        }\n",
              "      });\n",
              "      // Destroy server and session\n",
              "      var cmd = \"import bokeh.io.notebook as ion; ion.destroy_server('\" + server_id + \"')\";\n",
              "      cell.notebook.kernel.execute(cmd);\n",
              "    }\n",
              "  }\n",
              "\n",
              "  /**\n",
              "   * Handle when a new output is added\n",
              "   */\n",
              "  function handleAddOutput(event, handle) {\n",
              "    var output_area = handle.output_area;\n",
              "    var output = handle.output;\n",
              "\n",
              "    // limit handleAddOutput to display_data with EXEC_MIME_TYPE content only\n",
              "    if ((output.output_type != \"display_data\") || (!Object.prototype.hasOwnProperty.call(output.data, EXEC_MIME_TYPE))) {\n",
              "      return\n",
              "    }\n",
              "\n",
              "    var toinsert = output_area.element.find(\".\" + CLASS_NAME.split(' ')[0]);\n",
              "\n",
              "    if (output.metadata[EXEC_MIME_TYPE][\"id\"] !== undefined) {\n",
              "      toinsert[toinsert.length - 1].firstChild.textContent = output.data[JS_MIME_TYPE];\n",
              "      // store reference to embed id on output_area\n",
              "      output_area._bokeh_element_id = output.metadata[EXEC_MIME_TYPE][\"id\"];\n",
              "    }\n",
              "    if (output.metadata[EXEC_MIME_TYPE][\"server_id\"] !== undefined) {\n",
              "      var bk_div = document.createElement(\"div\");\n",
              "      bk_div.innerHTML = output.data[HTML_MIME_TYPE];\n",
              "      var script_attrs = bk_div.children[0].attributes;\n",
              "      for (var i = 0; i < script_attrs.length; i++) {\n",
              "        toinsert[toinsert.length - 1].firstChild.setAttribute(script_attrs[i].name, script_attrs[i].value);\n",
              "        toinsert[toinsert.length - 1].firstChild.textContent = bk_div.children[0].textContent\n",
              "      }\n",
              "      // store reference to server id on output_area\n",
              "      output_area._bokeh_server_id = output.metadata[EXEC_MIME_TYPE][\"server_id\"];\n",
              "    }\n",
              "  }\n",
              "\n",
              "  function register_renderer(events, OutputArea) {\n",
              "\n",
              "    function append_mime(data, metadata, element) {\n",
              "      // create a DOM node to render to\n",
              "      var toinsert = this.create_output_subarea(\n",
              "        metadata,\n",
              "        CLASS_NAME,\n",
              "        EXEC_MIME_TYPE\n",
              "      );\n",
              "      this.keyboard_manager.register_events(toinsert);\n",
              "      // Render to node\n",
              "      var props = {data: data, metadata: metadata[EXEC_MIME_TYPE]};\n",
              "      render(props, toinsert[toinsert.length - 1]);\n",
              "      element.append(toinsert);\n",
              "      return toinsert\n",
              "    }\n",
              "\n",
              "    /* Handle when an output is cleared or removed */\n",
              "    events.on('clear_output.CodeCell', handleClearOutput);\n",
              "    events.on('delete.Cell', handleClearOutput);\n",
              "\n",
              "    /* Handle when a new output is added */\n",
              "    events.on('output_added.OutputArea', handleAddOutput);\n",
              "\n",
              "    /**\n",
              "     * Register the mime type and append_mime function with output_area\n",
              "     */\n",
              "    OutputArea.prototype.register_mime_type(EXEC_MIME_TYPE, append_mime, {\n",
              "      /* Is output safe? */\n",
              "      safe: true,\n",
              "      /* Index of renderer in `output_area.display_order` */\n",
              "      index: 0\n",
              "    });\n",
              "  }\n",
              "\n",
              "  // register the mime type if in Jupyter Notebook environment and previously unregistered\n",
              "  if (root.Jupyter !== undefined) {\n",
              "    var events = require('base/js/events');\n",
              "    var OutputArea = require('notebook/js/outputarea').OutputArea;\n",
              "\n",
              "    if (OutputArea.prototype.mime_types().indexOf(EXEC_MIME_TYPE) == -1) {\n",
              "      register_renderer(events, OutputArea);\n",
              "    }\n",
              "  }\n",
              "\n",
              "  \n",
              "  if (typeof (root._bokeh_timeout) === \"undefined\" || force === true) {\n",
              "    root._bokeh_timeout = Date.now() + 5000;\n",
              "    root._bokeh_failed_load = false;\n",
              "  }\n",
              "\n",
              "  var NB_LOAD_WARNING = {'data': {'text/html':\n",
              "     \"<div style='background-color: #fdd'>\\n\"+\n",
              "     \"<p>\\n\"+\n",
              "     \"BokehJS does not appear to have successfully loaded. If loading BokehJS from CDN, this \\n\"+\n",
              "     \"may be due to a slow or bad network connection. Possible fixes:\\n\"+\n",
              "     \"</p>\\n\"+\n",
              "     \"<ul>\\n\"+\n",
              "     \"<li>re-rerun `output_notebook()` to attempt to load from CDN again, or</li>\\n\"+\n",
              "     \"<li>use INLINE resources instead, as so:</li>\\n\"+\n",
              "     \"</ul>\\n\"+\n",
              "     \"<code>\\n\"+\n",
              "     \"from bokeh.resources import INLINE\\n\"+\n",
              "     \"output_notebook(resources=INLINE)\\n\"+\n",
              "     \"</code>\\n\"+\n",
              "     \"</div>\"}};\n",
              "\n",
              "  function display_loaded() {\n",
              "    var el = document.getElementById(null);\n",
              "    if (el != null) {\n",
              "      el.textContent = \"BokehJS is loading...\";\n",
              "    }\n",
              "    if (root.Bokeh !== undefined) {\n",
              "      if (el != null) {\n",
              "        el.textContent = \"BokehJS \" + root.Bokeh.version + \" successfully loaded.\";\n",
              "      }\n",
              "    } else if (Date.now() < root._bokeh_timeout) {\n",
              "      setTimeout(display_loaded, 100)\n",
              "    }\n",
              "  }\n",
              "\n",
              "\n",
              "  function run_callbacks() {\n",
              "    try {\n",
              "      root._bokeh_onload_callbacks.forEach(function(callback) {\n",
              "        if (callback != null)\n",
              "          callback();\n",
              "      });\n",
              "    } finally {\n",
              "      delete root._bokeh_onload_callbacks\n",
              "    }\n",
              "    console.debug(\"Bokeh: all callbacks have finished\");\n",
              "  }\n",
              "\n",
              "  function load_libs(css_urls, js_urls, callback) {\n",
              "    if (css_urls == null) css_urls = [];\n",
              "    if (js_urls == null) js_urls = [];\n",
              "\n",
              "    root._bokeh_onload_callbacks.push(callback);\n",
              "    if (root._bokeh_is_loading > 0) {\n",
              "      console.debug(\"Bokeh: BokehJS is being loaded, scheduling callback at\", now());\n",
              "      return null;\n",
              "    }\n",
              "    if (js_urls == null || js_urls.length === 0) {\n",
              "      run_callbacks();\n",
              "      return null;\n",
              "    }\n",
              "    console.debug(\"Bokeh: BokehJS not loaded, scheduling load and callback at\", now());\n",
              "    root._bokeh_is_loading = css_urls.length + js_urls.length;\n",
              "\n",
              "    function on_load() {\n",
              "      root._bokeh_is_loading--;\n",
              "      if (root._bokeh_is_loading === 0) {\n",
              "        console.debug(\"Bokeh: all BokehJS libraries/stylesheets loaded\");\n",
              "        run_callbacks()\n",
              "      }\n",
              "    }\n",
              "\n",
              "    function on_error(url) {\n",
              "      console.error(\"failed to load \" + url);\n",
              "    }\n",
              "\n",
              "    for (let i = 0; i < css_urls.length; i++) {\n",
              "      const url = css_urls[i];\n",
              "      const element = document.createElement(\"link\");\n",
              "      element.onload = on_load;\n",
              "      element.onerror = on_error.bind(null, url);\n",
              "      element.rel = \"stylesheet\";\n",
              "      element.type = \"text/css\";\n",
              "      element.href = url;\n",
              "      console.debug(\"Bokeh: injecting link tag for BokehJS stylesheet: \", url);\n",
              "      document.body.appendChild(element);\n",
              "    }\n",
              "\n",
              "    const hashes = {\"https://cdn.bokeh.org/bokeh/release/bokeh-2.3.3.min.js\": \"dM3QQsP+wXdHg42wTqW85BjZQdLNNIXqlPw/BgKoExPmTG7ZLML4EGqLMfqHT6ON\", \"https://cdn.bokeh.org/bokeh/release/bokeh-tables-2.3.3.min.js\": \"8x57I4YuIfu8XyZfFo0XVr2WAT8EK4rh/uDe3wF7YuW2FNUSNEpJbsPaB1nJ2fz2\", \"https://cdn.bokeh.org/bokeh/release/bokeh-widgets-2.3.3.min.js\": \"3QTqdz9LyAm2i0sG5XTePsHec3UHWwVsrOL68SYRoAXsafvfAyqtQ+h440+qIBhS\"};\n",
              "\n",
              "    for (let i = 0; i < js_urls.length; i++) {\n",
              "      const url = js_urls[i];\n",
              "      const element = document.createElement('script');\n",
              "      element.onload = on_load;\n",
              "      element.onerror = on_error.bind(null, url);\n",
              "      element.async = false;\n",
              "      element.src = url;\n",
              "      if (url in hashes) {\n",
              "        element.crossOrigin = \"anonymous\";\n",
              "        element.integrity = \"sha384-\" + hashes[url];\n",
              "      }\n",
              "      console.debug(\"Bokeh: injecting script tag for BokehJS library: \", url);\n",
              "      document.head.appendChild(element);\n",
              "    }\n",
              "  };\n",
              "\n",
              "  function inject_raw_css(css) {\n",
              "    const element = document.createElement(\"style\");\n",
              "    element.appendChild(document.createTextNode(css));\n",
              "    document.body.appendChild(element);\n",
              "  }\n",
              "\n",
              "  \n",
              "  var js_urls = [\"https://cdn.bokeh.org/bokeh/release/bokeh-2.3.3.min.js\", \"https://cdn.bokeh.org/bokeh/release/bokeh-widgets-2.3.3.min.js\", \"https://cdn.bokeh.org/bokeh/release/bokeh-tables-2.3.3.min.js\", \"https://unpkg.com/@holoviz/panel@0.12.1/dist/panel.min.js\"];\n",
              "  var css_urls = [];\n",
              "  \n",
              "\n",
              "  var inline_js = [\n",
              "    function(Bokeh) {\n",
              "      Bokeh.set_log_level(\"info\");\n",
              "    },\n",
              "    function(Bokeh) {\n",
              "    \n",
              "    \n",
              "    }\n",
              "  ];\n",
              "\n",
              "  function run_inline_js() {\n",
              "    \n",
              "    if (root.Bokeh !== undefined || force === true) {\n",
              "      \n",
              "    for (var i = 0; i < inline_js.length; i++) {\n",
              "      inline_js[i].call(root, root.Bokeh);\n",
              "    }\n",
              "    } else if (Date.now() < root._bokeh_timeout) {\n",
              "      setTimeout(run_inline_js, 100);\n",
              "    } else if (!root._bokeh_failed_load) {\n",
              "      console.log(\"Bokeh: BokehJS failed to load within specified timeout.\");\n",
              "      root._bokeh_failed_load = true;\n",
              "    } else if (force !== true) {\n",
              "      var cell = $(document.getElementById(null)).parents('.cell').data().cell;\n",
              "      cell.output_area.append_execute_result(NB_LOAD_WARNING)\n",
              "    }\n",
              "\n",
              "  }\n",
              "\n",
              "  if (root._bokeh_is_loading === 0) {\n",
              "    console.debug(\"Bokeh: BokehJS loaded, going straight to plotting\");\n",
              "    run_inline_js();\n",
              "  } else {\n",
              "    load_libs(css_urls, js_urls, function() {\n",
              "      console.debug(\"Bokeh: BokehJS plotting callback run at\", now());\n",
              "      run_inline_js();\n",
              "    });\n",
              "  }\n",
              "}(window));"
            ],
            "application/vnd.bokehjs_load.v0+json": "\n(function(root) {\n  function now() {\n    return new Date();\n  }\n\n  var force = true;\n\n  if (typeof root._bokeh_onload_callbacks === \"undefined\" || force === true) {\n    root._bokeh_onload_callbacks = [];\n    root._bokeh_is_loading = undefined;\n  }\n\n  \n\n  \n  if (typeof (root._bokeh_timeout) === \"undefined\" || force === true) {\n    root._bokeh_timeout = Date.now() + 5000;\n    root._bokeh_failed_load = false;\n  }\n\n  var NB_LOAD_WARNING = {'data': {'text/html':\n     \"<div style='background-color: #fdd'>\\n\"+\n     \"<p>\\n\"+\n     \"BokehJS does not appear to have successfully loaded. If loading BokehJS from CDN, this \\n\"+\n     \"may be due to a slow or bad network connection. Possible fixes:\\n\"+\n     \"</p>\\n\"+\n     \"<ul>\\n\"+\n     \"<li>re-rerun `output_notebook()` to attempt to load from CDN again, or</li>\\n\"+\n     \"<li>use INLINE resources instead, as so:</li>\\n\"+\n     \"</ul>\\n\"+\n     \"<code>\\n\"+\n     \"from bokeh.resources import INLINE\\n\"+\n     \"output_notebook(resources=INLINE)\\n\"+\n     \"</code>\\n\"+\n     \"</div>\"}};\n\n  function display_loaded() {\n    var el = document.getElementById(null);\n    if (el != null) {\n      el.textContent = \"BokehJS is loading...\";\n    }\n    if (root.Bokeh !== undefined) {\n      if (el != null) {\n        el.textContent = \"BokehJS \" + root.Bokeh.version + \" successfully loaded.\";\n      }\n    } else if (Date.now() < root._bokeh_timeout) {\n      setTimeout(display_loaded, 100)\n    }\n  }\n\n\n  function run_callbacks() {\n    try {\n      root._bokeh_onload_callbacks.forEach(function(callback) {\n        if (callback != null)\n          callback();\n      });\n    } finally {\n      delete root._bokeh_onload_callbacks\n    }\n    console.debug(\"Bokeh: all callbacks have finished\");\n  }\n\n  function load_libs(css_urls, js_urls, callback) {\n    if (css_urls == null) css_urls = [];\n    if (js_urls == null) js_urls = [];\n\n    root._bokeh_onload_callbacks.push(callback);\n    if (root._bokeh_is_loading > 0) {\n      console.debug(\"Bokeh: BokehJS is being loaded, scheduling callback at\", now());\n      return null;\n    }\n    if (js_urls == null || js_urls.length === 0) {\n      run_callbacks();\n      return null;\n    }\n    console.debug(\"Bokeh: BokehJS not loaded, scheduling load and callback at\", now());\n    root._bokeh_is_loading = css_urls.length + js_urls.length;\n\n    function on_load() {\n      root._bokeh_is_loading--;\n      if (root._bokeh_is_loading === 0) {\n        console.debug(\"Bokeh: all BokehJS libraries/stylesheets loaded\");\n        run_callbacks()\n      }\n    }\n\n    function on_error(url) {\n      console.error(\"failed to load \" + url);\n    }\n\n    for (let i = 0; i < css_urls.length; i++) {\n      const url = css_urls[i];\n      const element = document.createElement(\"link\");\n      element.onload = on_load;\n      element.onerror = on_error.bind(null, url);\n      element.rel = \"stylesheet\";\n      element.type = \"text/css\";\n      element.href = url;\n      console.debug(\"Bokeh: injecting link tag for BokehJS stylesheet: \", url);\n      document.body.appendChild(element);\n    }\n\n    const hashes = {\"https://cdn.bokeh.org/bokeh/release/bokeh-2.3.3.min.js\": \"dM3QQsP+wXdHg42wTqW85BjZQdLNNIXqlPw/BgKoExPmTG7ZLML4EGqLMfqHT6ON\", \"https://cdn.bokeh.org/bokeh/release/bokeh-tables-2.3.3.min.js\": \"8x57I4YuIfu8XyZfFo0XVr2WAT8EK4rh/uDe3wF7YuW2FNUSNEpJbsPaB1nJ2fz2\", \"https://cdn.bokeh.org/bokeh/release/bokeh-widgets-2.3.3.min.js\": \"3QTqdz9LyAm2i0sG5XTePsHec3UHWwVsrOL68SYRoAXsafvfAyqtQ+h440+qIBhS\"};\n\n    for (let i = 0; i < js_urls.length; i++) {\n      const url = js_urls[i];\n      const element = document.createElement('script');\n      element.onload = on_load;\n      element.onerror = on_error.bind(null, url);\n      element.async = false;\n      element.src = url;\n      if (url in hashes) {\n        element.crossOrigin = \"anonymous\";\n        element.integrity = \"sha384-\" + hashes[url];\n      }\n      console.debug(\"Bokeh: injecting script tag for BokehJS library: \", url);\n      document.head.appendChild(element);\n    }\n  };\n\n  function inject_raw_css(css) {\n    const element = document.createElement(\"style\");\n    element.appendChild(document.createTextNode(css));\n    document.body.appendChild(element);\n  }\n\n  \n  var js_urls = [\"https://cdn.bokeh.org/bokeh/release/bokeh-2.3.3.min.js\", \"https://cdn.bokeh.org/bokeh/release/bokeh-widgets-2.3.3.min.js\", \"https://cdn.bokeh.org/bokeh/release/bokeh-tables-2.3.3.min.js\", \"https://unpkg.com/@holoviz/panel@0.12.1/dist/panel.min.js\"];\n  var css_urls = [];\n  \n\n  var inline_js = [\n    function(Bokeh) {\n      Bokeh.set_log_level(\"info\");\n    },\n    function(Bokeh) {\n    \n    \n    }\n  ];\n\n  function run_inline_js() {\n    \n    if (root.Bokeh !== undefined || force === true) {\n      \n    for (var i = 0; i < inline_js.length; i++) {\n      inline_js[i].call(root, root.Bokeh);\n    }\n    } else if (Date.now() < root._bokeh_timeout) {\n      setTimeout(run_inline_js, 100);\n    } else if (!root._bokeh_failed_load) {\n      console.log(\"Bokeh: BokehJS failed to load within specified timeout.\");\n      root._bokeh_failed_load = true;\n    } else if (force !== true) {\n      var cell = $(document.getElementById(null)).parents('.cell').data().cell;\n      cell.output_area.append_execute_result(NB_LOAD_WARNING)\n    }\n\n  }\n\n  if (root._bokeh_is_loading === 0) {\n    console.debug(\"Bokeh: BokehJS loaded, going straight to plotting\");\n    run_inline_js();\n  } else {\n    load_libs(css_urls, js_urls, function() {\n      console.debug(\"Bokeh: BokehJS plotting callback run at\", now());\n      run_inline_js();\n    });\n  }\n}(window));"
          },
          "metadata": {}
        },
        {
          "output_type": "display_data",
          "data": {
            "text/html": [
              "\n",
              "\n",
              "\n",
              "\n",
              "\n",
              "\n",
              "  <div class=\"bk-root\" id=\"26e09066-5487-415a-a059-40b49c9d3b4a\" data-root-id=\"1108\"></div>\n"
            ]
          },
          "metadata": {}
        },
        {
          "output_type": "display_data",
          "data": {
            "application/javascript": [
              "(function(root) {\n",
              "  function embed_document(root) {\n",
              "    \n",
              "  var docs_json = {\"10f94563-d329-4a15-a139-d0ec8b5990df\":{\"defs\":[{\"extends\":null,\"module\":null,\"name\":\"ReactiveHTML1\",\"overrides\":[],\"properties\":[]},{\"extends\":null,\"module\":null,\"name\":\"FlexBox1\",\"overrides\":[],\"properties\":[{\"default\":\"flex-start\",\"kind\":null,\"name\":\"align_content\"},{\"default\":\"flex-start\",\"kind\":null,\"name\":\"align_items\"},{\"default\":\"row\",\"kind\":null,\"name\":\"flex_direction\"},{\"default\":\"wrap\",\"kind\":null,\"name\":\"flex_wrap\"},{\"default\":\"flex-start\",\"kind\":null,\"name\":\"justify_content\"}]},{\"extends\":null,\"module\":null,\"name\":\"TemplateActions1\",\"overrides\":[],\"properties\":[{\"default\":0,\"kind\":null,\"name\":\"open_modal\"},{\"default\":0,\"kind\":null,\"name\":\"close_modal\"}]},{\"extends\":null,\"module\":null,\"name\":\"MaterialTemplateActions1\",\"overrides\":[],\"properties\":[{\"default\":0,\"kind\":null,\"name\":\"open_modal\"},{\"default\":0,\"kind\":null,\"name\":\"close_modal\"}]}],\"roots\":{\"references\":[{\"attributes\":{\"background_fill_color\":\"white\",\"below\":[{\"id\":\"1117\"}],\"center\":[{\"id\":\"1120\"},{\"id\":\"1124\"}],\"height\":800,\"left\":[{\"id\":\"1121\"}],\"renderers\":[{\"id\":\"1144\"}],\"title\":{\"id\":\"1157\"},\"toolbar\":{\"id\":\"1133\"},\"width\":800,\"x_range\":{\"id\":\"1109\"},\"x_scale\":{\"id\":\"1113\"},\"y_range\":{\"id\":\"1111\"},\"y_scale\":{\"id\":\"1115\"}},\"id\":\"1108\",\"subtype\":\"Figure\",\"type\":\"Plot\"},{\"attributes\":{\"fill_alpha\":{\"value\":0.1},\"fill_color\":{\"field\":\"color\"},\"line_alpha\":{\"value\":0.1},\"line_color\":{\"field\":\"color\"},\"size\":{\"value\":10},\"x\":{\"field\":\"x\"},\"y\":{\"field\":\"y\"}},\"id\":\"1143\",\"type\":\"Circle\"},{\"attributes\":{},\"id\":\"1167\",\"type\":\"UnionRenderers\"},{\"attributes\":{\"data\":{\"alpha\":[1,1,1,1,1,1,1,1,1,1,1,1,1,1,1,1,1,1,1,1,1,1,1,1,1,1,1,1,1,1,1,1,1,1,1,1,1,1,1,1,1,1,1,1,1,1,1,1,1,1,1,1,1,1,1,1,1,1,1,1,1,1,1,1,1,1,1,1,1,1,1,1,1,1,1,1,1,1,1,1,1,1,1,1,1,1,1,1,1,1,1,1,1,1,1,1,1,1,1,1,1,1,1,1,1,1,1,1,1,1,1,1,1,1,1,1,1,1,1,1,1,1,1,1,1,1,1,1,1,1,1,1,1,1,1,1,1,1,1,1,1,1,1,1,1,1,1,1,1,1],\"color\":[\"#393b79\",\"#393b79\",\"#393b79\",\"#393b79\",\"#393b79\",\"#393b79\",\"#393b79\",\"#393b79\",\"#393b79\",\"#393b79\",\"#393b79\",\"#393b79\",\"#393b79\",\"#393b79\",\"#393b79\",\"#393b79\",\"#393b79\",\"#393b79\",\"#393b79\",\"#393b79\",\"#393b79\",\"#393b79\",\"#393b79\",\"#393b79\",\"#393b79\",\"#393b79\",\"#393b79\",\"#393b79\",\"#393b79\",\"#393b79\",\"#393b79\",\"#393b79\",\"#393b79\",\"#393b79\",\"#393b79\",\"#393b79\",\"#393b79\",\"#393b79\",\"#393b79\",\"#393b79\",\"#393b79\",\"#393b79\",\"#393b79\",\"#393b79\",\"#393b79\",\"#393b79\",\"#393b79\",\"#393b79\",\"#393b79\",\"#393b79\",\"#e7ba52\",\"#e7ba52\",\"#e7ba52\",\"#e7ba52\",\"#e7ba52\",\"#e7ba52\",\"#e7ba52\",\"#e7ba52\",\"#e7ba52\",\"#e7ba52\",\"#e7ba52\",\"#e7ba52\",\"#e7ba52\",\"#e7ba52\",\"#e7ba52\",\"#e7ba52\",\"#e7ba52\",\"#e7ba52\",\"#e7ba52\",\"#e7ba52\",\"#e7ba52\",\"#e7ba52\",\"#e7ba52\",\"#e7ba52\",\"#e7ba52\",\"#e7ba52\",\"#e7ba52\",\"#e7ba52\",\"#e7ba52\",\"#e7ba52\",\"#e7ba52\",\"#e7ba52\",\"#e7ba52\",\"#e7ba52\",\"#e7ba52\",\"#e7ba52\",\"#e7ba52\",\"#e7ba52\",\"#e7ba52\",\"#e7ba52\",\"#e7ba52\",\"#e7ba52\",\"#e7ba52\",\"#e7ba52\",\"#e7ba52\",\"#e7ba52\",\"#e7ba52\",\"#e7ba52\",\"#e7ba52\",\"#e7ba52\",\"#de9ed6\",\"#de9ed6\",\"#de9ed6\",\"#de9ed6\",\"#de9ed6\",\"#de9ed6\",\"#de9ed6\",\"#de9ed6\",\"#de9ed6\",\"#de9ed6\",\"#de9ed6\",\"#de9ed6\",\"#de9ed6\",\"#de9ed6\",\"#de9ed6\",\"#de9ed6\",\"#de9ed6\",\"#de9ed6\",\"#de9ed6\",\"#de9ed6\",\"#de9ed6\",\"#de9ed6\",\"#de9ed6\",\"#de9ed6\",\"#de9ed6\",\"#de9ed6\",\"#de9ed6\",\"#de9ed6\",\"#de9ed6\",\"#de9ed6\",\"#de9ed6\",\"#de9ed6\",\"#de9ed6\",\"#de9ed6\",\"#de9ed6\",\"#de9ed6\",\"#de9ed6\",\"#de9ed6\",\"#de9ed6\",\"#de9ed6\",\"#de9ed6\",\"#de9ed6\",\"#de9ed6\",\"#de9ed6\",\"#de9ed6\",\"#de9ed6\",\"#de9ed6\",\"#de9ed6\",\"#de9ed6\",\"#de9ed6\"],\"index\":[0,1,2,3,4,5,6,7,8,9,10,11,12,13,14,15,16,17,18,19,20,21,22,23,24,25,26,27,28,29,30,31,32,33,34,35,36,37,38,39,40,41,42,43,44,45,46,47,48,49,50,51,52,53,54,55,56,57,58,59,60,61,62,63,64,65,66,67,68,69,70,71,72,73,74,75,76,77,78,79,80,81,82,83,84,85,86,87,88,89,90,91,92,93,94,95,96,97,98,99,100,101,102,103,104,105,106,107,108,109,110,111,112,113,114,115,116,117,118,119,120,121,122,123,124,125,126,127,128,129,130,131,132,133,134,135,136,137,138,139,140,141,142,143,144,145,146,147,148,149],\"item\":[\"Setosa\",\"Setosa\",\"Setosa\",\"Setosa\",\"Setosa\",\"Setosa\",\"Setosa\",\"Setosa\",\"Setosa\",\"Setosa\",\"Setosa\",\"Setosa\",\"Setosa\",\"Setosa\",\"Setosa\",\"Setosa\",\"Setosa\",\"Setosa\",\"Setosa\",\"Setosa\",\"Setosa\",\"Setosa\",\"Setosa\",\"Setosa\",\"Setosa\",\"Setosa\",\"Setosa\",\"Setosa\",\"Setosa\",\"Setosa\",\"Setosa\",\"Setosa\",\"Setosa\",\"Setosa\",\"Setosa\",\"Setosa\",\"Setosa\",\"Setosa\",\"Setosa\",\"Setosa\",\"Setosa\",\"Setosa\",\"Setosa\",\"Setosa\",\"Setosa\",\"Setosa\",\"Setosa\",\"Setosa\",\"Setosa\",\"Setosa\",\"Versicolor\",\"Versicolor\",\"Versicolor\",\"Versicolor\",\"Versicolor\",\"Versicolor\",\"Versicolor\",\"Versicolor\",\"Versicolor\",\"Versicolor\",\"Versicolor\",\"Versicolor\",\"Versicolor\",\"Versicolor\",\"Versicolor\",\"Versicolor\",\"Versicolor\",\"Versicolor\",\"Versicolor\",\"Versicolor\",\"Versicolor\",\"Versicolor\",\"Versicolor\",\"Versicolor\",\"Versicolor\",\"Versicolor\",\"Versicolor\",\"Versicolor\",\"Versicolor\",\"Versicolor\",\"Versicolor\",\"Versicolor\",\"Versicolor\",\"Versicolor\",\"Versicolor\",\"Versicolor\",\"Versicolor\",\"Versicolor\",\"Versicolor\",\"Versicolor\",\"Versicolor\",\"Versicolor\",\"Versicolor\",\"Versicolor\",\"Versicolor\",\"Versicolor\",\"Versicolor\",\"Versicolor\",\"Versicolor\",\"Versicolor\",\"Virginica\",\"Virginica\",\"Virginica\",\"Virginica\",\"Virginica\",\"Virginica\",\"Virginica\",\"Virginica\",\"Virginica\",\"Virginica\",\"Virginica\",\"Virginica\",\"Virginica\",\"Virginica\",\"Virginica\",\"Virginica\",\"Virginica\",\"Virginica\",\"Virginica\",\"Virginica\",\"Virginica\",\"Virginica\",\"Virginica\",\"Virginica\",\"Virginica\",\"Virginica\",\"Virginica\",\"Virginica\",\"Virginica\",\"Virginica\",\"Virginica\",\"Virginica\",\"Virginica\",\"Virginica\",\"Virginica\",\"Virginica\",\"Virginica\",\"Virginica\",\"Virginica\",\"Virginica\",\"Virginica\",\"Virginica\",\"Virginica\",\"Virginica\",\"Virginica\",\"Virginica\",\"Virginica\",\"Virginica\",\"Virginica\",\"Virginica\"],\"label\":[0,0,0,0,0,0,0,0,0,0,0,0,0,0,0,0,0,0,0,0,0,0,0,0,0,0,0,0,0,0,0,0,0,0,0,0,0,0,0,0,0,0,0,0,0,0,0,0,0,0,1,1,1,1,1,1,1,1,1,1,1,1,1,1,1,1,1,1,1,1,1,1,1,1,1,1,1,1,1,1,1,1,1,1,1,1,1,1,1,1,1,1,1,1,1,1,1,1,1,1,2,2,2,2,2,2,2,2,2,2,2,2,2,2,2,2,2,2,2,2,2,2,2,2,2,2,2,2,2,2,2,2,2,2,2,2,2,2,2,2,2,2,2,2,2,2,2,2,2,2],\"level_0\":[0,1,2,3,4,5,6,7,8,9,10,11,12,13,14,15,16,17,18,19,20,21,22,23,24,25,26,27,28,29,30,31,32,33,34,35,36,37,38,39,40,41,42,43,44,45,46,47,48,49,50,51,52,53,54,55,56,57,58,59,60,61,62,63,64,65,66,67,68,69,70,71,72,73,74,75,76,77,78,79,80,81,82,83,84,85,86,87,88,89,90,91,92,93,94,95,96,97,98,99,100,101,102,103,104,105,106,107,108,109,110,111,112,113,114,115,116,117,118,119,120,121,122,123,124,125,126,127,128,129,130,131,132,133,134,135,136,137,138,139,140,141,142,143,144,145,146,147,148,149],\"petal length in cm\":{\"__ndarray__\":\"ZmZmZmZm9j9mZmZmZmb2P83MzMzMzPQ/AAAAAAAA+D9mZmZmZmb2PzMzMzMzM/s/ZmZmZmZm9j8AAAAAAAD4P2ZmZmZmZvY/AAAAAAAA+D8AAAAAAAD4P5qZmZmZmfk/ZmZmZmZm9j+amZmZmZnxPzMzMzMzM/M/AAAAAAAA+D/NzMzMzMz0P2ZmZmZmZvY/MzMzMzMz+z8AAAAAAAD4PzMzMzMzM/s/AAAAAAAA+D8AAAAAAADwPzMzMzMzM/s/ZmZmZmZm/j+amZmZmZn5P5qZmZmZmfk/AAAAAAAA+D9mZmZmZmb2P5qZmZmZmfk/mpmZmZmZ+T8AAAAAAAD4PwAAAAAAAPg/ZmZmZmZm9j8AAAAAAAD4PzMzMzMzM/M/zczMzMzM9D9mZmZmZmb2P83MzMzMzPQ/AAAAAAAA+D/NzMzMzMz0P83MzMzMzPQ/zczMzMzM9D+amZmZmZn5P2ZmZmZmZv4/ZmZmZmZm9j+amZmZmZn5P2ZmZmZmZvY/AAAAAAAA+D9mZmZmZmb2P83MzMzMzBJAAAAAAAAAEkCamZmZmZkTQAAAAAAAABBAZmZmZmZmEkAAAAAAAAASQM3MzMzMzBJAZmZmZmZmCkBmZmZmZmYSQDMzMzMzMw9AAAAAAAAADEDNzMzMzMwQQAAAAAAAABBAzczMzMzMEkDNzMzMzMwMQJqZmZmZmRFAAAAAAAAAEkBmZmZmZmYQQAAAAAAAABJAMzMzMzMzD0AzMzMzMzMTQAAAAAAAABBAmpmZmZmZE0DNzMzMzMwSQDMzMzMzMxFAmpmZmZmZEUAzMzMzMzMTQAAAAAAAABRAAAAAAAAAEkAAAAAAAAAMQGZmZmZmZg5AmpmZmZmZDUAzMzMzMzMPQGZmZmZmZhRAAAAAAAAAEkAAAAAAAAASQM3MzMzMzBJAmpmZmZmZEUBmZmZmZmYQQAAAAAAAABBAmpmZmZmZEUBmZmZmZmYSQAAAAAAAABBAZmZmZmZmCkDNzMzMzMwQQM3MzMzMzBBAzczMzMzMEEAzMzMzMzMRQAAAAAAAAAhAZmZmZmZmEEAAAAAAAAAYQGZmZmZmZhRAmpmZmZmZF0BmZmZmZmYWQDMzMzMzMxdAZmZmZmZmGkAAAAAAAAASQDMzMzMzMxlAMzMzMzMzF0BmZmZmZmYYQGZmZmZmZhRAMzMzMzMzFUAAAAAAAAAWQAAAAAAAABRAZmZmZmZmFEAzMzMzMzMVQAAAAAAAABZAzczMzMzMGkCamZmZmZkbQAAAAAAAABRAzczMzMzMFkCamZmZmZkTQM3MzMzMzBpAmpmZmZmZE0DNzMzMzMwWQAAAAAAAABhAMzMzMzMzE0CamZmZmZkTQGZmZmZmZhZAMzMzMzMzF0BmZmZmZmYYQJqZmZmZmRlAZmZmZmZmFkBmZmZmZmYUQGZmZmZmZhZAZmZmZmZmGEBmZmZmZmYWQAAAAAAAABZAMzMzMzMzE0CamZmZmZkVQGZmZmZmZhZAZmZmZmZmFEBmZmZmZmYUQJqZmZmZmRdAzczMzMzMFkDNzMzMzMwUQAAAAAAAABRAzczMzMzMFECamZmZmZkVQGZmZmZmZhRA\",\"dtype\":\"float64\",\"order\":\"little\",\"shape\":[150]},\"petal width in cm\":{\"__ndarray__\":\"mpmZmZmZyT+amZmZmZnJP5qZmZmZmck/mpmZmZmZyT+amZmZmZnJP5qZmZmZmdk/MzMzMzMz0z+amZmZmZnJP5qZmZmZmck/mpmZmZmZuT+amZmZmZnJP5qZmZmZmck/mpmZmZmZuT+amZmZmZm5P5qZmZmZmck/mpmZmZmZ2T+amZmZmZnZPzMzMzMzM9M/MzMzMzMz0z8zMzMzMzPTP5qZmZmZmck/mpmZmZmZ2T+amZmZmZnJPwAAAAAAAOA/mpmZmZmZyT+amZmZmZnJP5qZmZmZmdk/mpmZmZmZyT+amZmZmZnJP5qZmZmZmck/mpmZmZmZyT+amZmZmZnZP5qZmZmZmbk/mpmZmZmZyT+amZmZmZnJP5qZmZmZmck/mpmZmZmZyT+amZmZmZm5P5qZmZmZmck/mpmZmZmZyT8zMzMzMzPTPzMzMzMzM9M/mpmZmZmZyT8zMzMzMzPjP5qZmZmZmdk/MzMzMzMz0z+amZmZmZnJP5qZmZmZmck/mpmZmZmZyT+amZmZmZnJP2ZmZmZmZvY/AAAAAAAA+D8AAAAAAAD4P83MzMzMzPQ/AAAAAAAA+D/NzMzMzMz0P5qZmZmZmfk/AAAAAAAA8D/NzMzMzMz0P2ZmZmZmZvY/AAAAAAAA8D8AAAAAAAD4PwAAAAAAAPA/ZmZmZmZm9j/NzMzMzMz0P2ZmZmZmZvY/AAAAAAAA+D8AAAAAAADwPwAAAAAAAPg/mpmZmZmZ8T/NzMzMzMz8P83MzMzMzPQ/AAAAAAAA+D8zMzMzMzPzP83MzMzMzPQ/ZmZmZmZm9j9mZmZmZmb2PzMzMzMzM/s/AAAAAAAA+D8AAAAAAADwP5qZmZmZmfE/AAAAAAAA8D8zMzMzMzPzP5qZmZmZmfk/AAAAAAAA+D+amZmZmZn5PwAAAAAAAPg/zczMzMzM9D/NzMzMzMz0P83MzMzMzPQ/MzMzMzMz8z9mZmZmZmb2PzMzMzMzM/M/AAAAAAAA8D/NzMzMzMz0PzMzMzMzM/M/zczMzMzM9D/NzMzMzMz0P5qZmZmZmfE/zczMzMzM9D8AAAAAAAAEQGZmZmZmZv4/zczMzMzMAEDNzMzMzMz8P5qZmZmZmQFAzczMzMzMAEAzMzMzMzP7P83MzMzMzPw/zczMzMzM/D8AAAAAAAAEQAAAAAAAAABAZmZmZmZm/j/NzMzMzMwAQAAAAAAAAABAMzMzMzMzA0BmZmZmZmYCQM3MzMzMzPw/mpmZmZmZAUBmZmZmZmYCQAAAAAAAAPg/ZmZmZmZmAkAAAAAAAAAAQAAAAAAAAABAzczMzMzM/D/NzMzMzMwAQM3MzMzMzPw/zczMzMzM/D/NzMzMzMz8P83MzMzMzABAmpmZmZmZ+T9mZmZmZmb+PwAAAAAAAABAmpmZmZmZAUAAAAAAAAD4P2ZmZmZmZvY/ZmZmZmZmAkAzMzMzMzMDQM3MzMzMzPw/zczMzMzM/D/NzMzMzMwAQDMzMzMzMwNAZmZmZmZmAkBmZmZmZmb+P2ZmZmZmZgJAAAAAAAAABEBmZmZmZmYCQGZmZmZmZv4/AAAAAAAAAEBmZmZmZmYCQM3MzMzMzPw/\",\"dtype\":\"float64\",\"order\":\"little\",\"shape\":[150]},\"sepal length in cm\":{\"__ndarray__\":\"ZmZmZmZmFECamZmZmZkTQM3MzMzMzBJAZmZmZmZmEkAAAAAAAAAUQJqZmZmZmRVAZmZmZmZmEkAAAAAAAAAUQJqZmZmZmRFAmpmZmZmZE0CamZmZmZkVQDMzMzMzMxNAMzMzMzMzE0AzMzMzMzMRQDMzMzMzMxdAzczMzMzMFkCamZmZmZkVQGZmZmZmZhRAzczMzMzMFkBmZmZmZmYUQJqZmZmZmRVAZmZmZmZmFEBmZmZmZmYSQGZmZmZmZhRAMzMzMzMzE0AAAAAAAAAUQAAAAAAAABRAzczMzMzMFEDNzMzMzMwUQM3MzMzMzBJAMzMzMzMzE0CamZmZmZkVQM3MzMzMzBRAAAAAAAAAFkCamZmZmZkTQAAAAAAAABRAAAAAAAAAFkCamZmZmZkTQJqZmZmZmRFAZmZmZmZmFEAAAAAAAAAUQAAAAAAAABJAmpmZmZmZEUAAAAAAAAAUQGZmZmZmZhRAMzMzMzMzE0BmZmZmZmYUQGZmZmZmZhJAMzMzMzMzFUAAAAAAAAAUQAAAAAAAABxAmpmZmZmZGUCamZmZmZkbQAAAAAAAABZAAAAAAAAAGkDNzMzMzMwWQDMzMzMzMxlAmpmZmZmZE0BmZmZmZmYaQM3MzMzMzBRAAAAAAAAAFECamZmZmZkXQAAAAAAAABhAZmZmZmZmGEBmZmZmZmYWQM3MzMzMzBpAZmZmZmZmFkAzMzMzMzMXQM3MzMzMzBhAZmZmZmZmFkCamZmZmZkXQGZmZmZmZhhAMzMzMzMzGUBmZmZmZmYYQJqZmZmZmRlAZmZmZmZmGkAzMzMzMzMbQM3MzMzMzBpAAAAAAAAAGEDNzMzMzMwWQAAAAAAAABZAAAAAAAAAFkAzMzMzMzMXQAAAAAAAABhAmpmZmZmZFUAAAAAAAAAYQM3MzMzMzBpAMzMzMzMzGUBmZmZmZmYWQAAAAAAAABZAAAAAAAAAFkBmZmZmZmYYQDMzMzMzMxdAAAAAAAAAFEBmZmZmZmYWQM3MzMzMzBZAzczMzMzMFkDNzMzMzMwYQGZmZmZmZhRAzczMzMzMFkAzMzMzMzMZQDMzMzMzMxdAZmZmZmZmHEAzMzMzMzMZQAAAAAAAABpAZmZmZmZmHkCamZmZmZkTQDMzMzMzMx1AzczMzMzMGkDNzMzMzMwcQAAAAAAAABpAmpmZmZmZGUAzMzMzMzMbQM3MzMzMzBZAMzMzMzMzF0CamZmZmZkZQAAAAAAAABpAzczMzMzMHkDNzMzMzMweQAAAAAAAABhAmpmZmZmZG0BmZmZmZmYWQM3MzMzMzB5AMzMzMzMzGUDNzMzMzMwaQM3MzMzMzBxAzczMzMzMGEBmZmZmZmYYQJqZmZmZmRlAzczMzMzMHECamZmZmZkdQJqZmZmZmR9AmpmZmZmZGUAzMzMzMzMZQGZmZmZmZhhAzczMzMzMHkAzMzMzMzMZQJqZmZmZmRlAAAAAAAAAGECamZmZmZkbQM3MzMzMzBpAmpmZmZmZG0AzMzMzMzMXQDMzMzMzMxtAzczMzMzMGkDNzMzMzMwaQDMzMzMzMxlAAAAAAAAAGkDNzMzMzMwYQJqZmZmZmRdA\",\"dtype\":\"float64\",\"order\":\"little\",\"shape\":[150]},\"sepal width in cm\":{\"__ndarray__\":\"AAAAAAAADEAAAAAAAAAIQJqZmZmZmQlAzczMzMzMCEDNzMzMzMwMQDMzMzMzMw9AMzMzMzMzC0AzMzMzMzMLQDMzMzMzMwdAzczMzMzMCECamZmZmZkNQDMzMzMzMwtAAAAAAAAACEAAAAAAAAAIQAAAAAAAABBAmpmZmZmZEUAzMzMzMzMPQAAAAAAAAAxAZmZmZmZmDkBmZmZmZmYOQDMzMzMzMwtAmpmZmZmZDUDNzMzMzMwMQGZmZmZmZgpAMzMzMzMzC0AAAAAAAAAIQDMzMzMzMwtAAAAAAAAADEAzMzMzMzMLQJqZmZmZmQlAzczMzMzMCEAzMzMzMzMLQGZmZmZmZhBAzczMzMzMEEDNzMzMzMwIQJqZmZmZmQlAAAAAAAAADEDNzMzMzMwMQAAAAAAAAAhAMzMzMzMzC0AAAAAAAAAMQGZmZmZmZgJAmpmZmZmZCUAAAAAAAAAMQGZmZmZmZg5AAAAAAAAACEBmZmZmZmYOQJqZmZmZmQlAmpmZmZmZDUBmZmZmZmYKQJqZmZmZmQlAmpmZmZmZCUDNzMzMzMwIQGZmZmZmZgJAZmZmZmZmBkBmZmZmZmYGQGZmZmZmZgpAMzMzMzMzA0AzMzMzMzMHQJqZmZmZmQVAAAAAAAAAAEAAAAAAAAAIQJqZmZmZmQFAMzMzMzMzB0AzMzMzMzMHQM3MzMzMzAhAAAAAAAAACECamZmZmZkFQJqZmZmZmQFAAAAAAAAABECamZmZmZkJQGZmZmZmZgZAAAAAAAAABEBmZmZmZmYGQDMzMzMzMwdAAAAAAAAACEBmZmZmZmYGQAAAAAAAAAhAMzMzMzMzB0DNzMzMzMwEQDMzMzMzMwNAMzMzMzMzA0CamZmZmZkFQJqZmZmZmQVAAAAAAAAACEAzMzMzMzMLQM3MzMzMzAhAZmZmZmZmAkAAAAAAAAAIQAAAAAAAAARAzczMzMzMBEAAAAAAAAAIQM3MzMzMzARAZmZmZmZmAkCamZmZmZkFQAAAAAAAAAhAMzMzMzMzB0AzMzMzMzMHQAAAAAAAAARAZmZmZmZmBkBmZmZmZmYKQJqZmZmZmQVAAAAAAAAACEAzMzMzMzMHQAAAAAAAAAhAAAAAAAAACEAAAAAAAAAEQDMzMzMzMwdAAAAAAAAABEDNzMzMzMwMQJqZmZmZmQlAmpmZmZmZBUAAAAAAAAAIQAAAAAAAAARAZmZmZmZmBkCamZmZmZkJQAAAAAAAAAhAZmZmZmZmDkDNzMzMzMwEQJqZmZmZmQFAmpmZmZmZCUBmZmZmZmYGQGZmZmZmZgZAmpmZmZmZBUBmZmZmZmYKQJqZmZmZmQlAZmZmZmZmBkAAAAAAAAAIQGZmZmZmZgZAAAAAAAAACEBmZmZmZmYGQGZmZmZmZg5AZmZmZmZmBkBmZmZmZmYGQM3MzMzMzARAAAAAAAAACEAzMzMzMzMLQM3MzMzMzAhAAAAAAAAACEDNzMzMzMwIQM3MzMzMzAhAzczMzMzMCECamZmZmZkFQJqZmZmZmQlAZmZmZmZmCkAAAAAAAAAIQAAAAAAAAARAAAAAAAAACEAzMzMzMzMLQAAAAAAAAAhA\",\"dtype\":\"float64\",\"order\":\"little\",\"shape\":[150]},\"x\":{\"__ndarray__\":\"+KeJQQC1gUEx/IVBgN6CQT39iEEh0pNBmP6HQVHDh0EC/oNB77KDQXLkkEFu5IZB4MSDQW/WhEEiDZZBFQeWQVILlUEZeItBl+OTQT9tkkHv1IxBDjqPQedZiEG5xopBH1yHQdzxg0HYwYlB8EuKQYKeiUFfI4NB6SiDQTjdjEHIpZRBFxeXQcXGgkGBGoVBzHSOQbpxiUFbNoRBWQyIQTGGh0GYoYNBPvqGQcpRi0GoApJBPc+CQTKEkkE6moVBSsWQQc5PhkHp1D3AQAETwNe/QcBWMvk+gmwewO87K7/1vhHAIkWQP8wcKcAbX7k+f3CMPwfEYr8EPpU+uBv5v08SuD7G5CXAe7wlvzjE37xqozbAh2EBPzB0IcBio8G+WcxkwMeRAcBDLAbACvQawLXQOsC+o1LAW1fKvx7rPj88mh8/EYVFPzP72T1r2l/AFVMGv2C5+L98CzPAQJcWwL2l7b7Sv8Q+7HFHvsrm5L+YvRw+aOeEP7wgbL1ytxa/C+cbv2QHz7+dKns/ZNt2vh6e4sAbM0bA4fb6wPlHwMA+jd3AQPsHwT7BPTz+2wTB3rLLwO5++sAREs/A92zAwI734cAlPE7AZo5OwOGk1MAj/8bAssYGwVr5CcHBS1zAzMbxwKljQcDcSQbBXiBYwNoj68DX3f7Am6ZEwA0wMMBRzsnAiQ0BwVMzA8HvvAXBBzHSwDdHbMAuU4XAhfwEwZdD3cD/+MTAnbEowHMp5cBBAenAQPPcwEZUTcDNwPHAX2LtwIvt2cB/dGfATEHLwO8Q2MCmaTXA\",\"dtype\":\"float32\",\"order\":\"little\",\"shape\":[150]},\"y\":{\"__ndarray__\":\"SERWQaAebkEHw3dB6Xh1QQyfVkF/yEhBBxB2QVQSX0F8fnxBE31vQSsHS0EFbWZBpA10QaiPfUHm5U1Bj1RLQf2tTkGZc1VBxORJQRfDUUEDYE1B54pUQVWedkHYF11BrRJlQUu4bkF1bl5BrjtRQYfvUEG623RBn1dwQeCTTUF9sU5BgaFLQWGkbkFELGdBDiBMQchpV0Flkn1BQ5VYQdNlWkHu+npBznJ6QVAXW0F0RVNBehlyQSrNUUHPmHZBrJRMQU5ZYUGNzABAFHXHP6Zb9D+dD9M/zvzeP+yL/T8Wlpg/uXnSPxFU8z/B0d4/dpbWP4f8zj/jnYo/7Qy6PwQrrj9Kau0/6SPxPwA0qT8igoI/3+irP6Ch4T4vMpw/jsdgP81pyT9MLvU/01P8P81g8j/NVuE/waC2P9SQvz/p2rQ/S6+2P5PjoD/LXNw+khLvP00Kmj+ZKvU/IZSbPxWjxT9jdcI/4SP0P3LSvz8cdZs/ZhbLPyZU0T8agc0/DafgP9vm6z9or+Y/awTFPwmB675CwQY9Z54+v4aqzj0N6sO+fCRZvxpCAUB2hjy/cRyZvsxS177rMOs+dzwAPryarz3I6Ae9gMWyveCqJD5XGOK9EflOvwacib9iIPk+KOpRvmfKmr2+8mW/ZtNLP8RPtb6tLVq/st4kP8aV6j6PSpG8518+vyQJVr84e1y/moPGPdDmPz+6nqM+wKhyv4uic7674ww9t38KP7YJhT54Js69GbSQPqw8/T23caS+nupQvm44dD65UyU/nvfVPvmH6r0lG5Y+\",\"dtype\":\"float32\",\"order\":\"little\",\"shape\":[150]}},\"selected\":{\"id\":\"1166\"},\"selection_policy\":{\"id\":\"1167\"}},\"id\":\"1107\",\"type\":\"ColumnDataSource\"},{\"attributes\":{},\"id\":\"1125\",\"type\":\"PanTool\"},{\"attributes\":{\"formatter\":{\"id\":\"1163\"},\"major_label_policy\":{\"id\":\"1164\"},\"ticker\":{\"id\":\"1122\"},\"visible\":false},\"id\":\"1121\",\"type\":\"LinearAxis\"},{\"attributes\":{\"data_source\":{\"id\":\"1107\"},\"glyph\":{\"id\":\"1142\"},\"hover_glyph\":null,\"muted_glyph\":null,\"nonselection_glyph\":{\"id\":\"1143\"},\"view\":{\"id\":\"1145\"}},\"id\":\"1144\",\"type\":\"GlyphRenderer\"},{\"attributes\":{},\"id\":\"1164\",\"type\":\"AllLabels\"},{\"attributes\":{\"axis\":{\"id\":\"1121\"},\"dimension\":1,\"ticker\":null,\"visible\":false},\"id\":\"1124\",\"type\":\"Grid\"},{\"attributes\":{},\"id\":\"1129\",\"type\":\"ResetTool\"},{\"attributes\":{},\"id\":\"1157\",\"type\":\"Title\"},{\"attributes\":{},\"id\":\"1163\",\"type\":\"BasicTickFormatter\"},{\"attributes\":{},\"id\":\"1166\",\"type\":\"Selection\"},{\"attributes\":{\"bottom_units\":\"screen\",\"fill_alpha\":0.5,\"fill_color\":\"lightgrey\",\"left_units\":\"screen\",\"level\":\"overlay\",\"line_alpha\":1.0,\"line_color\":\"black\",\"line_dash\":[4,4],\"line_width\":2,\"right_units\":\"screen\",\"syncable\":false,\"top_units\":\"screen\"},\"id\":\"1131\",\"type\":\"BoxAnnotation\"},{\"attributes\":{},\"id\":\"1111\",\"type\":\"DataRange1d\"},{\"attributes\":{},\"id\":\"1160\",\"type\":\"BasicTickFormatter\"},{\"attributes\":{},\"id\":\"1115\",\"type\":\"LinearScale\"},{\"attributes\":{\"axis\":{\"id\":\"1117\"},\"ticker\":null,\"visible\":false},\"id\":\"1120\",\"type\":\"Grid\"},{\"attributes\":{\"overlay\":{\"id\":\"1131\"}},\"id\":\"1127\",\"type\":\"BoxZoomTool\"},{\"attributes\":{},\"id\":\"1113\",\"type\":\"LinearScale\"},{\"attributes\":{},\"id\":\"1128\",\"type\":\"SaveTool\"},{\"attributes\":{},\"id\":\"1122\",\"type\":\"BasicTicker\"},{\"attributes\":{\"formatter\":{\"id\":\"1160\"},\"major_label_policy\":{\"id\":\"1161\"},\"ticker\":{\"id\":\"1118\"},\"visible\":false},\"id\":\"1117\",\"type\":\"LinearAxis\"},{\"attributes\":{},\"id\":\"1118\",\"type\":\"BasicTicker\"},{\"attributes\":{\"source\":{\"id\":\"1107\"}},\"id\":\"1145\",\"type\":\"CDSView\"},{\"attributes\":{\"fill_alpha\":{\"field\":\"alpha\"},\"fill_color\":{\"field\":\"color\"},\"line_alpha\":{\"field\":\"alpha\"},\"line_color\":{\"field\":\"color\"},\"size\":{\"value\":10},\"x\":{\"field\":\"x\"},\"y\":{\"field\":\"y\"}},\"id\":\"1142\",\"type\":\"Circle\"},{\"attributes\":{},\"id\":\"1130\",\"type\":\"HelpTool\"},{\"attributes\":{},\"id\":\"1109\",\"type\":\"DataRange1d\"},{\"attributes\":{\"active_multi\":null,\"tools\":[{\"id\":\"1125\"},{\"id\":\"1126\"},{\"id\":\"1127\"},{\"id\":\"1128\"},{\"id\":\"1129\"},{\"id\":\"1130\"},{\"id\":\"1132\"}]},\"id\":\"1133\",\"type\":\"Toolbar\"},{\"attributes\":{},\"id\":\"1161\",\"type\":\"AllLabels\"},{\"attributes\":{},\"id\":\"1126\",\"type\":\"WheelZoomTool\"},{\"attributes\":{\"callback\":null,\"tooltips\":[[\"index\",\"@{index}\"],[\"label\",\"@{label}\"],[\"sepal length in cm\",\"@{sepal length in cm}\"],[\"sepal width in cm\",\"@{sepal width in cm}\"],[\"petal length in cm\",\"@{petal length in cm}\"],[\"petal width in cm\",\"@{petal width in cm}\"],[\"item\",\"@{item}\"]]},\"id\":\"1132\",\"type\":\"HoverTool\"}],\"root_ids\":[\"1108\"]},\"title\":\"Bokeh Application\",\"version\":\"2.3.3\"}};\n",
              "  var render_items = [{\"docid\":\"10f94563-d329-4a15-a139-d0ec8b5990df\",\"root_ids\":[\"1108\"],\"roots\":{\"1108\":\"26e09066-5487-415a-a059-40b49c9d3b4a\"}}];\n",
              "  root.Bokeh.embed.embed_items_notebook(docs_json, render_items);\n",
              "\n",
              "  }\n",
              "  if (root.Bokeh !== undefined) {\n",
              "    embed_document(root);\n",
              "  } else {\n",
              "    var attempts = 0;\n",
              "    var timer = setInterval(function(root) {\n",
              "      if (root.Bokeh !== undefined) {\n",
              "        clearInterval(timer);\n",
              "        embed_document(root);\n",
              "      } else {\n",
              "        attempts++;\n",
              "        if (attempts > 100) {\n",
              "          clearInterval(timer);\n",
              "          console.log(\"Bokeh: ERROR: Unable to run BokehJS code because BokehJS library is missing\");\n",
              "        }\n",
              "      }\n",
              "    }, 10, root)\n",
              "  }\n",
              "})(window);"
            ],
            "application/vnd.bokehjs_exec.v0+json": ""
          },
          "metadata": {
            "application/vnd.bokehjs_exec.v0+json": {
              "id": "1108"
            }
          }
        }
      ],
      "source": [
        "mapper = umap.UMAP().fit(data)\n",
        "\n",
        "annotation_on_plot = pd.DataFrame({'index':np.arange(len(data)),\n",
        "                                   'label':labels,\n",
        "                                   'sepal length in cm':data[:, 0],\n",
        "                                   'sepal width in cm':data[:, 1],\n",
        "                                   'petal length in cm':data[:, 2],\n",
        "                                   'petal width in cm':data[:, 3]\n",
        "                                   })\n",
        "\n",
        "annotation_on_plot['item'] = annotation_on_plot.label.map(\n",
        "    {\n",
        "        0:'Setosa',\n",
        "        1:'Versicolor',\n",
        "        2:'Virginica'\n",
        "    }\n",
        ")\n",
        "\n",
        "umap.plot.output_notebook()\n",
        "p = umap.plot.interactive(mapper, labels=labels, point_size=10, \n",
        "                          hover_data=annotation_on_plot, theme='red')\n",
        "umap.plot.show(p)"
      ]
    },
    {
      "cell_type": "markdown",
      "metadata": {
        "id": "5DwtJholGbtz"
      },
      "source": [
        "# Задание 3. Алгоритм Nearest Neighbors.\n"
      ]
    },
    {
      "cell_type": "markdown",
      "metadata": {
        "id": "r6CqJ88qGbtz"
      },
      "source": [
        "\n",
        "Напишу свой алгоритм Nearest Neighbor (т.е. KNN при K=1).\n"
      ]
    },
    {
      "cell_type": "markdown",
      "metadata": {
        "id": "EsnoH35GGbtz"
      },
      "source": [
        "Разобьем наши данные на тренировочный и тестовый набор при помощи метода `train_test_split()`. Использую следующие аргументы `train_size=0.6`, `random_state=42`, `stratify=labels`."
      ]
    },
    {
      "cell_type": "code",
      "execution_count": 92,
      "metadata": {
        "id": "xPzoTxykGbt0",
        "colab": {
          "base_uri": "https://localhost:8080/"
        },
        "outputId": "81824eb8-1eb4-4438-a6e3-7a494867cb8f"
      },
      "outputs": [
        {
          "output_type": "stream",
          "name": "stdout",
          "text": [
            "x_train (90, 4)\n",
            "x_test (60, 4)\n"
          ]
        }
      ],
      "source": [
        "from sklearn.model_selection import train_test_split\n",
        "\n",
        "x_train, x_test, y_train, y_test = train_test_split(data, labels, train_size=0.6, random_state=42, stratify=labels)\n",
        "\n",
        "\n",
        "print(\"x_train\", x_train.shape)\n",
        "print(\"x_test\", x_test.shape)"
      ]
    },
    {
      "cell_type": "markdown",
      "metadata": {
        "id": "0dXfkHolGbt0"
      },
      "source": [
        "Пишу функцию, которая считает расстояние L1 между 2мя векторами:\n"
      ]
    },
    {
      "cell_type": "code",
      "execution_count": 93,
      "metadata": {
        "id": "tukniaBwGbt0"
      },
      "outputs": [],
      "source": [
        "def compute_L1(a, b):\n",
        "    return np.linalg.norm(a - b, ord=1)"
      ]
    },
    {
      "cell_type": "markdown",
      "metadata": {
        "id": "lXwwgk9UGbt0"
      },
      "source": [
        "Беру первую строку из тестового набора. Посчитаем расстояние L1 от нее до всех строк тренировочного набора."
      ]
    },
    {
      "cell_type": "code",
      "execution_count": 94,
      "metadata": {
        "id": "dn4VgaUUGbt1"
      },
      "outputs": [],
      "source": [
        "distances = np.array([compute_L1(x_test[0], y) for y in x_train])"
      ]
    },
    {
      "cell_type": "markdown",
      "metadata": {
        "id": "-ED_2cnSGbt1"
      },
      "source": [
        "Найдем индекс минимального расстояния, используя `np.argmin()`"
      ]
    },
    {
      "cell_type": "code",
      "execution_count": 95,
      "metadata": {
        "id": "-kNq3Tz7Gbt1",
        "colab": {
          "base_uri": "https://localhost:8080/"
        },
        "outputId": "fec4ae18-0f6f-43c4-d58e-ed727654b331"
      },
      "outputs": [
        {
          "output_type": "execute_result",
          "data": {
            "text/plain": [
              "20"
            ]
          },
          "metadata": {},
          "execution_count": 95
        }
      ],
      "source": [
        "indx = np.argmin(distances)\n",
        "\n",
        "indx"
      ]
    },
    {
      "cell_type": "markdown",
      "metadata": {
        "id": "LMSErkYTGbt1"
      },
      "source": [
        "Выведем на экран свойства первого ириса в тестовом наборе и ириса, который максимально на него похож в тренировочном (минимальное расстояние)"
      ]
    },
    {
      "cell_type": "code",
      "execution_count": 96,
      "metadata": {
        "id": "l70ntKmwGbt1",
        "colab": {
          "base_uri": "https://localhost:8080/"
        },
        "outputId": "be67b4f2-522b-4f15-d7ea-a4b976753356"
      },
      "outputs": [
        {
          "output_type": "stream",
          "name": "stdout",
          "text": [
            "[5.  3.5 1.3 0.3]\n",
            "[5.1 3.5 1.4 0.3]\n"
          ]
        }
      ],
      "source": [
        "print(x_test[0])\n",
        "print(x_train[indx])"
      ]
    },
    {
      "cell_type": "markdown",
      "metadata": {
        "id": "mG2-lzIwGbt2"
      },
      "source": [
        "Выведем их метки"
      ]
    },
    {
      "cell_type": "code",
      "execution_count": 97,
      "metadata": {
        "id": "YVN7A6khGbt2",
        "colab": {
          "base_uri": "https://localhost:8080/"
        },
        "outputId": "2f85344e-ed70-478d-c93e-ba89f2dc3120"
      },
      "outputs": [
        {
          "output_type": "stream",
          "name": "stdout",
          "text": [
            "0 0\n"
          ]
        }
      ],
      "source": [
        "print(y_test[0], y_train[indx])"
      ]
    },
    {
      "cell_type": "markdown",
      "metadata": {
        "id": "r-hqFkV_Gbt2"
      },
      "source": [
        "Посчитаем двумерный массив расстояний от каждого ириса в тестовом наборе до каждого ириса в тренировочном. Размерность массива должна получиться (60, 90)"
      ]
    },
    {
      "cell_type": "code",
      "execution_count": 98,
      "metadata": {
        "id": "jpujhgqSGbt2"
      },
      "outputs": [],
      "source": [
        "def compute_distances(train, test, distance_func): #sklearn pairwise.... лучше так\n",
        "    distances=np.eye(len(test), len(train))\n",
        "    for i in range(len(test)):\n",
        "        for j in range(len(train)):\n",
        "            distances[i][j]=distance_func(test[i],train[j])\n",
        "    return distances"
      ]
    },
    {
      "cell_type": "code",
      "execution_count": 99,
      "metadata": {
        "id": "cx5JdQmVGbt2"
      },
      "outputs": [],
      "source": [
        "distances = compute_distances(x_train, x_test, compute_L1)"
      ]
    },
    {
      "cell_type": "code",
      "execution_count": 100,
      "metadata": {
        "id": "h8W-2Cc_Gbt3",
        "colab": {
          "base_uri": "https://localhost:8080/"
        },
        "outputId": "1791c682-3d8e-4e3d-b15d-9f9ba801b695"
      },
      "outputs": [
        {
          "output_type": "execute_result",
          "data": {
            "text/plain": [
              "(60, 90)"
            ]
          },
          "metadata": {},
          "execution_count": 100
        }
      ],
      "source": [
        "distances.shape"
      ]
    },
    {
      "cell_type": "markdown",
      "metadata": {
        "id": "QPUo-52mGbt3"
      },
      "source": [
        "Теперь определим точность Nearest Neighbors классификации.\n",
        "\n",
        "Для этого найдем индекс минимального значения для каждой строки массива distances:"
      ]
    },
    {
      "cell_type": "code",
      "execution_count": 101,
      "metadata": {
        "id": "CHboE4qpGbt3"
      },
      "outputs": [],
      "source": [
        "indx_distances = [np.argmin(distances[i]) for i in range(60)]"
      ]
    },
    {
      "cell_type": "markdown",
      "metadata": {
        "id": "a0gNRC-_Gbt3"
      },
      "source": [
        "Теперь создадим массив `predicted_class`"
      ]
    },
    {
      "cell_type": "code",
      "execution_count": 102,
      "metadata": {
        "id": "iscPvHn3Gbt3"
      },
      "outputs": [],
      "source": [
        "predicted_class = y_train[indx_distances]"
      ]
    },
    {
      "cell_type": "markdown",
      "metadata": {
        "id": "d2k1_zEhGbt4"
      },
      "source": [
        "И посмотрим, где класс предсказан правильно, а где нет:"
      ]
    },
    {
      "cell_type": "code",
      "execution_count": 103,
      "metadata": {
        "id": "kx66GdytGbt4",
        "colab": {
          "base_uri": "https://localhost:8080/"
        },
        "outputId": "cb751446-86d0-47aa-9a7f-0c6b820dfeac"
      },
      "outputs": [
        {
          "output_type": "execute_result",
          "data": {
            "text/plain": [
              "array([ True,  True,  True,  True, False,  True,  True,  True,  True,\n",
              "        True,  True,  True, False,  True,  True,  True,  True,  True,\n",
              "        True,  True,  True,  True,  True,  True,  True,  True,  True,\n",
              "        True,  True,  True,  True,  True, False,  True,  True,  True,\n",
              "        True,  True,  True,  True,  True,  True,  True,  True,  True,\n",
              "        True,  True,  True,  True, False,  True,  True,  True,  True,\n",
              "        True,  True,  True,  True,  True,  True])"
            ]
          },
          "metadata": {},
          "execution_count": 103
        }
      ],
      "source": [
        "y_test == predicted_class"
      ]
    },
    {
      "cell_type": "markdown",
      "metadata": {
        "id": "6Rld828EGbt4"
      },
      "source": [
        "Посчитаем точность (accuracy)\n",
        "\n",
        "(Очевидно, в питоне с булевыми значениями можно производить математические операции (True = 1, False = 0) )"
      ]
    },
    {
      "cell_type": "code",
      "execution_count": 104,
      "metadata": {
        "id": "ABhKBvtWGbt4",
        "colab": {
          "base_uri": "https://localhost:8080/"
        },
        "outputId": "159467b4-f732-492e-8716-fcf56711f02e"
      },
      "outputs": [
        {
          "output_type": "stream",
          "name": "stdout",
          "text": [
            "Accuracy = 93.3%\n"
          ]
        }
      ],
      "source": [
        "count=0\n",
        "for i in range(len(y_test)):\n",
        "    if(y_test[i]==predicted_class[i]):\n",
        "        count=count+1\n",
        "        \n",
        "accuracy = count/len(y_test)\n",
        "print(f'Accuracy = {accuracy * 100:.1f}%')"
      ]
    },
    {
      "cell_type": "markdown",
      "metadata": {
        "id": "_Vsj_Rz4Gbt4"
      },
      "source": [
        "Повторим все этапы классификации, однако в этот раз стандартизуем данные перед этим."
      ]
    },
    {
      "cell_type": "code",
      "execution_count": 105,
      "metadata": {
        "id": "PNaQCl5GGbt5"
      },
      "outputs": [],
      "source": [
        "from sklearn.preprocessing import StandardScaler\n",
        "\n",
        "scaler = StandardScaler()\n",
        "x_train = scaler.fit_transform( x_train )\n",
        "x_test = scaler.transform( x_test )"
      ]
    },
    {
      "cell_type": "code",
      "execution_count": 106,
      "metadata": {
        "id": "L8xXo1gXGbt5"
      },
      "outputs": [],
      "source": [
        "distances = compute_distances(x_train, x_test, compute_L1)"
      ]
    },
    {
      "cell_type": "code",
      "execution_count": 107,
      "metadata": {
        "id": "dBDc_X3ZGbt5",
        "colab": {
          "base_uri": "https://localhost:8080/"
        },
        "outputId": "001e4d65-b6f4-4332-8c32-3e7c7d9e95d5"
      },
      "outputs": [
        {
          "output_type": "stream",
          "name": "stdout",
          "text": [
            "Accuracy = 95.0%\n"
          ]
        }
      ],
      "source": [
        "min_distances = [np.argmin(distances[i]) for i in range(60)]\n",
        "predicted_class = y_train[min_distances]\n",
        "\n",
        "count=0\n",
        "for i in range(len(y_test)):\n",
        "    if(y_test[i]==predicted_class[i]):\n",
        "        count=count+1\n",
        "        \n",
        "accuracy = count/len(y_test)\n",
        "print(f'Accuracy = {accuracy * 100:.1f}%')"
      ]
    },
    {
      "cell_type": "markdown",
      "metadata": {
        "id": "qypE-iU-Gbt5"
      },
      "source": [
        "# Задание 4. Nearest Neighbors для картинок"
      ]
    },
    {
      "cell_type": "markdown",
      "metadata": {
        "id": "8jCrxmdEGbt6"
      },
      "source": [
        "Загрузим датасет с помощью функций torchvision:"
      ]
    },
    {
      "cell_type": "code",
      "execution_count": 108,
      "metadata": {
        "id": "zBsgt06LGbt6",
        "colab": {
          "base_uri": "https://localhost:8080/"
        },
        "outputId": "39487c4b-f6b8-47dc-aff8-26f4d06ca85f"
      },
      "outputs": [
        {
          "output_type": "stream",
          "name": "stdout",
          "text": [
            "Files already downloaded and verified\n"
          ]
        }
      ],
      "source": [
        "from torchvision import datasets\n",
        "import numpy as np\n",
        "\n",
        "dataset = datasets.CIFAR10(\"content\", train=True, download=True)\n",
        "\n",
        "np.random.seed(42)\n",
        "data, _, labels, _ = train_test_split(dataset.data / 255,  # Normalize\n",
        "                                      np.array(dataset.targets),\n",
        "                                      train_size=0.1, # get only fraction of the dataset\n",
        "                                      random_state=42,\n",
        "                                      stratify=dataset.targets)\n"
      ]
    },
    {
      "cell_type": "markdown",
      "metadata": {
        "id": "umFX_h4tGbt6"
      },
      "source": [
        "Посмотрим, что это за датасет такой"
      ]
    },
    {
      "cell_type": "code",
      "execution_count": 109,
      "metadata": {
        "id": "JdIeQmm5Gbt6",
        "colab": {
          "base_uri": "https://localhost:8080/"
        },
        "outputId": "e470a769-4d30-4416-e27e-e7402ace7fc6"
      },
      "outputs": [
        {
          "output_type": "execute_result",
          "data": {
            "text/plain": [
              "(5000, 32, 32, 3)"
            ]
          },
          "metadata": {},
          "execution_count": 109
        }
      ],
      "source": [
        "data.shape"
      ]
    },
    {
      "cell_type": "markdown",
      "metadata": {
        "id": "2f_I4YXlGbt6"
      },
      "source": [
        "CIFAR - 4х мерный массив (N, W, H, C). $N$ - количество картинок, $W$ - ширина картинки, $H$ - высота картинки, $C$ - количество каналов (RGB)."
      ]
    },
    {
      "cell_type": "markdown",
      "metadata": {
        "id": "eoHxTRt7Gbt7"
      },
      "source": [
        "Создадим subplots с 2мя строками и 2мя колонками и отобразим 4 любых картинки из `data`. \n",
        "Будем использовать `plt.imshow()`"
      ]
    },
    {
      "cell_type": "code",
      "execution_count": 110,
      "metadata": {
        "id": "yN6ht3-rGbt7",
        "colab": {
          "base_uri": "https://localhost:8080/",
          "height": 322
        },
        "outputId": "40f57efa-7cd0-4a51-b619-9af9f5ba6733"
      },
      "outputs": [
        {
          "output_type": "display_data",
          "data": {
            "text/plain": [
              "<Figure size 1080x360 with 4 Axes>"
            ],
            "image/png": "[encoded data removed]"
          },
          "metadata": {
            "needs_background": "light"
          }
        }
      ],
      "source": [
        "import matplotlib.pyplot as plt\n",
        "\n",
        "\n",
        "\n",
        "fig, ax = plt.subplots(nrows=2, ncols=2, figsize=(15, 5), sharex=True, sharey=True)\n",
        "\n",
        "ax[0, 0].imshow(data[0])\n",
        "ax[0, 1].imshow(data[1])\n",
        "ax[1, 0].imshow(data[2])\n",
        "ax[1, 1].imshow(data[300])\n",
        "plt.show()\n"
      ]
    },
    {
      "cell_type": "markdown",
      "metadata": {
        "id": "SYZd0j3oGbt7"
      },
      "source": [
        "Разобьем датасет на тренировочный и тестовый наборы. Укажем аргументы `random_state=42`, `stratify=labels`"
      ]
    },
    {
      "cell_type": "code",
      "execution_count": 111,
      "metadata": {
        "id": "tAmB3PLVGbt7",
        "colab": {
          "base_uri": "https://localhost:8080/"
        },
        "outputId": "0ddf34df-57ee-4ae8-bbe4-866b144407b2"
      },
      "outputs": [
        {
          "output_type": "stream",
          "name": "stdout",
          "text": [
            "x_train (3000, 32, 32, 3)\n",
            "x_test (2000, 32, 32, 3)\n"
          ]
        }
      ],
      "source": [
        "from sklearn.model_selection import train_test_split\n",
        "\n",
        "x_train, x_test, y_train, y_test = train_test_split(data, labels, train_size=0.6, random_state=42, stratify=labels) \n",
        "\n",
        "print(\"x_train\", x_train.shape)\n",
        "print(\"x_test\", x_test.shape)"
      ]
    },
    {
      "cell_type": "markdown",
      "metadata": {
        "id": "hSagJX2wGbt7"
      },
      "source": [
        "Возьмем первую картинку из тестового набора и найдем ее ближайшего соседа из тренировочного"
      ]
    },
    {
      "cell_type": "code",
      "execution_count": 112,
      "metadata": {
        "id": "pkjfS1fIGbt8"
      },
      "outputs": [],
      "source": [
        "\n",
        "def compute_L1(a, b):\n",
        "    return np.linalg.norm(a.flatten() - b.flatten(), ord=1)"
      ]
    },
    {
      "cell_type": "code",
      "execution_count": 113,
      "metadata": {
        "id": "1UgWTUhmGbt8",
        "colab": {
          "base_uri": "https://localhost:8080/"
        },
        "outputId": "442abc6c-9c60-4bd7-f039-0a3f38928277"
      },
      "outputs": [
        {
          "output_type": "execute_result",
          "data": {
            "text/plain": [
              "(3000, 32, 32, 3)"
            ]
          },
          "metadata": {},
          "execution_count": 113
        }
      ],
      "source": [
        "distances = np.array([compute_L1(x_test[0], y) for y in x_train])\n",
        "\n",
        "x_train.shape"
      ]
    },
    {
      "cell_type": "code",
      "execution_count": 114,
      "metadata": {
        "id": "qVtec4kuGbt8",
        "colab": {
          "base_uri": "https://localhost:8080/"
        },
        "outputId": "fa6f1cf9-9747-4b36-bd76-7da22f943ca7"
      },
      "outputs": [
        {
          "output_type": "stream",
          "name": "stdout",
          "text": [
            "561\n"
          ]
        }
      ],
      "source": [
        "indx = np.argmin(distances)\n",
        "print(indx)"
      ]
    },
    {
      "cell_type": "markdown",
      "metadata": {
        "id": "qdq4qI4gGbt8"
      },
      "source": [
        "Отобразим эти картинки на subplots с ncols=2"
      ]
    },
    {
      "cell_type": "code",
      "execution_count": 115,
      "metadata": {
        "id": "f7ryzDxAGbt8",
        "colab": {
          "base_uri": "https://localhost:8080/",
          "height": 320
        },
        "outputId": "fa3baffc-ab4a-4b33-b3cd-b031038e4e12"
      },
      "outputs": [
        {
          "output_type": "display_data",
          "data": {
            "text/plain": [
              "<Figure size 1080x360 with 2 Axes>"
            ],
            "image/png": "[encoded data removed]"
          },
          "metadata": {
            "needs_background": "light"
          }
        }
      ],
      "source": [
        "fig, ax = plt.subplots(ncols=2, figsize=(15, 5), sharex=True, sharey=True)\n",
        "ax[0].imshow(data[0]) \n",
        "ax[1].imshow(data[indx])\n",
        "plt.show()\n"
      ]
    },
    {
      "cell_type": "markdown",
      "metadata": {
        "id": "eZOty61_Gbt8"
      },
      "source": [
        "Посмотрим, какой класс предсказывается"
      ]
    },
    {
      "cell_type": "code",
      "execution_count": 116,
      "metadata": {
        "id": "IcFeftenGbt9",
        "colab": {
          "base_uri": "https://localhost:8080/"
        },
        "outputId": "ce27ea15-f587-4c56-e3b4-4ba8e5f1973b"
      },
      "outputs": [
        {
          "output_type": "stream",
          "name": "stdout",
          "text": [
            "cat\n"
          ]
        }
      ],
      "source": [
        "class_pred = y_train[indx]\n",
        "class_to_idx = dataset.class_to_idx\n",
        "\n",
        "print(list(class_to_idx.keys())[list(class_to_idx.values()).index(class_pred)])"
      ]
    },
    {
      "cell_type": "markdown",
      "metadata": {
        "id": "QS-xLzbMGbt9"
      },
      "source": [
        "Возьмем первую картинку из тестового набора и найдем K ее ближайших соседей из тренировочного"
      ]
    },
    {
      "cell_type": "code",
      "execution_count": 117,
      "metadata": {
        "id": "J6dsCIDwGbt9",
        "colab": {
          "base_uri": "https://localhost:8080/"
        },
        "outputId": "da06e150-97f5-4c87-8445-2eca70bce29c"
      },
      "outputs": [
        {
          "output_type": "execute_result",
          "data": {
            "text/plain": [
              "(5,)"
            ]
          },
          "metadata": {},
          "execution_count": 117
        }
      ],
      "source": [
        "k = 5\n",
        "indx = np.argsort(distances)[0:k]\n",
        "indx.shape"
      ]
    },
    {
      "cell_type": "markdown",
      "metadata": {
        "id": "IzMKDHvWGbuB"
      },
      "source": [
        "Отобразим ближайших соседей в виде subplots"
      ]
    },
    {
      "cell_type": "code",
      "execution_count": 118,
      "metadata": {
        "id": "u37i7aqbGbuB",
        "colab": {
          "base_uri": "https://localhost:8080/",
          "height": 194
        },
        "outputId": "7a65d3a9-cb73-4162-bd79-a1dec73ed442"
      },
      "outputs": [
        {
          "output_type": "display_data",
          "data": {
            "text/plain": [
              "<Figure size 1080x360 with 5 Axes>"
            ],
            "image/png": "[encoded data removed]"
          },
          "metadata": {
            "needs_background": "light"
          }
        }
      ],
      "source": [
        "fig, ax = plt.subplots(ncols=k, figsize=(15, 5), sharex=True, sharey=True)\n",
        "for i in range(k):\n",
        "    ax[i].imshow(data[indx[i]])\n",
        "plt.show()\n",
        "\n"
      ]
    },
    {
      "cell_type": "markdown",
      "metadata": {
        "id": "d45ypi7vGbuB"
      },
      "source": [
        "Посчитаем KNN для всего датасета"
      ]
    },
    {
      "cell_type": "markdown",
      "metadata": {
        "id": "sk0cMfxMGbuB"
      },
      "source": [
        "Чем больше данных - тем дольше процесс. Реализуем функцию для расчета расстояний + *progress bars* с помощью tqdm.\n",
        "\n",
        "Примечание: В случае вложенных циклов `tqdm` нужно использовать только на внешнем цикле. Иначе время работы существенно увеличится."
      ]
    },
    {
      "cell_type": "code",
      "execution_count": 119,
      "metadata": {
        "id": "ciCOgVmyGbuB"
      },
      "outputs": [],
      "source": [
        "from tqdm.notebook import tqdm"
      ]
    },
    {
      "cell_type": "code",
      "execution_count": 120,
      "metadata": {
        "id": "OR2Cg9jhGbuC"
      },
      "outputs": [],
      "source": [
        "def compute_distances(train, test, distance_func):\n",
        "    distances=np.eye(len(test), len(train))\n",
        "    for i in tqdm(range(len(test))):\n",
        "        for j in range(len(train)):\n",
        "            distances[i][j]=distance_func(test[i],train[j])\n",
        "    return distances\n"
      ]
    },
    {
      "cell_type": "code",
      "execution_count": 121,
      "metadata": {
        "id": "noiuVU0uGbuC",
        "colab": {
          "base_uri": "https://localhost:8080/",
          "height": 49,
          "referenced_widgets": [
            "54a011e844c34d7fac3978b53bbb542a",
            "c92d96d130ec4639a31e9b3b3af9e4b7",
            "762eae26a8004a40ad0b3666edc8728b",
            "3e6bf4645a03450b9b8c01948ce8c013",
            "be149f54a1d3442ba290f7f19b3ffb9e",
            "f10177a0edfa43a49c3e8567e0071e6c",
            "a5f81dafa11a4d12bfefe48a13d2b85c",
            "dbd9beaa04dd42aca9ef006235aa2322",
            "a4843b71eddc4a7f968e3a5fb0a009d6",
            "394ba52513014fbda88a5577efd54b9e",
            "4ac67d5131c44ecea5c600861306f724"
          ]
        },
        "outputId": "065e1531-8825-4223-9729-ea7322b3d661"
      },
      "outputs": [
        {
          "output_type": "display_data",
          "data": {
            "text/plain": [
              "  0%|          | 0/2000 [00:00<?, ?it/s]"
            ],
            "application/vnd.jupyter.widget-view+json": {
              "version_major": 2,
              "version_minor": 0,
              "model_id": "54a011e844c34d7fac3978b53bbb542a"
            }
          },
          "metadata": {}
        }
      ],
      "source": [
        "distances = compute_distances(x_train, x_test, compute_L1)"
      ]
    },
    {
      "cell_type": "code",
      "source": [
        "print(distances.shape)\n",
        "print(len(x_test))"
      ],
      "metadata": {
        "id": "qUFMd3g7v7p0",
        "colab": {
          "base_uri": "https://localhost:8080/"
        },
        "outputId": "e8d883be-4f07-4d1c-fdc7-0fab095256e0"
      },
      "execution_count": 122,
      "outputs": [
        {
          "output_type": "stream",
          "name": "stdout",
          "text": [
            "(2000, 3000)\n",
            "2000\n"
          ]
        }
      ]
    },
    {
      "cell_type": "code",
      "source": [
        "min_distances = [np.argmin(distances[i]) for i in range(len(x_test))] \n",
        "predicted_class = y_train[min_distances]\n",
        "\n",
        "count=0\n",
        "for i in range(len(y_test)):\n",
        "    if(y_test[i]==predicted_class[i]):\n",
        "        count=count+1\n",
        "        \n",
        "accuracy = count/len(y_test)\n",
        "print(f'Accuracy = {accuracy * 100:.1f}%')"
      ],
      "metadata": {
        "id": "OfANSL4Awu-b",
        "colab": {
          "base_uri": "https://localhost:8080/"
        },
        "outputId": "ebf97426-c2af-4cb7-c7aa-d117bb5c7b3c"
      },
      "execution_count": 123,
      "outputs": [
        {
          "output_type": "stream",
          "name": "stdout",
          "text": [
            "Accuracy = 27.6%\n"
          ]
        }
      ]
    },
    {
      "cell_type": "markdown",
      "metadata": {
        "id": "1NZgVKVTGbuC"
      },
      "source": [
        "Теперь найдем K ближайших соседей и предскажем класс. [scipy.stats.mode](https://docs.scipy.org/doc/scipy/reference/generated/scipy.stats.mode.html)"
      ]
    },
    {
      "cell_type": "code",
      "execution_count": 124,
      "metadata": {
        "id": "HgT75luQGbuC"
      },
      "outputs": [],
      "source": [
        "from scipy.stats import mode # потом подумаю, нужно ли это вообще тут\n",
        "\n",
        "\n",
        "def get_accuracy(distances, train_labels, test_labels, k):\n",
        "    min_distances = [np.argsort(distances[i])[0:k] for i in range(len(test_labels))] #список массивов. i-ый элемент списка это индексы k ближайших к x_test[i]\n",
        "    \n",
        "    predicted_class=[]\n",
        "    for i in range(len(test_labels)): #в i-ой итерации смотрим на x_test[i]\n",
        "        temp = train_labels[min_distances[i]] # такие классы у k ближайших соседов к x_test[i]\n",
        "        predicted_class.append(np.bincount(temp).argmax())\n",
        "\n",
        "\n",
        "\n",
        "    count=0\n",
        "    for i in range(len(y_test)):\n",
        "        if(test_labels[i]==predicted_class[i]):\n",
        "            count=count+1\n",
        "    return count/len(test_labels)"
      ]
    },
    {
      "cell_type": "code",
      "execution_count": 125,
      "metadata": {
        "id": "XkNRsjsXGbuC",
        "colab": {
          "base_uri": "https://localhost:8080/"
        },
        "outputId": "310eca70-c86f-46eb-fbe2-e59312fe3f05"
      },
      "outputs": [
        {
          "output_type": "stream",
          "name": "stdout",
          "text": [
            "Accuracy = 29%\n"
          ]
        }
      ],
      "source": [
        "accuracy = get_accuracy(distances, y_train, y_test, k)\n",
        "print(f'Accuracy = {accuracy * 100:.0f}%')"
      ]
    },
    {
      "cell_type": "markdown",
      "metadata": {
        "id": "MW_2L_YHGbuC"
      },
      "source": [
        "Посчитаем точность для k=1..100 и постройте график точности от k"
      ]
    },
    {
      "cell_type": "code",
      "execution_count": 126,
      "metadata": {
        "id": "x78z0MOWGbuD",
        "colab": {
          "base_uri": "https://localhost:8080/",
          "height": 49,
          "referenced_widgets": [
            "864564befe6a4a16b8f1c1be6563bbc4",
            "3bc8fc0ca3404fecb2f67489471b0707",
            "ac6c405a44724f0e815e673fad330f80",
            "b591926db05d4df486536e7116bd8829",
            "c879a154ed7d4304a797d60de372ec80",
            "0d66fa022ab5447ca464713ed69109de",
            "e97b564e129448e781f81b8ce861258f",
            "0d0072e1e6b5477eadf7639ea9a953cf",
            "0eb0a291ad634b029e0b1918512daab3",
            "4c779b512de841a8b6a101f1611f5c72",
            "0166b4c80345485f8fd7b7742563d07f"
          ]
        },
        "outputId": "6b2d7883-0628-479d-9ba0-9bc19bc25fa7"
      },
      "outputs": [
        {
          "output_type": "display_data",
          "data": {
            "text/plain": [
              "  0%|          | 0/100 [00:00<?, ?it/s]"
            ],
            "application/vnd.jupyter.widget-view+json": {
              "version_major": 2,
              "version_minor": 0,
              "model_id": "864564befe6a4a16b8f1c1be6563bbc4"
            }
          },
          "metadata": {}
        }
      ],
      "source": [
        "acc = []\n",
        "for k in tqdm(range(1, 101)):\n",
        "    acc.append(get_accuracy(distances, y_train, y_test, k))"
      ]
    },
    {
      "cell_type": "code",
      "execution_count": 127,
      "metadata": {
        "id": "oEjZucuqGbuD",
        "colab": {
          "base_uri": "https://localhost:8080/",
          "height": 265
        },
        "outputId": "58e30f0b-4d65-43c3-b09e-b812c7fa103a"
      },
      "outputs": [
        {
          "output_type": "display_data",
          "data": {
            "text/plain": [
              "<Figure size 432x288 with 1 Axes>"
            ],
            "image/png": "[encoded data removed]"
          },
          "metadata": {
            "needs_background": "light"
          }
        }
      ],
      "source": [
        "plt.plot(range(100),acc)\n",
        "plt.show()"
      ]
    },
    {
      "cell_type": "markdown",
      "metadata": {
        "id": "EMF0x9BEGbuD"
      },
      "source": [
        "Поменяем расстоянние L1 на L2 и сравним точность на всем датасете."
      ]
    },
    {
      "cell_type": "code",
      "execution_count": 128,
      "metadata": {
        "id": "vSi0q0hYGbuD"
      },
      "outputs": [],
      "source": [
        "def compute_L2(a, b):\n",
        "    return np.linalg.norm(a.flatten() - b.flatten())"
      ]
    },
    {
      "cell_type": "code",
      "execution_count": 129,
      "metadata": {
        "id": "3UPpeOMmGbuD",
        "colab": {
          "base_uri": "https://localhost:8080/",
          "height": 49,
          "referenced_widgets": [
            "e808db9af11a4ea7afa0a51fcc0878bf",
            "e8b80325229b401db282821e1a9ad56d",
            "a2a98effd31b4536bafe210796de5d46",
            "7c277959626a4da0a3745d778ab972b6",
            "313edc96d2bb4934bf1890ecc7f08959",
            "3ac85d615a1a492ab015adae43c84be5",
            "2b8d017fe4464824bea0b47c69cdb6da",
            "6180f09599024d12ab89d112505e486e",
            "1b85fefb89a64cdf905acad8881487eb",
            "b6bf02ce3657467a81a78bc4e0f3dda0",
            "7e56e8b620974cb085f841f152675f73"
          ]
        },
        "outputId": "ed6052f3-2e4b-499b-99f8-d398bcfbd457"
      },
      "outputs": [
        {
          "output_type": "display_data",
          "data": {
            "text/plain": [
              "  0%|          | 0/2000 [00:00<?, ?it/s]"
            ],
            "application/vnd.jupyter.widget-view+json": {
              "version_major": 2,
              "version_minor": 0,
              "model_id": "e808db9af11a4ea7afa0a51fcc0878bf"
            }
          },
          "metadata": {}
        }
      ],
      "source": [
        "distances_l2 = compute_distances(x_train, x_test, compute_L2)"
      ]
    },
    {
      "cell_type": "code",
      "execution_count": 130,
      "metadata": {
        "id": "zOR8HAS7GbuD",
        "colab": {
          "base_uri": "https://localhost:8080/",
          "height": 49,
          "referenced_widgets": [
            "465b799b285d41c1a3e9948a3c8d9569",
            "7b1e31f0352240979bbedad5d84814ea",
            "639d25c132da433381b73410d5e2145b",
            "70023be3e0f24cd8af9f7ae177c2d071",
            "fb3e425fbd934332aef5237c272ce6ea",
            "35ced25a2dec41589f46dcb8624b9fed",
            "a453ab7c8b0845b483744aa2f0294b33",
            "bdd144e5015c44d0874ff4ffd8caa772",
            "a71e2ea5041f4d3f904847e146d8cc39",
            "b0973709378640f396104bb68ee9085f",
            "85779a3ce3b94348956cc57b50d052bf"
          ]
        },
        "outputId": "39350ce1-f414-4c3e-acae-9f7e016fc9c2"
      },
      "outputs": [
        {
          "output_type": "display_data",
          "data": {
            "text/plain": [
              "  0%|          | 0/100 [00:00<?, ?it/s]"
            ],
            "application/vnd.jupyter.widget-view+json": {
              "version_major": 2,
              "version_minor": 0,
              "model_id": "465b799b285d41c1a3e9948a3c8d9569"
            }
          },
          "metadata": {}
        }
      ],
      "source": [
        "acc_l2 = []\n",
        "for k in tqdm(range(1, 101)): \n",
        "    acc_l2.append(get_accuracy(distances_l2, y_train, y_test, k))"
      ]
    },
    {
      "cell_type": "code",
      "execution_count": 131,
      "metadata": {
        "id": "tDVK2B6GGbuE",
        "colab": {
          "base_uri": "https://localhost:8080/",
          "height": 265
        },
        "outputId": "ba573b46-6ecf-474d-c234-3d4f90e3b695"
      },
      "outputs": [
        {
          "output_type": "display_data",
          "data": {
            "text/plain": [
              "<Figure size 432x288 with 1 Axes>"
            ],
            "image/png": "[encoded data removed]"
          },
          "metadata": {
            "needs_background": "light"
          }
        }
      ],
      "source": [
        "plt.plot(range(100),acc, label='L_1 norm')\n",
        "plt.plot(range(100),acc_l2, label='L_2 norm')\n",
        "plt.legend()\n",
        "plt.show()"
      ]
    },
    {
      "cell_type": "code",
      "source": [
        "def argmax(iterable):\n",
        "    return max(enumerate(iterable), key=lambda x: x[1])[0]\n",
        "\n",
        "print(\"Лучшее k с L_1 нормой: \", argmax(acc))\n",
        "print(\"Лучшее k с L_2 нормой: \", argmax(acc_l2))\n",
        "#print(max(acc),acc[argmax(acc)])"
      ],
      "metadata": {
        "id": "pR4APVz95jjr",
        "colab": {
          "base_uri": "https://localhost:8080/"
        },
        "outputId": "edf61975-8112-4ce0-cf12-0d4d3647dbc2"
      },
      "execution_count": 132,
      "outputs": [
        {
          "output_type": "stream",
          "name": "stdout",
          "text": [
            "Лучшее k с L_1 нормой:  15\n",
            "Лучшее k с L_2 нормой:  25\n"
          ]
        }
      ]
    },
    {
      "cell_type": "markdown",
      "metadata": {
        "id": "Kzd93YDJGbuE"
      },
      "source": [
        "# Задание 5. Реализация KNN"
      ]
    },
    {
      "cell_type": "markdown",
      "metadata": {
        "id": "9Me1njq8GbuE"
      },
      "source": [
        "Часто KNN реализуют в концепции ООП. Полностью своими ручками создам класс KNN и реализую у него методы"
      ]
    },
    {
      "cell_type": "code",
      "execution_count": 133,
      "metadata": {
        "id": "aey7kXTFGbuF"
      },
      "outputs": [],
      "source": [
        "class kNN:\n",
        "    def __init__(self, k, distance_func):\n",
        "        self.k = k \n",
        "        self.distance_func = distance_func \n",
        "\n",
        "    def fit(self, x, y):\n",
        "        self.train_data = x\n",
        "        self.train_labels = y \n",
        "\n",
        "    def predict(self, x):\n",
        "        distances = self.compute_distances(x)\n",
        "        indexes = np.argsort(distances, axis=1)[:, :self.k]\n",
        "        labels_of_top_classes = self.train_labels[indexes]\n",
        "        predicted_class, _ = mode(labels_of_top_classes, axis=1)\n",
        "        return predicted_class.flatten()\n",
        "\n",
        "    def compute_distances(self, test):\n",
        "        distances=np.eye(len(test), len(self.train_data))\n",
        "        for i in tqdm(range(len(test))):\n",
        "            for j in range(len(self.train_data)):\n",
        "                distances[i][j]=self.distance_func(test[i],self.train_data[j])\n",
        "        return distances\n",
        "        \n"
      ]
    },
    {
      "cell_type": "code",
      "execution_count": 134,
      "metadata": {
        "id": "qRqPofdCGbuF",
        "colab": {
          "base_uri": "https://localhost:8080/",
          "height": 49,
          "referenced_widgets": [
            "fe7510c149fe4dcaacb163ca44cca0dd",
            "2a868875245b42a598a80c5a1a505907",
            "7b2366748ea54c6ba880532a35b12c51",
            "11defd89b2ab4bfb9a3c51d377078ec6",
            "3483e2ace75d47f29abbc20c66c38b58",
            "04ba8eba9ddc4945b8e754e05ef143cb",
            "98da9b46b65141219cea0a1fe505dec2",
            "3c81c16afdc2491bb103e9a6a806a5bc",
            "3999a278dc8e4dc1a9c65a0c390b7942",
            "e05ef7e515fc481bb869ee85a861244b",
            "415914330ae94cf39e88a99ec3c4a935"
          ]
        },
        "outputId": "c2dd9f60-4b5e-4983-af4d-ddea0349fc80"
      },
      "outputs": [
        {
          "output_type": "display_data",
          "data": {
            "text/plain": [
              "  0%|          | 0/2000 [00:00<?, ?it/s]"
            ],
            "application/vnd.jupyter.widget-view+json": {
              "version_major": 2,
              "version_minor": 0,
              "model_id": "fe7510c149fe4dcaacb163ca44cca0dd"
            }
          },
          "metadata": {}
        }
      ],
      "source": [
        "import time\n",
        "start = time.time()\n",
        "\n",
        "\n",
        "kNN_classifier = kNN(k=1, distance_func=compute_L1)\n",
        "kNN_classifier.fit(x=x_train, y=y_train)\n",
        "out = kNN_classifier.predict(x_test)\n",
        "\n",
        "end = time.time()\n",
        "\n",
        "delta_my=end-start"
      ]
    },
    {
      "cell_type": "code",
      "execution_count": 135,
      "metadata": {
        "id": "IFC2QaFAGbuF",
        "colab": {
          "base_uri": "https://localhost:8080/"
        },
        "outputId": "03483f55-f887-43c0-8ae3-43d994183a25"
      },
      "outputs": [
        {
          "output_type": "execute_result",
          "data": {
            "text/plain": [
              "0.276"
            ]
          },
          "metadata": {},
          "execution_count": 135
        }
      ],
      "source": [
        "np.mean(y_test == out)"
      ]
    },
    {
      "cell_type": "markdown",
      "metadata": {
        "id": "uSKNNIxMGbuF"
      },
      "source": [
        "Сравним время работы моей реализации и реализации из sklearn"
      ]
    },
    {
      "cell_type": "code",
      "execution_count": 136,
      "metadata": {
        "id": "sRffNnM5GbuF"
      },
      "outputs": [],
      "source": [
        "from sklearn.neighbors import KNeighborsClassifier"
      ]
    },
    {
      "cell_type": "code",
      "source": [
        "\n",
        "x_train.shape"
      ],
      "metadata": {
        "id": "t0Vtk0zrBbeQ",
        "colab": {
          "base_uri": "https://localhost:8080/"
        },
        "outputId": "464566e5-2562-443f-f227-079a41cdb9df"
      },
      "execution_count": 137,
      "outputs": [
        {
          "output_type": "execute_result",
          "data": {
            "text/plain": [
              "(3000, 32, 32, 3)"
            ]
          },
          "metadata": {},
          "execution_count": 137
        }
      ]
    },
    {
      "cell_type": "code",
      "execution_count": 138,
      "metadata": {
        "id": "XReTyNdEGbuF",
        "colab": {
          "base_uri": "https://localhost:8080/"
        },
        "outputId": "1e82e5af-59f0-43d5-fb7b-95d9ad49e7e0"
      },
      "outputs": [
        {
          "output_type": "stream",
          "name": "stderr",
          "text": [
            "/usr/local/lib/python3.8/dist-packages/sklearn/neighbors/_classification.py:198: DataConversionWarning: A column-vector y was passed when a 1d array was expected. Please change the shape of y to (n_samples,), for example using ravel().\n",
            "  return self._fit(X, y)\n"
          ]
        }
      ],
      "source": [
        "#x_train=[x_train[i].flatten() for i in range(len(x_train))]\n",
        "#y_train=[y_train[i].flatten() for i in range(len(y_train))]\n",
        "\n",
        "#x_train=x_train.reshape(3000,-1)\n",
        "#y_train=y_train.reshape(3000,-1)\n",
        "\n",
        "\n",
        "x_train=np.reshape(x_train, (3000,-1))\n",
        "y_train=np.reshape(y_train, (3000,-1))\n",
        "x_test=np.reshape(x_test, (len(x_test),-1))\n",
        "\n",
        "\n",
        "start = time.time()\n",
        "\n",
        "\n",
        "knn_std = KNeighborsClassifier(n_neighbors=k) #metric=metric_type\n",
        "knn_std.fit(x_train, y_train)\n",
        "out = knn_std.predict(x_test)\n",
        "\n",
        "end = time.time()\n",
        "\n",
        "delta_std=end-start\n"
      ]
    },
    {
      "cell_type": "code",
      "source": [
        "print(\"Стандартный метод занял по времени: \", delta_std)\n",
        "print(\"Мой метод занял по времени: \", delta_my)\n",
        "print(\"100*стандартный/мой:\", 100*delta_std/delta_my)"
      ],
      "metadata": {
        "id": "mFzHEF_-9YY3",
        "colab": {
          "base_uri": "https://localhost:8080/"
        },
        "outputId": "98e8f5e8-3785-4ac3-c8de-e4c014887698"
      },
      "execution_count": 139,
      "outputs": [
        {
          "output_type": "stream",
          "name": "stdout",
          "text": [
            "Стандартный метод занял по времени:  1.6393582820892334\n",
            "Мой метод занял по времени:  232.145770072937\n",
            "100*стандартный/мой: 0.7061762450266355\n"
          ]
        }
      ]
    }
  ],
  "metadata": {
    "colab": {
      "provenance": []
    },
    "language_info": {
      "name": "python"
    },
    "kernelspec": {
      "name": "python3",
      "display_name": "Python 3"
    },
    "widgets": {
      "application/vnd.jupyter.widget-state+json": {
        "54a011e844c34d7fac3978b53bbb542a": {
          "model_module": "@jupyter-widgets/controls",
          "model_name": "HBoxModel",
          "model_module_version": "1.5.0",
          "state": {
            "_dom_classes": [],
            "_model_module": "@jupyter-widgets/controls",
            "_model_module_version": "1.5.0",
            "_model_name": "HBoxModel",
            "_view_count": null,
            "_view_module": "@jupyter-widgets/controls",
            "_view_module_version": "1.5.0",
            "_view_name": "HBoxView",
            "box_style": "",
            "children": [
              "IPY_MODEL_c92d96d130ec4639a31e9b3b3af9e4b7",
              "IPY_MODEL_762eae26a8004a40ad0b3666edc8728b",
              "IPY_MODEL_3e6bf4645a03450b9b8c01948ce8c013"
            ],
            "layout": "IPY_MODEL_be149f54a1d3442ba290f7f19b3ffb9e"
          }
        },
        "c92d96d130ec4639a31e9b3b3af9e4b7": {
          "model_module": "@jupyter-widgets/controls",
          "model_name": "HTMLModel",
          "model_module_version": "1.5.0",
          "state": {
            "_dom_classes": [],
            "_model_module": "@jupyter-widgets/controls",
            "_model_module_version": "1.5.0",
            "_model_name": "HTMLModel",
            "_view_count": null,
            "_view_module": "@jupyter-widgets/controls",
            "_view_module_version": "1.5.0",
            "_view_name": "HTMLView",
            "description": "",
            "description_tooltip": null,
            "layout": "IPY_MODEL_f10177a0edfa43a49c3e8567e0071e6c",
            "placeholder": "​",
            "style": "IPY_MODEL_a5f81dafa11a4d12bfefe48a13d2b85c",
            "value": "100%"
          }
        },
        "762eae26a8004a40ad0b3666edc8728b": {
          "model_module": "@jupyter-widgets/controls",
          "model_name": "FloatProgressModel",
          "model_module_version": "1.5.0",
          "state": {
            "_dom_classes": [],
            "_model_module": "@jupyter-widgets/controls",
            "_model_module_version": "1.5.0",
            "_model_name": "FloatProgressModel",
            "_view_count": null,
            "_view_module": "@jupyter-widgets/controls",
            "_view_module_version": "1.5.0",
            "_view_name": "ProgressView",
            "bar_style": "success",
            "description": "",
            "description_tooltip": null,
            "layout": "IPY_MODEL_dbd9beaa04dd42aca9ef006235aa2322",
            "max": 2000,
            "min": 0,
            "orientation": "horizontal",
            "style": "IPY_MODEL_a4843b71eddc4a7f968e3a5fb0a009d6",
            "value": 2000
          }
        },
        "3e6bf4645a03450b9b8c01948ce8c013": {
          "model_module": "@jupyter-widgets/controls",
          "model_name": "HTMLModel",
          "model_module_version": "1.5.0",
          "state": {
            "_dom_classes": [],
            "_model_module": "@jupyter-widgets/controls",
            "_model_module_version": "1.5.0",
            "_model_name": "HTMLModel",
            "_view_count": null,
            "_view_module": "@jupyter-widgets/controls",
            "_view_module_version": "1.5.0",
            "_view_name": "HTMLView",
            "description": "",
            "description_tooltip": null,
            "layout": "IPY_MODEL_394ba52513014fbda88a5577efd54b9e",
            "placeholder": "​",
            "style": "IPY_MODEL_4ac67d5131c44ecea5c600861306f724",
            "value": " 2000/2000 [04:12&lt;00:00,  8.85it/s]"
          }
        },
        "be149f54a1d3442ba290f7f19b3ffb9e": {
          "model_module": "@jupyter-widgets/base",
          "model_name": "LayoutModel",
          "model_module_version": "1.2.0",
          "state": {
            "_model_module": "@jupyter-widgets/base",
            "_model_module_version": "1.2.0",
            "_model_name": "LayoutModel",
            "_view_count": null,
            "_view_module": "@jupyter-widgets/base",
            "_view_module_version": "1.2.0",
            "_view_name": "LayoutView",
            "align_content": null,
            "align_items": null,
            "align_self": null,
            "border": null,
            "bottom": null,
            "display": null,
            "flex": null,
            "flex_flow": null,
            "grid_area": null,
            "grid_auto_columns": null,
            "grid_auto_flow": null,
            "grid_auto_rows": null,
            "grid_column": null,
            "grid_gap": null,
            "grid_row": null,
            "grid_template_areas": null,
            "grid_template_columns": null,
            "grid_template_rows": null,
            "height": null,
            "justify_content": null,
            "justify_items": null,
            "left": null,
            "margin": null,
            "max_height": null,
            "max_width": null,
            "min_height": null,
            "min_width": null,
            "object_fit": null,
            "object_position": null,
            "order": null,
            "overflow": null,
            "overflow_x": null,
            "overflow_y": null,
            "padding": null,
            "right": null,
            "top": null,
            "visibility": null,
            "width": null
          }
        },
        "f10177a0edfa43a49c3e8567e0071e6c": {
          "model_module": "@jupyter-widgets/base",
          "model_name": "LayoutModel",
          "model_module_version": "1.2.0",
          "state": {
            "_model_module": "@jupyter-widgets/base",
            "_model_module_version": "1.2.0",
            "_model_name": "LayoutModel",
            "_view_count": null,
            "_view_module": "@jupyter-widgets/base",
            "_view_module_version": "1.2.0",
            "_view_name": "LayoutView",
            "align_content": null,
            "align_items": null,
            "align_self": null,
            "border": null,
            "bottom": null,
            "display": null,
            "flex": null,
            "flex_flow": null,
            "grid_area": null,
            "grid_auto_columns": null,
            "grid_auto_flow": null,
            "grid_auto_rows": null,
            "grid_column": null,
            "grid_gap": null,
            "grid_row": null,
            "grid_template_areas": null,
            "grid_template_columns": null,
            "grid_template_rows": null,
            "height": null,
            "justify_content": null,
            "justify_items": null,
            "left": null,
            "margin": null,
            "max_height": null,
            "max_width": null,
            "min_height": null,
            "min_width": null,
            "object_fit": null,
            "object_position": null,
            "order": null,
            "overflow": null,
            "overflow_x": null,
            "overflow_y": null,
            "padding": null,
            "right": null,
            "top": null,
            "visibility": null,
            "width": null
          }
        },
        "a5f81dafa11a4d12bfefe48a13d2b85c": {
          "model_module": "@jupyter-widgets/controls",
          "model_name": "DescriptionStyleModel",
          "model_module_version": "1.5.0",
          "state": {
            "_model_module": "@jupyter-widgets/controls",
            "_model_module_version": "1.5.0",
            "_model_name": "DescriptionStyleModel",
            "_view_count": null,
            "_view_module": "@jupyter-widgets/base",
            "_view_module_version": "1.2.0",
            "_view_name": "StyleView",
            "description_width": ""
          }
        },
        "dbd9beaa04dd42aca9ef006235aa2322": {
          "model_module": "@jupyter-widgets/base",
          "model_name": "LayoutModel",
          "model_module_version": "1.2.0",
          "state": {
            "_model_module": "@jupyter-widgets/base",
            "_model_module_version": "1.2.0",
            "_model_name": "LayoutModel",
            "_view_count": null,
            "_view_module": "@jupyter-widgets/base",
            "_view_module_version": "1.2.0",
            "_view_name": "LayoutView",
            "align_content": null,
            "align_items": null,
            "align_self": null,
            "border": null,
            "bottom": null,
            "display": null,
            "flex": null,
            "flex_flow": null,
            "grid_area": null,
            "grid_auto_columns": null,
            "grid_auto_flow": null,
            "grid_auto_rows": null,
            "grid_column": null,
            "grid_gap": null,
            "grid_row": null,
            "grid_template_areas": null,
            "grid_template_columns": null,
            "grid_template_rows": null,
            "height": null,
            "justify_content": null,
            "justify_items": null,
            "left": null,
            "margin": null,
            "max_height": null,
            "max_width": null,
            "min_height": null,
            "min_width": null,
            "object_fit": null,
            "object_position": null,
            "order": null,
            "overflow": null,
            "overflow_x": null,
            "overflow_y": null,
            "padding": null,
            "right": null,
            "top": null,
            "visibility": null,
            "width": null
          }
        },
        "a4843b71eddc4a7f968e3a5fb0a009d6": {
          "model_module": "@jupyter-widgets/controls",
          "model_name": "ProgressStyleModel",
          "model_module_version": "1.5.0",
          "state": {
            "_model_module": "@jupyter-widgets/controls",
            "_model_module_version": "1.5.0",
            "_model_name": "ProgressStyleModel",
            "_view_count": null,
            "_view_module": "@jupyter-widgets/base",
            "_view_module_version": "1.2.0",
            "_view_name": "StyleView",
            "bar_color": null,
            "description_width": ""
          }
        },
        "394ba52513014fbda88a5577efd54b9e": {
          "model_module": "@jupyter-widgets/base",
          "model_name": "LayoutModel",
          "model_module_version": "1.2.0",
          "state": {
            "_model_module": "@jupyter-widgets/base",
            "_model_module_version": "1.2.0",
            "_model_name": "LayoutModel",
            "_view_count": null,
            "_view_module": "@jupyter-widgets/base",
            "_view_module_version": "1.2.0",
            "_view_name": "LayoutView",
            "align_content": null,
            "align_items": null,
            "align_self": null,
            "border": null,
            "bottom": null,
            "display": null,
            "flex": null,
            "flex_flow": null,
            "grid_area": null,
            "grid_auto_columns": null,
            "grid_auto_flow": null,
            "grid_auto_rows": null,
            "grid_column": null,
            "grid_gap": null,
            "grid_row": null,
            "grid_template_areas": null,
            "grid_template_columns": null,
            "grid_template_rows": null,
            "height": null,
            "justify_content": null,
            "justify_items": null,
            "left": null,
            "margin": null,
            "max_height": null,
            "max_width": null,
            "min_height": null,
            "min_width": null,
            "object_fit": null,
            "object_position": null,
            "order": null,
            "overflow": null,
            "overflow_x": null,
            "overflow_y": null,
            "padding": null,
            "right": null,
            "top": null,
            "visibility": null,
            "width": null
          }
        },
        "4ac67d5131c44ecea5c600861306f724": {
          "model_module": "@jupyter-widgets/controls",
          "model_name": "DescriptionStyleModel",
          "model_module_version": "1.5.0",
          "state": {
            "_model_module": "@jupyter-widgets/controls",
            "_model_module_version": "1.5.0",
            "_model_name": "DescriptionStyleModel",
            "_view_count": null,
            "_view_module": "@jupyter-widgets/base",
            "_view_module_version": "1.2.0",
            "_view_name": "StyleView",
            "description_width": ""
          }
        },
        "864564befe6a4a16b8f1c1be6563bbc4": {
          "model_module": "@jupyter-widgets/controls",
          "model_name": "HBoxModel",
          "model_module_version": "1.5.0",
          "state": {
            "_dom_classes": [],
            "_model_module": "@jupyter-widgets/controls",
            "_model_module_version": "1.5.0",
            "_model_name": "HBoxModel",
            "_view_count": null,
            "_view_module": "@jupyter-widgets/controls",
            "_view_module_version": "1.5.0",
            "_view_name": "HBoxView",
            "box_style": "",
            "children": [
              "IPY_MODEL_3bc8fc0ca3404fecb2f67489471b0707",
              "IPY_MODEL_ac6c405a44724f0e815e673fad330f80",
              "IPY_MODEL_b591926db05d4df486536e7116bd8829"
            ],
            "layout": "IPY_MODEL_c879a154ed7d4304a797d60de372ec80"
          }
        },
        "3bc8fc0ca3404fecb2f67489471b0707": {
          "model_module": "@jupyter-widgets/controls",
          "model_name": "HTMLModel",
          "model_module_version": "1.5.0",
          "state": {
            "_dom_classes": [],
            "_model_module": "@jupyter-widgets/controls",
            "_model_module_version": "1.5.0",
            "_model_name": "HTMLModel",
            "_view_count": null,
            "_view_module": "@jupyter-widgets/controls",
            "_view_module_version": "1.5.0",
            "_view_name": "HTMLView",
            "description": "",
            "description_tooltip": null,
            "layout": "IPY_MODEL_0d66fa022ab5447ca464713ed69109de",
            "placeholder": "​",
            "style": "IPY_MODEL_e97b564e129448e781f81b8ce861258f",
            "value": "100%"
          }
        },
        "ac6c405a44724f0e815e673fad330f80": {
          "model_module": "@jupyter-widgets/controls",
          "model_name": "FloatProgressModel",
          "model_module_version": "1.5.0",
          "state": {
            "_dom_classes": [],
            "_model_module": "@jupyter-widgets/controls",
            "_model_module_version": "1.5.0",
            "_model_name": "FloatProgressModel",
            "_view_count": null,
            "_view_module": "@jupyter-widgets/controls",
            "_view_module_version": "1.5.0",
            "_view_name": "ProgressView",
            "bar_style": "success",
            "description": "",
            "description_tooltip": null,
            "layout": "IPY_MODEL_0d0072e1e6b5477eadf7639ea9a953cf",
            "max": 100,
            "min": 0,
            "orientation": "horizontal",
            "style": "IPY_MODEL_0eb0a291ad634b029e0b1918512daab3",
            "value": 100
          }
        },
        "b591926db05d4df486536e7116bd8829": {
          "model_module": "@jupyter-widgets/controls",
          "model_name": "HTMLModel",
          "model_module_version": "1.5.0",
          "state": {
            "_dom_classes": [],
            "_model_module": "@jupyter-widgets/controls",
            "_model_module_version": "1.5.0",
            "_model_name": "HTMLModel",
            "_view_count": null,
            "_view_module": "@jupyter-widgets/controls",
            "_view_module_version": "1.5.0",
            "_view_name": "HTMLView",
            "description": "",
            "description_tooltip": null,
            "layout": "IPY_MODEL_4c779b512de841a8b6a101f1611f5c72",
            "placeholder": "​",
            "style": "IPY_MODEL_0166b4c80345485f8fd7b7742563d07f",
            "value": " 100/100 [00:50&lt;00:00,  2.05it/s]"
          }
        },
        "c879a154ed7d4304a797d60de372ec80": {
          "model_module": "@jupyter-widgets/base",
          "model_name": "LayoutModel",
          "model_module_version": "1.2.0",
          "state": {
            "_model_module": "@jupyter-widgets/base",
            "_model_module_version": "1.2.0",
            "_model_name": "LayoutModel",
            "_view_count": null,
            "_view_module": "@jupyter-widgets/base",
            "_view_module_version": "1.2.0",
            "_view_name": "LayoutView",
            "align_content": null,
            "align_items": null,
            "align_self": null,
            "border": null,
            "bottom": null,
            "display": null,
            "flex": null,
            "flex_flow": null,
            "grid_area": null,
            "grid_auto_columns": null,
            "grid_auto_flow": null,
            "grid_auto_rows": null,
            "grid_column": null,
            "grid_gap": null,
            "grid_row": null,
            "grid_template_areas": null,
            "grid_template_columns": null,
            "grid_template_rows": null,
            "height": null,
            "justify_content": null,
            "justify_items": null,
            "left": null,
            "margin": null,
            "max_height": null,
            "max_width": null,
            "min_height": null,
            "min_width": null,
            "object_fit": null,
            "object_position": null,
            "order": null,
            "overflow": null,
            "overflow_x": null,
            "overflow_y": null,
            "padding": null,
            "right": null,
            "top": null,
            "visibility": null,
            "width": null
          }
        },
        "0d66fa022ab5447ca464713ed69109de": {
          "model_module": "@jupyter-widgets/base",
          "model_name": "LayoutModel",
          "model_module_version": "1.2.0",
          "state": {
            "_model_module": "@jupyter-widgets/base",
            "_model_module_version": "1.2.0",
            "_model_name": "LayoutModel",
            "_view_count": null,
            "_view_module": "@jupyter-widgets/base",
            "_view_module_version": "1.2.0",
            "_view_name": "LayoutView",
            "align_content": null,
            "align_items": null,
            "align_self": null,
            "border": null,
            "bottom": null,
            "display": null,
            "flex": null,
            "flex_flow": null,
            "grid_area": null,
            "grid_auto_columns": null,
            "grid_auto_flow": null,
            "grid_auto_rows": null,
            "grid_column": null,
            "grid_gap": null,
            "grid_row": null,
            "grid_template_areas": null,
            "grid_template_columns": null,
            "grid_template_rows": null,
            "height": null,
            "justify_content": null,
            "justify_items": null,
            "left": null,
            "margin": null,
            "max_height": null,
            "max_width": null,
            "min_height": null,
            "min_width": null,
            "object_fit": null,
            "object_position": null,
            "order": null,
            "overflow": null,
            "overflow_x": null,
            "overflow_y": null,
            "padding": null,
            "right": null,
            "top": null,
            "visibility": null,
            "width": null
          }
        },
        "e97b564e129448e781f81b8ce861258f": {
          "model_module": "@jupyter-widgets/controls",
          "model_name": "DescriptionStyleModel",
          "model_module_version": "1.5.0",
          "state": {
            "_model_module": "@jupyter-widgets/controls",
            "_model_module_version": "1.5.0",
            "_model_name": "DescriptionStyleModel",
            "_view_count": null,
            "_view_module": "@jupyter-widgets/base",
            "_view_module_version": "1.2.0",
            "_view_name": "StyleView",
            "description_width": ""
          }
        },
        "0d0072e1e6b5477eadf7639ea9a953cf": {
          "model_module": "@jupyter-widgets/base",
          "model_name": "LayoutModel",
          "model_module_version": "1.2.0",
          "state": {
            "_model_module": "@jupyter-widgets/base",
            "_model_module_version": "1.2.0",
            "_model_name": "LayoutModel",
            "_view_count": null,
            "_view_module": "@jupyter-widgets/base",
            "_view_module_version": "1.2.0",
            "_view_name": "LayoutView",
            "align_content": null,
            "align_items": null,
            "align_self": null,
            "border": null,
            "bottom": null,
            "display": null,
            "flex": null,
            "flex_flow": null,
            "grid_area": null,
            "grid_auto_columns": null,
            "grid_auto_flow": null,
            "grid_auto_rows": null,
            "grid_column": null,
            "grid_gap": null,
            "grid_row": null,
            "grid_template_areas": null,
            "grid_template_columns": null,
            "grid_template_rows": null,
            "height": null,
            "justify_content": null,
            "justify_items": null,
            "left": null,
            "margin": null,
            "max_height": null,
            "max_width": null,
            "min_height": null,
            "min_width": null,
            "object_fit": null,
            "object_position": null,
            "order": null,
            "overflow": null,
            "overflow_x": null,
            "overflow_y": null,
            "padding": null,
            "right": null,
            "top": null,
            "visibility": null,
            "width": null
          }
        },
        "0eb0a291ad634b029e0b1918512daab3": {
          "model_module": "@jupyter-widgets/controls",
          "model_name": "ProgressStyleModel",
          "model_module_version": "1.5.0",
          "state": {
            "_model_module": "@jupyter-widgets/controls",
            "_model_module_version": "1.5.0",
            "_model_name": "ProgressStyleModel",
            "_view_count": null,
            "_view_module": "@jupyter-widgets/base",
            "_view_module_version": "1.2.0",
            "_view_name": "StyleView",
            "bar_color": null,
            "description_width": ""
          }
        },
        "4c779b512de841a8b6a101f1611f5c72": {
          "model_module": "@jupyter-widgets/base",
          "model_name": "LayoutModel",
          "model_module_version": "1.2.0",
          "state": {
            "_model_module": "@jupyter-widgets/base",
            "_model_module_version": "1.2.0",
            "_model_name": "LayoutModel",
            "_view_count": null,
            "_view_module": "@jupyter-widgets/base",
            "_view_module_version": "1.2.0",
            "_view_name": "LayoutView",
            "align_content": null,
            "align_items": null,
            "align_self": null,
            "border": null,
            "bottom": null,
            "display": null,
            "flex": null,
            "flex_flow": null,
            "grid_area": null,
            "grid_auto_columns": null,
            "grid_auto_flow": null,
            "grid_auto_rows": null,
            "grid_column": null,
            "grid_gap": null,
            "grid_row": null,
            "grid_template_areas": null,
            "grid_template_columns": null,
            "grid_template_rows": null,
            "height": null,
            "justify_content": null,
            "justify_items": null,
            "left": null,
            "margin": null,
            "max_height": null,
            "max_width": null,
            "min_height": null,
            "min_width": null,
            "object_fit": null,
            "object_position": null,
            "order": null,
            "overflow": null,
            "overflow_x": null,
            "overflow_y": null,
            "padding": null,
            "right": null,
            "top": null,
            "visibility": null,
            "width": null
          }
        },
        "0166b4c80345485f8fd7b7742563d07f": {
          "model_module": "@jupyter-widgets/controls",
          "model_name": "DescriptionStyleModel",
          "model_module_version": "1.5.0",
          "state": {
            "_model_module": "@jupyter-widgets/controls",
            "_model_module_version": "1.5.0",
            "_model_name": "DescriptionStyleModel",
            "_view_count": null,
            "_view_module": "@jupyter-widgets/base",
            "_view_module_version": "1.2.0",
            "_view_name": "StyleView",
            "description_width": ""
          }
        },
        "e808db9af11a4ea7afa0a51fcc0878bf": {
          "model_module": "@jupyter-widgets/controls",
          "model_name": "HBoxModel",
          "model_module_version": "1.5.0",
          "state": {
            "_dom_classes": [],
            "_model_module": "@jupyter-widgets/controls",
            "_model_module_version": "1.5.0",
            "_model_name": "HBoxModel",
            "_view_count": null,
            "_view_module": "@jupyter-widgets/controls",
            "_view_module_version": "1.5.0",
            "_view_name": "HBoxView",
            "box_style": "",
            "children": [
              "IPY_MODEL_e8b80325229b401db282821e1a9ad56d",
              "IPY_MODEL_a2a98effd31b4536bafe210796de5d46",
              "IPY_MODEL_7c277959626a4da0a3745d778ab972b6"
            ],
            "layout": "IPY_MODEL_313edc96d2bb4934bf1890ecc7f08959"
          }
        },
        "e8b80325229b401db282821e1a9ad56d": {
          "model_module": "@jupyter-widgets/controls",
          "model_name": "HTMLModel",
          "model_module_version": "1.5.0",
          "state": {
            "_dom_classes": [],
            "_model_module": "@jupyter-widgets/controls",
            "_model_module_version": "1.5.0",
            "_model_name": "HTMLModel",
            "_view_count": null,
            "_view_module": "@jupyter-widgets/controls",
            "_view_module_version": "1.5.0",
            "_view_name": "HTMLView",
            "description": "",
            "description_tooltip": null,
            "layout": "IPY_MODEL_3ac85d615a1a492ab015adae43c84be5",
            "placeholder": "​",
            "style": "IPY_MODEL_2b8d017fe4464824bea0b47c69cdb6da",
            "value": "100%"
          }
        },
        "a2a98effd31b4536bafe210796de5d46": {
          "model_module": "@jupyter-widgets/controls",
          "model_name": "FloatProgressModel",
          "model_module_version": "1.5.0",
          "state": {
            "_dom_classes": [],
            "_model_module": "@jupyter-widgets/controls",
            "_model_module_version": "1.5.0",
            "_model_name": "FloatProgressModel",
            "_view_count": null,
            "_view_module": "@jupyter-widgets/controls",
            "_view_module_version": "1.5.0",
            "_view_name": "ProgressView",
            "bar_style": "success",
            "description": "",
            "description_tooltip": null,
            "layout": "IPY_MODEL_6180f09599024d12ab89d112505e486e",
            "max": 2000,
            "min": 0,
            "orientation": "horizontal",
            "style": "IPY_MODEL_1b85fefb89a64cdf905acad8881487eb",
            "value": 2000
          }
        },
        "7c277959626a4da0a3745d778ab972b6": {
          "model_module": "@jupyter-widgets/controls",
          "model_name": "HTMLModel",
          "model_module_version": "1.5.0",
          "state": {
            "_dom_classes": [],
            "_model_module": "@jupyter-widgets/controls",
            "_model_module_version": "1.5.0",
            "_model_name": "HTMLModel",
            "_view_count": null,
            "_view_module": "@jupyter-widgets/controls",
            "_view_module_version": "1.5.0",
            "_view_name": "HTMLView",
            "description": "",
            "description_tooltip": null,
            "layout": "IPY_MODEL_b6bf02ce3657467a81a78bc4e0f3dda0",
            "placeholder": "​",
            "style": "IPY_MODEL_7e56e8b620974cb085f841f152675f73",
            "value": " 2000/2000 [03:36&lt;00:00,  9.15it/s]"
          }
        },
        "313edc96d2bb4934bf1890ecc7f08959": {
          "model_module": "@jupyter-widgets/base",
          "model_name": "LayoutModel",
          "model_module_version": "1.2.0",
          "state": {
            "_model_module": "@jupyter-widgets/base",
            "_model_module_version": "1.2.0",
            "_model_name": "LayoutModel",
            "_view_count": null,
            "_view_module": "@jupyter-widgets/base",
            "_view_module_version": "1.2.0",
            "_view_name": "LayoutView",
            "align_content": null,
            "align_items": null,
            "align_self": null,
            "border": null,
            "bottom": null,
            "display": null,
            "flex": null,
            "flex_flow": null,
            "grid_area": null,
            "grid_auto_columns": null,
            "grid_auto_flow": null,
            "grid_auto_rows": null,
            "grid_column": null,
            "grid_gap": null,
            "grid_row": null,
            "grid_template_areas": null,
            "grid_template_columns": null,
            "grid_template_rows": null,
            "height": null,
            "justify_content": null,
            "justify_items": null,
            "left": null,
            "margin": null,
            "max_height": null,
            "max_width": null,
            "min_height": null,
            "min_width": null,
            "object_fit": null,
            "object_position": null,
            "order": null,
            "overflow": null,
            "overflow_x": null,
            "overflow_y": null,
            "padding": null,
            "right": null,
            "top": null,
            "visibility": null,
            "width": null
          }
        },
        "3ac85d615a1a492ab015adae43c84be5": {
          "model_module": "@jupyter-widgets/base",
          "model_name": "LayoutModel",
          "model_module_version": "1.2.0",
          "state": {
            "_model_module": "@jupyter-widgets/base",
            "_model_module_version": "1.2.0",
            "_model_name": "LayoutModel",
            "_view_count": null,
            "_view_module": "@jupyter-widgets/base",
            "_view_module_version": "1.2.0",
            "_view_name": "LayoutView",
            "align_content": null,
            "align_items": null,
            "align_self": null,
            "border": null,
            "bottom": null,
            "display": null,
            "flex": null,
            "flex_flow": null,
            "grid_area": null,
            "grid_auto_columns": null,
            "grid_auto_flow": null,
            "grid_auto_rows": null,
            "grid_column": null,
            "grid_gap": null,
            "grid_row": null,
            "grid_template_areas": null,
            "grid_template_columns": null,
            "grid_template_rows": null,
            "height": null,
            "justify_content": null,
            "justify_items": null,
            "left": null,
            "margin": null,
            "max_height": null,
            "max_width": null,
            "min_height": null,
            "min_width": null,
            "object_fit": null,
            "object_position": null,
            "order": null,
            "overflow": null,
            "overflow_x": null,
            "overflow_y": null,
            "padding": null,
            "right": null,
            "top": null,
            "visibility": null,
            "width": null
          }
        },
        "2b8d017fe4464824bea0b47c69cdb6da": {
          "model_module": "@jupyter-widgets/controls",
          "model_name": "DescriptionStyleModel",
          "model_module_version": "1.5.0",
          "state": {
            "_model_module": "@jupyter-widgets/controls",
            "_model_module_version": "1.5.0",
            "_model_name": "DescriptionStyleModel",
            "_view_count": null,
            "_view_module": "@jupyter-widgets/base",
            "_view_module_version": "1.2.0",
            "_view_name": "StyleView",
            "description_width": ""
          }
        },
        "6180f09599024d12ab89d112505e486e": {
          "model_module": "@jupyter-widgets/base",
          "model_name": "LayoutModel",
          "model_module_version": "1.2.0",
          "state": {
            "_model_module": "@jupyter-widgets/base",
            "_model_module_version": "1.2.0",
            "_model_name": "LayoutModel",
            "_view_count": null,
            "_view_module": "@jupyter-widgets/base",
            "_view_module_version": "1.2.0",
            "_view_name": "LayoutView",
            "align_content": null,
            "align_items": null,
            "align_self": null,
            "border": null,
            "bottom": null,
            "display": null,
            "flex": null,
            "flex_flow": null,
            "grid_area": null,
            "grid_auto_columns": null,
            "grid_auto_flow": null,
            "grid_auto_rows": null,
            "grid_column": null,
            "grid_gap": null,
            "grid_row": null,
            "grid_template_areas": null,
            "grid_template_columns": null,
            "grid_template_rows": null,
            "height": null,
            "justify_content": null,
            "justify_items": null,
            "left": null,
            "margin": null,
            "max_height": null,
            "max_width": null,
            "min_height": null,
            "min_width": null,
            "object_fit": null,
            "object_position": null,
            "order": null,
            "overflow": null,
            "overflow_x": null,
            "overflow_y": null,
            "padding": null,
            "right": null,
            "top": null,
            "visibility": null,
            "width": null
          }
        },
        "1b85fefb89a64cdf905acad8881487eb": {
          "model_module": "@jupyter-widgets/controls",
          "model_name": "ProgressStyleModel",
          "model_module_version": "1.5.0",
          "state": {
            "_model_module": "@jupyter-widgets/controls",
            "_model_module_version": "1.5.0",
            "_model_name": "ProgressStyleModel",
            "_view_count": null,
            "_view_module": "@jupyter-widgets/base",
            "_view_module_version": "1.2.0",
            "_view_name": "StyleView",
            "bar_color": null,
            "description_width": ""
          }
        },
        "b6bf02ce3657467a81a78bc4e0f3dda0": {
          "model_module": "@jupyter-widgets/base",
          "model_name": "LayoutModel",
          "model_module_version": "1.2.0",
          "state": {
            "_model_module": "@jupyter-widgets/base",
            "_model_module_version": "1.2.0",
            "_model_name": "LayoutModel",
            "_view_count": null,
            "_view_module": "@jupyter-widgets/base",
            "_view_module_version": "1.2.0",
            "_view_name": "LayoutView",
            "align_content": null,
            "align_items": null,
            "align_self": null,
            "border": null,
            "bottom": null,
            "display": null,
            "flex": null,
            "flex_flow": null,
            "grid_area": null,
            "grid_auto_columns": null,
            "grid_auto_flow": null,
            "grid_auto_rows": null,
            "grid_column": null,
            "grid_gap": null,
            "grid_row": null,
            "grid_template_areas": null,
            "grid_template_columns": null,
            "grid_template_rows": null,
            "height": null,
            "justify_content": null,
            "justify_items": null,
            "left": null,
            "margin": null,
            "max_height": null,
            "max_width": null,
            "min_height": null,
            "min_width": null,
            "object_fit": null,
            "object_position": null,
            "order": null,
            "overflow": null,
            "overflow_x": null,
            "overflow_y": null,
            "padding": null,
            "right": null,
            "top": null,
            "visibility": null,
            "width": null
          }
        },
        "7e56e8b620974cb085f841f152675f73": {
          "model_module": "@jupyter-widgets/controls",
          "model_name": "DescriptionStyleModel",
          "model_module_version": "1.5.0",
          "state": {
            "_model_module": "@jupyter-widgets/controls",
            "_model_module_version": "1.5.0",
            "_model_name": "DescriptionStyleModel",
            "_view_count": null,
            "_view_module": "@jupyter-widgets/base",
            "_view_module_version": "1.2.0",
            "_view_name": "StyleView",
            "description_width": ""
          }
        },
        "465b799b285d41c1a3e9948a3c8d9569": {
          "model_module": "@jupyter-widgets/controls",
          "model_name": "HBoxModel",
          "model_module_version": "1.5.0",
          "state": {
            "_dom_classes": [],
            "_model_module": "@jupyter-widgets/controls",
            "_model_module_version": "1.5.0",
            "_model_name": "HBoxModel",
            "_view_count": null,
            "_view_module": "@jupyter-widgets/controls",
            "_view_module_version": "1.5.0",
            "_view_name": "HBoxView",
            "box_style": "",
            "children": [
              "IPY_MODEL_7b1e31f0352240979bbedad5d84814ea",
              "IPY_MODEL_639d25c132da433381b73410d5e2145b",
              "IPY_MODEL_70023be3e0f24cd8af9f7ae177c2d071"
            ],
            "layout": "IPY_MODEL_fb3e425fbd934332aef5237c272ce6ea"
          }
        },
        "7b1e31f0352240979bbedad5d84814ea": {
          "model_module": "@jupyter-widgets/controls",
          "model_name": "HTMLModel",
          "model_module_version": "1.5.0",
          "state": {
            "_dom_classes": [],
            "_model_module": "@jupyter-widgets/controls",
            "_model_module_version": "1.5.0",
            "_model_name": "HTMLModel",
            "_view_count": null,
            "_view_module": "@jupyter-widgets/controls",
            "_view_module_version": "1.5.0",
            "_view_name": "HTMLView",
            "description": "",
            "description_tooltip": null,
            "layout": "IPY_MODEL_35ced25a2dec41589f46dcb8624b9fed",
            "placeholder": "​",
            "style": "IPY_MODEL_a453ab7c8b0845b483744aa2f0294b33",
            "value": "100%"
          }
        },
        "639d25c132da433381b73410d5e2145b": {
          "model_module": "@jupyter-widgets/controls",
          "model_name": "FloatProgressModel",
          "model_module_version": "1.5.0",
          "state": {
            "_dom_classes": [],
            "_model_module": "@jupyter-widgets/controls",
            "_model_module_version": "1.5.0",
            "_model_name": "FloatProgressModel",
            "_view_count": null,
            "_view_module": "@jupyter-widgets/controls",
            "_view_module_version": "1.5.0",
            "_view_name": "ProgressView",
            "bar_style": "success",
            "description": "",
            "description_tooltip": null,
            "layout": "IPY_MODEL_bdd144e5015c44d0874ff4ffd8caa772",
            "max": 100,
            "min": 0,
            "orientation": "horizontal",
            "style": "IPY_MODEL_a71e2ea5041f4d3f904847e146d8cc39",
            "value": 100
          }
        },
        "70023be3e0f24cd8af9f7ae177c2d071": {
          "model_module": "@jupyter-widgets/controls",
          "model_name": "HTMLModel",
          "model_module_version": "1.5.0",
          "state": {
            "_dom_classes": [],
            "_model_module": "@jupyter-widgets/controls",
            "_model_module_version": "1.5.0",
            "_model_name": "HTMLModel",
            "_view_count": null,
            "_view_module": "@jupyter-widgets/controls",
            "_view_module_version": "1.5.0",
            "_view_name": "HTMLView",
            "description": "",
            "description_tooltip": null,
            "layout": "IPY_MODEL_b0973709378640f396104bb68ee9085f",
            "placeholder": "​",
            "style": "IPY_MODEL_85779a3ce3b94348956cc57b50d052bf",
            "value": " 100/100 [00:49&lt;00:00,  2.04it/s]"
          }
        },
        "fb3e425fbd934332aef5237c272ce6ea": {
          "model_module": "@jupyter-widgets/base",
          "model_name": "LayoutModel",
          "model_module_version": "1.2.0",
          "state": {
            "_model_module": "@jupyter-widgets/base",
            "_model_module_version": "1.2.0",
            "_model_name": "LayoutModel",
            "_view_count": null,
            "_view_module": "@jupyter-widgets/base",
            "_view_module_version": "1.2.0",
            "_view_name": "LayoutView",
            "align_content": null,
            "align_items": null,
            "align_self": null,
            "border": null,
            "bottom": null,
            "display": null,
            "flex": null,
            "flex_flow": null,
            "grid_area": null,
            "grid_auto_columns": null,
            "grid_auto_flow": null,
            "grid_auto_rows": null,
            "grid_column": null,
            "grid_gap": null,
            "grid_row": null,
            "grid_template_areas": null,
            "grid_template_columns": null,
            "grid_template_rows": null,
            "height": null,
            "justify_content": null,
            "justify_items": null,
            "left": null,
            "margin": null,
            "max_height": null,
            "max_width": null,
            "min_height": null,
            "min_width": null,
            "object_fit": null,
            "object_position": null,
            "order": null,
            "overflow": null,
            "overflow_x": null,
            "overflow_y": null,
            "padding": null,
            "right": null,
            "top": null,
            "visibility": null,
            "width": null
          }
        },
        "35ced25a2dec41589f46dcb8624b9fed": {
          "model_module": "@jupyter-widgets/base",
          "model_name": "LayoutModel",
          "model_module_version": "1.2.0",
          "state": {
            "_model_module": "@jupyter-widgets/base",
            "_model_module_version": "1.2.0",
            "_model_name": "LayoutModel",
            "_view_count": null,
            "_view_module": "@jupyter-widgets/base",
            "_view_module_version": "1.2.0",
            "_view_name": "LayoutView",
            "align_content": null,
            "align_items": null,
            "align_self": null,
            "border": null,
            "bottom": null,
            "display": null,
            "flex": null,
            "flex_flow": null,
            "grid_area": null,
            "grid_auto_columns": null,
            "grid_auto_flow": null,
            "grid_auto_rows": null,
            "grid_column": null,
            "grid_gap": null,
            "grid_row": null,
            "grid_template_areas": null,
            "grid_template_columns": null,
            "grid_template_rows": null,
            "height": null,
            "justify_content": null,
            "justify_items": null,
            "left": null,
            "margin": null,
            "max_height": null,
            "max_width": null,
            "min_height": null,
            "min_width": null,
            "object_fit": null,
            "object_position": null,
            "order": null,
            "overflow": null,
            "overflow_x": null,
            "overflow_y": null,
            "padding": null,
            "right": null,
            "top": null,
            "visibility": null,
            "width": null
          }
        },
        "a453ab7c8b0845b483744aa2f0294b33": {
          "model_module": "@jupyter-widgets/controls",
          "model_name": "DescriptionStyleModel",
          "model_module_version": "1.5.0",
          "state": {
            "_model_module": "@jupyter-widgets/controls",
            "_model_module_version": "1.5.0",
            "_model_name": "DescriptionStyleModel",
            "_view_count": null,
            "_view_module": "@jupyter-widgets/base",
            "_view_module_version": "1.2.0",
            "_view_name": "StyleView",
            "description_width": ""
          }
        },
        "bdd144e5015c44d0874ff4ffd8caa772": {
          "model_module": "@jupyter-widgets/base",
          "model_name": "LayoutModel",
          "model_module_version": "1.2.0",
          "state": {
            "_model_module": "@jupyter-widgets/base",
            "_model_module_version": "1.2.0",
            "_model_name": "LayoutModel",
            "_view_count": null,
            "_view_module": "@jupyter-widgets/base",
            "_view_module_version": "1.2.0",
            "_view_name": "LayoutView",
            "align_content": null,
            "align_items": null,
            "align_self": null,
            "border": null,
            "bottom": null,
            "display": null,
            "flex": null,
            "flex_flow": null,
            "grid_area": null,
            "grid_auto_columns": null,
            "grid_auto_flow": null,
            "grid_auto_rows": null,
            "grid_column": null,
            "grid_gap": null,
            "grid_row": null,
            "grid_template_areas": null,
            "grid_template_columns": null,
            "grid_template_rows": null,
            "height": null,
            "justify_content": null,
            "justify_items": null,
            "left": null,
            "margin": null,
            "max_height": null,
            "max_width": null,
            "min_height": null,
            "min_width": null,
            "object_fit": null,
            "object_position": null,
            "order": null,
            "overflow": null,
            "overflow_x": null,
            "overflow_y": null,
            "padding": null,
            "right": null,
            "top": null,
            "visibility": null,
            "width": null
          }
        },
        "a71e2ea5041f4d3f904847e146d8cc39": {
          "model_module": "@jupyter-widgets/controls",
          "model_name": "ProgressStyleModel",
          "model_module_version": "1.5.0",
          "state": {
            "_model_module": "@jupyter-widgets/controls",
            "_model_module_version": "1.5.0",
            "_model_name": "ProgressStyleModel",
            "_view_count": null,
            "_view_module": "@jupyter-widgets/base",
            "_view_module_version": "1.2.0",
            "_view_name": "StyleView",
            "bar_color": null,
            "description_width": ""
          }
        },
        "b0973709378640f396104bb68ee9085f": {
          "model_module": "@jupyter-widgets/base",
          "model_name": "LayoutModel",
          "model_module_version": "1.2.0",
          "state": {
            "_model_module": "@jupyter-widgets/base",
            "_model_module_version": "1.2.0",
            "_model_name": "LayoutModel",
            "_view_count": null,
            "_view_module": "@jupyter-widgets/base",
            "_view_module_version": "1.2.0",
            "_view_name": "LayoutView",
            "align_content": null,
            "align_items": null,
            "align_self": null,
            "border": null,
            "bottom": null,
            "display": null,
            "flex": null,
            "flex_flow": null,
            "grid_area": null,
            "grid_auto_columns": null,
            "grid_auto_flow": null,
            "grid_auto_rows": null,
            "grid_column": null,
            "grid_gap": null,
            "grid_row": null,
            "grid_template_areas": null,
            "grid_template_columns": null,
            "grid_template_rows": null,
            "height": null,
            "justify_content": null,
            "justify_items": null,
            "left": null,
            "margin": null,
            "max_height": null,
            "max_width": null,
            "min_height": null,
            "min_width": null,
            "object_fit": null,
            "object_position": null,
            "order": null,
            "overflow": null,
            "overflow_x": null,
            "overflow_y": null,
            "padding": null,
            "right": null,
            "top": null,
            "visibility": null,
            "width": null
          }
        },
        "85779a3ce3b94348956cc57b50d052bf": {
          "model_module": "@jupyter-widgets/controls",
          "model_name": "DescriptionStyleModel",
          "model_module_version": "1.5.0",
          "state": {
            "_model_module": "@jupyter-widgets/controls",
            "_model_module_version": "1.5.0",
            "_model_name": "DescriptionStyleModel",
            "_view_count": null,
            "_view_module": "@jupyter-widgets/base",
            "_view_module_version": "1.2.0",
            "_view_name": "StyleView",
            "description_width": ""
          }
        },
        "fe7510c149fe4dcaacb163ca44cca0dd": {
          "model_module": "@jupyter-widgets/controls",
          "model_name": "HBoxModel",
          "model_module_version": "1.5.0",
          "state": {
            "_dom_classes": [],
            "_model_module": "@jupyter-widgets/controls",
            "_model_module_version": "1.5.0",
            "_model_name": "HBoxModel",
            "_view_count": null,
            "_view_module": "@jupyter-widgets/controls",
            "_view_module_version": "1.5.0",
            "_view_name": "HBoxView",
            "box_style": "",
            "children": [
              "IPY_MODEL_2a868875245b42a598a80c5a1a505907",
              "IPY_MODEL_7b2366748ea54c6ba880532a35b12c51",
              "IPY_MODEL_11defd89b2ab4bfb9a3c51d377078ec6"
            ],
            "layout": "IPY_MODEL_3483e2ace75d47f29abbc20c66c38b58"
          }
        },
        "2a868875245b42a598a80c5a1a505907": {
          "model_module": "@jupyter-widgets/controls",
          "model_name": "HTMLModel",
          "model_module_version": "1.5.0",
          "state": {
            "_dom_classes": [],
            "_model_module": "@jupyter-widgets/controls",
            "_model_module_version": "1.5.0",
            "_model_name": "HTMLModel",
            "_view_count": null,
            "_view_module": "@jupyter-widgets/controls",
            "_view_module_version": "1.5.0",
            "_view_name": "HTMLView",
            "description": "",
            "description_tooltip": null,
            "layout": "IPY_MODEL_04ba8eba9ddc4945b8e754e05ef143cb",
            "placeholder": "​",
            "style": "IPY_MODEL_98da9b46b65141219cea0a1fe505dec2",
            "value": "100%"
          }
        },
        "7b2366748ea54c6ba880532a35b12c51": {
          "model_module": "@jupyter-widgets/controls",
          "model_name": "FloatProgressModel",
          "model_module_version": "1.5.0",
          "state": {
            "_dom_classes": [],
            "_model_module": "@jupyter-widgets/controls",
            "_model_module_version": "1.5.0",
            "_model_name": "FloatProgressModel",
            "_view_count": null,
            "_view_module": "@jupyter-widgets/controls",
            "_view_module_version": "1.5.0",
            "_view_name": "ProgressView",
            "bar_style": "success",
            "description": "",
            "description_tooltip": null,
            "layout": "IPY_MODEL_3c81c16afdc2491bb103e9a6a806a5bc",
            "max": 2000,
            "min": 0,
            "orientation": "horizontal",
            "style": "IPY_MODEL_3999a278dc8e4dc1a9c65a0c390b7942",
            "value": 2000
          }
        },
        "11defd89b2ab4bfb9a3c51d377078ec6": {
          "model_module": "@jupyter-widgets/controls",
          "model_name": "HTMLModel",
          "model_module_version": "1.5.0",
          "state": {
            "_dom_classes": [],
            "_model_module": "@jupyter-widgets/controls",
            "_model_module_version": "1.5.0",
            "_model_name": "HTMLModel",
            "_view_count": null,
            "_view_module": "@jupyter-widgets/controls",
            "_view_module_version": "1.5.0",
            "_view_name": "HTMLView",
            "description": "",
            "description_tooltip": null,
            "layout": "IPY_MODEL_e05ef7e515fc481bb869ee85a861244b",
            "placeholder": "​",
            "style": "IPY_MODEL_415914330ae94cf39e88a99ec3c4a935",
            "value": " 2000/2000 [03:51&lt;00:00,  7.80it/s]"
          }
        },
        "3483e2ace75d47f29abbc20c66c38b58": {
          "model_module": "@jupyter-widgets/base",
          "model_name": "LayoutModel",
          "model_module_version": "1.2.0",
          "state": {
            "_model_module": "@jupyter-widgets/base",
            "_model_module_version": "1.2.0",
            "_model_name": "LayoutModel",
            "_view_count": null,
            "_view_module": "@jupyter-widgets/base",
            "_view_module_version": "1.2.0",
            "_view_name": "LayoutView",
            "align_content": null,
            "align_items": null,
            "align_self": null,
            "border": null,
            "bottom": null,
            "display": null,
            "flex": null,
            "flex_flow": null,
            "grid_area": null,
            "grid_auto_columns": null,
            "grid_auto_flow": null,
            "grid_auto_rows": null,
            "grid_column": null,
            "grid_gap": null,
            "grid_row": null,
            "grid_template_areas": null,
            "grid_template_columns": null,
            "grid_template_rows": null,
            "height": null,
            "justify_content": null,
            "justify_items": null,
            "left": null,
            "margin": null,
            "max_height": null,
            "max_width": null,
            "min_height": null,
            "min_width": null,
            "object_fit": null,
            "object_position": null,
            "order": null,
            "overflow": null,
            "overflow_x": null,
            "overflow_y": null,
            "padding": null,
            "right": null,
            "top": null,
            "visibility": null,
            "width": null
          }
        },
        "04ba8eba9ddc4945b8e754e05ef143cb": {
          "model_module": "@jupyter-widgets/base",
          "model_name": "LayoutModel",
          "model_module_version": "1.2.0",
          "state": {
            "_model_module": "@jupyter-widgets/base",
            "_model_module_version": "1.2.0",
            "_model_name": "LayoutModel",
            "_view_count": null,
            "_view_module": "@jupyter-widgets/base",
            "_view_module_version": "1.2.0",
            "_view_name": "LayoutView",
            "align_content": null,
            "align_items": null,
            "align_self": null,
            "border": null,
            "bottom": null,
            "display": null,
            "flex": null,
            "flex_flow": null,
            "grid_area": null,
            "grid_auto_columns": null,
            "grid_auto_flow": null,
            "grid_auto_rows": null,
            "grid_column": null,
            "grid_gap": null,
            "grid_row": null,
            "grid_template_areas": null,
            "grid_template_columns": null,
            "grid_template_rows": null,
            "height": null,
            "justify_content": null,
            "justify_items": null,
            "left": null,
            "margin": null,
            "max_height": null,
            "max_width": null,
            "min_height": null,
            "min_width": null,
            "object_fit": null,
            "object_position": null,
            "order": null,
            "overflow": null,
            "overflow_x": null,
            "overflow_y": null,
            "padding": null,
            "right": null,
            "top": null,
            "visibility": null,
            "width": null
          }
        },
        "98da9b46b65141219cea0a1fe505dec2": {
          "model_module": "@jupyter-widgets/controls",
          "model_name": "DescriptionStyleModel",
          "model_module_version": "1.5.0",
          "state": {
            "_model_module": "@jupyter-widgets/controls",
            "_model_module_version": "1.5.0",
            "_model_name": "DescriptionStyleModel",
            "_view_count": null,
            "_view_module": "@jupyter-widgets/base",
            "_view_module_version": "1.2.0",
            "_view_name": "StyleView",
            "description_width": ""
          }
        },
        "3c81c16afdc2491bb103e9a6a806a5bc": {
          "model_module": "@jupyter-widgets/base",
          "model_name": "LayoutModel",
          "model_module_version": "1.2.0",
          "state": {
            "_model_module": "@jupyter-widgets/base",
            "_model_module_version": "1.2.0",
            "_model_name": "LayoutModel",
            "_view_count": null,
            "_view_module": "@jupyter-widgets/base",
            "_view_module_version": "1.2.0",
            "_view_name": "LayoutView",
            "align_content": null,
            "align_items": null,
            "align_self": null,
            "border": null,
            "bottom": null,
            "display": null,
            "flex": null,
            "flex_flow": null,
            "grid_area": null,
            "grid_auto_columns": null,
            "grid_auto_flow": null,
            "grid_auto_rows": null,
            "grid_column": null,
            "grid_gap": null,
            "grid_row": null,
            "grid_template_areas": null,
            "grid_template_columns": null,
            "grid_template_rows": null,
            "height": null,
            "justify_content": null,
            "justify_items": null,
            "left": null,
            "margin": null,
            "max_height": null,
            "max_width": null,
            "min_height": null,
            "min_width": null,
            "object_fit": null,
            "object_position": null,
            "order": null,
            "overflow": null,
            "overflow_x": null,
            "overflow_y": null,
            "padding": null,
            "right": null,
            "top": null,
            "visibility": null,
            "width": null
          }
        },
        "3999a278dc8e4dc1a9c65a0c390b7942": {
          "model_module": "@jupyter-widgets/controls",
          "model_name": "ProgressStyleModel",
          "model_module_version": "1.5.0",
          "state": {
            "_model_module": "@jupyter-widgets/controls",
            "_model_module_version": "1.5.0",
            "_model_name": "ProgressStyleModel",
            "_view_count": null,
            "_view_module": "@jupyter-widgets/base",
            "_view_module_version": "1.2.0",
            "_view_name": "StyleView",
            "bar_color": null,
            "description_width": ""
          }
        },
        "e05ef7e515fc481bb869ee85a861244b": {
          "model_module": "@jupyter-widgets/base",
          "model_name": "LayoutModel",
          "model_module_version": "1.2.0",
          "state": {
            "_model_module": "@jupyter-widgets/base",
            "_model_module_version": "1.2.0",
            "_model_name": "LayoutModel",
            "_view_count": null,
            "_view_module": "@jupyter-widgets/base",
            "_view_module_version": "1.2.0",
            "_view_name": "LayoutView",
            "align_content": null,
            "align_items": null,
            "align_self": null,
            "border": null,
            "bottom": null,
            "display": null,
            "flex": null,
            "flex_flow": null,
            "grid_area": null,
            "grid_auto_columns": null,
            "grid_auto_flow": null,
            "grid_auto_rows": null,
            "grid_column": null,
            "grid_gap": null,
            "grid_row": null,
            "grid_template_areas": null,
            "grid_template_columns": null,
            "grid_template_rows": null,
            "height": null,
            "justify_content": null,
            "justify_items": null,
            "left": null,
            "margin": null,
            "max_height": null,
            "max_width": null,
            "min_height": null,
            "min_width": null,
            "object_fit": null,
            "object_position": null,
            "order": null,
            "overflow": null,
            "overflow_x": null,
            "overflow_y": null,
            "padding": null,
            "right": null,
            "top": null,
            "visibility": null,
            "width": null
          }
        },
        "415914330ae94cf39e88a99ec3c4a935": {
          "model_module": "@jupyter-widgets/controls",
          "model_name": "DescriptionStyleModel",
          "model_module_version": "1.5.0",
          "state": {
            "_model_module": "@jupyter-widgets/controls",
            "_model_module_version": "1.5.0",
            "_model_name": "DescriptionStyleModel",
            "_view_count": null,
            "_view_module": "@jupyter-widgets/base",
            "_view_module_version": "1.2.0",
            "_view_name": "StyleView",
            "description_width": ""
          }
        }
      }
    }
  },
  "nbformat": 4,
  "nbformat_minor": 0
}