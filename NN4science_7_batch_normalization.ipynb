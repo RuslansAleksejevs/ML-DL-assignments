{
  "cells": [
    {
      "cell_type": "markdown",
      "metadata": {
        "id": "OcUILZhOtgrm"
      },
      "source": [
        "Загрузка датасета MNIST. Я буду работать с ним прямо в задании 1."
      ]
    },
    {
      "cell_type": "code",
      "execution_count": 1,
      "metadata": {
        "id": "b-G7Ut34tgrn",
        "colab": {
          "base_uri": "https://localhost:8080/",
          "height": 423,
          "referenced_widgets": [
            "08b191fee07746708f9ce53e9bad48dc",
            "da8dffffd86e4500a8c5cbc8053b1898",
            "a52092d486bb47bc9c4726f183e1e93c",
            "24917186e31746a4a133b995f421e4cb",
            "356ecff40c8d41f3a9f9e102d3421bc7",
            "0d5ed451c2e847b49e620257269bc518",
            "ffb914d35b4443ec84c602ca47b8609d",
            "f3ccb4c73a8f46c3bb82581124c6bc95",
            "b75f2a81265747d5bc6f3bcca36cac49",
            "345f8dc0e42243419e93dfd524d58eda",
            "a838715bd78d4162ab33439b70777347",
            "d2c89a0d19384fc08fec4e151466bef7",
            "568d3bd3be7e4eccb6e7d9f338429ad3",
            "e3e5975727fe40239963ca19b4c2ce6d",
            "dbaac6fa29844c3098c98cc1580f57b9",
            "dfc4a3187f0d49b7b85294e80ec93298",
            "d5bf004c86a94c63b040b97b88e30fcc",
            "8db813fde81a420baf7d808dddee53bc",
            "0393579d35994c7f8dc61ff03c05feaf",
            "f564a83cb7e14e1d8299a500f6368b30",
            "0707f976b93c41838761f1049123206e",
            "1f65e275cecc480ba13b80d1f5924f10",
            "78d5b012d49742bebc433e2cbb677b27",
            "c00f9140b7f44dec8ef4b60e04225d40",
            "a89ced41235843f1ba4d3819f313c65b",
            "05af03ca885040a698a858f943bc5293",
            "206f348b7a864cfd95129bccc4c676e4",
            "28f4b3f1b6d646a3bfebbee5d6749c1b",
            "eb0735f5e1484cdd93814cabd52daa19",
            "5b74ca87b67b467f9c8eca471a8e8697",
            "b4c9388a71be42a5934c120debbab450",
            "3256489ef6d54c4aaaeb05a6966634c7",
            "1e213043c2a0405fa7325f09fe493740",
            "1dd6aa0d8d884e5687141fa0e27193e3",
            "38197c707eae41b7ae4c9756ab0b3b04",
            "469f7e7d1c6545cfa5ac1ce34273031e",
            "c0f84f5efe7e4ecf8805d4a6c75ab23a",
            "262142216742485197aa5e434d7e96ac",
            "8984414db09c474886d2c9cf3040a959",
            "69a9cd330c95432684cadf268cb25944",
            "a5b76a9c6ce14566b3b0590e9c097810",
            "c593f5fd31dc4776818821c608faa4a8",
            "b79a5facae174a9f83d4e7be82f3a140",
            "d14c54b409c24608bdae5ac3c10ccfec"
          ]
        },
        "outputId": "bddb0691-dd17-40c5-b101-ae7d87e5d826"
      },
      "outputs": [
        {
          "output_type": "stream",
          "name": "stdout",
          "text": [
            "Downloading http://yann.lecun.com/exdb/mnist/train-images-idx3-ubyte.gz\n",
            "Downloading http://yann.lecun.com/exdb/mnist/train-images-idx3-ubyte.gz to MNIST/MNIST/raw/train-images-idx3-ubyte.gz\n"
          ]
        },
        {
          "output_type": "display_data",
          "data": {
            "text/plain": [
              "  0%|          | 0/9912422 [00:00<?, ?it/s]"
            ],
            "application/vnd.jupyter.widget-view+json": {
              "version_major": 2,
              "version_minor": 0,
              "model_id": "08b191fee07746708f9ce53e9bad48dc"
            }
          },
          "metadata": {}
        },
        {
          "output_type": "stream",
          "name": "stdout",
          "text": [
            "Extracting MNIST/MNIST/raw/train-images-idx3-ubyte.gz to MNIST/MNIST/raw\n",
            "\n",
            "Downloading http://yann.lecun.com/exdb/mnist/train-labels-idx1-ubyte.gz\n",
            "Downloading http://yann.lecun.com/exdb/mnist/train-labels-idx1-ubyte.gz to MNIST/MNIST/raw/train-labels-idx1-ubyte.gz\n"
          ]
        },
        {
          "output_type": "display_data",
          "data": {
            "text/plain": [
              "  0%|          | 0/28881 [00:00<?, ?it/s]"
            ],
            "application/vnd.jupyter.widget-view+json": {
              "version_major": 2,
              "version_minor": 0,
              "model_id": "d2c89a0d19384fc08fec4e151466bef7"
            }
          },
          "metadata": {}
        },
        {
          "output_type": "stream",
          "name": "stdout",
          "text": [
            "Extracting MNIST/MNIST/raw/train-labels-idx1-ubyte.gz to MNIST/MNIST/raw\n",
            "\n",
            "Downloading http://yann.lecun.com/exdb/mnist/t10k-images-idx3-ubyte.gz\n",
            "Downloading http://yann.lecun.com/exdb/mnist/t10k-images-idx3-ubyte.gz to MNIST/MNIST/raw/t10k-images-idx3-ubyte.gz\n"
          ]
        },
        {
          "output_type": "display_data",
          "data": {
            "text/plain": [
              "  0%|          | 0/1648877 [00:00<?, ?it/s]"
            ],
            "application/vnd.jupyter.widget-view+json": {
              "version_major": 2,
              "version_minor": 0,
              "model_id": "78d5b012d49742bebc433e2cbb677b27"
            }
          },
          "metadata": {}
        },
        {
          "output_type": "stream",
          "name": "stdout",
          "text": [
            "Extracting MNIST/MNIST/raw/t10k-images-idx3-ubyte.gz to MNIST/MNIST/raw\n",
            "\n",
            "Downloading http://yann.lecun.com/exdb/mnist/t10k-labels-idx1-ubyte.gz\n",
            "Downloading http://yann.lecun.com/exdb/mnist/t10k-labels-idx1-ubyte.gz to MNIST/MNIST/raw/t10k-labels-idx1-ubyte.gz\n"
          ]
        },
        {
          "output_type": "display_data",
          "data": {
            "text/plain": [
              "  0%|          | 0/4542 [00:00<?, ?it/s]"
            ],
            "application/vnd.jupyter.widget-view+json": {
              "version_major": 2,
              "version_minor": 0,
              "model_id": "1dd6aa0d8d884e5687141fa0e27193e3"
            }
          },
          "metadata": {}
        },
        {
          "output_type": "stream",
          "name": "stdout",
          "text": [
            "Extracting MNIST/MNIST/raw/t10k-labels-idx1-ubyte.gz to MNIST/MNIST/raw\n",
            "\n"
          ]
        }
      ],
      "source": [
        "from torchvision import  transforms, datasets\n",
        "from torch.utils.data import DataLoader, random_split\n",
        "\n",
        "transform = transforms.Compose(\n",
        "    [transforms.ToTensor(),\n",
        "     transforms.Normalize( (0.1307), (0.3081))\n",
        "     ])\n",
        "\n",
        "mnist = datasets.MNIST('MNIST', train=True, download=True, transform=transform)\n",
        "mnist_test = datasets.MNIST('MNIST', train=False, download=True, transform=transform)\n",
        "\n",
        "train_set, val_set , _ = random_split(mnist, [16000, 4000, 40000])\n",
        "\n",
        "train_loader = DataLoader(train_set, batch_size=256, shuffle=True, num_workers=2)\n",
        "val_loader = DataLoader(val_set, batch_size=256, shuffle=False, num_workers=2)\n"
      ]
    },
    {
      "cell_type": "markdown",
      "metadata": {
        "id": "_Q5mm0Owtgrp"
      },
      "source": [
        "Фиксируем seed для воспроизводимости результатов."
      ]
    },
    {
      "cell_type": "code",
      "execution_count": 2,
      "metadata": {
        "id": "GaU8z3nwtgrq"
      },
      "outputs": [],
      "source": [
        "import random\n",
        "import torch\n",
        "import numpy as np\n",
        "def set_random_seed(seed):\n",
        "    torch.manual_seed(seed)\n",
        "    torch.cuda.manual_seed(seed)\n",
        "    np.random.seed(seed)\n",
        "    random.seed(seed)\n",
        "\n",
        "set_random_seed(42)"
      ]
    },
    {
      "cell_type": "markdown",
      "metadata": {
        "id": "VgRTkX-Vtgrv"
      },
      "source": [
        "# Задание 1. Влияние инициализации весов\n",
        "\n",
        "Изучаю влияние инициализации весов на скорость и качество обучения. Ставлю 4 эксперимента.\n",
        "\n",
        "*Использую код из ячейки ниже (не мой, а скопированный) вкупе с matplotlib, чтобы выводить графики.*\n",
        "\n",
        "\n",
        "\n"
      ]
    },
    {
      "cell_type": "code",
      "execution_count": 3,
      "metadata": {
        "id": "JuRa4TH_tgrw"
      },
      "outputs": [],
      "source": [
        "from IPython.display import clear_output\n",
        "from collections import defaultdict\n",
        "import matplotlib.pyplot as plt\n",
        "import numpy as np\n",
        "\n",
        "class ProgressPlotter:\n",
        "    def __init__(self, title=\"default\", groups=None) -> None:\n",
        "        self._history_dict = defaultdict(dict)\n",
        "        self.set_title(title)\n",
        "        self.groups = self.get_groups(groups)\n",
        "\n",
        "    def get_groups(self, groups):\n",
        "        if groups is not None:\n",
        "            return self._history_dict.keys()\n",
        "        if type(groups) is str:\n",
        "            groups = [groups]\n",
        "        return groups\n",
        "  \n",
        "    def set_title(self, title):\n",
        "        for g in self._history_dict.keys():\n",
        "            self._history_dict[g][title] = [] #reset data\n",
        "        self.title = title\n",
        "\n",
        "    # group e.g. \"loss_val\" tag e.g. \"experiment_1\"\n",
        "    def add_scalar(self, group: str, value, tag=None) -> None:\n",
        "        tag = self.title if tag is None else tag\n",
        "\n",
        "        if not tag in self._history_dict[group]:\n",
        "           self._history_dict[group][tag] = []\n",
        "        self._history_dict[group][tag].append(value)\n",
        "\n",
        "    def add_row(self, group: str, value, tag=None) -> None:\n",
        "        tag = self.title if tag is None else tag\n",
        "        self._history_dict[group][tag] = value\n",
        "\n",
        "    def display_keys(self, ax, data):\n",
        "        history_len = 0\n",
        "        ax.grid()\n",
        "        for key in data:\n",
        "            ax.plot(data[key], label=key)\n",
        "            history_len = max(history_len,len(data[key]))\n",
        "            if len(data) > 1:\n",
        "               ax.legend(loc=\"upper right\")\n",
        "            if history_len < 50:\n",
        "                ax.set_xlabel('step')\n",
        "                ax.set_xticks(np.arange(history_len))\n",
        "                ax.set_xticklabels(np.arange(history_len))\n",
        "  \n",
        "    \"\"\"\n",
        "        groups list of keys like [['loss_train','loss_val'],['accuracy']]\n",
        "        All charts within a group will be plot in the same axis\n",
        "    \"\"\"\n",
        "    def display(self, groups=None): \n",
        "        clear_output()\n",
        "        if groups is None:\n",
        "            groups = self.groups\n",
        "        n_groups = len(groups)\n",
        "        fig, ax = plt.subplots(1, n_groups, figsize=(48//n_groups, 3))\n",
        "        if n_groups == 1:\n",
        "            ax = [ax]\n",
        "        for i, g in enumerate(groups):\n",
        "            ax[i].set_ylabel(g)\n",
        "            self.display_keys(ax[i], self.history_dict[g]) \n",
        "        fig.tight_layout()\n",
        "        plt.show()\n",
        "\n",
        "    @property\n",
        "    def history_dict(self):\n",
        "        return dict(self._history_dict)"
      ]
    },
    {
      "cell_type": "markdown",
      "metadata": {
        "id": "OCdt3ZY_tgry"
      },
      "source": [
        "Пример работы кода для визуализации:"
      ]
    },
    {
      "cell_type": "code",
      "execution_count": 4,
      "metadata": {
        "id": "5Rhgc5VVtgrz",
        "colab": {
          "base_uri": "https://localhost:8080/",
          "height": 157
        },
        "outputId": "a7827c9c-2646-4a82-d718-4fc52958f495"
      },
      "outputs": [
        {
          "output_type": "display_data",
          "data": {
            "text/plain": [
              "<Figure size 1728x216 with 2 Axes>"
            ],
            "image/png": "[encoded data removed]"
          },
          "metadata": {
            "needs_background": "light"
          }
        }
      ],
      "source": [
        "pp = ProgressPlotter(title='x+1')\n",
        "for i in range(1, 5):\n",
        "    pp.add_scalar('line', i + 1)\n",
        "    pp.add_scalar('square', (i+1)**2)\n",
        "pp.set_title('2x-1')\n",
        "for i in range(1, 5):\n",
        "    pp.add_scalar('line', 2*i - 1)\n",
        "    pp.add_scalar('square', (2*i-1)**2)\n",
        "pp.display(['line', 'square'])"
      ]
    },
    {
      "cell_type": "markdown",
      "metadata": {
        "id": "ZOErI7VRtgr0"
      },
      "source": [
        "Описываю модель LeNet:"
      ]
    },
    {
      "cell_type": "code",
      "execution_count": 5,
      "metadata": {
        "id": "EDRpgSpjtgr0"
      },
      "outputs": [],
      "source": [
        "import torch\n",
        "import torch.nn as nn\n",
        "\n",
        "class LeNet(nn.Module):\n",
        "    def __init__(self):\n",
        "        super().__init__()\n",
        "        self.activation = nn.ReLU()\n",
        "        self.conv1 = nn.Conv2d(1, 6, 5)\n",
        "        self.pool = nn.MaxPool2d(2)\n",
        "        self.conv2 = nn.Conv2d(6, 16, 5)\n",
        "        self.pool = nn.MaxPool2d(2)\n",
        "        self.fc1 = nn.Linear(16 * 4 * 4, 120)  # 5*5 from image dimension\n",
        "        self.fc2 = nn.Linear(120, 84)\n",
        "        self.fc3 = nn.Linear(84, 10)        \n",
        "\n",
        "    def forward(self, x):\n",
        "      x = self.activation(self.pool(self.conv1(x)))\n",
        "      x = self.activation(self.pool(self.conv2(x)))\n",
        "      x = self.activation(self.fc1(x.flatten(start_dim=1)))\n",
        "      x = self.activation(self.fc2(x))\n",
        "      x = self.fc3(x)\n",
        "      return x"
      ]
    },
    {
      "cell_type": "code",
      "source": [
        "def calaculate_accuracy(model, data_loader):\n",
        "    correct, total = 0, 0 \n",
        "    with torch.no_grad(): \n",
        "        for batch in data_loader: # get batch\n",
        "            imgs, labels = batch # parse batch\n",
        "            imgs, labels = imgs.to(device), labels.to(device)\n",
        "            y_pred = model.forward(imgs) # get output\n",
        "            _, predicted = torch.max(y_pred.data, 1) # get predicted class\n",
        "            total += labels.size(0) # all examples\n",
        "            correct += (predicted == labels).sum().item() # correct predictions \n",
        "    return correct / total "
      ],
      "metadata": {
        "id": "ltX5zFMjwj2c"
      },
      "execution_count": 6,
      "outputs": []
    },
    {
      "cell_type": "markdown",
      "metadata": {
        "id": "PsqI_0jXtgr1"
      },
      "source": [
        "## ReLU +  инициализация по умолчанию\n",
        "Обучаю LeNet на 6-ти эпохах и вывожу график Loss. В качестве оптимизатора использую SGD."
      ]
    },
    {
      "cell_type": "code",
      "source": [
        "device = torch.device(\"cuda\" if torch.cuda.is_available() else \"cpu\") # change run time to gpu to fast training\n",
        "\n",
        "model = LeNet().to(device)\n",
        "criterion = nn.CrossEntropyLoss()\n",
        "optimizer = torch.optim.Adam(model.parameters(), lr=0.03)\n",
        "\n",
        "num_epochs = 6\n",
        "loss_hist = [] # for plotting\n",
        "acc_hist=[]\n",
        "for epoch in range(num_epochs):\n",
        "    hist_loss = 0\n",
        "    for _, batch in enumerate(train_loader, 0): # get batch\n",
        "        # parse batch \n",
        "        imgs, labels = batch\n",
        "        imgs, labels = imgs.to(device), labels.to(device)\n",
        "        # sets the gradients of all optimized tensors to zero.\n",
        "        optimizer.zero_grad() \n",
        "        # get outputs\n",
        "        y_pred = model(imgs) \n",
        "        # calculate loss\n",
        "        loss = criterion(y_pred, labels)\n",
        "        # calculate gradients\n",
        "        loss.backward() \n",
        "        # performs a single optimization step (parameter update)\n",
        "        optimizer.step()\n",
        "        hist_loss += loss.item()\n",
        "    loss_hist.append(hist_loss / len(train_loader))\n",
        "    acc_hist.append(round(calaculate_accuracy(model, val_loader), 3))\n",
        "    print(f\"Epoch={epoch} loss={loss_hist[epoch]:.4f}\")"
      ],
      "metadata": {
        "colab": {
          "base_uri": "https://localhost:8080/"
        },
        "id": "DT54YUSsvsAg",
        "outputId": "b0d7b4ea-dd25-439b-d28e-49b6b8fe929c"
      },
      "execution_count": 8,
      "outputs": [
        {
          "output_type": "stream",
          "name": "stdout",
          "text": [
            "Epoch=0 loss=2.3429\n",
            "Epoch=1 loss=2.3026\n",
            "Epoch=2 loss=2.3027\n",
            "Epoch=3 loss=2.3032\n",
            "Epoch=4 loss=2.3025\n",
            "Epoch=5 loss=2.3027\n"
          ]
        }
      ]
    },
    {
      "cell_type": "code",
      "source": [
        "#plt.plot(range(num_epochs), loss_hist)\n",
        "#plt.xlabel(\"Epochs\", fontsize=15)\n",
        "#plt.ylabel(\"Loss\", fontsize=15)\n",
        "#plt.show()\n",
        "\n",
        "pp = ProgressPlotter(title='relu_default')\n",
        "for x in loss_hist:\n",
        "    pp.add_scalar('loss on train', x)\n",
        "for x in acc_hist:\n",
        "    pp.add_scalar('accuracy', x)\n",
        "# pp.set_title('2x-1') понадобится при следующем написании\n",
        "pp.display(['loss on train', 'accuracy'])"
      ],
      "metadata": {
        "colab": {
          "base_uri": "https://localhost:8080/",
          "height": 157
        },
        "id": "L_2Z-e_-xRN6",
        "outputId": "db917be4-dc8b-4cc6-96cd-6388740750d2"
      },
      "execution_count": 9,
      "outputs": [
        {
          "output_type": "display_data",
          "data": {
            "text/plain": [
              "<Figure size 1728x216 with 2 Axes>"
            ],
            "image/png": "[encoded data removed]"
          },
          "metadata": {
            "needs_background": "light"
          }
        }
      ]
    },
    {
      "cell_type": "markdown",
      "metadata": {
        "id": "Fs2c60Lztgr2"
      },
      "source": [
        "## Tanh\n",
        "Просто заменяю функцию акивации на nn.Tanh. Вывожу график loss в тех же осях."
      ]
    },
    {
      "cell_type": "code",
      "execution_count": 10,
      "metadata": {
        "id": "-J5NO6FDtgr2"
      },
      "outputs": [],
      "source": [
        "class LeNet(nn.Module):\n",
        "    def __init__(self):\n",
        "        super().__init__()\n",
        "        self.activation = nn.Tanh()\n",
        "        self.conv1 = nn.Conv2d(1, 6, 5)\n",
        "        self.pool = nn.MaxPool2d(2)\n",
        "        self.conv2 = nn.Conv2d(6, 16, 5)\n",
        "        self.pool = nn.MaxPool2d(2)\n",
        "        self.fc1 = nn.Linear(16 * 4 * 4, 120)  # 5*5 from image dimension\n",
        "        self.fc2 = nn.Linear(120, 84)\n",
        "        self.fc3 = nn.Linear(84, 10)        \n",
        "\n",
        "    def forward(self, x):\n",
        "      x = self.activation(self.pool(self.conv1(x)))\n",
        "      x = self.activation(self.pool(self.conv2(x)))\n",
        "      x = self.activation(self.fc1(x.flatten(start_dim=1)))\n",
        "      x = self.activation(self.fc2(x))\n",
        "      x = self.fc3(x)\n",
        "      return x"
      ]
    },
    {
      "cell_type": "code",
      "source": [
        "model = LeNet().to(device)\n",
        "criterion = nn.CrossEntropyLoss()\n",
        "optimizer = torch.optim.Adam(model.parameters(), lr=0.03)\n",
        "\n",
        "num_epochs = 6\n",
        "loss_hist = [] # for plotting\n",
        "acc_hist=[]\n",
        "for epoch in range(num_epochs):\n",
        "    hist_loss = 0\n",
        "    for _, batch in enumerate(train_loader, 0): # get batch\n",
        "        # parse batch \n",
        "        imgs, labels = batch\n",
        "        imgs, labels = imgs.to(device), labels.to(device)\n",
        "        # sets the gradients of all optimized tensors to zero.\n",
        "        optimizer.zero_grad() \n",
        "        # get outputs\n",
        "        y_pred = model(imgs) \n",
        "        # calculate loss\n",
        "        loss = criterion(y_pred, labels)\n",
        "        # calculate gradients\n",
        "        loss.backward() \n",
        "        # performs a single optimization step (parameter update)\n",
        "        optimizer.step()\n",
        "        hist_loss += loss.item()\n",
        "    loss_hist.append(hist_loss / len(train_loader))\n",
        "    acc_hist.append(round(calaculate_accuracy(model, val_loader), 3))\n",
        "    print(f\"Epoch={epoch} loss={loss_hist[epoch]:.4f}\")"
      ],
      "metadata": {
        "colab": {
          "base_uri": "https://localhost:8080/"
        },
        "id": "bwEibUbU0L6z",
        "outputId": "7c1bdab4-12df-4051-a04a-70c4276f7c9e"
      },
      "execution_count": 11,
      "outputs": [
        {
          "output_type": "stream",
          "name": "stdout",
          "text": [
            "Epoch=0 loss=0.6889\n",
            "Epoch=1 loss=0.2005\n",
            "Epoch=2 loss=0.1672\n",
            "Epoch=3 loss=0.1734\n",
            "Epoch=4 loss=0.1529\n",
            "Epoch=5 loss=0.1536\n"
          ]
        }
      ]
    },
    {
      "cell_type": "code",
      "source": [
        "pp.set_title('tanh_default')\n",
        "for x in loss_hist:\n",
        "    pp.add_scalar('loss on train', x)\n",
        "for x in acc_hist:\n",
        "    pp.add_scalar('accuracy', x)\n",
        "pp.display(['loss on train', 'accuracy'])"
      ],
      "metadata": {
        "colab": {
          "base_uri": "https://localhost:8080/",
          "height": 157
        },
        "id": "uX0XZh860XzH",
        "outputId": "4fed0360-6632-41a2-f87b-3737fe94d956"
      },
      "execution_count": 12,
      "outputs": [
        {
          "output_type": "display_data",
          "data": {
            "text/plain": [
              "<Figure size 1728x216 with 2 Axes>"
            ],
            "image/png": "[encoded data removed]"
          },
          "metadata": {
            "needs_background": "light"
          }
        }
      ]
    },
    {
      "cell_type": "markdown",
      "metadata": {
        "id": "4HtxlWbhtgr3"
      },
      "source": [
        "## Tanh + Zavier\n",
        "\n",
        "Инициализирую веса при помощи алгоритма [Завьера](https://pytorch.org/docs/stable/nn.init.html).\n",
        "По прежнему использую nn.Tanh. Вывожу график Loss в тех же осях."
      ]
    },
    {
      "cell_type": "code",
      "execution_count": 13,
      "metadata": {
        "id": "k2JHUMD9tgr3"
      },
      "outputs": [],
      "source": [
        "class LeNet(nn.Module): # в правильном месте инициализирую? Мб отдельным методом стоит?\n",
        "    def __init__(self):\n",
        "        super().__init__()\n",
        "        self.activation = nn.Tanh()\n",
        "        self.conv1 = nn.Conv2d(1, 6, 5)\n",
        "        nn.init.xavier_uniform(self.conv1.weight,gain=nn.init.calculate_gain('tanh'))\n",
        "        self.pool = nn.MaxPool2d(2)\n",
        "        self.conv2 = nn.Conv2d(6, 16, 5)\n",
        "        nn.init.xavier_uniform(self.conv2.weight,gain=nn.init.calculate_gain('tanh'))\n",
        "        self.pool = nn.MaxPool2d(2)\n",
        "        self.fc1 = nn.Linear(16 * 4 * 4, 120)  # 5*5 from image dimension\n",
        "        nn.init.xavier_uniform(self.fc1.weight,gain=nn.init.calculate_gain('tanh'))\n",
        "        self.fc2 = nn.Linear(120, 84)\n",
        "        nn.init.xavier_uniform(self.fc2.weight,gain=nn.init.calculate_gain('tanh'))\n",
        "        self.fc3 = nn.Linear(84, 10)   \n",
        "        nn.init.xavier_uniform(self.fc3.weight,gain=nn.init.calculate_gain('tanh'))     \n",
        "\n",
        "    def forward(self, x):\n",
        "      x = self.activation(self.pool(self.conv1(x)))\n",
        "      x = self.activation(self.pool(self.conv2(x)))\n",
        "      x = self.activation(self.fc1(x.flatten(start_dim=1)))\n",
        "      x = self.activation(self.fc2(x))\n",
        "      x = self.fc3(x)\n",
        "      return x"
      ]
    },
    {
      "cell_type": "code",
      "source": [
        "model = LeNet().to(device)\n",
        "criterion = nn.CrossEntropyLoss()\n",
        "optimizer = torch.optim.Adam(model.parameters(), lr=0.03)\n",
        "\n",
        "num_epochs = 6\n",
        "loss_hist = [] # for plotting\n",
        "acc_hist=[]\n",
        "for epoch in range(num_epochs):\n",
        "    hist_loss = 0\n",
        "    for _, batch in enumerate(train_loader, 0): # get batch\n",
        "        # parse batch \n",
        "        imgs, labels = batch\n",
        "        imgs, labels = imgs.to(device), labels.to(device)\n",
        "        # sets the gradients of all optimized tensors to zero.\n",
        "        optimizer.zero_grad() \n",
        "        # get outputs\n",
        "        y_pred = model(imgs) \n",
        "        # calculate loss\n",
        "        loss = criterion(y_pred, labels)\n",
        "        # calculate gradients\n",
        "        loss.backward() \n",
        "        # performs a single optimization step (parameter update)\n",
        "        optimizer.step()\n",
        "        hist_loss += loss.item()\n",
        "    loss_hist.append(hist_loss / len(train_loader))\n",
        "    acc_hist.append(round(calaculate_accuracy(model, val_loader), 3))\n",
        "    print(f\"Epoch={epoch} loss={loss_hist[epoch]:.4f}\")"
      ],
      "metadata": {
        "colab": {
          "base_uri": "https://localhost:8080/"
        },
        "id": "C964-oMi4jX7",
        "outputId": "ad9c7a63-1c53-46b0-8791-e0bf5ca8cebb"
      },
      "execution_count": 14,
      "outputs": [
        {
          "output_type": "stream",
          "name": "stderr",
          "text": [
            "<ipython-input-13-22cd829bcba6>:8: UserWarning: nn.init.xavier_uniform is now deprecated in favor of nn.init.xavier_uniform_.\n",
            "  nn.init.xavier_uniform(self.conv1.weight,gain=nn.init.calculate_gain('tanh'))\n",
            "<ipython-input-13-22cd829bcba6>:11: UserWarning: nn.init.xavier_uniform is now deprecated in favor of nn.init.xavier_uniform_.\n",
            "  nn.init.xavier_uniform(self.conv2.weight,gain=nn.init.calculate_gain('tanh'))\n",
            "<ipython-input-13-22cd829bcba6>:14: UserWarning: nn.init.xavier_uniform is now deprecated in favor of nn.init.xavier_uniform_.\n",
            "  nn.init.xavier_uniform(self.fc1.weight,gain=nn.init.calculate_gain('tanh'))\n",
            "<ipython-input-13-22cd829bcba6>:16: UserWarning: nn.init.xavier_uniform is now deprecated in favor of nn.init.xavier_uniform_.\n",
            "  nn.init.xavier_uniform(self.fc2.weight,gain=nn.init.calculate_gain('tanh'))\n",
            "<ipython-input-13-22cd829bcba6>:18: UserWarning: nn.init.xavier_uniform is now deprecated in favor of nn.init.xavier_uniform_.\n",
            "  nn.init.xavier_uniform(self.fc3.weight,gain=nn.init.calculate_gain('tanh'))\n"
          ]
        },
        {
          "output_type": "stream",
          "name": "stdout",
          "text": [
            "Epoch=0 loss=1.3453\n",
            "Epoch=1 loss=0.3390\n",
            "Epoch=2 loss=0.2526\n",
            "Epoch=3 loss=0.2395\n",
            "Epoch=4 loss=0.2136\n",
            "Epoch=5 loss=0.2190\n"
          ]
        }
      ]
    },
    {
      "cell_type": "code",
      "source": [
        "pp.set_title('tanh_xavier')\n",
        "for x in loss_hist:\n",
        "    pp.add_scalar('loss on train', x)\n",
        "for x in acc_hist:\n",
        "    pp.add_scalar('accuracy', x)\n",
        "pp.display(['loss on train', 'accuracy'])"
      ],
      "metadata": {
        "colab": {
          "base_uri": "https://localhost:8080/",
          "height": 157
        },
        "id": "NwuPmywO4lhE",
        "outputId": "632bf007-690c-4afd-c8b6-0a261fe9f606"
      },
      "execution_count": 15,
      "outputs": [
        {
          "output_type": "display_data",
          "data": {
            "text/plain": [
              "<Figure size 1728x216 with 2 Axes>"
            ],
            "image/png": "[encoded data removed]"
          },
          "metadata": {
            "needs_background": "light"
          }
        }
      ]
    },
    {
      "cell_type": "markdown",
      "metadata": {
        "id": "uRoOLVCytgr4"
      },
      "source": [
        "## ReLU + Kaiming\n",
        "\n",
        "Теперь заменяю функцию активации на ReLU и инициализирую веса при помощи алгоритма [Kaiming](https://pytorch.org/docs/stable/nn.init.html).\n",
        "Вывожу график Loss в тех же осях.\n"
      ]
    },
    {
      "cell_type": "code",
      "execution_count": 16,
      "metadata": {
        "id": "WG5ri9gitgr4"
      },
      "outputs": [],
      "source": [
        "import torch\n",
        "import torch.nn as nn\n",
        "\n",
        "class LeNet(nn.Module):\n",
        "    def __init__(self):\n",
        "        super().__init__()\n",
        "        self.activation = nn.ReLU()\n",
        "        self.conv1 = nn.Conv2d(1, 6, 5)\n",
        "        nn.init.kaiming_uniform_(self.conv1.weight, nonlinearity='relu')\n",
        "        self.pool = nn.MaxPool2d(2)\n",
        "        self.conv2 = nn.Conv2d(6, 16, 5)\n",
        "        nn.init.kaiming_uniform_(self.conv2.weight, nonlinearity='relu')\n",
        "        self.pool = nn.MaxPool2d(2)\n",
        "        self.fc1 = nn.Linear(16 * 4 * 4, 120)  # 5*5 from image dimension\n",
        "        nn.init.kaiming_uniform_(self.fc1.weight, nonlinearity='relu')\n",
        "        self.fc2 = nn.Linear(120, 84)\n",
        "        nn.init.kaiming_uniform_(self.fc2.weight, nonlinearity='relu')\n",
        "        self.fc3 = nn.Linear(84, 10)        \n",
        "        nn.init.kaiming_uniform_(self.fc3.weight, nonlinearity='relu')\n",
        "\n",
        "    def forward(self, x):\n",
        "      x = self.activation(self.pool(self.conv1(x)))\n",
        "      x = self.activation(self.pool(self.conv2(x)))\n",
        "      x = self.activation(self.fc1(x.flatten(start_dim=1)))\n",
        "      x = self.activation(self.fc2(x))\n",
        "      x = self.fc3(x)\n",
        "      return x"
      ]
    },
    {
      "cell_type": "code",
      "source": [
        "model = LeNet().to(device)\n",
        "criterion = nn.CrossEntropyLoss()\n",
        "optimizer = torch.optim.Adam(model.parameters(), lr=0.03)\n",
        "\n",
        "num_epochs = 6\n",
        "loss_hist = [] # for plotting\n",
        "acc_hist=[]\n",
        "for epoch in range(num_epochs):\n",
        "    hist_loss = 0\n",
        "    for _, batch in enumerate(train_loader, 0): # get batch\n",
        "        # parse batch \n",
        "        imgs, labels = batch\n",
        "        imgs, labels = imgs.to(device), labels.to(device)\n",
        "        # sets the gradients of all optimized tensors to zero.\n",
        "        optimizer.zero_grad() \n",
        "        # get outputs\n",
        "        y_pred = model(imgs) \n",
        "        # calculate loss\n",
        "        loss = criterion(y_pred, labels)\n",
        "        # calculate gradients\n",
        "        loss.backward() \n",
        "        # performs a single optimization step (parameter update)\n",
        "        optimizer.step()\n",
        "        hist_loss += loss.item()\n",
        "    loss_hist.append(hist_loss / len(train_loader))\n",
        "    acc_hist.append(round(calaculate_accuracy(model, val_loader), 3))\n",
        "    print(f\"Epoch={epoch} loss={loss_hist[epoch]:.4f}\")"
      ],
      "metadata": {
        "colab": {
          "base_uri": "https://localhost:8080/"
        },
        "id": "iJ-AGrza5zN2",
        "outputId": "5de28b3a-b11e-4a75-e6a5-c396ea8af744"
      },
      "execution_count": 17,
      "outputs": [
        {
          "output_type": "stream",
          "name": "stdout",
          "text": [
            "Epoch=0 loss=2.8973\n",
            "Epoch=1 loss=0.9420\n",
            "Epoch=2 loss=0.5530\n",
            "Epoch=3 loss=0.4241\n",
            "Epoch=4 loss=0.3770\n",
            "Epoch=5 loss=0.3164\n"
          ]
        }
      ]
    },
    {
      "cell_type": "code",
      "source": [
        "pp.set_title('relu_kaiming')\n",
        "for x in loss_hist:\n",
        "    pp.add_scalar('loss on train', x)\n",
        "for x in acc_hist:\n",
        "    pp.add_scalar('accuracy', x)\n",
        "pp.display(['loss on train', 'accuracy'])"
      ],
      "metadata": {
        "colab": {
          "base_uri": "https://localhost:8080/",
          "height": 157
        },
        "id": "TMdzPJzQ5zwj",
        "outputId": "b69730f6-5241-4a19-ec3a-fa381db4974c"
      },
      "execution_count": 18,
      "outputs": [
        {
          "output_type": "display_data",
          "data": {
            "text/plain": [
              "<Figure size 1728x216 with 2 Axes>"
            ],
            "image/png": "[encoded data removed]"
          },
          "metadata": {
            "needs_background": "light"
          }
        }
      ]
    },
    {
      "cell_type": "markdown",
      "metadata": {
        "id": "yxol3esltgr5"
      },
      "source": [
        "# Задание 2. Сравнение оптимизаторов\n",
        "\n",
        "В этом задании  нужно обучить модель из прошлого задания тремя способами:\n",
        "- с оптимизатором с моментом,\n",
        "- с адаптивным оптимизатором,\n",
        "- с простым SGD (без momentum и прочих дополнительных параметров) и циклическим learning rate (нужно будет подобрать диапазон скоростей обучения). \n",
        "\n",
        "\n",
        "Я построю графики Loss и accuracy и сравню качество и скорость обучения."
      ]
    },
    {
      "cell_type": "code",
      "source": [
        "import torch\n",
        "import torch.nn as nn\n",
        "\n",
        "class LeNet(nn.Module):\n",
        "    def __init__(self):\n",
        "        super().__init__()\n",
        "        self.activation = nn.ReLU()\n",
        "        self.conv1 = nn.Conv2d(1, 6, 5)\n",
        "        self.pool = nn.MaxPool2d(2)\n",
        "        self.conv2 = nn.Conv2d(6, 16, 5)\n",
        "        self.pool = nn.MaxPool2d(2)\n",
        "        self.fc1 = nn.Linear(16 * 4 * 4, 120)  # 5*5 from image dimension\n",
        "        self.fc2 = nn.Linear(120, 84)\n",
        "        self.fc3 = nn.Linear(84, 10)        \n",
        "\n",
        "    def forward(self, x):\n",
        "      x = self.activation(self.pool(self.conv1(x)))\n",
        "      x = self.activation(self.pool(self.conv2(x)))\n",
        "      x = self.activation(self.fc1(x.flatten(start_dim=1)))\n",
        "      x = self.activation(self.fc2(x))\n",
        "      x = self.fc3(x)\n",
        "      return x"
      ],
      "metadata": {
        "id": "Pw26Z_4M64v8"
      },
      "execution_count": 19,
      "outputs": []
    },
    {
      "cell_type": "code",
      "source": [
        "def calaculate_accuracy(model, data_loader):\n",
        "    correct, total = 0, 0 \n",
        "    with torch.no_grad(): \n",
        "        for batch in data_loader: # get batch\n",
        "            imgs, labels = batch # parse batch\n",
        "            imgs, labels = imgs.to(device), labels.to(device)\n",
        "            y_pred = model.forward(imgs) # get output\n",
        "            _, predicted = torch.max(y_pred.data, 1) # get predicted class\n",
        "            total += labels.size(0) # all examples\n",
        "            correct += (predicted == labels).sum().item() # correct predictions \n",
        "    return correct / total \n",
        "\n",
        "\n",
        "def train(model,optimizer):\n",
        "    criterion = nn.CrossEntropyLoss()\n",
        "\n",
        "    num_epochs = 6\n",
        "    loss_hist = [] # for plotting\n",
        "    acc_hist=[]\n",
        "    for epoch in range(num_epochs):\n",
        "        hist_loss = 0\n",
        "        for _, batch in enumerate(train_loader, 0): # get batch\n",
        "            # parse batch \n",
        "            imgs, labels = batch\n",
        "            imgs, labels = imgs.to(device), labels.to(device)\n",
        "            # sets the gradients of all optimized tensors to zero.\n",
        "            optimizer.zero_grad() \n",
        "            # get outputs\n",
        "            y_pred = model(imgs) \n",
        "            # calculate loss\n",
        "            loss = criterion(y_pred, labels)\n",
        "            # calculate gradients\n",
        "            loss.backward() \n",
        "            # performs a single optimization step (parameter update)\n",
        "            optimizer.step()\n",
        "            hist_loss += loss.item()\n",
        "        loss_hist.append(hist_loss / len(train_loader))\n",
        "        acc_hist.append(round(calaculate_accuracy(model, val_loader), 3))\n",
        "        print(f\"Epoch={epoch} loss={loss_hist[epoch]:.4f}\")\n",
        "    return loss_hist, acc_hist\n"
      ],
      "metadata": {
        "id": "V8QvUeOf6-dD"
      },
      "execution_count": 20,
      "outputs": []
    },
    {
      "cell_type": "markdown",
      "metadata": {
        "id": "U-8UrmFstgr6"
      },
      "source": [
        "## Оптимизатор с моментом"
      ]
    },
    {
      "cell_type": "code",
      "execution_count": 21,
      "metadata": {
        "id": "NeZLNdo3tgr7",
        "colab": {
          "base_uri": "https://localhost:8080/"
        },
        "outputId": "b0c29eee-7e36-40c3-a2c5-1a2d5769a77a"
      },
      "outputs": [
        {
          "output_type": "stream",
          "name": "stdout",
          "text": [
            "Epoch=0 loss=2.3008\n",
            "Epoch=1 loss=2.2841\n",
            "Epoch=2 loss=2.2578\n",
            "Epoch=3 loss=2.2001\n",
            "Epoch=4 loss=2.0266\n",
            "Epoch=5 loss=1.4536\n"
          ]
        }
      ],
      "source": [
        "device = torch.device(\"cuda\" if torch.cuda.is_available() else \"cpu\") # change run time to gpu to fast training\n",
        "\n",
        "model = LeNet().to(device)\n",
        "loss_hist, acc_hist=train(model,optimizer=torch.optim.SGD(model.parameters(),momentum=0.9, lr=0.001) )"
      ]
    },
    {
      "cell_type": "code",
      "source": [
        "pp = ProgressPlotter(title='SGD_momentum')\n",
        "for x in loss_hist:\n",
        "    pp.add_scalar('loss on train', x)\n",
        "for x in acc_hist:\n",
        "    pp.add_scalar('accuracy', x)\n",
        "pp.display(['loss on train', 'accuracy'])"
      ],
      "metadata": {
        "id": "ZbDtG8zR7MUN",
        "colab": {
          "base_uri": "https://localhost:8080/",
          "height": 157
        },
        "outputId": "6efb5d00-5ffd-4ec0-ef62-88a88fa074b7"
      },
      "execution_count": 22,
      "outputs": [
        {
          "output_type": "display_data",
          "data": {
            "text/plain": [
              "<Figure size 1728x216 with 2 Axes>"
            ],
            "image/png": "[encoded data removed]"
          },
          "metadata": {
            "needs_background": "light"
          }
        }
      ]
    },
    {
      "cell_type": "markdown",
      "metadata": {
        "id": "wysfTfN0tgr7"
      },
      "source": [
        "## Адаптивный оптимизатор"
      ]
    },
    {
      "cell_type": "code",
      "execution_count": 23,
      "metadata": {
        "id": "QMdDH4_-tgr7",
        "colab": {
          "base_uri": "https://localhost:8080/"
        },
        "outputId": "7510ee06-a93a-452c-a6ec-21def941e78c"
      },
      "outputs": [
        {
          "output_type": "stream",
          "name": "stdout",
          "text": [
            "Epoch=0 loss=1.0539\n",
            "Epoch=1 loss=0.3082\n",
            "Epoch=2 loss=0.2162\n",
            "Epoch=3 loss=0.1634\n",
            "Epoch=4 loss=0.1369\n",
            "Epoch=5 loss=0.1136\n"
          ]
        }
      ],
      "source": [
        "model = LeNet().to(device)\n",
        "loss_hist, acc_hist=train(model,optimizer=torch.optim.Adam(model.parameters(), lr=0.001) )"
      ]
    },
    {
      "cell_type": "code",
      "source": [
        "pp.set_title('AdamW')\n",
        "for x in loss_hist:\n",
        "    pp.add_scalar('loss on train', x)\n",
        "for x in acc_hist:\n",
        "    pp.add_scalar('accuracy', x)\n",
        "pp.display(['loss on train', 'accuracy'])"
      ],
      "metadata": {
        "id": "nTnEQ5Kv8tMD",
        "colab": {
          "base_uri": "https://localhost:8080/",
          "height": 157
        },
        "outputId": "c7b79f5c-04f8-4292-de18-ae6b3a4fb2d0"
      },
      "execution_count": 24,
      "outputs": [
        {
          "output_type": "display_data",
          "data": {
            "text/plain": [
              "<Figure size 1728x216 with 2 Axes>"
            ],
            "image/png": "[encoded data removed]"
          },
          "metadata": {
            "needs_background": "light"
          }
        }
      ]
    },
    {
      "cell_type": "markdown",
      "metadata": {
        "id": "1msZXHEdtgr7"
      },
      "source": [
        "## Циклический learning rate\n",
        "Теперь попробую обучить ту же архитектуру при помощи комбинации SGD (без momentum и прочих дополнительных параметров) и циклического learning rate."
      ]
    },
    {
      "cell_type": "markdown",
      "metadata": {
        "id": "Ni1f6C96tgr8"
      },
      "source": [
        "Вот для подбора learning rate для циклического lr я использую код из лекции по этой теме. По рекомендации значения подбираю в диапазоне $[10^{-3}, 1]$) и исптользую параметры `step_size_up=40, step_size_down=40`.\n",
        "\n"
      ]
    },
    {
      "cell_type": "code",
      "execution_count": 25,
      "metadata": {
        "id": "P5xgb4WDtgr8",
        "colab": {
          "base_uri": "https://localhost:8080/"
        },
        "outputId": "d51aadca-035f-414f-8bd9-d02609c4abb6"
      },
      "outputs": [
        {
          "output_type": "stream",
          "name": "stderr",
          "text": [
            "100%|██████████| 6/6 [00:16<00:00,  2.67s/it]\n"
          ]
        }
      ],
      "source": [
        "from tqdm import tqdm\n",
        "import math\n",
        "\n",
        "start_lr = 1e-3\n",
        "end_lr = 1\n",
        "lr_find_epochs = 6\n",
        "steps = lr_find_epochs * len(train_loader)\n",
        "smoothing = 0.05\n",
        "\n",
        "model = LeNet().to(device)\n",
        "criterion = nn.CrossEntropyLoss().to(device)\n",
        "\n",
        "\n",
        "lrs = []\n",
        "losses = []\n",
        "optimizer = torch.optim.SGD(model.parameters(), lr=1e-8)\n",
        "lr_lambda = lambda x: math.exp(x * math.log(end_lr / start_lr) / (steps))\n",
        "\n",
        "scheduler = torch.optim.lr_scheduler.LambdaLR(optimizer, lr_lambda)\n",
        "\n",
        "for epoch in tqdm(range(lr_find_epochs)):\n",
        "    for batch in train_loader:\n",
        "        optimizer.zero_grad()\n",
        "        x_train, y_train = batch\n",
        "        x_train, y_train = x_train.to(device), y_train.to(device)\n",
        "        y_pred = model(x_train)\n",
        "        loss = criterion(y_pred, y_train)\n",
        "\n",
        "        loss.backward()\n",
        "        optimizer.step()\n",
        "        scheduler.step()\n",
        "\n",
        "        loss = loss.detach().cpu().numpy()\n",
        "        if len(losses) > 1:\n",
        "            loss = smoothing * loss + (1 - smoothing) * losses[-1]\n",
        "        losses.append(loss)\n",
        "        lr_step = optimizer.state_dict()[\"param_groups\"][0][\"lr\"]\n",
        "        lrs.append(lr_step)"
      ]
    },
    {
      "cell_type": "code",
      "source": [
        "min_lr = 1e-3\n",
        "max_lr = 1\n",
        "\n",
        "def train_epoch_sh(model, optimizer, scheduler, criterion, train_loader):\n",
        "    loss_history = []\n",
        "    for batch in train_loader:\n",
        "        optimizer.zero_grad()\n",
        "        x_train, y_train = batch  # parse data\n",
        "        x_train, y_train = x_train.to(device), y_train.to(device)  # compute on gpu\n",
        "        y_pred = model(x_train)  # get predictions\n",
        "        loss = criterion(y_pred, y_train)  # compute loss\n",
        "        loss_history.append(loss.cpu().detach().numpy())  # write loss to log\n",
        "        loss.backward()\n",
        "        optimizer.step()\n",
        "        scheduler.step()\n",
        "    loss_sum=sum(loss_history)/len(train_loader)\n",
        "    return loss_sum\n"
      ],
      "metadata": {
        "id": "NMIcDHQeAqkm"
      },
      "execution_count": 26,
      "outputs": []
    },
    {
      "cell_type": "code",
      "source": [
        "model = model = LeNet().to(device)\n",
        "criterion = nn.CrossEntropyLoss().to(device)\n",
        "optimizer = torch.optim.SGD(model.parameters(), lr=min_lr)\n",
        "\n",
        "scheduler = torch.optim.lr_scheduler.CyclicLR(\n",
        "    optimizer, base_lr=min_lr, max_lr=max_lr, mode=\"triangular\"\n",
        ")  # first case"
      ],
      "metadata": {
        "id": "8mXBbsgMA6v2"
      },
      "execution_count": 27,
      "outputs": []
    },
    {
      "cell_type": "code",
      "source": [
        "from copy import deepcopy\n",
        "\n",
        "\n",
        "def train_model_cycle_sh(model, optimizer, scheduler, model_name=None, num_epochs=6):\n",
        "\n",
        "    criterion = nn.CrossEntropyLoss().to(device)\n",
        "\n",
        "    train_history = {}\n",
        "    train_history[\"model_name\"] = model_name\n",
        "    train_history[\"loss_on_train\"] = []\n",
        "    train_history[\"loss_on_test\"] = []\n",
        "    train_history[\"accuracy_history\"]=[]\n",
        "\n",
        "    best_loss = np.inf\n",
        "\n",
        "    for epoch in tqdm(range(num_epochs)):\n",
        "        model.train()\n",
        "        loss_on_train = train_epoch_sh(\n",
        "            model, optimizer, scheduler, criterion, train_loader\n",
        "        )\n",
        "        model.eval()\n",
        "        val_loss, loss_on_test = validate(model, criterion, val_loader)\n",
        "        train_history[\"loss_on_train\"].append(loss_on_train)\n",
        "        train_history[\"loss_on_test\"].extend(loss_on_test)\n",
        "        train_history[\"accuracy_history\"].append(round(calaculate_accuracy(model, val_loader), 3) )\n",
        "        if val_loss < best_loss:\n",
        "            best_loss = val_loss\n",
        "            best_model = deepcopy(model)\n",
        "    return best_model, train_history\n"
      ],
      "metadata": {
        "id": "5Y0XEAjhA90p"
      },
      "execution_count": 28,
      "outputs": []
    },
    {
      "cell_type": "code",
      "source": [
        "def validate(model, criterion, val_loader):\n",
        "    cumloss = 0\n",
        "    loss_history = []\n",
        "    with torch.no_grad():\n",
        "        for batch in val_loader:\n",
        "            x_train, y_train = batch  # parse data\n",
        "            x_train, y_train = x_train.to(device), y_train.to(device)  # compute on gpu\n",
        "            y_pred = model(x_train)  # get predictions\n",
        "            loss = criterion(y_pred, y_train)  # compute loss\n",
        "            loss_history.append(loss.cpu().detach().numpy())  # write loss to log\n",
        "            cumloss += loss\n",
        "    return cumloss / len(val_loader), loss_history  # mean loss and history"
      ],
      "metadata": {
        "id": "A8hJrCZ2IAVS"
      },
      "execution_count": 29,
      "outputs": []
    },
    {
      "cell_type": "code",
      "source": [
        "best_model, history = train_model_cycle_sh(\n",
        "    model, optimizer, scheduler, model_name=\"sgd_cycle_lr\", num_epochs=6\n",
        ")"
      ],
      "metadata": {
        "colab": {
          "base_uri": "https://localhost:8080/"
        },
        "id": "9GlWWMzHHrcu",
        "outputId": "820068db-6ad0-451a-8a24-a816f3ca5922"
      },
      "execution_count": 30,
      "outputs": [
        {
          "output_type": "stream",
          "name": "stderr",
          "text": [
            "100%|██████████| 6/6 [00:25<00:00,  4.24s/it]\n"
          ]
        }
      ]
    },
    {
      "cell_type": "code",
      "source": [
        "print(len(history[\"loss_on_train\"]),len(history[\"accuracy_history\"]))"
      ],
      "metadata": {
        "colab": {
          "base_uri": "https://localhost:8080/"
        },
        "id": "-ztxn2B4J0Au",
        "outputId": "b0a93b2e-554c-4cf1-8ef8-42359de936af"
      },
      "execution_count": 31,
      "outputs": [
        {
          "output_type": "stream",
          "name": "stdout",
          "text": [
            "6 6\n"
          ]
        }
      ]
    },
    {
      "cell_type": "code",
      "source": [
        "pp.set_title('CycleR+SGD')\n",
        "for x in history[\"loss_on_train\"]:\n",
        "    pp.add_scalar('loss on train', x)\n",
        "for x in history[\"accuracy_history\"]:\n",
        "    pp.add_scalar('accuracy', x)\n",
        "pp.display(['loss on train', 'accuracy'])"
      ],
      "metadata": {
        "id": "b-eQdZ2M88lL",
        "colab": {
          "base_uri": "https://localhost:8080/",
          "height": 157
        },
        "outputId": "9fed8fac-00a5-47ad-f873-6c23a038309a"
      },
      "execution_count": 32,
      "outputs": [
        {
          "output_type": "display_data",
          "data": {
            "text/plain": [
              "<Figure size 1728x216 with 2 Axes>"
            ],
            "image/png": "[encoded data removed]"
          },
          "metadata": {
            "needs_background": "light"
          }
        }
      ]
    },
    {
      "cell_type": "markdown",
      "metadata": {
        "id": "N35A1U9Ptgr-"
      },
      "source": [
        "# Задание 3. Dropout\n",
        "\n",
        "Добавляю в мою нейросеть Dropout на последних слоях. \n",
        "\n",
        "Обучаю ее на наборе данных MNIST. После этого делаю предсказание на тестовом датасете, не делая model.eval. Повторяю процедуру предсказания 20 раз. \n",
        "\n",
        "\n",
        "\\\\\n",
        "\n",
        "Хочу еще сделать такое, но времени пока нет:\n",
        "\n",
        "Вывести 10 изображений, в классификации которых нейросеть больше всего не уверена (на 20 запусках предсказывала им самые различные классы) и 10 изображений, в классификации которых нейросеть больше всего уверена. \n",
        "\n",
        "Так что все обучено и точность посчитана, но вывод картинок добавлю как-нибудь потом.\n",
        "\n"
      ]
    },
    {
      "cell_type": "code",
      "source": [
        "def calaculate_accuracy(model, data_loader):\n",
        "    correct, total = 0, 0 \n",
        "    model.train() # мучу трейн мод\n",
        "    with torch.no_grad(): \n",
        "        for batch in data_loader: # get batch\n",
        "            imgs, labels = batch # parse batch\n",
        "            imgs, labels = imgs.to(device), labels.to(device)\n",
        "            y_pred = model.forward(imgs) # get output\n",
        "            _, predicted = torch.max(y_pred.data, 1) # get predicted class\n",
        "            total += labels.size(0) # all examples\n",
        "            correct += (predicted == labels).sum().item() # correct predictions \n",
        "    return correct / total "
      ],
      "metadata": {
        "id": "4w3WTNoaRt2G"
      },
      "execution_count": 33,
      "outputs": []
    },
    {
      "cell_type": "code",
      "execution_count": 34,
      "metadata": {
        "id": "NQBi2CMZtgr-"
      },
      "outputs": [],
      "source": [
        "class LeNet(nn.Module):\n",
        "    def __init__(self):\n",
        "        super().__init__()\n",
        "        self.activation = nn.ReLU()\n",
        "        self.conv1 = nn.Conv2d(1, 6, 5)\n",
        "        self.pool = nn.MaxPool2d(2)\n",
        "        self.conv2 = nn.Conv2d(6, 16, 5)\n",
        "        self.pool = nn.MaxPool2d(2)\n",
        "        self.flt=nn.Flatten()\n",
        "        self.drp=nn.Dropout(0.2)   \n",
        "        self.fc1 = nn.Linear(16 * 4 * 4, 120)  # 5*5 from image dimension\n",
        "        self.fc2 = nn.Linear(120, 84)\n",
        "        self.fc3 = nn.Linear(84, 10)     \n",
        "\n",
        "    def forward(self, x):\n",
        "      x = self.activation(self.pool(self.conv1(x)))\n",
        "      x = self.activation(self.pool(self.conv2(x)))\n",
        "      x=self.flt(x)\n",
        "      x=self.drp(x)\n",
        "      x = self.activation(self.fc1(x))\n",
        "      x = self.activation(self.fc2(x))\n",
        "      x = self.fc3(x)\n",
        "      return x"
      ]
    },
    {
      "cell_type": "code",
      "source": [
        "device = torch.device(\"cuda\" if torch.cuda.is_available() else \"cpu\") # change run time to gpu to fast training\n",
        "\n",
        "model = LeNet().to(device)\n",
        "criterion = nn.CrossEntropyLoss()\n",
        "optimizer = torch.optim.Adam(model.parameters(), lr=0.01)\n",
        "\n",
        "num_epochs = 10\n",
        "loss_hist = [] # for plotting\n",
        "acc_hist=[]\n",
        "for epoch in range(num_epochs):\n",
        "    hist_loss = 0\n",
        "    for _, batch in enumerate(train_loader, 0): # get batch\n",
        "        # parse batch \n",
        "        imgs, labels = batch\n",
        "        imgs, labels = imgs.to(device), labels.to(device)\n",
        "        # sets the gradients of all optimized tensors to zero.\n",
        "        optimizer.zero_grad() \n",
        "        # get outputs\n",
        "        y_pred = model(imgs) \n",
        "        # calculate loss\n",
        "        loss = criterion(y_pred, labels)\n",
        "        # calculate gradients\n",
        "        loss.backward() \n",
        "        # performs a single optimization step (parameter update)\n",
        "        optimizer.step()\n",
        "        hist_loss += loss.item()\n",
        "    loss_hist.append(hist_loss / len(train_loader))\n",
        "    acc_hist.append(round(calaculate_accuracy(model, val_loader), 3))\n",
        "    print(f\"Epoch={epoch} loss={loss_hist[epoch]:.4f}\")"
      ],
      "metadata": {
        "colab": {
          "base_uri": "https://localhost:8080/"
        },
        "id": "L6u1T-5HPnk3",
        "outputId": "739fb6fd-3bcc-48c5-a683-03f22917e7db"
      },
      "execution_count": 35,
      "outputs": [
        {
          "output_type": "stream",
          "name": "stdout",
          "text": [
            "Epoch=0 loss=0.5914\n",
            "Epoch=1 loss=0.1374\n",
            "Epoch=2 loss=0.1029\n",
            "Epoch=3 loss=0.0900\n",
            "Epoch=4 loss=0.0848\n",
            "Epoch=5 loss=0.0679\n",
            "Epoch=6 loss=0.0730\n",
            "Epoch=7 loss=0.0555\n",
            "Epoch=8 loss=0.0517\n",
            "Epoch=9 loss=0.0590\n"
          ]
        }
      ]
    },
    {
      "cell_type": "code",
      "source": [
        "for i in range(20):\n",
        "    x=round(calaculate_accuracy(model, val_loader), 3)"
      ],
      "metadata": {
        "id": "2zHC7cBjSaTd"
      },
      "execution_count": 36,
      "outputs": []
    },
    {
      "cell_type": "markdown",
      "metadata": {
        "id": "nrrOs-QDtgr_"
      },
      "source": [
        "# Задание 4. Глубокая сеть\n",
        "\n",
        "Описываю сверточную архитектуру для классификации CIFAR10. Использую [BatchNorm](https://pytorch.org/docs/stable/generated/torch.nn.BatchNorm2d.html?highlight=batchnorm#torch.nn.BatchNorm2d) между слоями и другие техники улучшения сходимости. Точно уже хорошая."
      ]
    },
    {
      "cell_type": "markdown",
      "metadata": {
        "id": "-HUed5DStgsA"
      },
      "source": [
        "Загрузим CIFAR10"
      ]
    },
    {
      "cell_type": "code",
      "execution_count": 37,
      "metadata": {
        "id": "beP1dTSBtgsA",
        "colab": {
          "base_uri": "https://localhost:8080/",
          "height": 101,
          "referenced_widgets": [
            "e186cd3bf5f549958c031ce7c653ea10",
            "26195de0c40f4e71ad49e82a965ee573",
            "f721255a3bea4fbe966b4ab20335ea00",
            "3608e1ef56db4c0d9d1bd1250ee62ff4",
            "5814166efe424848befe3a96820fb6fe",
            "05d339cd0b3e4dbe9cf23ebd3d419a64",
            "b7892b96cec84c779612ad6888706760",
            "1f2a9e3b8cf6481185156d013ca1b17d",
            "35ea6b760678473ab150e36398e1c66a",
            "78b5d073dc424daa8ebecd4cd38e2844",
            "d256f5cf3507458ca77c010275c7e336"
          ]
        },
        "outputId": "31d9f94e-502f-4a85-947e-67a28db9a923"
      },
      "outputs": [
        {
          "output_type": "stream",
          "name": "stdout",
          "text": [
            "Downloading https://www.cs.toronto.edu/~kriz/cifar-10-python.tar.gz to CIFAR10/cifar-10-python.tar.gz\n"
          ]
        },
        {
          "output_type": "display_data",
          "data": {
            "text/plain": [
              "  0%|          | 0/170498071 [00:00<?, ?it/s]"
            ],
            "application/vnd.jupyter.widget-view+json": {
              "version_major": 2,
              "version_minor": 0,
              "model_id": "e186cd3bf5f549958c031ce7c653ea10"
            }
          },
          "metadata": {}
        },
        {
          "output_type": "stream",
          "name": "stdout",
          "text": [
            "Extracting CIFAR10/cifar-10-python.tar.gz to CIFAR10\n",
            "Files already downloaded and verified\n"
          ]
        }
      ],
      "source": [
        "import torchvision\n",
        "from torch.utils.data import DataLoader\n",
        "from torchvision.datasets import CIFAR10\n",
        "\n",
        "transform = torchvision.transforms.Compose([torchvision.transforms.ToTensor(),\n",
        "                                            torchvision.transforms.Normalize(\n",
        "                                                [0.4914, 0.4822, 0.4465],\n",
        "                                                [0.2470, 0.2434, 0.2615])])\n",
        "\n",
        "cifar = CIFAR10(root='CIFAR10', train=True, download=True, transform=transform)\n",
        "cifat_test = CIFAR10(root='CIFAR10', train=False, download=True, transform=transform)\n",
        "\n",
        "train_set_cifar, val_set_cifar, = torch.utils.data.random_split(cifar, [45000, 5000])\n",
        "\n",
        "batch_size = 256\n",
        "\n",
        "train_loader_cifar = DataLoader(train_set_cifar, batch_size=batch_size, shuffle=True, num_workers=2)\n",
        "val_loader_cifar = DataLoader(val_set_cifar, batch_size=batch_size, shuffle=False, num_workers=2)\n",
        "test_loader_cifar = DataLoader(cifat_test, batch_size=batch_size, shuffle=False, num_workers=2)"
      ]
    },
    {
      "cell_type": "code",
      "execution_count": 38,
      "metadata": {
        "id": "8qMY4odZtgsB"
      },
      "outputs": [],
      "source": [
        "class LeNet(nn.Module):\n",
        "    def __init__(self):\n",
        "        super().__init__() #я уже когда-то сохранял такую архитектуру \n",
        "        self.network = nn.Sequential(\n",
        "            nn.Conv2d(3, 32, kernel_size=3, padding=1),\n",
        "            nn.BatchNorm2d(32),\n",
        "            nn.ReLU(),\n",
        "            nn.Conv2d(32, 64, kernel_size=3, stride=1, padding=1),\n",
        "            nn.BatchNorm2d(64),\n",
        "            nn.ReLU(),\n",
        "            nn.MaxPool2d(2, 2), # output: 64 x 16 x 16\n",
        "\n",
        "            nn.Conv2d(64, 128, kernel_size=3, stride=1, padding=1),\n",
        "            nn.BatchNorm2d(128),\n",
        "            nn.ReLU(),\n",
        "            nn.Conv2d(128, 128, kernel_size=3, stride=1, padding=1),\n",
        "            nn.BatchNorm2d(128),\n",
        "            nn.ReLU(),\n",
        "            nn.MaxPool2d(2, 2), # output: 128 x 8 x 8\n",
        "\n",
        "            nn.Conv2d(128, 256, kernel_size=3, stride=1, padding=1),\n",
        "            nn.BatchNorm2d(256),\n",
        "            nn.ReLU(),\n",
        "            nn.Conv2d(256, 256, kernel_size=3, stride=1, padding=1),\n",
        "            nn.BatchNorm2d(256),\n",
        "            nn.ReLU(),\n",
        "            nn.MaxPool2d(2, 2), # output: 256 x 4 x 4\n",
        "\n",
        "            nn.Flatten(), \n",
        "            nn.Dropout(0.2),\n",
        "            nn.Linear(256*4*4, 1024),\n",
        "            nn.BatchNorm1d(1024),\n",
        "            nn.ReLU(),\n",
        "            nn.Linear(1024, 512),\n",
        "            nn.BatchNorm1d(512),\n",
        "            nn.ReLU(),\n",
        "            nn.Linear(512, 10))\n",
        "        \n",
        "    def forward(self, xb):\n",
        "        return self.network(xb)\n",
        "\n"
      ]
    },
    {
      "cell_type": "code",
      "source": [
        "model = LeNet().to(device)\n",
        "criterion = nn.CrossEntropyLoss()\n",
        "optimizer = torch.optim.Adam(model.parameters(), lr=0.03)\n",
        "\n",
        "num_epochs = 6\n",
        "loss_hist = [] # for plotting\n",
        "acc_hist=[]\n",
        "for epoch in range(num_epochs):\n",
        "    hist_loss = 0\n",
        "    for _, batch in enumerate(train_loader_cifar, 0): # get batch\n",
        "        # parse batch \n",
        "        imgs, labels = batch\n",
        "        imgs, labels = imgs.to(device), labels.to(device)\n",
        "        # sets the gradients of all optimized tensors to zero.\n",
        "        optimizer.zero_grad() \n",
        "        # get outputs\n",
        "        y_pred = model(imgs) \n",
        "        # calculate loss\n",
        "        loss = criterion(y_pred, labels)\n",
        "        # calculate gradients\n",
        "        loss.backward() \n",
        "        # performs a single optimization step (parameter update)\n",
        "        optimizer.step()\n",
        "        hist_loss += loss.item()\n",
        "    loss_hist.append(hist_loss / len(train_loader_cifar))\n",
        "    acc_hist.append(round(calaculate_accuracy(model, test_loader_cifar), 3))\n",
        "    print(f\"Epoch={epoch} loss={loss_hist[epoch]:.4f}\")\n"
      ],
      "metadata": {
        "colab": {
          "base_uri": "https://localhost:8080/"
        },
        "id": "3xYTvXgWLg5h",
        "outputId": "c20ffedb-9c41-4bc2-9051-a26679013af7"
      },
      "execution_count": 39,
      "outputs": [
        {
          "output_type": "stream",
          "name": "stdout",
          "text": [
            "Epoch=0 loss=1.7176\n",
            "Epoch=1 loss=1.0880\n",
            "Epoch=2 loss=0.7820\n",
            "Epoch=3 loss=0.6270\n",
            "Epoch=4 loss=0.5177\n",
            "Epoch=5 loss=0.4338\n"
          ]
        }
      ]
    },
    {
      "cell_type": "code",
      "source": [
        "pp = ProgressPlotter()\n",
        "for x in loss_hist:\n",
        "    pp.add_scalar('loss on train', x)\n",
        "for x in acc_hist:\n",
        "    pp.add_scalar('accuracy', x)\n",
        "pp.display(['loss on train', 'accuracy'])"
      ],
      "metadata": {
        "colab": {
          "base_uri": "https://localhost:8080/",
          "height": 157
        },
        "id": "lkI6YoXSLi5i",
        "outputId": "c85a0c6f-4d9f-4245-a507-63e8b58444cb"
      },
      "execution_count": 40,
      "outputs": [
        {
          "output_type": "display_data",
          "data": {
            "text/plain": [
              "<Figure size 1728x216 with 2 Axes>"
            ],
            "image/png": "[encoded data removed]"
          },
          "metadata": {
            "needs_background": "light"
          }
        }
      ]
    },
    {
      "cell_type": "code",
      "source": [
        "print(\"Короче, точность такая:\", acc_hist[len(acc_hist)-1])"
      ],
      "metadata": {
        "colab": {
          "base_uri": "https://localhost:8080/"
        },
        "id": "fdH2WBErLj15",
        "outputId": "a857d6ce-15f8-48cf-8cb9-1cb0f5fddfaf"
      },
      "execution_count": 41,
      "outputs": [
        {
          "output_type": "stream",
          "name": "stdout",
          "text": [
            "Короче, точность такая: 0.805\n"
          ]
        }
      ]
    }
  ],
  "metadata": {
    "colab": {
      "provenance": []
    },
    "language_info": {
      "name": "python"
    },
    "kernelspec": {
      "name": "python3",
      "display_name": "Python 3"
    },
    "gpuClass": "premium",
    "widgets": {
      "application/vnd.jupyter.widget-state+json": {
        "08b191fee07746708f9ce53e9bad48dc": {
          "model_module": "@jupyter-widgets/controls",
          "model_name": "HBoxModel",
          "model_module_version": "1.5.0",
          "state": {
            "_dom_classes": [],
            "_model_module": "@jupyter-widgets/controls",
            "_model_module_version": "1.5.0",
            "_model_name": "HBoxModel",
            "_view_count": null,
            "_view_module": "@jupyter-widgets/controls",
            "_view_module_version": "1.5.0",
            "_view_name": "HBoxView",
            "box_style": "",
            "children": [
              "IPY_MODEL_da8dffffd86e4500a8c5cbc8053b1898",
              "IPY_MODEL_a52092d486bb47bc9c4726f183e1e93c",
              "IPY_MODEL_24917186e31746a4a133b995f421e4cb"
            ],
            "layout": "IPY_MODEL_356ecff40c8d41f3a9f9e102d3421bc7"
          }
        },
        "da8dffffd86e4500a8c5cbc8053b1898": {
          "model_module": "@jupyter-widgets/controls",
          "model_name": "HTMLModel",
          "model_module_version": "1.5.0",
          "state": {
            "_dom_classes": [],
            "_model_module": "@jupyter-widgets/controls",
            "_model_module_version": "1.5.0",
            "_model_name": "HTMLModel",
            "_view_count": null,
            "_view_module": "@jupyter-widgets/controls",
            "_view_module_version": "1.5.0",
            "_view_name": "HTMLView",
            "description": "",
            "description_tooltip": null,
            "layout": "IPY_MODEL_0d5ed451c2e847b49e620257269bc518",
            "placeholder": "​",
            "style": "IPY_MODEL_ffb914d35b4443ec84c602ca47b8609d",
            "value": "100%"
          }
        },
        "a52092d486bb47bc9c4726f183e1e93c": {
          "model_module": "@jupyter-widgets/controls",
          "model_name": "FloatProgressModel",
          "model_module_version": "1.5.0",
          "state": {
            "_dom_classes": [],
            "_model_module": "@jupyter-widgets/controls",
            "_model_module_version": "1.5.0",
            "_model_name": "FloatProgressModel",
            "_view_count": null,
            "_view_module": "@jupyter-widgets/controls",
            "_view_module_version": "1.5.0",
            "_view_name": "ProgressView",
            "bar_style": "success",
            "description": "",
            "description_tooltip": null,
            "layout": "IPY_MODEL_f3ccb4c73a8f46c3bb82581124c6bc95",
            "max": 9912422,
            "min": 0,
            "orientation": "horizontal",
            "style": "IPY_MODEL_b75f2a81265747d5bc6f3bcca36cac49",
            "value": 9912422
          }
        },
        "24917186e31746a4a133b995f421e4cb": {
          "model_module": "@jupyter-widgets/controls",
          "model_name": "HTMLModel",
          "model_module_version": "1.5.0",
          "state": {
            "_dom_classes": [],
            "_model_module": "@jupyter-widgets/controls",
            "_model_module_version": "1.5.0",
            "_model_name": "HTMLModel",
            "_view_count": null,
            "_view_module": "@jupyter-widgets/controls",
            "_view_module_version": "1.5.0",
            "_view_name": "HTMLView",
            "description": "",
            "description_tooltip": null,
            "layout": "IPY_MODEL_345f8dc0e42243419e93dfd524d58eda",
            "placeholder": "​",
            "style": "IPY_MODEL_a838715bd78d4162ab33439b70777347",
            "value": " 9912422/9912422 [00:00&lt;00:00, 178770284.63it/s]"
          }
        },
        "356ecff40c8d41f3a9f9e102d3421bc7": {
          "model_module": "@jupyter-widgets/base",
          "model_name": "LayoutModel",
          "model_module_version": "1.2.0",
          "state": {
            "_model_module": "@jupyter-widgets/base",
            "_model_module_version": "1.2.0",
            "_model_name": "LayoutModel",
            "_view_count": null,
            "_view_module": "@jupyter-widgets/base",
            "_view_module_version": "1.2.0",
            "_view_name": "LayoutView",
            "align_content": null,
            "align_items": null,
            "align_self": null,
            "border": null,
            "bottom": null,
            "display": null,
            "flex": null,
            "flex_flow": null,
            "grid_area": null,
            "grid_auto_columns": null,
            "grid_auto_flow": null,
            "grid_auto_rows": null,
            "grid_column": null,
            "grid_gap": null,
            "grid_row": null,
            "grid_template_areas": null,
            "grid_template_columns": null,
            "grid_template_rows": null,
            "height": null,
            "justify_content": null,
            "justify_items": null,
            "left": null,
            "margin": null,
            "max_height": null,
            "max_width": null,
            "min_height": null,
            "min_width": null,
            "object_fit": null,
            "object_position": null,
            "order": null,
            "overflow": null,
            "overflow_x": null,
            "overflow_y": null,
            "padding": null,
            "right": null,
            "top": null,
            "visibility": null,
            "width": null
          }
        },
        "0d5ed451c2e847b49e620257269bc518": {
          "model_module": "@jupyter-widgets/base",
          "model_name": "LayoutModel",
          "model_module_version": "1.2.0",
          "state": {
            "_model_module": "@jupyter-widgets/base",
            "_model_module_version": "1.2.0",
            "_model_name": "LayoutModel",
            "_view_count": null,
            "_view_module": "@jupyter-widgets/base",
            "_view_module_version": "1.2.0",
            "_view_name": "LayoutView",
            "align_content": null,
            "align_items": null,
            "align_self": null,
            "border": null,
            "bottom": null,
            "display": null,
            "flex": null,
            "flex_flow": null,
            "grid_area": null,
            "grid_auto_columns": null,
            "grid_auto_flow": null,
            "grid_auto_rows": null,
            "grid_column": null,
            "grid_gap": null,
            "grid_row": null,
            "grid_template_areas": null,
            "grid_template_columns": null,
            "grid_template_rows": null,
            "height": null,
            "justify_content": null,
            "justify_items": null,
            "left": null,
            "margin": null,
            "max_height": null,
            "max_width": null,
            "min_height": null,
            "min_width": null,
            "object_fit": null,
            "object_position": null,
            "order": null,
            "overflow": null,
            "overflow_x": null,
            "overflow_y": null,
            "padding": null,
            "right": null,
            "top": null,
            "visibility": null,
            "width": null
          }
        },
        "ffb914d35b4443ec84c602ca47b8609d": {
          "model_module": "@jupyter-widgets/controls",
          "model_name": "DescriptionStyleModel",
          "model_module_version": "1.5.0",
          "state": {
            "_model_module": "@jupyter-widgets/controls",
            "_model_module_version": "1.5.0",
            "_model_name": "DescriptionStyleModel",
            "_view_count": null,
            "_view_module": "@jupyter-widgets/base",
            "_view_module_version": "1.2.0",
            "_view_name": "StyleView",
            "description_width": ""
          }
        },
        "f3ccb4c73a8f46c3bb82581124c6bc95": {
          "model_module": "@jupyter-widgets/base",
          "model_name": "LayoutModel",
          "model_module_version": "1.2.0",
          "state": {
            "_model_module": "@jupyter-widgets/base",
            "_model_module_version": "1.2.0",
            "_model_name": "LayoutModel",
            "_view_count": null,
            "_view_module": "@jupyter-widgets/base",
            "_view_module_version": "1.2.0",
            "_view_name": "LayoutView",
            "align_content": null,
            "align_items": null,
            "align_self": null,
            "border": null,
            "bottom": null,
            "display": null,
            "flex": null,
            "flex_flow": null,
            "grid_area": null,
            "grid_auto_columns": null,
            "grid_auto_flow": null,
            "grid_auto_rows": null,
            "grid_column": null,
            "grid_gap": null,
            "grid_row": null,
            "grid_template_areas": null,
            "grid_template_columns": null,
            "grid_template_rows": null,
            "height": null,
            "justify_content": null,
            "justify_items": null,
            "left": null,
            "margin": null,
            "max_height": null,
            "max_width": null,
            "min_height": null,
            "min_width": null,
            "object_fit": null,
            "object_position": null,
            "order": null,
            "overflow": null,
            "overflow_x": null,
            "overflow_y": null,
            "padding": null,
            "right": null,
            "top": null,
            "visibility": null,
            "width": null
          }
        },
        "b75f2a81265747d5bc6f3bcca36cac49": {
          "model_module": "@jupyter-widgets/controls",
          "model_name": "ProgressStyleModel",
          "model_module_version": "1.5.0",
          "state": {
            "_model_module": "@jupyter-widgets/controls",
            "_model_module_version": "1.5.0",
            "_model_name": "ProgressStyleModel",
            "_view_count": null,
            "_view_module": "@jupyter-widgets/base",
            "_view_module_version": "1.2.0",
            "_view_name": "StyleView",
            "bar_color": null,
            "description_width": ""
          }
        },
        "345f8dc0e42243419e93dfd524d58eda": {
          "model_module": "@jupyter-widgets/base",
          "model_name": "LayoutModel",
          "model_module_version": "1.2.0",
          "state": {
            "_model_module": "@jupyter-widgets/base",
            "_model_module_version": "1.2.0",
            "_model_name": "LayoutModel",
            "_view_count": null,
            "_view_module": "@jupyter-widgets/base",
            "_view_module_version": "1.2.0",
            "_view_name": "LayoutView",
            "align_content": null,
            "align_items": null,
            "align_self": null,
            "border": null,
            "bottom": null,
            "display": null,
            "flex": null,
            "flex_flow": null,
            "grid_area": null,
            "grid_auto_columns": null,
            "grid_auto_flow": null,
            "grid_auto_rows": null,
            "grid_column": null,
            "grid_gap": null,
            "grid_row": null,
            "grid_template_areas": null,
            "grid_template_columns": null,
            "grid_template_rows": null,
            "height": null,
            "justify_content": null,
            "justify_items": null,
            "left": null,
            "margin": null,
            "max_height": null,
            "max_width": null,
            "min_height": null,
            "min_width": null,
            "object_fit": null,
            "object_position": null,
            "order": null,
            "overflow": null,
            "overflow_x": null,
            "overflow_y": null,
            "padding": null,
            "right": null,
            "top": null,
            "visibility": null,
            "width": null
          }
        },
        "a838715bd78d4162ab33439b70777347": {
          "model_module": "@jupyter-widgets/controls",
          "model_name": "DescriptionStyleModel",
          "model_module_version": "1.5.0",
          "state": {
            "_model_module": "@jupyter-widgets/controls",
            "_model_module_version": "1.5.0",
            "_model_name": "DescriptionStyleModel",
            "_view_count": null,
            "_view_module": "@jupyter-widgets/base",
            "_view_module_version": "1.2.0",
            "_view_name": "StyleView",
            "description_width": ""
          }
        },
        "d2c89a0d19384fc08fec4e151466bef7": {
          "model_module": "@jupyter-widgets/controls",
          "model_name": "HBoxModel",
          "model_module_version": "1.5.0",
          "state": {
            "_dom_classes": [],
            "_model_module": "@jupyter-widgets/controls",
            "_model_module_version": "1.5.0",
            "_model_name": "HBoxModel",
            "_view_count": null,
            "_view_module": "@jupyter-widgets/controls",
            "_view_module_version": "1.5.0",
            "_view_name": "HBoxView",
            "box_style": "",
            "children": [
              "IPY_MODEL_568d3bd3be7e4eccb6e7d9f338429ad3",
              "IPY_MODEL_e3e5975727fe40239963ca19b4c2ce6d",
              "IPY_MODEL_dbaac6fa29844c3098c98cc1580f57b9"
            ],
            "layout": "IPY_MODEL_dfc4a3187f0d49b7b85294e80ec93298"
          }
        },
        "568d3bd3be7e4eccb6e7d9f338429ad3": {
          "model_module": "@jupyter-widgets/controls",
          "model_name": "HTMLModel",
          "model_module_version": "1.5.0",
          "state": {
            "_dom_classes": [],
            "_model_module": "@jupyter-widgets/controls",
            "_model_module_version": "1.5.0",
            "_model_name": "HTMLModel",
            "_view_count": null,
            "_view_module": "@jupyter-widgets/controls",
            "_view_module_version": "1.5.0",
            "_view_name": "HTMLView",
            "description": "",
            "description_tooltip": null,
            "layout": "IPY_MODEL_d5bf004c86a94c63b040b97b88e30fcc",
            "placeholder": "​",
            "style": "IPY_MODEL_8db813fde81a420baf7d808dddee53bc",
            "value": "100%"
          }
        },
        "e3e5975727fe40239963ca19b4c2ce6d": {
          "model_module": "@jupyter-widgets/controls",
          "model_name": "FloatProgressModel",
          "model_module_version": "1.5.0",
          "state": {
            "_dom_classes": [],
            "_model_module": "@jupyter-widgets/controls",
            "_model_module_version": "1.5.0",
            "_model_name": "FloatProgressModel",
            "_view_count": null,
            "_view_module": "@jupyter-widgets/controls",
            "_view_module_version": "1.5.0",
            "_view_name": "ProgressView",
            "bar_style": "success",
            "description": "",
            "description_tooltip": null,
            "layout": "IPY_MODEL_0393579d35994c7f8dc61ff03c05feaf",
            "max": 28881,
            "min": 0,
            "orientation": "horizontal",
            "style": "IPY_MODEL_f564a83cb7e14e1d8299a500f6368b30",
            "value": 28881
          }
        },
        "dbaac6fa29844c3098c98cc1580f57b9": {
          "model_module": "@jupyter-widgets/controls",
          "model_name": "HTMLModel",
          "model_module_version": "1.5.0",
          "state": {
            "_dom_classes": [],
            "_model_module": "@jupyter-widgets/controls",
            "_model_module_version": "1.5.0",
            "_model_name": "HTMLModel",
            "_view_count": null,
            "_view_module": "@jupyter-widgets/controls",
            "_view_module_version": "1.5.0",
            "_view_name": "HTMLView",
            "description": "",
            "description_tooltip": null,
            "layout": "IPY_MODEL_0707f976b93c41838761f1049123206e",
            "placeholder": "​",
            "style": "IPY_MODEL_1f65e275cecc480ba13b80d1f5924f10",
            "value": " 28881/28881 [00:00&lt;00:00, 1438973.82it/s]"
          }
        },
        "dfc4a3187f0d49b7b85294e80ec93298": {
          "model_module": "@jupyter-widgets/base",
          "model_name": "LayoutModel",
          "model_module_version": "1.2.0",
          "state": {
            "_model_module": "@jupyter-widgets/base",
            "_model_module_version": "1.2.0",
            "_model_name": "LayoutModel",
            "_view_count": null,
            "_view_module": "@jupyter-widgets/base",
            "_view_module_version": "1.2.0",
            "_view_name": "LayoutView",
            "align_content": null,
            "align_items": null,
            "align_self": null,
            "border": null,
            "bottom": null,
            "display": null,
            "flex": null,
            "flex_flow": null,
            "grid_area": null,
            "grid_auto_columns": null,
            "grid_auto_flow": null,
            "grid_auto_rows": null,
            "grid_column": null,
            "grid_gap": null,
            "grid_row": null,
            "grid_template_areas": null,
            "grid_template_columns": null,
            "grid_template_rows": null,
            "height": null,
            "justify_content": null,
            "justify_items": null,
            "left": null,
            "margin": null,
            "max_height": null,
            "max_width": null,
            "min_height": null,
            "min_width": null,
            "object_fit": null,
            "object_position": null,
            "order": null,
            "overflow": null,
            "overflow_x": null,
            "overflow_y": null,
            "padding": null,
            "right": null,
            "top": null,
            "visibility": null,
            "width": null
          }
        },
        "d5bf004c86a94c63b040b97b88e30fcc": {
          "model_module": "@jupyter-widgets/base",
          "model_name": "LayoutModel",
          "model_module_version": "1.2.0",
          "state": {
            "_model_module": "@jupyter-widgets/base",
            "_model_module_version": "1.2.0",
            "_model_name": "LayoutModel",
            "_view_count": null,
            "_view_module": "@jupyter-widgets/base",
            "_view_module_version": "1.2.0",
            "_view_name": "LayoutView",
            "align_content": null,
            "align_items": null,
            "align_self": null,
            "border": null,
            "bottom": null,
            "display": null,
            "flex": null,
            "flex_flow": null,
            "grid_area": null,
            "grid_auto_columns": null,
            "grid_auto_flow": null,
            "grid_auto_rows": null,
            "grid_column": null,
            "grid_gap": null,
            "grid_row": null,
            "grid_template_areas": null,
            "grid_template_columns": null,
            "grid_template_rows": null,
            "height": null,
            "justify_content": null,
            "justify_items": null,
            "left": null,
            "margin": null,
            "max_height": null,
            "max_width": null,
            "min_height": null,
            "min_width": null,
            "object_fit": null,
            "object_position": null,
            "order": null,
            "overflow": null,
            "overflow_x": null,
            "overflow_y": null,
            "padding": null,
            "right": null,
            "top": null,
            "visibility": null,
            "width": null
          }
        },
        "8db813fde81a420baf7d808dddee53bc": {
          "model_module": "@jupyter-widgets/controls",
          "model_name": "DescriptionStyleModel",
          "model_module_version": "1.5.0",
          "state": {
            "_model_module": "@jupyter-widgets/controls",
            "_model_module_version": "1.5.0",
            "_model_name": "DescriptionStyleModel",
            "_view_count": null,
            "_view_module": "@jupyter-widgets/base",
            "_view_module_version": "1.2.0",
            "_view_name": "StyleView",
            "description_width": ""
          }
        },
        "0393579d35994c7f8dc61ff03c05feaf": {
          "model_module": "@jupyter-widgets/base",
          "model_name": "LayoutModel",
          "model_module_version": "1.2.0",
          "state": {
            "_model_module": "@jupyter-widgets/base",
            "_model_module_version": "1.2.0",
            "_model_name": "LayoutModel",
            "_view_count": null,
            "_view_module": "@jupyter-widgets/base",
            "_view_module_version": "1.2.0",
            "_view_name": "LayoutView",
            "align_content": null,
            "align_items": null,
            "align_self": null,
            "border": null,
            "bottom": null,
            "display": null,
            "flex": null,
            "flex_flow": null,
            "grid_area": null,
            "grid_auto_columns": null,
            "grid_auto_flow": null,
            "grid_auto_rows": null,
            "grid_column": null,
            "grid_gap": null,
            "grid_row": null,
            "grid_template_areas": null,
            "grid_template_columns": null,
            "grid_template_rows": null,
            "height": null,
            "justify_content": null,
            "justify_items": null,
            "left": null,
            "margin": null,
            "max_height": null,
            "max_width": null,
            "min_height": null,
            "min_width": null,
            "object_fit": null,
            "object_position": null,
            "order": null,
            "overflow": null,
            "overflow_x": null,
            "overflow_y": null,
            "padding": null,
            "right": null,
            "top": null,
            "visibility": null,
            "width": null
          }
        },
        "f564a83cb7e14e1d8299a500f6368b30": {
          "model_module": "@jupyter-widgets/controls",
          "model_name": "ProgressStyleModel",
          "model_module_version": "1.5.0",
          "state": {
            "_model_module": "@jupyter-widgets/controls",
            "_model_module_version": "1.5.0",
            "_model_name": "ProgressStyleModel",
            "_view_count": null,
            "_view_module": "@jupyter-widgets/base",
            "_view_module_version": "1.2.0",
            "_view_name": "StyleView",
            "bar_color": null,
            "description_width": ""
          }
        },
        "0707f976b93c41838761f1049123206e": {
          "model_module": "@jupyter-widgets/base",
          "model_name": "LayoutModel",
          "model_module_version": "1.2.0",
          "state": {
            "_model_module": "@jupyter-widgets/base",
            "_model_module_version": "1.2.0",
            "_model_name": "LayoutModel",
            "_view_count": null,
            "_view_module": "@jupyter-widgets/base",
            "_view_module_version": "1.2.0",
            "_view_name": "LayoutView",
            "align_content": null,
            "align_items": null,
            "align_self": null,
            "border": null,
            "bottom": null,
            "display": null,
            "flex": null,
            "flex_flow": null,
            "grid_area": null,
            "grid_auto_columns": null,
            "grid_auto_flow": null,
            "grid_auto_rows": null,
            "grid_column": null,
            "grid_gap": null,
            "grid_row": null,
            "grid_template_areas": null,
            "grid_template_columns": null,
            "grid_template_rows": null,
            "height": null,
            "justify_content": null,
            "justify_items": null,
            "left": null,
            "margin": null,
            "max_height": null,
            "max_width": null,
            "min_height": null,
            "min_width": null,
            "object_fit": null,
            "object_position": null,
            "order": null,
            "overflow": null,
            "overflow_x": null,
            "overflow_y": null,
            "padding": null,
            "right": null,
            "top": null,
            "visibility": null,
            "width": null
          }
        },
        "1f65e275cecc480ba13b80d1f5924f10": {
          "model_module": "@jupyter-widgets/controls",
          "model_name": "DescriptionStyleModel",
          "model_module_version": "1.5.0",
          "state": {
            "_model_module": "@jupyter-widgets/controls",
            "_model_module_version": "1.5.0",
            "_model_name": "DescriptionStyleModel",
            "_view_count": null,
            "_view_module": "@jupyter-widgets/base",
            "_view_module_version": "1.2.0",
            "_view_name": "StyleView",
            "description_width": ""
          }
        },
        "78d5b012d49742bebc433e2cbb677b27": {
          "model_module": "@jupyter-widgets/controls",
          "model_name": "HBoxModel",
          "model_module_version": "1.5.0",
          "state": {
            "_dom_classes": [],
            "_model_module": "@jupyter-widgets/controls",
            "_model_module_version": "1.5.0",
            "_model_name": "HBoxModel",
            "_view_count": null,
            "_view_module": "@jupyter-widgets/controls",
            "_view_module_version": "1.5.0",
            "_view_name": "HBoxView",
            "box_style": "",
            "children": [
              "IPY_MODEL_c00f9140b7f44dec8ef4b60e04225d40",
              "IPY_MODEL_a89ced41235843f1ba4d3819f313c65b",
              "IPY_MODEL_05af03ca885040a698a858f943bc5293"
            ],
            "layout": "IPY_MODEL_206f348b7a864cfd95129bccc4c676e4"
          }
        },
        "c00f9140b7f44dec8ef4b60e04225d40": {
          "model_module": "@jupyter-widgets/controls",
          "model_name": "HTMLModel",
          "model_module_version": "1.5.0",
          "state": {
            "_dom_classes": [],
            "_model_module": "@jupyter-widgets/controls",
            "_model_module_version": "1.5.0",
            "_model_name": "HTMLModel",
            "_view_count": null,
            "_view_module": "@jupyter-widgets/controls",
            "_view_module_version": "1.5.0",
            "_view_name": "HTMLView",
            "description": "",
            "description_tooltip": null,
            "layout": "IPY_MODEL_28f4b3f1b6d646a3bfebbee5d6749c1b",
            "placeholder": "​",
            "style": "IPY_MODEL_eb0735f5e1484cdd93814cabd52daa19",
            "value": "100%"
          }
        },
        "a89ced41235843f1ba4d3819f313c65b": {
          "model_module": "@jupyter-widgets/controls",
          "model_name": "FloatProgressModel",
          "model_module_version": "1.5.0",
          "state": {
            "_dom_classes": [],
            "_model_module": "@jupyter-widgets/controls",
            "_model_module_version": "1.5.0",
            "_model_name": "FloatProgressModel",
            "_view_count": null,
            "_view_module": "@jupyter-widgets/controls",
            "_view_module_version": "1.5.0",
            "_view_name": "ProgressView",
            "bar_style": "success",
            "description": "",
            "description_tooltip": null,
            "layout": "IPY_MODEL_5b74ca87b67b467f9c8eca471a8e8697",
            "max": 1648877,
            "min": 0,
            "orientation": "horizontal",
            "style": "IPY_MODEL_b4c9388a71be42a5934c120debbab450",
            "value": 1648877
          }
        },
        "05af03ca885040a698a858f943bc5293": {
          "model_module": "@jupyter-widgets/controls",
          "model_name": "HTMLModel",
          "model_module_version": "1.5.0",
          "state": {
            "_dom_classes": [],
            "_model_module": "@jupyter-widgets/controls",
            "_model_module_version": "1.5.0",
            "_model_name": "HTMLModel",
            "_view_count": null,
            "_view_module": "@jupyter-widgets/controls",
            "_view_module_version": "1.5.0",
            "_view_name": "HTMLView",
            "description": "",
            "description_tooltip": null,
            "layout": "IPY_MODEL_3256489ef6d54c4aaaeb05a6966634c7",
            "placeholder": "​",
            "style": "IPY_MODEL_1e213043c2a0405fa7325f09fe493740",
            "value": " 1648877/1648877 [00:00&lt;00:00, 50928160.39it/s]"
          }
        },
        "206f348b7a864cfd95129bccc4c676e4": {
          "model_module": "@jupyter-widgets/base",
          "model_name": "LayoutModel",
          "model_module_version": "1.2.0",
          "state": {
            "_model_module": "@jupyter-widgets/base",
            "_model_module_version": "1.2.0",
            "_model_name": "LayoutModel",
            "_view_count": null,
            "_view_module": "@jupyter-widgets/base",
            "_view_module_version": "1.2.0",
            "_view_name": "LayoutView",
            "align_content": null,
            "align_items": null,
            "align_self": null,
            "border": null,
            "bottom": null,
            "display": null,
            "flex": null,
            "flex_flow": null,
            "grid_area": null,
            "grid_auto_columns": null,
            "grid_auto_flow": null,
            "grid_auto_rows": null,
            "grid_column": null,
            "grid_gap": null,
            "grid_row": null,
            "grid_template_areas": null,
            "grid_template_columns": null,
            "grid_template_rows": null,
            "height": null,
            "justify_content": null,
            "justify_items": null,
            "left": null,
            "margin": null,
            "max_height": null,
            "max_width": null,
            "min_height": null,
            "min_width": null,
            "object_fit": null,
            "object_position": null,
            "order": null,
            "overflow": null,
            "overflow_x": null,
            "overflow_y": null,
            "padding": null,
            "right": null,
            "top": null,
            "visibility": null,
            "width": null
          }
        },
        "28f4b3f1b6d646a3bfebbee5d6749c1b": {
          "model_module": "@jupyter-widgets/base",
          "model_name": "LayoutModel",
          "model_module_version": "1.2.0",
          "state": {
            "_model_module": "@jupyter-widgets/base",
            "_model_module_version": "1.2.0",
            "_model_name": "LayoutModel",
            "_view_count": null,
            "_view_module": "@jupyter-widgets/base",
            "_view_module_version": "1.2.0",
            "_view_name": "LayoutView",
            "align_content": null,
            "align_items": null,
            "align_self": null,
            "border": null,
            "bottom": null,
            "display": null,
            "flex": null,
            "flex_flow": null,
            "grid_area": null,
            "grid_auto_columns": null,
            "grid_auto_flow": null,
            "grid_auto_rows": null,
            "grid_column": null,
            "grid_gap": null,
            "grid_row": null,
            "grid_template_areas": null,
            "grid_template_columns": null,
            "grid_template_rows": null,
            "height": null,
            "justify_content": null,
            "justify_items": null,
            "left": null,
            "margin": null,
            "max_height": null,
            "max_width": null,
            "min_height": null,
            "min_width": null,
            "object_fit": null,
            "object_position": null,
            "order": null,
            "overflow": null,
            "overflow_x": null,
            "overflow_y": null,
            "padding": null,
            "right": null,
            "top": null,
            "visibility": null,
            "width": null
          }
        },
        "eb0735f5e1484cdd93814cabd52daa19": {
          "model_module": "@jupyter-widgets/controls",
          "model_name": "DescriptionStyleModel",
          "model_module_version": "1.5.0",
          "state": {
            "_model_module": "@jupyter-widgets/controls",
            "_model_module_version": "1.5.0",
            "_model_name": "DescriptionStyleModel",
            "_view_count": null,
            "_view_module": "@jupyter-widgets/base",
            "_view_module_version": "1.2.0",
            "_view_name": "StyleView",
            "description_width": ""
          }
        },
        "5b74ca87b67b467f9c8eca471a8e8697": {
          "model_module": "@jupyter-widgets/base",
          "model_name": "LayoutModel",
          "model_module_version": "1.2.0",
          "state": {
            "_model_module": "@jupyter-widgets/base",
            "_model_module_version": "1.2.0",
            "_model_name": "LayoutModel",
            "_view_count": null,
            "_view_module": "@jupyter-widgets/base",
            "_view_module_version": "1.2.0",
            "_view_name": "LayoutView",
            "align_content": null,
            "align_items": null,
            "align_self": null,
            "border": null,
            "bottom": null,
            "display": null,
            "flex": null,
            "flex_flow": null,
            "grid_area": null,
            "grid_auto_columns": null,
            "grid_auto_flow": null,
            "grid_auto_rows": null,
            "grid_column": null,
            "grid_gap": null,
            "grid_row": null,
            "grid_template_areas": null,
            "grid_template_columns": null,
            "grid_template_rows": null,
            "height": null,
            "justify_content": null,
            "justify_items": null,
            "left": null,
            "margin": null,
            "max_height": null,
            "max_width": null,
            "min_height": null,
            "min_width": null,
            "object_fit": null,
            "object_position": null,
            "order": null,
            "overflow": null,
            "overflow_x": null,
            "overflow_y": null,
            "padding": null,
            "right": null,
            "top": null,
            "visibility": null,
            "width": null
          }
        },
        "b4c9388a71be42a5934c120debbab450": {
          "model_module": "@jupyter-widgets/controls",
          "model_name": "ProgressStyleModel",
          "model_module_version": "1.5.0",
          "state": {
            "_model_module": "@jupyter-widgets/controls",
            "_model_module_version": "1.5.0",
            "_model_name": "ProgressStyleModel",
            "_view_count": null,
            "_view_module": "@jupyter-widgets/base",
            "_view_module_version": "1.2.0",
            "_view_name": "StyleView",
            "bar_color": null,
            "description_width": ""
          }
        },
        "3256489ef6d54c4aaaeb05a6966634c7": {
          "model_module": "@jupyter-widgets/base",
          "model_name": "LayoutModel",
          "model_module_version": "1.2.0",
          "state": {
            "_model_module": "@jupyter-widgets/base",
            "_model_module_version": "1.2.0",
            "_model_name": "LayoutModel",
            "_view_count": null,
            "_view_module": "@jupyter-widgets/base",
            "_view_module_version": "1.2.0",
            "_view_name": "LayoutView",
            "align_content": null,
            "align_items": null,
            "align_self": null,
            "border": null,
            "bottom": null,
            "display": null,
            "flex": null,
            "flex_flow": null,
            "grid_area": null,
            "grid_auto_columns": null,
            "grid_auto_flow": null,
            "grid_auto_rows": null,
            "grid_column": null,
            "grid_gap": null,
            "grid_row": null,
            "grid_template_areas": null,
            "grid_template_columns": null,
            "grid_template_rows": null,
            "height": null,
            "justify_content": null,
            "justify_items": null,
            "left": null,
            "margin": null,
            "max_height": null,
            "max_width": null,
            "min_height": null,
            "min_width": null,
            "object_fit": null,
            "object_position": null,
            "order": null,
            "overflow": null,
            "overflow_x": null,
            "overflow_y": null,
            "padding": null,
            "right": null,
            "top": null,
            "visibility": null,
            "width": null
          }
        },
        "1e213043c2a0405fa7325f09fe493740": {
          "model_module": "@jupyter-widgets/controls",
          "model_name": "DescriptionStyleModel",
          "model_module_version": "1.5.0",
          "state": {
            "_model_module": "@jupyter-widgets/controls",
            "_model_module_version": "1.5.0",
            "_model_name": "DescriptionStyleModel",
            "_view_count": null,
            "_view_module": "@jupyter-widgets/base",
            "_view_module_version": "1.2.0",
            "_view_name": "StyleView",
            "description_width": ""
          }
        },
        "1dd6aa0d8d884e5687141fa0e27193e3": {
          "model_module": "@jupyter-widgets/controls",
          "model_name": "HBoxModel",
          "model_module_version": "1.5.0",
          "state": {
            "_dom_classes": [],
            "_model_module": "@jupyter-widgets/controls",
            "_model_module_version": "1.5.0",
            "_model_name": "HBoxModel",
            "_view_count": null,
            "_view_module": "@jupyter-widgets/controls",
            "_view_module_version": "1.5.0",
            "_view_name": "HBoxView",
            "box_style": "",
            "children": [
              "IPY_MODEL_38197c707eae41b7ae4c9756ab0b3b04",
              "IPY_MODEL_469f7e7d1c6545cfa5ac1ce34273031e",
              "IPY_MODEL_c0f84f5efe7e4ecf8805d4a6c75ab23a"
            ],
            "layout": "IPY_MODEL_262142216742485197aa5e434d7e96ac"
          }
        },
        "38197c707eae41b7ae4c9756ab0b3b04": {
          "model_module": "@jupyter-widgets/controls",
          "model_name": "HTMLModel",
          "model_module_version": "1.5.0",
          "state": {
            "_dom_classes": [],
            "_model_module": "@jupyter-widgets/controls",
            "_model_module_version": "1.5.0",
            "_model_name": "HTMLModel",
            "_view_count": null,
            "_view_module": "@jupyter-widgets/controls",
            "_view_module_version": "1.5.0",
            "_view_name": "HTMLView",
            "description": "",
            "description_tooltip": null,
            "layout": "IPY_MODEL_8984414db09c474886d2c9cf3040a959",
            "placeholder": "​",
            "style": "IPY_MODEL_69a9cd330c95432684cadf268cb25944",
            "value": "100%"
          }
        },
        "469f7e7d1c6545cfa5ac1ce34273031e": {
          "model_module": "@jupyter-widgets/controls",
          "model_name": "FloatProgressModel",
          "model_module_version": "1.5.0",
          "state": {
            "_dom_classes": [],
            "_model_module": "@jupyter-widgets/controls",
            "_model_module_version": "1.5.0",
            "_model_name": "FloatProgressModel",
            "_view_count": null,
            "_view_module": "@jupyter-widgets/controls",
            "_view_module_version": "1.5.0",
            "_view_name": "ProgressView",
            "bar_style": "success",
            "description": "",
            "description_tooltip": null,
            "layout": "IPY_MODEL_a5b76a9c6ce14566b3b0590e9c097810",
            "max": 4542,
            "min": 0,
            "orientation": "horizontal",
            "style": "IPY_MODEL_c593f5fd31dc4776818821c608faa4a8",
            "value": 4542
          }
        },
        "c0f84f5efe7e4ecf8805d4a6c75ab23a": {
          "model_module": "@jupyter-widgets/controls",
          "model_name": "HTMLModel",
          "model_module_version": "1.5.0",
          "state": {
            "_dom_classes": [],
            "_model_module": "@jupyter-widgets/controls",
            "_model_module_version": "1.5.0",
            "_model_name": "HTMLModel",
            "_view_count": null,
            "_view_module": "@jupyter-widgets/controls",
            "_view_module_version": "1.5.0",
            "_view_name": "HTMLView",
            "description": "",
            "description_tooltip": null,
            "layout": "IPY_MODEL_b79a5facae174a9f83d4e7be82f3a140",
            "placeholder": "​",
            "style": "IPY_MODEL_d14c54b409c24608bdae5ac3c10ccfec",
            "value": " 4542/4542 [00:00&lt;00:00, 56968.60it/s]"
          }
        },
        "262142216742485197aa5e434d7e96ac": {
          "model_module": "@jupyter-widgets/base",
          "model_name": "LayoutModel",
          "model_module_version": "1.2.0",
          "state": {
            "_model_module": "@jupyter-widgets/base",
            "_model_module_version": "1.2.0",
            "_model_name": "LayoutModel",
            "_view_count": null,
            "_view_module": "@jupyter-widgets/base",
            "_view_module_version": "1.2.0",
            "_view_name": "LayoutView",
            "align_content": null,
            "align_items": null,
            "align_self": null,
            "border": null,
            "bottom": null,
            "display": null,
            "flex": null,
            "flex_flow": null,
            "grid_area": null,
            "grid_auto_columns": null,
            "grid_auto_flow": null,
            "grid_auto_rows": null,
            "grid_column": null,
            "grid_gap": null,
            "grid_row": null,
            "grid_template_areas": null,
            "grid_template_columns": null,
            "grid_template_rows": null,
            "height": null,
            "justify_content": null,
            "justify_items": null,
            "left": null,
            "margin": null,
            "max_height": null,
            "max_width": null,
            "min_height": null,
            "min_width": null,
            "object_fit": null,
            "object_position": null,
            "order": null,
            "overflow": null,
            "overflow_x": null,
            "overflow_y": null,
            "padding": null,
            "right": null,
            "top": null,
            "visibility": null,
            "width": null
          }
        },
        "8984414db09c474886d2c9cf3040a959": {
          "model_module": "@jupyter-widgets/base",
          "model_name": "LayoutModel",
          "model_module_version": "1.2.0",
          "state": {
            "_model_module": "@jupyter-widgets/base",
            "_model_module_version": "1.2.0",
            "_model_name": "LayoutModel",
            "_view_count": null,
            "_view_module": "@jupyter-widgets/base",
            "_view_module_version": "1.2.0",
            "_view_name": "LayoutView",
            "align_content": null,
            "align_items": null,
            "align_self": null,
            "border": null,
            "bottom": null,
            "display": null,
            "flex": null,
            "flex_flow": null,
            "grid_area": null,
            "grid_auto_columns": null,
            "grid_auto_flow": null,
            "grid_auto_rows": null,
            "grid_column": null,
            "grid_gap": null,
            "grid_row": null,
            "grid_template_areas": null,
            "grid_template_columns": null,
            "grid_template_rows": null,
            "height": null,
            "justify_content": null,
            "justify_items": null,
            "left": null,
            "margin": null,
            "max_height": null,
            "max_width": null,
            "min_height": null,
            "min_width": null,
            "object_fit": null,
            "object_position": null,
            "order": null,
            "overflow": null,
            "overflow_x": null,
            "overflow_y": null,
            "padding": null,
            "right": null,
            "top": null,
            "visibility": null,
            "width": null
          }
        },
        "69a9cd330c95432684cadf268cb25944": {
          "model_module": "@jupyter-widgets/controls",
          "model_name": "DescriptionStyleModel",
          "model_module_version": "1.5.0",
          "state": {
            "_model_module": "@jupyter-widgets/controls",
            "_model_module_version": "1.5.0",
            "_model_name": "DescriptionStyleModel",
            "_view_count": null,
            "_view_module": "@jupyter-widgets/base",
            "_view_module_version": "1.2.0",
            "_view_name": "StyleView",
            "description_width": ""
          }
        },
        "a5b76a9c6ce14566b3b0590e9c097810": {
          "model_module": "@jupyter-widgets/base",
          "model_name": "LayoutModel",
          "model_module_version": "1.2.0",
          "state": {
            "_model_module": "@jupyter-widgets/base",
            "_model_module_version": "1.2.0",
            "_model_name": "LayoutModel",
            "_view_count": null,
            "_view_module": "@jupyter-widgets/base",
            "_view_module_version": "1.2.0",
            "_view_name": "LayoutView",
            "align_content": null,
            "align_items": null,
            "align_self": null,
            "border": null,
            "bottom": null,
            "display": null,
            "flex": null,
            "flex_flow": null,
            "grid_area": null,
            "grid_auto_columns": null,
            "grid_auto_flow": null,
            "grid_auto_rows": null,
            "grid_column": null,
            "grid_gap": null,
            "grid_row": null,
            "grid_template_areas": null,
            "grid_template_columns": null,
            "grid_template_rows": null,
            "height": null,
            "justify_content": null,
            "justify_items": null,
            "left": null,
            "margin": null,
            "max_height": null,
            "max_width": null,
            "min_height": null,
            "min_width": null,
            "object_fit": null,
            "object_position": null,
            "order": null,
            "overflow": null,
            "overflow_x": null,
            "overflow_y": null,
            "padding": null,
            "right": null,
            "top": null,
            "visibility": null,
            "width": null
          }
        },
        "c593f5fd31dc4776818821c608faa4a8": {
          "model_module": "@jupyter-widgets/controls",
          "model_name": "ProgressStyleModel",
          "model_module_version": "1.5.0",
          "state": {
            "_model_module": "@jupyter-widgets/controls",
            "_model_module_version": "1.5.0",
            "_model_name": "ProgressStyleModel",
            "_view_count": null,
            "_view_module": "@jupyter-widgets/base",
            "_view_module_version": "1.2.0",
            "_view_name": "StyleView",
            "bar_color": null,
            "description_width": ""
          }
        },
        "b79a5facae174a9f83d4e7be82f3a140": {
          "model_module": "@jupyter-widgets/base",
          "model_name": "LayoutModel",
          "model_module_version": "1.2.0",
          "state": {
            "_model_module": "@jupyter-widgets/base",
            "_model_module_version": "1.2.0",
            "_model_name": "LayoutModel",
            "_view_count": null,
            "_view_module": "@jupyter-widgets/base",
            "_view_module_version": "1.2.0",
            "_view_name": "LayoutView",
            "align_content": null,
            "align_items": null,
            "align_self": null,
            "border": null,
            "bottom": null,
            "display": null,
            "flex": null,
            "flex_flow": null,
            "grid_area": null,
            "grid_auto_columns": null,
            "grid_auto_flow": null,
            "grid_auto_rows": null,
            "grid_column": null,
            "grid_gap": null,
            "grid_row": null,
            "grid_template_areas": null,
            "grid_template_columns": null,
            "grid_template_rows": null,
            "height": null,
            "justify_content": null,
            "justify_items": null,
            "left": null,
            "margin": null,
            "max_height": null,
            "max_width": null,
            "min_height": null,
            "min_width": null,
            "object_fit": null,
            "object_position": null,
            "order": null,
            "overflow": null,
            "overflow_x": null,
            "overflow_y": null,
            "padding": null,
            "right": null,
            "top": null,
            "visibility": null,
            "width": null
          }
        },
        "d14c54b409c24608bdae5ac3c10ccfec": {
          "model_module": "@jupyter-widgets/controls",
          "model_name": "DescriptionStyleModel",
          "model_module_version": "1.5.0",
          "state": {
            "_model_module": "@jupyter-widgets/controls",
            "_model_module_version": "1.5.0",
            "_model_name": "DescriptionStyleModel",
            "_view_count": null,
            "_view_module": "@jupyter-widgets/base",
            "_view_module_version": "1.2.0",
            "_view_name": "StyleView",
            "description_width": ""
          }
        },
        "e186cd3bf5f549958c031ce7c653ea10": {
          "model_module": "@jupyter-widgets/controls",
          "model_name": "HBoxModel",
          "model_module_version": "1.5.0",
          "state": {
            "_dom_classes": [],
            "_model_module": "@jupyter-widgets/controls",
            "_model_module_version": "1.5.0",
            "_model_name": "HBoxModel",
            "_view_count": null,
            "_view_module": "@jupyter-widgets/controls",
            "_view_module_version": "1.5.0",
            "_view_name": "HBoxView",
            "box_style": "",
            "children": [
              "IPY_MODEL_26195de0c40f4e71ad49e82a965ee573",
              "IPY_MODEL_f721255a3bea4fbe966b4ab20335ea00",
              "IPY_MODEL_3608e1ef56db4c0d9d1bd1250ee62ff4"
            ],
            "layout": "IPY_MODEL_5814166efe424848befe3a96820fb6fe"
          }
        },
        "26195de0c40f4e71ad49e82a965ee573": {
          "model_module": "@jupyter-widgets/controls",
          "model_name": "HTMLModel",
          "model_module_version": "1.5.0",
          "state": {
            "_dom_classes": [],
            "_model_module": "@jupyter-widgets/controls",
            "_model_module_version": "1.5.0",
            "_model_name": "HTMLModel",
            "_view_count": null,
            "_view_module": "@jupyter-widgets/controls",
            "_view_module_version": "1.5.0",
            "_view_name": "HTMLView",
            "description": "",
            "description_tooltip": null,
            "layout": "IPY_MODEL_05d339cd0b3e4dbe9cf23ebd3d419a64",
            "placeholder": "​",
            "style": "IPY_MODEL_b7892b96cec84c779612ad6888706760",
            "value": "100%"
          }
        },
        "f721255a3bea4fbe966b4ab20335ea00": {
          "model_module": "@jupyter-widgets/controls",
          "model_name": "FloatProgressModel",
          "model_module_version": "1.5.0",
          "state": {
            "_dom_classes": [],
            "_model_module": "@jupyter-widgets/controls",
            "_model_module_version": "1.5.0",
            "_model_name": "FloatProgressModel",
            "_view_count": null,
            "_view_module": "@jupyter-widgets/controls",
            "_view_module_version": "1.5.0",
            "_view_name": "ProgressView",
            "bar_style": "success",
            "description": "",
            "description_tooltip": null,
            "layout": "IPY_MODEL_1f2a9e3b8cf6481185156d013ca1b17d",
            "max": 170498071,
            "min": 0,
            "orientation": "horizontal",
            "style": "IPY_MODEL_35ea6b760678473ab150e36398e1c66a",
            "value": 170498071
          }
        },
        "3608e1ef56db4c0d9d1bd1250ee62ff4": {
          "model_module": "@jupyter-widgets/controls",
          "model_name": "HTMLModel",
          "model_module_version": "1.5.0",
          "state": {
            "_dom_classes": [],
            "_model_module": "@jupyter-widgets/controls",
            "_model_module_version": "1.5.0",
            "_model_name": "HTMLModel",
            "_view_count": null,
            "_view_module": "@jupyter-widgets/controls",
            "_view_module_version": "1.5.0",
            "_view_name": "HTMLView",
            "description": "",
            "description_tooltip": null,
            "layout": "IPY_MODEL_78b5d073dc424daa8ebecd4cd38e2844",
            "placeholder": "​",
            "style": "IPY_MODEL_d256f5cf3507458ca77c010275c7e336",
            "value": " 170498071/170498071 [00:13&lt;00:00, 13827188.20it/s]"
          }
        },
        "5814166efe424848befe3a96820fb6fe": {
          "model_module": "@jupyter-widgets/base",
          "model_name": "LayoutModel",
          "model_module_version": "1.2.0",
          "state": {
            "_model_module": "@jupyter-widgets/base",
            "_model_module_version": "1.2.0",
            "_model_name": "LayoutModel",
            "_view_count": null,
            "_view_module": "@jupyter-widgets/base",
            "_view_module_version": "1.2.0",
            "_view_name": "LayoutView",
            "align_content": null,
            "align_items": null,
            "align_self": null,
            "border": null,
            "bottom": null,
            "display": null,
            "flex": null,
            "flex_flow": null,
            "grid_area": null,
            "grid_auto_columns": null,
            "grid_auto_flow": null,
            "grid_auto_rows": null,
            "grid_column": null,
            "grid_gap": null,
            "grid_row": null,
            "grid_template_areas": null,
            "grid_template_columns": null,
            "grid_template_rows": null,
            "height": null,
            "justify_content": null,
            "justify_items": null,
            "left": null,
            "margin": null,
            "max_height": null,
            "max_width": null,
            "min_height": null,
            "min_width": null,
            "object_fit": null,
            "object_position": null,
            "order": null,
            "overflow": null,
            "overflow_x": null,
            "overflow_y": null,
            "padding": null,
            "right": null,
            "top": null,
            "visibility": null,
            "width": null
          }
        },
        "05d339cd0b3e4dbe9cf23ebd3d419a64": {
          "model_module": "@jupyter-widgets/base",
          "model_name": "LayoutModel",
          "model_module_version": "1.2.0",
          "state": {
            "_model_module": "@jupyter-widgets/base",
            "_model_module_version": "1.2.0",
            "_model_name": "LayoutModel",
            "_view_count": null,
            "_view_module": "@jupyter-widgets/base",
            "_view_module_version": "1.2.0",
            "_view_name": "LayoutView",
            "align_content": null,
            "align_items": null,
            "align_self": null,
            "border": null,
            "bottom": null,
            "display": null,
            "flex": null,
            "flex_flow": null,
            "grid_area": null,
            "grid_auto_columns": null,
            "grid_auto_flow": null,
            "grid_auto_rows": null,
            "grid_column": null,
            "grid_gap": null,
            "grid_row": null,
            "grid_template_areas": null,
            "grid_template_columns": null,
            "grid_template_rows": null,
            "height": null,
            "justify_content": null,
            "justify_items": null,
            "left": null,
            "margin": null,
            "max_height": null,
            "max_width": null,
            "min_height": null,
            "min_width": null,
            "object_fit": null,
            "object_position": null,
            "order": null,
            "overflow": null,
            "overflow_x": null,
            "overflow_y": null,
            "padding": null,
            "right": null,
            "top": null,
            "visibility": null,
            "width": null
          }
        },
        "b7892b96cec84c779612ad6888706760": {
          "model_module": "@jupyter-widgets/controls",
          "model_name": "DescriptionStyleModel",
          "model_module_version": "1.5.0",
          "state": {
            "_model_module": "@jupyter-widgets/controls",
            "_model_module_version": "1.5.0",
            "_model_name": "DescriptionStyleModel",
            "_view_count": null,
            "_view_module": "@jupyter-widgets/base",
            "_view_module_version": "1.2.0",
            "_view_name": "StyleView",
            "description_width": ""
          }
        },
        "1f2a9e3b8cf6481185156d013ca1b17d": {
          "model_module": "@jupyter-widgets/base",
          "model_name": "LayoutModel",
          "model_module_version": "1.2.0",
          "state": {
            "_model_module": "@jupyter-widgets/base",
            "_model_module_version": "1.2.0",
            "_model_name": "LayoutModel",
            "_view_count": null,
            "_view_module": "@jupyter-widgets/base",
            "_view_module_version": "1.2.0",
            "_view_name": "LayoutView",
            "align_content": null,
            "align_items": null,
            "align_self": null,
            "border": null,
            "bottom": null,
            "display": null,
            "flex": null,
            "flex_flow": null,
            "grid_area": null,
            "grid_auto_columns": null,
            "grid_auto_flow": null,
            "grid_auto_rows": null,
            "grid_column": null,
            "grid_gap": null,
            "grid_row": null,
            "grid_template_areas": null,
            "grid_template_columns": null,
            "grid_template_rows": null,
            "height": null,
            "justify_content": null,
            "justify_items": null,
            "left": null,
            "margin": null,
            "max_height": null,
            "max_width": null,
            "min_height": null,
            "min_width": null,
            "object_fit": null,
            "object_position": null,
            "order": null,
            "overflow": null,
            "overflow_x": null,
            "overflow_y": null,
            "padding": null,
            "right": null,
            "top": null,
            "visibility": null,
            "width": null
          }
        },
        "35ea6b760678473ab150e36398e1c66a": {
          "model_module": "@jupyter-widgets/controls",
          "model_name": "ProgressStyleModel",
          "model_module_version": "1.5.0",
          "state": {
            "_model_module": "@jupyter-widgets/controls",
            "_model_module_version": "1.5.0",
            "_model_name": "ProgressStyleModel",
            "_view_count": null,
            "_view_module": "@jupyter-widgets/base",
            "_view_module_version": "1.2.0",
            "_view_name": "StyleView",
            "bar_color": null,
            "description_width": ""
          }
        },
        "78b5d073dc424daa8ebecd4cd38e2844": {
          "model_module": "@jupyter-widgets/base",
          "model_name": "LayoutModel",
          "model_module_version": "1.2.0",
          "state": {
            "_model_module": "@jupyter-widgets/base",
            "_model_module_version": "1.2.0",
            "_model_name": "LayoutModel",
            "_view_count": null,
            "_view_module": "@jupyter-widgets/base",
            "_view_module_version": "1.2.0",
            "_view_name": "LayoutView",
            "align_content": null,
            "align_items": null,
            "align_self": null,
            "border": null,
            "bottom": null,
            "display": null,
            "flex": null,
            "flex_flow": null,
            "grid_area": null,
            "grid_auto_columns": null,
            "grid_auto_flow": null,
            "grid_auto_rows": null,
            "grid_column": null,
            "grid_gap": null,
            "grid_row": null,
            "grid_template_areas": null,
            "grid_template_columns": null,
            "grid_template_rows": null,
            "height": null,
            "justify_content": null,
            "justify_items": null,
            "left": null,
            "margin": null,
            "max_height": null,
            "max_width": null,
            "min_height": null,
            "min_width": null,
            "object_fit": null,
            "object_position": null,
            "order": null,
            "overflow": null,
            "overflow_x": null,
            "overflow_y": null,
            "padding": null,
            "right": null,
            "top": null,
            "visibility": null,
            "width": null
          }
        },
        "d256f5cf3507458ca77c010275c7e336": {
          "model_module": "@jupyter-widgets/controls",
          "model_name": "DescriptionStyleModel",
          "model_module_version": "1.5.0",
          "state": {
            "_model_module": "@jupyter-widgets/controls",
            "_model_module_version": "1.5.0",
            "_model_name": "DescriptionStyleModel",
            "_view_count": null,
            "_view_module": "@jupyter-widgets/base",
            "_view_module_version": "1.2.0",
            "_view_name": "StyleView",
            "description_width": ""
          }
        }
      }
    },
    "accelerator": "GPU"
  },
  "nbformat": 4,
  "nbformat_minor": 0
}