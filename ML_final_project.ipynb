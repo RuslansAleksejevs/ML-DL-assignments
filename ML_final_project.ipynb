{
  "cells": [
    {
      "cell_type": "markdown",
      "metadata": {
        "id": "bRzxc9_Nlq9v"
      },
      "source": [
        "Для начала просто глянем, как выглядят наши тренировочные данные."
      ]
    },
    {
      "cell_type": "code",
      "execution_count": 17,
      "metadata": {
        "id": "uADZQJAyqw_I",
        "colab": {
          "base_uri": "https://localhost:8080/"
        },
        "outputId": "447068be-c3be-4663-c443-ec54186c1407"
      },
      "outputs": [
        {
          "output_type": "execute_result",
          "data": {
            "text/plain": [
              "array(['2021-07-29', '2021-07-30', '2021-07-31', '2021-08-01',\n",
              "       '2021-08-02', '2021-08-03', '2021-08-04', '2021-08-05',\n",
              "       '2021-08-06', '2021-08-07', '2021-08-08', '2021-08-09',\n",
              "       '2021-08-10', '2021-08-11', '2021-08-12', '2021-08-13',\n",
              "       '2021-08-14', '2021-08-15', '2021-08-16', '2021-08-17',\n",
              "       '2021-08-18', '2021-08-19', '2021-08-20', '2021-08-21',\n",
              "       '2021-08-22', '2021-08-23', '2021-08-24', '2021-08-25',\n",
              "       '2021-08-26', '2021-08-27', '2021-08-28', '2021-08-29',\n",
              "       '2021-08-30', '2021-08-31', '2021-09-01', '2021-09-02',\n",
              "       '2021-09-03', '2021-09-04', '2021-09-05', '2021-09-06',\n",
              "       '2021-09-07', '2021-09-08', '2021-09-09', '2021-09-10',\n",
              "       '2021-09-11', '2021-09-12', '2021-09-13', '2021-09-14',\n",
              "       '2021-09-15', '2021-09-16', '2021-09-17', '2021-09-18',\n",
              "       '2021-09-19', '2021-09-20', '2021-09-21', '2021-09-22',\n",
              "       '2021-09-23', '2021-09-24', '2021-09-25', '2021-09-26',\n",
              "       '2021-09-27', '2021-09-28', '2021-09-29', '2021-09-30',\n",
              "       '2021-10-01', '2021-10-02', '2021-10-03', '2021-10-04',\n",
              "       '2021-10-05', '2021-10-06', '2021-10-07', '2021-10-08',\n",
              "       '2021-10-09', '2021-10-10', '2021-10-11', '2021-10-12',\n",
              "       '2021-10-13', '2021-10-14', '2021-10-15', '2021-10-16',\n",
              "       '2021-10-17', '2021-10-18', '2021-10-19', '2021-10-20',\n",
              "       '2021-10-21', '2021-10-22', '2021-10-23', '2021-10-24',\n",
              "       '2021-10-25', '2021-10-26', '2021-10-27', '2021-10-28',\n",
              "       '2021-10-29', '2021-10-30', '2021-10-31', '2021-11-01',\n",
              "       '2021-11-02', '2021-11-03', '2021-11-04', '2021-11-05',\n",
              "       '2021-11-06', '2021-11-07', '2021-11-08', '2021-11-09',\n",
              "       '2021-11-10', '2021-11-11', '2021-11-12', '2021-11-13',\n",
              "       '2021-11-14', '2021-11-15', '2021-11-16', '2021-11-17',\n",
              "       '2021-11-18', '2021-11-19', '2021-11-20', '2021-11-21',\n",
              "       '2021-11-22', '2021-11-23', '2021-11-24', '2021-11-25',\n",
              "       '2021-11-26', '2021-11-27', '2021-11-28', '2021-11-29',\n",
              "       '2021-11-30', '2021-12-01', '2021-12-02', '2021-12-03',\n",
              "       '2021-12-04', '2021-12-05', '2021-12-06', '2021-12-07',\n",
              "       '2021-12-08', '2021-12-09', '2021-12-10', '2021-12-11',\n",
              "       '2021-12-12', '2021-12-13', '2021-12-14', '2021-12-15',\n",
              "       '2021-12-16', '2021-12-17', '2021-12-18', '2021-12-19',\n",
              "       '2021-12-20', '2021-12-21', '2021-12-22', '2021-12-23',\n",
              "       '2021-12-24', '2021-12-25', '2021-12-26', '2021-12-27',\n",
              "       '2021-12-28', '2021-12-29', '2021-12-30', '2021-12-31',\n",
              "       '2022-01-01', '2022-01-02', '2022-01-03', '2022-01-04',\n",
              "       '2022-01-05', '2022-01-06', '2022-01-07', '2022-01-08',\n",
              "       '2022-01-09', '2022-01-10', '2022-01-11', '2022-01-12',\n",
              "       '2022-01-13', '2022-01-14', '2022-01-15', '2022-01-16',\n",
              "       '2022-01-17', '2022-01-18', '2022-01-19', '2022-01-20',\n",
              "       '2022-01-21', '2022-01-22', '2022-01-23', '2022-01-24',\n",
              "       '2022-01-25', '2022-01-26', '2022-01-27', '2022-01-28',\n",
              "       '2022-01-29', '2022-01-30', '2022-01-31', '2022-02-01',\n",
              "       '2022-02-02', '2022-02-03', '2022-02-04', '2022-02-05',\n",
              "       '2022-02-06', '2022-02-07', '2022-02-08', '2022-02-09',\n",
              "       '2022-02-10', '2022-02-11', '2022-02-12', '2022-02-13'],\n",
              "      dtype=object)"
            ]
          },
          "metadata": {},
          "execution_count": 17
        }
      ],
      "source": [
        "import pandas as pd\n",
        "\n",
        "train = pd.read_csv('train.csv')\n",
        "#train.tail()\n",
        "#train[(train['store_id'] == 164) & (train['store_id'] == 164)]\n",
        "train['date'].unique()"
      ]
    },
    {
      "cell_type": "markdown",
      "metadata": {
        "id": "83Wr7mdft776"
      },
      "source": [
        "А ответ должен выглядеть примерно так"
      ]
    },
    {
      "cell_type": "code",
      "execution_count": 18,
      "metadata": {
        "id": "G4FwZVAzt_ba",
        "colab": {
          "base_uri": "https://localhost:8080/",
          "height": 206
        },
        "outputId": "3b9051e1-77f9-4a59-ce0f-9f38caebb308"
      },
      "outputs": [
        {
          "output_type": "execute_result",
          "data": {
            "text/plain": [
              "       id  prediction\n",
              "0  666677        22.0\n",
              "1  666678        27.0\n",
              "2  666679        26.0\n",
              "3  666680        24.0\n",
              "4  666681        42.0"
            ],
            "text/html": [
              "\n",
              "  <div id=\"df-57297244-d256-4963-bc28-8f33596d56f1\">\n",
              "    <div class=\"colab-df-container\">\n",
              "      <div>\n",
              "<style scoped>\n",
              "    .dataframe tbody tr th:only-of-type {\n",
              "        vertical-align: middle;\n",
              "    }\n",
              "\n",
              "    .dataframe tbody tr th {\n",
              "        vertical-align: top;\n",
              "    }\n",
              "\n",
              "    .dataframe thead th {\n",
              "        text-align: right;\n",
              "    }\n",
              "</style>\n",
              "<table border=\"1\" class=\"dataframe\">\n",
              "  <thead>\n",
              "    <tr style=\"text-align: right;\">\n",
              "      <th></th>\n",
              "      <th>id</th>\n",
              "      <th>prediction</th>\n",
              "    </tr>\n",
              "  </thead>\n",
              "  <tbody>\n",
              "    <tr>\n",
              "      <th>0</th>\n",
              "      <td>666677</td>\n",
              "      <td>22.0</td>\n",
              "    </tr>\n",
              "    <tr>\n",
              "      <th>1</th>\n",
              "      <td>666678</td>\n",
              "      <td>27.0</td>\n",
              "    </tr>\n",
              "    <tr>\n",
              "      <th>2</th>\n",
              "      <td>666679</td>\n",
              "      <td>26.0</td>\n",
              "    </tr>\n",
              "    <tr>\n",
              "      <th>3</th>\n",
              "      <td>666680</td>\n",
              "      <td>24.0</td>\n",
              "    </tr>\n",
              "    <tr>\n",
              "      <th>4</th>\n",
              "      <td>666681</td>\n",
              "      <td>42.0</td>\n",
              "    </tr>\n",
              "  </tbody>\n",
              "</table>\n",
              "</div>\n",
              "      <button class=\"colab-df-convert\" onclick=\"convertToInteractive('df-57297244-d256-4963-bc28-8f33596d56f1')\"\n",
              "              title=\"Convert this dataframe to an interactive table.\"\n",
              "              style=\"display:none;\">\n",
              "        \n",
              "  <svg xmlns=\"http://www.w3.org/2000/svg\" height=\"24px\"viewBox=\"0 0 24 24\"\n",
              "       width=\"24px\">\n",
              "    <path d=\"M0 0h24v24H0V0z\" fill=\"none\"/>\n",
              "    <path d=\"M18.56 5.44l.94 2.06.94-2.06 2.06-.94-2.06-.94-.94-2.06-.94 2.06-2.06.94zm-11 1L8.5 8.5l.94-2.06 2.06-.94-2.06-.94L8.5 2.5l-.94 2.06-2.06.94zm10 10l.94 2.06.94-2.06 2.06-.94-2.06-.94-.94-2.06-.94 2.06-2.06.94z\"/><path d=\"M17.41 7.96l-1.37-1.37c-.4-.4-.92-.59-1.43-.59-.52 0-1.04.2-1.43.59L10.3 9.45l-7.72 7.72c-.78.78-.78 2.05 0 2.83L4 21.41c.39.39.9.59 1.41.59.51 0 1.02-.2 1.41-.59l7.78-7.78 2.81-2.81c.8-.78.8-2.07 0-2.86zM5.41 20L4 18.59l7.72-7.72 1.47 1.35L5.41 20z\"/>\n",
              "  </svg>\n",
              "      </button>\n",
              "      \n",
              "  <style>\n",
              "    .colab-df-container {\n",
              "      display:flex;\n",
              "      flex-wrap:wrap;\n",
              "      gap: 12px;\n",
              "    }\n",
              "\n",
              "    .colab-df-convert {\n",
              "      background-color: #E8F0FE;\n",
              "      border: none;\n",
              "      border-radius: 50%;\n",
              "      cursor: pointer;\n",
              "      display: none;\n",
              "      fill: #1967D2;\n",
              "      height: 32px;\n",
              "      padding: 0 0 0 0;\n",
              "      width: 32px;\n",
              "    }\n",
              "\n",
              "    .colab-df-convert:hover {\n",
              "      background-color: #E2EBFA;\n",
              "      box-shadow: 0px 1px 2px rgba(60, 64, 67, 0.3), 0px 1px 3px 1px rgba(60, 64, 67, 0.15);\n",
              "      fill: #174EA6;\n",
              "    }\n",
              "\n",
              "    [theme=dark] .colab-df-convert {\n",
              "      background-color: #3B4455;\n",
              "      fill: #D2E3FC;\n",
              "    }\n",
              "\n",
              "    [theme=dark] .colab-df-convert:hover {\n",
              "      background-color: #434B5C;\n",
              "      box-shadow: 0px 1px 3px 1px rgba(0, 0, 0, 0.15);\n",
              "      filter: drop-shadow(0px 1px 2px rgba(0, 0, 0, 0.3));\n",
              "      fill: #FFFFFF;\n",
              "    }\n",
              "  </style>\n",
              "\n",
              "      <script>\n",
              "        const buttonEl =\n",
              "          document.querySelector('#df-57297244-d256-4963-bc28-8f33596d56f1 button.colab-df-convert');\n",
              "        buttonEl.style.display =\n",
              "          google.colab.kernel.accessAllowed ? 'block' : 'none';\n",
              "\n",
              "        async function convertToInteractive(key) {\n",
              "          const element = document.querySelector('#df-57297244-d256-4963-bc28-8f33596d56f1');\n",
              "          const dataTable =\n",
              "            await google.colab.kernel.invokeFunction('convertToInteractive',\n",
              "                                                     [key], {});\n",
              "          if (!dataTable) return;\n",
              "\n",
              "          const docLinkHtml = 'Like what you see? Visit the ' +\n",
              "            '<a target=\"_blank\" href=https://colab.research.google.com/notebooks/data_table.ipynb>data table notebook</a>'\n",
              "            + ' to learn more about interactive tables.';\n",
              "          element.innerHTML = '';\n",
              "          dataTable['output_type'] = 'display_data';\n",
              "          await google.colab.output.renderOutput(dataTable, element);\n",
              "          const docLink = document.createElement('div');\n",
              "          docLink.innerHTML = docLinkHtml;\n",
              "          element.appendChild(docLink);\n",
              "        }\n",
              "      </script>\n",
              "    </div>\n",
              "  </div>\n",
              "  "
            ]
          },
          "metadata": {},
          "execution_count": 18
        }
      ],
      "source": [
        "sample=pd.read_csv('sample_submission.csv')\n",
        "sample.head()"
      ]
    },
    {
      "cell_type": "markdown",
      "metadata": {
        "id": "_lLPEhHwwJYy"
      },
      "source": [
        "\"*fit будем делать по переменным id и sales. Голый id представляет собой связку (product_id, store_id, date)*\" - я был молод и глуп, id сам по себе обьект никак не описывает. Обьект по сути есть комбинация фич, ничего более."
      ]
    },
    {
      "cell_type": "markdown",
      "metadata": {
        "id": "ePrqNKDGGDdO"
      },
      "source": [
        "Не до конца известные данные выглядят вот так:"
      ]
    },
    {
      "cell_type": "code",
      "execution_count": 19,
      "metadata": {
        "id": "-bXRJxZGGN0b",
        "colab": {
          "base_uri": "https://localhost:8080/",
          "height": 391
        },
        "outputId": "cb28102a-2dbd-43b6-8b08-1d7cd19fee29"
      },
      "outputs": [
        {
          "output_type": "execute_result",
          "data": {
            "text/plain": [
              "       id        date city_name  store_id  category_id  product_id  price  \\\n",
              "0  666677  2022-02-14    Москва         1            1           1   4.79   \n",
              "1  666678  2022-02-15    Москва         1            1           1   4.79   \n",
              "2  666679  2022-02-16    Москва         1            1           1   4.79   \n",
              "3  666680  2022-02-17    Москва         1            1           1   4.79   \n",
              "4  666681  2022-02-18    Москва         1            1           1   4.79   \n",
              "\n",
              "                weather_desc  humidity  temperature  pressure  \n",
              "0                    облачно   87.3125      -1.9375  749.3125  \n",
              "1      переменная облачность   88.7500      -1.2500  752.6875  \n",
              "2      переменная облачность   90.3750      -1.5625  746.3125  \n",
              "3   облачно, небольшой дождь   98.0000       1.7500  732.6875  \n",
              "4  облачно, небольшие осадки   95.5000       1.3750  733.0000  "
            ],
            "text/html": [
              "\n",
              "  <div id=\"df-9ef4a042-75e9-48d1-89d8-8ff08ef7fd28\">\n",
              "    <div class=\"colab-df-container\">\n",
              "      <div>\n",
              "<style scoped>\n",
              "    .dataframe tbody tr th:only-of-type {\n",
              "        vertical-align: middle;\n",
              "    }\n",
              "\n",
              "    .dataframe tbody tr th {\n",
              "        vertical-align: top;\n",
              "    }\n",
              "\n",
              "    .dataframe thead th {\n",
              "        text-align: right;\n",
              "    }\n",
              "</style>\n",
              "<table border=\"1\" class=\"dataframe\">\n",
              "  <thead>\n",
              "    <tr style=\"text-align: right;\">\n",
              "      <th></th>\n",
              "      <th>id</th>\n",
              "      <th>date</th>\n",
              "      <th>city_name</th>\n",
              "      <th>store_id</th>\n",
              "      <th>category_id</th>\n",
              "      <th>product_id</th>\n",
              "      <th>price</th>\n",
              "      <th>weather_desc</th>\n",
              "      <th>humidity</th>\n",
              "      <th>temperature</th>\n",
              "      <th>pressure</th>\n",
              "    </tr>\n",
              "  </thead>\n",
              "  <tbody>\n",
              "    <tr>\n",
              "      <th>0</th>\n",
              "      <td>666677</td>\n",
              "      <td>2022-02-14</td>\n",
              "      <td>Москва</td>\n",
              "      <td>1</td>\n",
              "      <td>1</td>\n",
              "      <td>1</td>\n",
              "      <td>4.79</td>\n",
              "      <td>облачно</td>\n",
              "      <td>87.3125</td>\n",
              "      <td>-1.9375</td>\n",
              "      <td>749.3125</td>\n",
              "    </tr>\n",
              "    <tr>\n",
              "      <th>1</th>\n",
              "      <td>666678</td>\n",
              "      <td>2022-02-15</td>\n",
              "      <td>Москва</td>\n",
              "      <td>1</td>\n",
              "      <td>1</td>\n",
              "      <td>1</td>\n",
              "      <td>4.79</td>\n",
              "      <td>переменная облачность</td>\n",
              "      <td>88.7500</td>\n",
              "      <td>-1.2500</td>\n",
              "      <td>752.6875</td>\n",
              "    </tr>\n",
              "    <tr>\n",
              "      <th>2</th>\n",
              "      <td>666679</td>\n",
              "      <td>2022-02-16</td>\n",
              "      <td>Москва</td>\n",
              "      <td>1</td>\n",
              "      <td>1</td>\n",
              "      <td>1</td>\n",
              "      <td>4.79</td>\n",
              "      <td>переменная облачность</td>\n",
              "      <td>90.3750</td>\n",
              "      <td>-1.5625</td>\n",
              "      <td>746.3125</td>\n",
              "    </tr>\n",
              "    <tr>\n",
              "      <th>3</th>\n",
              "      <td>666680</td>\n",
              "      <td>2022-02-17</td>\n",
              "      <td>Москва</td>\n",
              "      <td>1</td>\n",
              "      <td>1</td>\n",
              "      <td>1</td>\n",
              "      <td>4.79</td>\n",
              "      <td>облачно, небольшой дождь</td>\n",
              "      <td>98.0000</td>\n",
              "      <td>1.7500</td>\n",
              "      <td>732.6875</td>\n",
              "    </tr>\n",
              "    <tr>\n",
              "      <th>4</th>\n",
              "      <td>666681</td>\n",
              "      <td>2022-02-18</td>\n",
              "      <td>Москва</td>\n",
              "      <td>1</td>\n",
              "      <td>1</td>\n",
              "      <td>1</td>\n",
              "      <td>4.79</td>\n",
              "      <td>облачно, небольшие осадки</td>\n",
              "      <td>95.5000</td>\n",
              "      <td>1.3750</td>\n",
              "      <td>733.0000</td>\n",
              "    </tr>\n",
              "  </tbody>\n",
              "</table>\n",
              "</div>\n",
              "      <button class=\"colab-df-convert\" onclick=\"convertToInteractive('df-9ef4a042-75e9-48d1-89d8-8ff08ef7fd28')\"\n",
              "              title=\"Convert this dataframe to an interactive table.\"\n",
              "              style=\"display:none;\">\n",
              "        \n",
              "  <svg xmlns=\"http://www.w3.org/2000/svg\" height=\"24px\"viewBox=\"0 0 24 24\"\n",
              "       width=\"24px\">\n",
              "    <path d=\"M0 0h24v24H0V0z\" fill=\"none\"/>\n",
              "    <path d=\"M18.56 5.44l.94 2.06.94-2.06 2.06-.94-2.06-.94-.94-2.06-.94 2.06-2.06.94zm-11 1L8.5 8.5l.94-2.06 2.06-.94-2.06-.94L8.5 2.5l-.94 2.06-2.06.94zm10 10l.94 2.06.94-2.06 2.06-.94-2.06-.94-.94-2.06-.94 2.06-2.06.94z\"/><path d=\"M17.41 7.96l-1.37-1.37c-.4-.4-.92-.59-1.43-.59-.52 0-1.04.2-1.43.59L10.3 9.45l-7.72 7.72c-.78.78-.78 2.05 0 2.83L4 21.41c.39.39.9.59 1.41.59.51 0 1.02-.2 1.41-.59l7.78-7.78 2.81-2.81c.8-.78.8-2.07 0-2.86zM5.41 20L4 18.59l7.72-7.72 1.47 1.35L5.41 20z\"/>\n",
              "  </svg>\n",
              "      </button>\n",
              "      \n",
              "  <style>\n",
              "    .colab-df-container {\n",
              "      display:flex;\n",
              "      flex-wrap:wrap;\n",
              "      gap: 12px;\n",
              "    }\n",
              "\n",
              "    .colab-df-convert {\n",
              "      background-color: #E8F0FE;\n",
              "      border: none;\n",
              "      border-radius: 50%;\n",
              "      cursor: pointer;\n",
              "      display: none;\n",
              "      fill: #1967D2;\n",
              "      height: 32px;\n",
              "      padding: 0 0 0 0;\n",
              "      width: 32px;\n",
              "    }\n",
              "\n",
              "    .colab-df-convert:hover {\n",
              "      background-color: #E2EBFA;\n",
              "      box-shadow: 0px 1px 2px rgba(60, 64, 67, 0.3), 0px 1px 3px 1px rgba(60, 64, 67, 0.15);\n",
              "      fill: #174EA6;\n",
              "    }\n",
              "\n",
              "    [theme=dark] .colab-df-convert {\n",
              "      background-color: #3B4455;\n",
              "      fill: #D2E3FC;\n",
              "    }\n",
              "\n",
              "    [theme=dark] .colab-df-convert:hover {\n",
              "      background-color: #434B5C;\n",
              "      box-shadow: 0px 1px 3px 1px rgba(0, 0, 0, 0.15);\n",
              "      filter: drop-shadow(0px 1px 2px rgba(0, 0, 0, 0.3));\n",
              "      fill: #FFFFFF;\n",
              "    }\n",
              "  </style>\n",
              "\n",
              "      <script>\n",
              "        const buttonEl =\n",
              "          document.querySelector('#df-9ef4a042-75e9-48d1-89d8-8ff08ef7fd28 button.colab-df-convert');\n",
              "        buttonEl.style.display =\n",
              "          google.colab.kernel.accessAllowed ? 'block' : 'none';\n",
              "\n",
              "        async function convertToInteractive(key) {\n",
              "          const element = document.querySelector('#df-9ef4a042-75e9-48d1-89d8-8ff08ef7fd28');\n",
              "          const dataTable =\n",
              "            await google.colab.kernel.invokeFunction('convertToInteractive',\n",
              "                                                     [key], {});\n",
              "          if (!dataTable) return;\n",
              "\n",
              "          const docLinkHtml = 'Like what you see? Visit the ' +\n",
              "            '<a target=\"_blank\" href=https://colab.research.google.com/notebooks/data_table.ipynb>data table notebook</a>'\n",
              "            + ' to learn more about interactive tables.';\n",
              "          element.innerHTML = '';\n",
              "          dataTable['output_type'] = 'display_data';\n",
              "          await google.colab.output.renderOutput(dataTable, element);\n",
              "          const docLink = document.createElement('div');\n",
              "          docLink.innerHTML = docLinkHtml;\n",
              "          element.appendChild(docLink);\n",
              "        }\n",
              "      </script>\n",
              "    </div>\n",
              "  </div>\n",
              "  "
            ]
          },
          "metadata": {},
          "execution_count": 19
        }
      ],
      "source": [
        "test=pd.read_csv('test.csv')\n",
        "test.head()"
      ]
    },
    {
      "cell_type": "markdown",
      "metadata": {
        "id": "X946VqwkFEbO"
      },
      "source": [
        "Обработка данных.\n",
        "\n",
        "1) Склеиваю оба датафрейма.\n",
        "\n",
        "2) перевожу дни в правильный формат.\n",
        "\n",
        "3) сортирую, как надо (и разбираюсь, почему так надо).\n",
        "\n",
        "4) добавляю фичи по дню недели.\n",
        "\n",
        "5) добавляю разумное количество лагов.\n",
        "\n",
        "5.5) Обрубаю первые дни (к которым нельзя приписать лаги)\n",
        "\n",
        "6) Обрабатываю категориальные признаки\n",
        "\n",
        "7) Создаю датафрейм для обучения, т.е. выкидываю из текущего ненужные колонки по типу даты, id, инфы по погоде. очу обработать данные, пока не добавляя новые фичи."
      ]
    },
    {
      "cell_type": "code",
      "source": [
        "from datetime import datetime\n",
        "\n",
        "dtime1 = datetime(2021, 8, 17, 20)\n",
        "dtime2 = datetime(2022, 1, 7, 0)\n",
        "dtime2"
      ],
      "metadata": {
        "id": "iKPx8frJIYLC",
        "colab": {
          "base_uri": "https://localhost:8080/"
        },
        "outputId": "537d7c30-6b65-4653-e243-0c3dcba22ffa"
      },
      "execution_count": 20,
      "outputs": [
        {
          "output_type": "execute_result",
          "data": {
            "text/plain": [
              "datetime.datetime(2022, 1, 7, 0, 0)"
            ]
          },
          "metadata": {},
          "execution_count": 20
        }
      ]
    },
    {
      "cell_type": "code",
      "execution_count": 21,
      "metadata": {
        "id": "TTAsgEDBHBwl"
      },
      "outputs": [],
      "source": [
        "from pandas.core.frame import DataFrame\n",
        "from datetime import datetime\n",
        "\n",
        "# 1\n",
        "train['mode'] = 'train'\n",
        "test['mode'] = 'test'\n",
        "df = pd.concat([train, test])\n",
        "\n",
        "\n",
        "# 3\n",
        "df = df.sort_values(['store_id', 'product_id', 'date']).reset_index(drop=True)\n",
        "\n",
        "# 2\n",
        "df.date = pd.to_datetime(df.date)\n",
        "\n",
        "# 4\n",
        "df['weekday'] = df.date.dt.weekday\n",
        "df['weekend'] = df['weekday'].isin([5, 6]).astype(int)\n",
        "\n",
        "\n",
        "# 5\n",
        "N=31 #количество лагов +-. канон 21\n",
        "group = df.groupby(['store_id', 'product_id'])\n",
        "for i in range(7, N):\n",
        "    df[f'lag_day_{i}'] = group['sales'].shift(i)\n",
        "\n",
        "# 5.5 \n",
        "df_new=df\n",
        "\n",
        "# не сработало, т.к. вррде есть вмагаз, которые только недавно открылись. они полны нанов, но первый мой метод их не удаляет\n",
        "#dtime = datetime(2021, 8, 17, 20)\n",
        "#df_new.drop(df_new[df_new.date<dtime].index, inplace=True) # Шикарно!!!\n",
        "\n",
        "#df_new.groupby(['store_id', 'product_id']).apply(lambda group: group.iloc[21:])\n",
        "df_new['num_in_group'] = df_new.groupby(['store_id', 'product_id']).cumcount()\n",
        "df_new = df_new[df_new['num_in_group']>N-2]\n",
        "\n",
        "\n",
        "\n",
        "# 6\n",
        "\n",
        "df_new=pd.get_dummies(data=df_new, columns=['city_name'])\n",
        "df_new=pd.get_dummies(data=df_new, columns=['product_id']) #Пробую после МАЕ 4.15\n",
        "df_new=pd.get_dummies(data=df_new, columns=['weather_desc']) #Пробую после МАЕ 4.14\n",
        "#погода и температура вообще не помогли\n",
        "\n",
        "# 7\n",
        "\n",
        "df_new.drop(['humidity','pressure','date'], axis=1, inplace=True)\n",
        "df_new.drop(['price'], axis=1, inplace=True) # обсуждалось, что это уже содержится внутри product_id\n",
        "df_new.drop(['num_in_group'], axis=1, inplace=True)\n",
        "\n",
        "\n",
        "\n"
      ]
    },
    {
      "cell_type": "code",
      "source": [
        "#pd.set_option('display.max_rows', None)\n",
        "#df_new[(df_new['product_id'] == 1) & (df_new['store_id'] == 164)]"
      ],
      "metadata": {
        "id": "CEGLjS_hfwl9"
      },
      "execution_count": 22,
      "outputs": []
    },
    {
      "cell_type": "markdown",
      "metadata": {
        "id": "36Uvso4NLii-"
      },
      "source": [
        "Попытка что-то обучить."
      ]
    },
    {
      "cell_type": "code",
      "execution_count": 23,
      "metadata": {
        "id": "OkK9PQTVLnkB",
        "colab": {
          "base_uri": "https://localhost:8080/",
          "height": 363
        },
        "outputId": "a2b452cd-1b3b-4d19-e075-3186f4af9b70"
      },
      "outputs": [
        {
          "output_type": "error",
          "ename": "ValueError",
          "evalue": "ignored",
          "traceback": [
            "\u001b[0;31m---------------------------------------------------------------------------\u001b[0m",
            "\u001b[0;31mValueError\u001b[0m                                Traceback (most recent call last)",
            "\u001b[0;32m<ipython-input-23-18c38fc5d0fb>\u001b[0m in \u001b[0;36m<module>\u001b[0;34m\u001b[0m\n\u001b[1;32m     11\u001b[0m \u001b[0;34m\u001b[0m\u001b[0m\n\u001b[1;32m     12\u001b[0m \u001b[0;34m\u001b[0m\u001b[0m\n\u001b[0;32m---> 13\u001b[0;31m \u001b[0mLR\u001b[0m \u001b[0;34m=\u001b[0m \u001b[0mLinearRegression\u001b[0m\u001b[0;34m(\u001b[0m\u001b[0;34m)\u001b[0m\u001b[0;34m.\u001b[0m\u001b[0mfit\u001b[0m\u001b[0;34m(\u001b[0m\u001b[0marg\u001b[0m\u001b[0;34m,\u001b[0m\u001b[0mtarget\u001b[0m\u001b[0;34m[\u001b[0m\u001b[0;34m'sales'\u001b[0m\u001b[0;34m]\u001b[0m\u001b[0;34m)\u001b[0m\u001b[0;34m\u001b[0m\u001b[0;34m\u001b[0m\u001b[0m\n\u001b[0m",
            "\u001b[0;32m/usr/local/lib/python3.8/dist-packages/sklearn/linear_model/_base.py\u001b[0m in \u001b[0;36mfit\u001b[0;34m(self, X, y, sample_weight)\u001b[0m\n\u001b[1;32m    660\u001b[0m         \u001b[0maccept_sparse\u001b[0m \u001b[0;34m=\u001b[0m \u001b[0;32mFalse\u001b[0m \u001b[0;32mif\u001b[0m \u001b[0mself\u001b[0m\u001b[0;34m.\u001b[0m\u001b[0mpositive\u001b[0m \u001b[0;32melse\u001b[0m \u001b[0;34m[\u001b[0m\u001b[0;34m\"csr\"\u001b[0m\u001b[0;34m,\u001b[0m \u001b[0;34m\"csc\"\u001b[0m\u001b[0;34m,\u001b[0m \u001b[0;34m\"coo\"\u001b[0m\u001b[0;34m]\u001b[0m\u001b[0;34m\u001b[0m\u001b[0;34m\u001b[0m\u001b[0m\n\u001b[1;32m    661\u001b[0m \u001b[0;34m\u001b[0m\u001b[0m\n\u001b[0;32m--> 662\u001b[0;31m         X, y = self._validate_data(\n\u001b[0m\u001b[1;32m    663\u001b[0m             \u001b[0mX\u001b[0m\u001b[0;34m,\u001b[0m \u001b[0my\u001b[0m\u001b[0;34m,\u001b[0m \u001b[0maccept_sparse\u001b[0m\u001b[0;34m=\u001b[0m\u001b[0maccept_sparse\u001b[0m\u001b[0;34m,\u001b[0m \u001b[0my_numeric\u001b[0m\u001b[0;34m=\u001b[0m\u001b[0;32mTrue\u001b[0m\u001b[0;34m,\u001b[0m \u001b[0mmulti_output\u001b[0m\u001b[0;34m=\u001b[0m\u001b[0;32mTrue\u001b[0m\u001b[0;34m\u001b[0m\u001b[0;34m\u001b[0m\u001b[0m\n\u001b[1;32m    664\u001b[0m         )\n",
            "\u001b[0;32m/usr/local/lib/python3.8/dist-packages/sklearn/base.py\u001b[0m in \u001b[0;36m_validate_data\u001b[0;34m(self, X, y, reset, validate_separately, **check_params)\u001b[0m\n\u001b[1;32m    579\u001b[0m                 \u001b[0my\u001b[0m \u001b[0;34m=\u001b[0m \u001b[0mcheck_array\u001b[0m\u001b[0;34m(\u001b[0m\u001b[0my\u001b[0m\u001b[0;34m,\u001b[0m \u001b[0;34m**\u001b[0m\u001b[0mcheck_y_params\u001b[0m\u001b[0;34m)\u001b[0m\u001b[0;34m\u001b[0m\u001b[0;34m\u001b[0m\u001b[0m\n\u001b[1;32m    580\u001b[0m             \u001b[0;32melse\u001b[0m\u001b[0;34m:\u001b[0m\u001b[0;34m\u001b[0m\u001b[0;34m\u001b[0m\u001b[0m\n\u001b[0;32m--> 581\u001b[0;31m                 \u001b[0mX\u001b[0m\u001b[0;34m,\u001b[0m \u001b[0my\u001b[0m \u001b[0;34m=\u001b[0m \u001b[0mcheck_X_y\u001b[0m\u001b[0;34m(\u001b[0m\u001b[0mX\u001b[0m\u001b[0;34m,\u001b[0m \u001b[0my\u001b[0m\u001b[0;34m,\u001b[0m \u001b[0;34m**\u001b[0m\u001b[0mcheck_params\u001b[0m\u001b[0;34m)\u001b[0m\u001b[0;34m\u001b[0m\u001b[0;34m\u001b[0m\u001b[0m\n\u001b[0m\u001b[1;32m    582\u001b[0m             \u001b[0mout\u001b[0m \u001b[0;34m=\u001b[0m \u001b[0mX\u001b[0m\u001b[0;34m,\u001b[0m \u001b[0my\u001b[0m\u001b[0;34m\u001b[0m\u001b[0;34m\u001b[0m\u001b[0m\n\u001b[1;32m    583\u001b[0m \u001b[0;34m\u001b[0m\u001b[0m\n",
            "\u001b[0;32m/usr/local/lib/python3.8/dist-packages/sklearn/utils/validation.py\u001b[0m in \u001b[0;36mcheck_X_y\u001b[0;34m(X, y, accept_sparse, accept_large_sparse, dtype, order, copy, force_all_finite, ensure_2d, allow_nd, multi_output, ensure_min_samples, ensure_min_features, y_numeric, estimator)\u001b[0m\n\u001b[1;32m    977\u001b[0m     )\n\u001b[1;32m    978\u001b[0m \u001b[0;34m\u001b[0m\u001b[0m\n\u001b[0;32m--> 979\u001b[0;31m     \u001b[0my\u001b[0m \u001b[0;34m=\u001b[0m \u001b[0m_check_y\u001b[0m\u001b[0;34m(\u001b[0m\u001b[0my\u001b[0m\u001b[0;34m,\u001b[0m \u001b[0mmulti_output\u001b[0m\u001b[0;34m=\u001b[0m\u001b[0mmulti_output\u001b[0m\u001b[0;34m,\u001b[0m \u001b[0my_numeric\u001b[0m\u001b[0;34m=\u001b[0m\u001b[0my_numeric\u001b[0m\u001b[0;34m)\u001b[0m\u001b[0;34m\u001b[0m\u001b[0;34m\u001b[0m\u001b[0m\n\u001b[0m\u001b[1;32m    980\u001b[0m \u001b[0;34m\u001b[0m\u001b[0m\n\u001b[1;32m    981\u001b[0m     \u001b[0mcheck_consistent_length\u001b[0m\u001b[0;34m(\u001b[0m\u001b[0mX\u001b[0m\u001b[0;34m,\u001b[0m \u001b[0my\u001b[0m\u001b[0;34m)\u001b[0m\u001b[0;34m\u001b[0m\u001b[0;34m\u001b[0m\u001b[0m\n",
            "\u001b[0;32m/usr/local/lib/python3.8/dist-packages/sklearn/utils/validation.py\u001b[0m in \u001b[0;36m_check_y\u001b[0;34m(y, multi_output, y_numeric)\u001b[0m\n\u001b[1;32m    987\u001b[0m     \u001b[0;34m\"\"\"Isolated part of check_X_y dedicated to y validation\"\"\"\u001b[0m\u001b[0;34m\u001b[0m\u001b[0;34m\u001b[0m\u001b[0m\n\u001b[1;32m    988\u001b[0m     \u001b[0;32mif\u001b[0m \u001b[0mmulti_output\u001b[0m\u001b[0;34m:\u001b[0m\u001b[0;34m\u001b[0m\u001b[0;34m\u001b[0m\u001b[0m\n\u001b[0;32m--> 989\u001b[0;31m         y = check_array(\n\u001b[0m\u001b[1;32m    990\u001b[0m             \u001b[0my\u001b[0m\u001b[0;34m,\u001b[0m \u001b[0maccept_sparse\u001b[0m\u001b[0;34m=\u001b[0m\u001b[0;34m\"csr\"\u001b[0m\u001b[0;34m,\u001b[0m \u001b[0mforce_all_finite\u001b[0m\u001b[0;34m=\u001b[0m\u001b[0;32mTrue\u001b[0m\u001b[0;34m,\u001b[0m \u001b[0mensure_2d\u001b[0m\u001b[0;34m=\u001b[0m\u001b[0;32mFalse\u001b[0m\u001b[0;34m,\u001b[0m \u001b[0mdtype\u001b[0m\u001b[0;34m=\u001b[0m\u001b[0;32mNone\u001b[0m\u001b[0;34m\u001b[0m\u001b[0;34m\u001b[0m\u001b[0m\n\u001b[1;32m    991\u001b[0m         )\n",
            "\u001b[0;32m/usr/local/lib/python3.8/dist-packages/sklearn/utils/validation.py\u001b[0m in \u001b[0;36mcheck_array\u001b[0;34m(array, accept_sparse, accept_large_sparse, dtype, order, copy, force_all_finite, ensure_2d, allow_nd, ensure_min_samples, ensure_min_features, estimator)\u001b[0m\n\u001b[1;32m    798\u001b[0m \u001b[0;34m\u001b[0m\u001b[0m\n\u001b[1;32m    799\u001b[0m         \u001b[0;32mif\u001b[0m \u001b[0mforce_all_finite\u001b[0m\u001b[0;34m:\u001b[0m\u001b[0;34m\u001b[0m\u001b[0;34m\u001b[0m\u001b[0m\n\u001b[0;32m--> 800\u001b[0;31m             \u001b[0m_assert_all_finite\u001b[0m\u001b[0;34m(\u001b[0m\u001b[0marray\u001b[0m\u001b[0;34m,\u001b[0m \u001b[0mallow_nan\u001b[0m\u001b[0;34m=\u001b[0m\u001b[0mforce_all_finite\u001b[0m \u001b[0;34m==\u001b[0m \u001b[0;34m\"allow-nan\"\u001b[0m\u001b[0;34m)\u001b[0m\u001b[0;34m\u001b[0m\u001b[0;34m\u001b[0m\u001b[0m\n\u001b[0m\u001b[1;32m    801\u001b[0m \u001b[0;34m\u001b[0m\u001b[0m\n\u001b[1;32m    802\u001b[0m     \u001b[0;32mif\u001b[0m \u001b[0mensure_min_samples\u001b[0m \u001b[0;34m>\u001b[0m \u001b[0;36m0\u001b[0m\u001b[0;34m:\u001b[0m\u001b[0;34m\u001b[0m\u001b[0;34m\u001b[0m\u001b[0m\n",
            "\u001b[0;32m/usr/local/lib/python3.8/dist-packages/sklearn/utils/validation.py\u001b[0m in \u001b[0;36m_assert_all_finite\u001b[0;34m(X, allow_nan, msg_dtype)\u001b[0m\n\u001b[1;32m    112\u001b[0m         ):\n\u001b[1;32m    113\u001b[0m             \u001b[0mtype_err\u001b[0m \u001b[0;34m=\u001b[0m \u001b[0;34m\"infinity\"\u001b[0m \u001b[0;32mif\u001b[0m \u001b[0mallow_nan\u001b[0m \u001b[0;32melse\u001b[0m \u001b[0;34m\"NaN, infinity\"\u001b[0m\u001b[0;34m\u001b[0m\u001b[0;34m\u001b[0m\u001b[0m\n\u001b[0;32m--> 114\u001b[0;31m             raise ValueError(\n\u001b[0m\u001b[1;32m    115\u001b[0m                 msg_err.format(\n\u001b[1;32m    116\u001b[0m                     \u001b[0mtype_err\u001b[0m\u001b[0;34m,\u001b[0m \u001b[0mmsg_dtype\u001b[0m \u001b[0;32mif\u001b[0m \u001b[0mmsg_dtype\u001b[0m \u001b[0;32mis\u001b[0m \u001b[0;32mnot\u001b[0m \u001b[0;32mNone\u001b[0m \u001b[0;32melse\u001b[0m \u001b[0mX\u001b[0m\u001b[0;34m.\u001b[0m\u001b[0mdtype\u001b[0m\u001b[0;34m\u001b[0m\u001b[0;34m\u001b[0m\u001b[0m\n",
            "\u001b[0;31mValueError\u001b[0m: Input contains NaN, infinity or a value too large for dtype('float64')."
          ]
        }
      ],
      "source": [
        "from numpy.ma.core import argsort\n",
        "from sklearn.linear_model import LinearRegression\n",
        "import numpy as np\n",
        "\n",
        "temp=df_new.loc[df_new['mode'] == 'train']\n",
        "arg=temp.drop(['mode','id','sales'], axis=1, inplace=False)\n",
        "target=temp.drop(['mode','id'], axis=1, inplace=False)\n",
        "\n",
        "#проверка, остались ли где-то наны\n",
        "#arg[list(arg.columns)].isnull().sum()\n",
        "\n",
        "\n",
        "LR = LinearRegression().fit(arg,target['sales'])"
      ]
    },
    {
      "cell_type": "markdown",
      "source": [
        "Попытка что-то предсказать."
      ],
      "metadata": {
        "id": "cGeOCqmc-dog"
      }
    },
    {
      "cell_type": "code",
      "source": [
        "temppp=df_new.loc[df_new['mode'] == 'test']\n",
        "for_prediction=temppp.drop(['mode','id','sales'], axis=1, inplace=False)\n",
        "res=temppp[['id','sales']]\n",
        "\n",
        "res['sales'] = LR.predict(for_prediction)\n",
        "res.rename(columns={\"id\":\"id\",\"sales\": \"prediction\"}, inplace=True)\n",
        "\n",
        "res.to_csv('result.csv', index=False, encoding='utf-8')"
      ],
      "metadata": {
        "id": "wUwMmR4v-vfW"
      },
      "execution_count": null,
      "outputs": []
    }
  ],
  "metadata": {
    "colab": {
      "provenance": []
    },
    "kernelspec": {
      "display_name": "Python 3",
      "name": "python3"
    },
    "language_info": {
      "name": "python"
    }
  },
  "nbformat": 4,
  "nbformat_minor": 0
}